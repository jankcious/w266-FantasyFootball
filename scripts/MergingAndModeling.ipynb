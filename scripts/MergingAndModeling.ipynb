{
 "cells": [
  {
   "cell_type": "markdown",
   "metadata": {},
   "source": [
    "# Merging and Preprocessing\n",
    "\n",
    "### Load Libraries"
   ]
  },
  {
   "cell_type": "code",
   "execution_count": 2,
   "metadata": {},
   "outputs": [
    {
     "name": "stdout",
     "output_type": "stream",
     "text": [
      "[nltk_data] Downloading package stopwords to\n",
      "[nltk_data]     C:\\Users\\Jason\\AppData\\Roaming\\nltk_data...\n",
      "[nltk_data]   Package stopwords is already up-to-date!\n"
     ]
    },
    {
     "data": {
      "text/plain": [
       "True"
      ]
     },
     "execution_count": 2,
     "metadata": {},
     "output_type": "execute_result"
    }
   ],
   "source": [
    "import numpy as np\n",
    "import pandas as pd\n",
    "import matplotlib.pyplot as plt\n",
    "from sklearn import naive_bayes\n",
    "from datetime import timedelta\n",
    "import re\n",
    "from collections import defaultdict\n",
    "from sklearn.model_selection import train_test_split\n",
    "from sklearn.svm import LinearSVR\n",
    "import nltk\n",
    "from nltk.corpus import stopwords\n",
    "from nltk.stem import PorterStemmer\n",
    "from nltk.tokenize import WordPunctTokenizer\n",
    "from nltk.collocations import BigramCollocationFinder\n",
    "from nltk.metrics import BigramAssocMeasures\n",
    "\n",
    "nltk.download('stopwords')"
   ]
  },
  {
   "cell_type": "markdown",
   "metadata": {},
   "source": [
    "### Player News"
   ]
  },
  {
   "cell_type": "code",
   "execution_count": 3,
   "metadata": {},
   "outputs": [
    {
     "data": {
      "text/html": [
       "<div>\n",
       "<style>\n",
       "    .dataframe thead tr:only-child th {\n",
       "        text-align: right;\n",
       "    }\n",
       "\n",
       "    .dataframe thead th {\n",
       "        text-align: left;\n",
       "    }\n",
       "\n",
       "    .dataframe tbody tr th {\n",
       "        vertical-align: top;\n",
       "    }\n",
       "</style>\n",
       "<table border=\"1\" class=\"dataframe\">\n",
       "  <thead>\n",
       "    <tr style=\"text-align: right;\">\n",
       "      <th></th>\n",
       "      <th>date</th>\n",
       "      <th>headline</th>\n",
       "      <th>name</th>\n",
       "      <th>news</th>\n",
       "      <th>team</th>\n",
       "    </tr>\n",
       "  </thead>\n",
       "  <tbody>\n",
       "    <tr>\n",
       "      <th>0</th>\n",
       "      <td>2017-12-10 10:40:00</td>\n",
       "      <td>Bucs DT Gerald McCoy fears he suffered a torn ...</td>\n",
       "      <td>Gerald McCoy</td>\n",
       "      <td>\\n             McCoy has torn his biceps twice...</td>\n",
       "      <td>Buccaneers</td>\n",
       "    </tr>\n",
       "    <tr>\n",
       "      <th>1</th>\n",
       "      <td>2017-12-10 09:28:00</td>\n",
       "      <td>Coach Todd Bowles announced Josh McCown suffer...</td>\n",
       "      <td>Josh McCown</td>\n",
       "      <td>\\n             McCown was banged up in this on...</td>\n",
       "      <td>Jets</td>\n",
       "    </tr>\n",
       "    <tr>\n",
       "      <th>2</th>\n",
       "      <td>2017-12-10 09:20:00</td>\n",
       "      <td>Keelan Cole caught all three of his targets fo...</td>\n",
       "      <td>Keelan Cole</td>\n",
       "      <td>\\n             Cole reeled in a 75-yard touchd...</td>\n",
       "      <td>Jaguars</td>\n",
       "    </tr>\n",
       "    <tr>\n",
       "      <th>3</th>\n",
       "      <td>2017-12-10 09:15:00</td>\n",
       "      <td>Dede Westbrook caught 5-of-8 targets for 81 ya...</td>\n",
       "      <td>Dede Westbrook</td>\n",
       "      <td>\\n             Westbrook's first NFL touchdown...</td>\n",
       "      <td>Jaguars</td>\n",
       "    </tr>\n",
       "    <tr>\n",
       "      <th>4</th>\n",
       "      <td>2017-12-10 09:10:00</td>\n",
       "      <td>Marqise Lee caught 5-of-6 targets for 65 yards...</td>\n",
       "      <td>Marqise Lee</td>\n",
       "      <td>\\n             Lee has turned into a solid flo...</td>\n",
       "      <td>Jaguars</td>\n",
       "    </tr>\n",
       "  </tbody>\n",
       "</table>\n",
       "</div>"
      ],
      "text/plain": [
       "                 date                                           headline  \\\n",
       "0 2017-12-10 10:40:00  Bucs DT Gerald McCoy fears he suffered a torn ...   \n",
       "1 2017-12-10 09:28:00  Coach Todd Bowles announced Josh McCown suffer...   \n",
       "2 2017-12-10 09:20:00  Keelan Cole caught all three of his targets fo...   \n",
       "3 2017-12-10 09:15:00  Dede Westbrook caught 5-of-8 targets for 81 ya...   \n",
       "4 2017-12-10 09:10:00  Marqise Lee caught 5-of-6 targets for 65 yards...   \n",
       "\n",
       "             name                                               news  \\\n",
       "0    Gerald McCoy  \\n             McCoy has torn his biceps twice...   \n",
       "1     Josh McCown  \\n             McCown was banged up in this on...   \n",
       "2     Keelan Cole  \\n             Cole reeled in a 75-yard touchd...   \n",
       "3  Dede Westbrook  \\n             Westbrook's first NFL touchdown...   \n",
       "4     Marqise Lee  \\n             Lee has turned into a solid flo...   \n",
       "\n",
       "         team  \n",
       "0  Buccaneers  \n",
       "1        Jets  \n",
       "2     Jaguars  \n",
       "3     Jaguars  \n",
       "4     Jaguars  "
      ]
     },
     "execution_count": 3,
     "metadata": {},
     "output_type": "execute_result"
    }
   ],
   "source": [
    "news = pd.read_excel('../data/news_data.xlsx')\n",
    "news.head()"
   ]
  },
  {
   "cell_type": "code",
   "execution_count": 4,
   "metadata": {
    "scrolled": true
   },
   "outputs": [
    {
     "data": {
      "text/html": [
       "<div>\n",
       "<style>\n",
       "    .dataframe thead tr:only-child th {\n",
       "        text-align: right;\n",
       "    }\n",
       "\n",
       "    .dataframe thead th {\n",
       "        text-align: left;\n",
       "    }\n",
       "\n",
       "    .dataframe tbody tr th {\n",
       "        vertical-align: top;\n",
       "    }\n",
       "</style>\n",
       "<table border=\"1\" class=\"dataframe\">\n",
       "  <thead>\n",
       "    <tr style=\"text-align: right;\">\n",
       "      <th></th>\n",
       "      <th>date</th>\n",
       "      <th>headline</th>\n",
       "      <th>name</th>\n",
       "      <th>news</th>\n",
       "      <th>team</th>\n",
       "    </tr>\n",
       "  </thead>\n",
       "  <tbody>\n",
       "    <tr>\n",
       "      <th>22476</th>\n",
       "      <td>2016-10-20 09:31:00</td>\n",
       "      <td>Ladarius Green (ankle, PUP) said there is \"no ...</td>\n",
       "      <td>Ladarius Green</td>\n",
       "      <td>\\n             Signed to a four-year, $20 mill...</td>\n",
       "      <td>Free Agent</td>\n",
       "    </tr>\n",
       "    <tr>\n",
       "      <th>22477</th>\n",
       "      <td>2016-10-20 09:28:00</td>\n",
       "      <td>Gerald McCoy (calf) practiced on a limited bas...</td>\n",
       "      <td>Gerald McCoy</td>\n",
       "      <td>\\n             It is a step in the right direc...</td>\n",
       "      <td>Buccaneers</td>\n",
       "    </tr>\n",
       "    <tr>\n",
       "      <th>22478</th>\n",
       "      <td>2016-10-20 09:25:00</td>\n",
       "      <td>Jordan Reed said he hid the concussion he suff...</td>\n",
       "      <td>Jordan Reed</td>\n",
       "      <td>\\n             \"I kind of kept it to myself,\" ...</td>\n",
       "      <td>Redskins</td>\n",
       "    </tr>\n",
       "    <tr>\n",
       "      <th>22479</th>\n",
       "      <td>2016-10-20 09:13:00</td>\n",
       "      <td>Colts coach Chuck Pagano said DE Henry Anderso...</td>\n",
       "      <td>Henry Anderson</td>\n",
       "      <td>\\n             Anderson played through his kne...</td>\n",
       "      <td>Colts</td>\n",
       "    </tr>\n",
       "    <tr>\n",
       "      <th>22480</th>\n",
       "      <td>2016-10-20 09:10:00</td>\n",
       "      <td>With Doug Martin (hamstring) out, Jacquizz Rod...</td>\n",
       "      <td>Jacquizz Rodgers</td>\n",
       "      <td>\\n             Rodgers was the unquestioned wo...</td>\n",
       "      <td>Buccaneers</td>\n",
       "    </tr>\n",
       "  </tbody>\n",
       "</table>\n",
       "</div>"
      ],
      "text/plain": [
       "                     date                                           headline  \\\n",
       "22476 2016-10-20 09:31:00  Ladarius Green (ankle, PUP) said there is \"no ...   \n",
       "22477 2016-10-20 09:28:00  Gerald McCoy (calf) practiced on a limited bas...   \n",
       "22478 2016-10-20 09:25:00  Jordan Reed said he hid the concussion he suff...   \n",
       "22479 2016-10-20 09:13:00  Colts coach Chuck Pagano said DE Henry Anderso...   \n",
       "22480 2016-10-20 09:10:00  With Doug Martin (hamstring) out, Jacquizz Rod...   \n",
       "\n",
       "                   name                                               news  \\\n",
       "22476    Ladarius Green  \\n             Signed to a four-year, $20 mill...   \n",
       "22477      Gerald McCoy  \\n             It is a step in the right direc...   \n",
       "22478       Jordan Reed  \\n             \"I kind of kept it to myself,\" ...   \n",
       "22479    Henry Anderson  \\n             Anderson played through his kne...   \n",
       "22480  Jacquizz Rodgers  \\n             Rodgers was the unquestioned wo...   \n",
       "\n",
       "             team  \n",
       "22476  Free Agent  \n",
       "22477  Buccaneers  \n",
       "22478    Redskins  \n",
       "22479       Colts  \n",
       "22480  Buccaneers  "
      ]
     },
     "execution_count": 4,
     "metadata": {},
     "output_type": "execute_result"
    }
   ],
   "source": [
    "news.tail()"
   ]
  },
  {
   "cell_type": "markdown",
   "metadata": {},
   "source": [
    "### Preprocessing Player News"
   ]
  },
  {
   "cell_type": "code",
   "execution_count": 5,
   "metadata": {
    "collapsed": true
   },
   "outputs": [],
   "source": [
    "cities = {\n",
    "    'Bills':'Buffalo',\n",
    "    'Dolphins':'Miami',\n",
    "    'Patriots':'New England',\n",
    "    'Jets':'New York',\n",
    "    'Ravens':'Baltimore',\n",
    "    'Bengals':'Cincinnati',\n",
    "    'Browns':'Cleveland',\n",
    "    'Steelers':'Pittsburgh',\n",
    "    'Texans':'Houston',\n",
    "    'Colts':'Indianapolis',\n",
    "    'Jaguars':'Jacksonville',\n",
    "    'Titans':'Tennessee',\n",
    "    'Broncos':'Denver',\n",
    "    'Chiefs':'Kansas City',\n",
    "    'Chargers':'Los Angeles',\n",
    "    'Raiders':'Oakland',\n",
    "    'Cowboys':'Dallas',\n",
    "    'Giants':'New York',\n",
    "    'Eagles':'Philadelphia',\n",
    "    'Redskins':'Washington',\n",
    "    'Bears':'Chicago',\n",
    "    'Lions':'Detroit',\n",
    "    'Packers':'Green Bay',\n",
    "    'Vikings':'Minnesota',\n",
    "    'Falcons':'Atlanta',\n",
    "    'Panthers':'Carolina',\n",
    "    'Saints':'New Orleans',\n",
    "    'Buccaneers':'Tampa Bay',\n",
    "    'Cardinals':'Arizona',\n",
    "    'Rams':'Los Angeles',\n",
    "    '49ers':'San Francisco',\n",
    "    'Seahawks':'Seattle'  \n",
    "}\n",
    "\n",
    "default_cities = defaultdict(str)\n",
    "for city in cities.keys():\n",
    "    default_cities[city] = cities[city]"
   ]
  },
  {
   "cell_type": "code",
   "execution_count": 6,
   "metadata": {},
   "outputs": [
    {
     "data": {
      "text/html": [
       "<div>\n",
       "<style>\n",
       "    .dataframe thead tr:only-child th {\n",
       "        text-align: right;\n",
       "    }\n",
       "\n",
       "    .dataframe thead th {\n",
       "        text-align: left;\n",
       "    }\n",
       "\n",
       "    .dataframe tbody tr th {\n",
       "        vertical-align: top;\n",
       "    }\n",
       "</style>\n",
       "<table border=\"1\" class=\"dataframe\">\n",
       "  <thead>\n",
       "    <tr style=\"text-align: right;\">\n",
       "      <th></th>\n",
       "      <th>name</th>\n",
       "      <th>news</th>\n",
       "      <th>news_clean</th>\n",
       "      <th>news_unigrams</th>\n",
       "      <th>news_bigrams</th>\n",
       "    </tr>\n",
       "  </thead>\n",
       "  <tbody>\n",
       "    <tr>\n",
       "      <th>0</th>\n",
       "      <td>Gerald McCoy</td>\n",
       "      <td>\\n             McCoy has torn his biceps twice...</td>\n",
       "      <td>self torn biceps twice already pro career tear...</td>\n",
       "      <td>[self, torn, biceps, twice, already, pro, care...</td>\n",
       "      <td>[falcons panthers, he knows, panthers saints, ...</td>\n",
       "    </tr>\n",
       "    <tr>\n",
       "      <th>1</th>\n",
       "      <td>Josh McCown</td>\n",
       "      <td>\\n             McCown was banged up in this on...</td>\n",
       "      <td>self banged one injuring back second quarter h...</td>\n",
       "      <td>[self, banged, one, injuring, back, second, qu...</td>\n",
       "      <td>[bryce petty, hell undergo, its tough, mccowns...</td>\n",
       "    </tr>\n",
       "    <tr>\n",
       "      <th>2</th>\n",
       "      <td>Keelan Cole</td>\n",
       "      <td>\\n             Cole reeled in a 75-yard touchd...</td>\n",
       "      <td>self reeled yard touchdown beautiful catch thr...</td>\n",
       "      <td>[self, reeled, yard, touchdown, beautiful, cat...</td>\n",
       "      <td>[blake bortles, bortles give, it second, wr he...</td>\n",
       "    </tr>\n",
       "    <tr>\n",
       "      <th>3</th>\n",
       "      <td>Dede Westbrook</td>\n",
       "      <td>\\n             Westbrook's first NFL touchdown...</td>\n",
       "      <td>Westbrooks first NFL touchdown came yard corne...</td>\n",
       "      <td>[westbrooks, first, nfl, touchdown, came, yard...</td>\n",
       "      <td>[his eight, nfl touchdown, texans defense, cam...</td>\n",
       "    </tr>\n",
       "    <tr>\n",
       "      <th>4</th>\n",
       "      <td>Marqise Lee</td>\n",
       "      <td>\\n             Lee has turned into a solid flo...</td>\n",
       "      <td>self turned solid floor play fantasy five catc...</td>\n",
       "      <td>[self, turned, solid, floor, play, fantasy, fi...</td>\n",
       "      <td>[after catching, wr option, week meeting, with...</td>\n",
       "    </tr>\n",
       "  </tbody>\n",
       "</table>\n",
       "</div>"
      ],
      "text/plain": [
       "             name                                               news  \\\n",
       "0    Gerald McCoy  \\n             McCoy has torn his biceps twice...   \n",
       "1     Josh McCown  \\n             McCown was banged up in this on...   \n",
       "2     Keelan Cole  \\n             Cole reeled in a 75-yard touchd...   \n",
       "3  Dede Westbrook  \\n             Westbrook's first NFL touchdown...   \n",
       "4     Marqise Lee  \\n             Lee has turned into a solid flo...   \n",
       "\n",
       "                                          news_clean  \\\n",
       "0  self torn biceps twice already pro career tear...   \n",
       "1  self banged one injuring back second quarter h...   \n",
       "2  self reeled yard touchdown beautiful catch thr...   \n",
       "3  Westbrooks first NFL touchdown came yard corne...   \n",
       "4  self turned solid floor play fantasy five catc...   \n",
       "\n",
       "                                       news_unigrams  \\\n",
       "0  [self, torn, biceps, twice, already, pro, care...   \n",
       "1  [self, banged, one, injuring, back, second, qu...   \n",
       "2  [self, reeled, yard, touchdown, beautiful, cat...   \n",
       "3  [westbrooks, first, nfl, touchdown, came, yard...   \n",
       "4  [self, turned, solid, floor, play, fantasy, fi...   \n",
       "\n",
       "                                        news_bigrams  \n",
       "0  [falcons panthers, he knows, panthers saints, ...  \n",
       "1  [bryce petty, hell undergo, its tough, mccowns...  \n",
       "2  [blake bortles, bortles give, it second, wr he...  \n",
       "3  [his eight, nfl touchdown, texans defense, cam...  \n",
       "4  [after catching, wr option, week meeting, with...  "
      ]
     },
     "execution_count": 6,
     "metadata": {},
     "output_type": "execute_result"
    }
   ],
   "source": [
    "regex = re.compile('[^a-zA-Z]')\n",
    "to_display = ['name','news','news_clean','news_unigrams','news_bigrams']\n",
    "stopWords = set(stopwords.words('english'))\n",
    "\n",
    "def process_text(row):\n",
    "    '''\n",
    "    if the news mentions that player -> self\n",
    "    if the news mentions the player's team -> ownteam\n",
    "    if the news mentions the player's city -> owncity\n",
    "    '''\n",
    "    parsed_sentence = str()\n",
    "    names = row['name'].split()\n",
    "    for word in row['news'].split():\n",
    "        word = regex.sub('',word)\n",
    "        if word in names:\n",
    "            parsed_sentence = parsed_sentence+'self '\n",
    "        elif word ==row['team']:\n",
    "            parsed_sentence = parsed_sentence+'ownteam '\n",
    "        elif word in default_cities[row['team']].split():\n",
    "            parsed_sentence = parsed_sentence+'owncity '\n",
    "        elif word in stopWords:\n",
    "            pass\n",
    "        else:\n",
    "            parsed_sentence = parsed_sentence+word+' '\n",
    "    return parsed_sentence\n",
    "\n",
    "def get_bigrams(myString):\n",
    "    tokenizer = WordPunctTokenizer()\n",
    "    tokens = tokenizer.tokenize(myString)\n",
    "    #stemmer = PorterStemmer()\n",
    "    bigram_finder = BigramCollocationFinder.from_words(tokens)\n",
    "    bigram_tuples = bigram_finder.nbest(BigramAssocMeasures.chi_sq, 500)\n",
    "    bigrams = []\n",
    "    for bigram_tuple in bigram_tuples:\n",
    "        x = \"%s %s\" % bigram_tuple\n",
    "        bigrams.append(x)\n",
    "        \n",
    "    result = [' '.join([w.lower() for w in x.split()]) for x in bigrams]\n",
    "    return result\n",
    "\n",
    "def get_unigrams(myString):\n",
    "    tokenizer = WordPunctTokenizer()\n",
    "    tokens = tokenizer.tokenize(myString)\n",
    "    #stemmer = PorterStemmer()\n",
    "    result = [w.lower() for w in tokens if w.lower() not in stopWords]\n",
    "    return result\n",
    "\n",
    "news['news_clean'] = news.apply(process_text, axis = 1)\n",
    "news['news_unigrams'] = news['news_clean'].apply(lambda x: get_unigrams(x))\n",
    "news['news_bigrams'] = news['news_clean'].apply(lambda x: get_bigrams(x))\n",
    "news['orig_unigrams'] = news['news'].apply(lambda x: get_unigrams(x))\n",
    "news['orig_bigrams'] = news['news'].apply(lambda x: get_bigrams(x))\n",
    "news[to_display].head()"
   ]
  },
  {
   "cell_type": "markdown",
   "metadata": {},
   "source": [
    "### Player Scores and Averages"
   ]
  },
  {
   "cell_type": "code",
   "execution_count": 7,
   "metadata": {
    "scrolled": true
   },
   "outputs": [
    {
     "data": {
      "text/html": [
       "<div>\n",
       "<style>\n",
       "    .dataframe thead tr:only-child th {\n",
       "        text-align: right;\n",
       "    }\n",
       "\n",
       "    .dataframe thead th {\n",
       "        text-align: left;\n",
       "    }\n",
       "\n",
       "    .dataframe tbody tr th {\n",
       "        vertical-align: top;\n",
       "    }\n",
       "</style>\n",
       "<table border=\"1\" class=\"dataframe\">\n",
       "  <thead>\n",
       "    <tr style=\"text-align: right;\">\n",
       "      <th></th>\n",
       "      <th>Player</th>\n",
       "      <th>Team</th>\n",
       "      <th>Position</th>\n",
       "      <th>Year</th>\n",
       "      <th>Week</th>\n",
       "      <th>Points</th>\n",
       "    </tr>\n",
       "  </thead>\n",
       "  <tbody>\n",
       "    <tr>\n",
       "      <th>0</th>\n",
       "      <td>Drew Brees</td>\n",
       "      <td>NO</td>\n",
       "      <td>QB</td>\n",
       "      <td>2016</td>\n",
       "      <td>1</td>\n",
       "      <td>37.7</td>\n",
       "    </tr>\n",
       "    <tr>\n",
       "      <th>1</th>\n",
       "      <td>Andrew Luck</td>\n",
       "      <td>IND</td>\n",
       "      <td>QB</td>\n",
       "      <td>2016</td>\n",
       "      <td>1</td>\n",
       "      <td>37.4</td>\n",
       "    </tr>\n",
       "    <tr>\n",
       "      <th>2</th>\n",
       "      <td>Alex Smith</td>\n",
       "      <td>KC</td>\n",
       "      <td>QB</td>\n",
       "      <td>2016</td>\n",
       "      <td>1</td>\n",
       "      <td>33.7</td>\n",
       "    </tr>\n",
       "    <tr>\n",
       "      <th>3</th>\n",
       "      <td>Jameis Winston</td>\n",
       "      <td>TB</td>\n",
       "      <td>QB</td>\n",
       "      <td>2016</td>\n",
       "      <td>1</td>\n",
       "      <td>30.4</td>\n",
       "    </tr>\n",
       "    <tr>\n",
       "      <th>4</th>\n",
       "      <td>Matthew Stafford</td>\n",
       "      <td>DET</td>\n",
       "      <td>QB</td>\n",
       "      <td>2016</td>\n",
       "      <td>1</td>\n",
       "      <td>29.5</td>\n",
       "    </tr>\n",
       "  </tbody>\n",
       "</table>\n",
       "</div>"
      ],
      "text/plain": [
       "             Player Team Position  Year  Week  Points\n",
       "0        Drew Brees   NO       QB  2016     1    37.7\n",
       "1       Andrew Luck  IND       QB  2016     1    37.4\n",
       "2        Alex Smith   KC       QB  2016     1    33.7\n",
       "3    Jameis Winston   TB       QB  2016     1    30.4\n",
       "4  Matthew Stafford  DET       QB  2016     1    29.5"
      ]
     },
     "execution_count": 7,
     "metadata": {},
     "output_type": "execute_result"
    }
   ],
   "source": [
    "#Match up scores with articles\n",
    "scores = pd.read_csv('../data/fantasy_points_data.csv', parse_dates= True)\n",
    "scores.head()"
   ]
  },
  {
   "cell_type": "code",
   "execution_count": 8,
   "metadata": {
    "collapsed": true
   },
   "outputs": [],
   "source": [
    "def yearly_average(row):\n",
    "    if row['Year']==2016:\n",
    "        return row['Points']/weeks_in_2016\n",
    "    elif row['Year']==2017:\n",
    "        return row['Points']/weeks_in_2017"
   ]
  },
  {
   "cell_type": "code",
   "execution_count": 9,
   "metadata": {
    "collapsed": true
   },
   "outputs": [],
   "source": [
    "#Computing average over all weeks in year\n",
    "weeks_in_2016 = scores[scores.Year==2016]['Week'].max()\n",
    "weeks_in_2017 = scores[scores.Year==2017]['Week'].max()\n",
    "avg_scores = scores.groupby(['Player','Year'], as_index=False)['Points'].sum()\n",
    "avg_scores['Avg_Points']= avg_scores.apply(yearly_average,axis=1)\n",
    "avg_scores.columns = ['Player', 'Year', 'SeasonPoints', 'AvgSeasonPoints']"
   ]
  },
  {
   "cell_type": "code",
   "execution_count": 10,
   "metadata": {},
   "outputs": [
    {
     "data": {
      "text/html": [
       "<div>\n",
       "<style>\n",
       "    .dataframe thead tr:only-child th {\n",
       "        text-align: right;\n",
       "    }\n",
       "\n",
       "    .dataframe thead th {\n",
       "        text-align: left;\n",
       "    }\n",
       "\n",
       "    .dataframe tbody tr th {\n",
       "        vertical-align: top;\n",
       "    }\n",
       "</style>\n",
       "<table border=\"1\" class=\"dataframe\">\n",
       "  <thead>\n",
       "    <tr style=\"text-align: right;\">\n",
       "      <th></th>\n",
       "      <th>Player</th>\n",
       "      <th>Prev_Avg_Points</th>\n",
       "      <th>Week</th>\n",
       "      <th>Year</th>\n",
       "    </tr>\n",
       "  </thead>\n",
       "  <tbody>\n",
       "    <tr>\n",
       "      <th>0</th>\n",
       "      <td>Drew Brees</td>\n",
       "      <td>NaN</td>\n",
       "      <td>1</td>\n",
       "      <td>2016</td>\n",
       "    </tr>\n",
       "    <tr>\n",
       "      <th>1</th>\n",
       "      <td>Drew Brees</td>\n",
       "      <td>37.700000</td>\n",
       "      <td>2</td>\n",
       "      <td>2016</td>\n",
       "    </tr>\n",
       "    <tr>\n",
       "      <th>2</th>\n",
       "      <td>Drew Brees</td>\n",
       "      <td>26.100000</td>\n",
       "      <td>3</td>\n",
       "      <td>2016</td>\n",
       "    </tr>\n",
       "    <tr>\n",
       "      <th>3</th>\n",
       "      <td>Drew Brees</td>\n",
       "      <td>26.033333</td>\n",
       "      <td>4</td>\n",
       "      <td>2016</td>\n",
       "    </tr>\n",
       "    <tr>\n",
       "      <th>4</th>\n",
       "      <td>Drew Brees</td>\n",
       "      <td>22.475000</td>\n",
       "      <td>5</td>\n",
       "      <td>2016</td>\n",
       "    </tr>\n",
       "  </tbody>\n",
       "</table>\n",
       "</div>"
      ],
      "text/plain": [
       "       Player  Prev_Avg_Points  Week  Year\n",
       "0  Drew Brees              NaN     1  2016\n",
       "1  Drew Brees        37.700000     2  2016\n",
       "2  Drew Brees        26.100000     3  2016\n",
       "3  Drew Brees        26.033333     4  2016\n",
       "4  Drew Brees        22.475000     5  2016"
      ]
     },
     "execution_count": 10,
     "metadata": {},
     "output_type": "execute_result"
    }
   ],
   "source": [
    "#computing average points from all previous weeks played\n",
    "years = scores.Year.unique()\n",
    "players = scores.Player.unique()\n",
    "weeks = scores.Week.unique()\n",
    "\n",
    "cols = ['Player','Week','Year','Prev_Avg_Points']\n",
    "data = []\n",
    "\n",
    "for year in years:\n",
    "    for player in players:\n",
    "        for week in weeks:    \n",
    "            df = scores[(scores['Player'] == player) & (scores['Year'] == year) &(scores['Week']<week)]\n",
    "            avg_points = df['Points'].mean()\n",
    "            vals = [player,week,year,avg_points]\n",
    "            data.append(dict(zip(cols,vals)))\n",
    "results = pd.DataFrame(data)\n",
    "results.head()"
   ]
  },
  {
   "cell_type": "code",
   "execution_count": 11,
   "metadata": {},
   "outputs": [
    {
     "data": {
      "text/html": [
       "<div>\n",
       "<style>\n",
       "    .dataframe thead tr:only-child th {\n",
       "        text-align: right;\n",
       "    }\n",
       "\n",
       "    .dataframe thead th {\n",
       "        text-align: left;\n",
       "    }\n",
       "\n",
       "    .dataframe tbody tr th {\n",
       "        vertical-align: top;\n",
       "    }\n",
       "</style>\n",
       "<table border=\"1\" class=\"dataframe\">\n",
       "  <thead>\n",
       "    <tr style=\"text-align: right;\">\n",
       "      <th></th>\n",
       "      <th>Player</th>\n",
       "      <th>Year</th>\n",
       "      <th>AvgWkPoints</th>\n",
       "    </tr>\n",
       "  </thead>\n",
       "  <tbody>\n",
       "    <tr>\n",
       "      <th>0</th>\n",
       "      <td>A.J. Derby</td>\n",
       "      <td>2016</td>\n",
       "      <td>3.425000</td>\n",
       "    </tr>\n",
       "    <tr>\n",
       "      <th>1</th>\n",
       "      <td>A.J. Derby</td>\n",
       "      <td>2017</td>\n",
       "      <td>4.050000</td>\n",
       "    </tr>\n",
       "    <tr>\n",
       "      <th>2</th>\n",
       "      <td>A.J. Green</td>\n",
       "      <td>2016</td>\n",
       "      <td>13.377778</td>\n",
       "    </tr>\n",
       "    <tr>\n",
       "      <th>3</th>\n",
       "      <td>A.J. Green</td>\n",
       "      <td>2017</td>\n",
       "      <td>10.692308</td>\n",
       "    </tr>\n",
       "    <tr>\n",
       "      <th>4</th>\n",
       "      <td>AJ McCarron</td>\n",
       "      <td>2017</td>\n",
       "      <td>1.900000</td>\n",
       "    </tr>\n",
       "  </tbody>\n",
       "</table>\n",
       "</div>"
      ],
      "text/plain": [
       "        Player  Year  AvgWkPoints\n",
       "0   A.J. Derby  2016     3.425000\n",
       "1   A.J. Derby  2017     4.050000\n",
       "2   A.J. Green  2016    13.377778\n",
       "3   A.J. Green  2017    10.692308\n",
       "4  AJ McCarron  2017     1.900000"
      ]
     },
     "execution_count": 11,
     "metadata": {},
     "output_type": "execute_result"
    }
   ],
   "source": [
    "#Computing averages over all weeks *played* in a year\n",
    "wkavg_scores = scores.groupby(['Player', 'Year'], as_index=False)['Points'].mean()\n",
    "wkavg_scores.columns = ['Player', 'Year', 'AvgWkPoints']\n",
    "wkavg_scores.head()"
   ]
  },
  {
   "cell_type": "code",
   "execution_count": 12,
   "metadata": {
    "scrolled": true
   },
   "outputs": [
    {
     "data": {
      "text/html": [
       "<div>\n",
       "<style>\n",
       "    .dataframe thead tr:only-child th {\n",
       "        text-align: right;\n",
       "    }\n",
       "\n",
       "    .dataframe thead th {\n",
       "        text-align: left;\n",
       "    }\n",
       "\n",
       "    .dataframe tbody tr th {\n",
       "        vertical-align: top;\n",
       "    }\n",
       "</style>\n",
       "<table border=\"1\" class=\"dataframe\">\n",
       "  <thead>\n",
       "    <tr style=\"text-align: right;\">\n",
       "      <th></th>\n",
       "      <th>Player</th>\n",
       "      <th>Team</th>\n",
       "      <th>Position</th>\n",
       "      <th>Year</th>\n",
       "      <th>Week</th>\n",
       "      <th>Points</th>\n",
       "      <th>SeasonPoints</th>\n",
       "      <th>AvgSeasonPoints</th>\n",
       "      <th>AvgWkPoints</th>\n",
       "      <th>Prev_Avg_Points</th>\n",
       "      <th>Diff_from_Avg</th>\n",
       "      <th>Diff_from_WkAvg</th>\n",
       "      <th>Diff_from_PrevWkAvg</th>\n",
       "    </tr>\n",
       "  </thead>\n",
       "  <tbody>\n",
       "    <tr>\n",
       "      <th>0</th>\n",
       "      <td>Drew Brees</td>\n",
       "      <td>NO</td>\n",
       "      <td>QB</td>\n",
       "      <td>2016</td>\n",
       "      <td>1</td>\n",
       "      <td>37.7</td>\n",
       "      <td>338.5</td>\n",
       "      <td>19.911765</td>\n",
       "      <td>21.15625</td>\n",
       "      <td>NaN</td>\n",
       "      <td>17.788235</td>\n",
       "      <td>16.54375</td>\n",
       "      <td>NaN</td>\n",
       "    </tr>\n",
       "    <tr>\n",
       "      <th>1</th>\n",
       "      <td>Drew Brees</td>\n",
       "      <td>NO</td>\n",
       "      <td>QB</td>\n",
       "      <td>2016</td>\n",
       "      <td>2</td>\n",
       "      <td>14.5</td>\n",
       "      <td>338.5</td>\n",
       "      <td>19.911765</td>\n",
       "      <td>21.15625</td>\n",
       "      <td>37.700000</td>\n",
       "      <td>-5.411765</td>\n",
       "      <td>-6.65625</td>\n",
       "      <td>-23.200000</td>\n",
       "    </tr>\n",
       "    <tr>\n",
       "      <th>2</th>\n",
       "      <td>Drew Brees</td>\n",
       "      <td>NO</td>\n",
       "      <td>QB</td>\n",
       "      <td>2016</td>\n",
       "      <td>3</td>\n",
       "      <td>25.9</td>\n",
       "      <td>338.5</td>\n",
       "      <td>19.911765</td>\n",
       "      <td>21.15625</td>\n",
       "      <td>26.100000</td>\n",
       "      <td>5.988235</td>\n",
       "      <td>4.74375</td>\n",
       "      <td>-0.200000</td>\n",
       "    </tr>\n",
       "    <tr>\n",
       "      <th>3</th>\n",
       "      <td>Drew Brees</td>\n",
       "      <td>NO</td>\n",
       "      <td>QB</td>\n",
       "      <td>2016</td>\n",
       "      <td>4</td>\n",
       "      <td>11.8</td>\n",
       "      <td>338.5</td>\n",
       "      <td>19.911765</td>\n",
       "      <td>21.15625</td>\n",
       "      <td>26.033333</td>\n",
       "      <td>-8.111765</td>\n",
       "      <td>-9.35625</td>\n",
       "      <td>-14.233333</td>\n",
       "    </tr>\n",
       "    <tr>\n",
       "      <th>4</th>\n",
       "      <td>Drew Brees</td>\n",
       "      <td>NO</td>\n",
       "      <td>QB</td>\n",
       "      <td>2016</td>\n",
       "      <td>6</td>\n",
       "      <td>32.6</td>\n",
       "      <td>338.5</td>\n",
       "      <td>19.911765</td>\n",
       "      <td>21.15625</td>\n",
       "      <td>22.475000</td>\n",
       "      <td>12.688235</td>\n",
       "      <td>11.44375</td>\n",
       "      <td>10.125000</td>\n",
       "    </tr>\n",
       "  </tbody>\n",
       "</table>\n",
       "</div>"
      ],
      "text/plain": [
       "       Player Team Position  Year  Week  Points  SeasonPoints  \\\n",
       "0  Drew Brees   NO       QB  2016     1    37.7         338.5   \n",
       "1  Drew Brees   NO       QB  2016     2    14.5         338.5   \n",
       "2  Drew Brees   NO       QB  2016     3    25.9         338.5   \n",
       "3  Drew Brees   NO       QB  2016     4    11.8         338.5   \n",
       "4  Drew Brees   NO       QB  2016     6    32.6         338.5   \n",
       "\n",
       "   AvgSeasonPoints  AvgWkPoints  Prev_Avg_Points  Diff_from_Avg  \\\n",
       "0        19.911765     21.15625              NaN      17.788235   \n",
       "1        19.911765     21.15625        37.700000      -5.411765   \n",
       "2        19.911765     21.15625        26.100000       5.988235   \n",
       "3        19.911765     21.15625        26.033333      -8.111765   \n",
       "4        19.911765     21.15625        22.475000      12.688235   \n",
       "\n",
       "   Diff_from_WkAvg  Diff_from_PrevWkAvg  \n",
       "0         16.54375                  NaN  \n",
       "1         -6.65625           -23.200000  \n",
       "2          4.74375            -0.200000  \n",
       "3         -9.35625           -14.233333  \n",
       "4         11.44375            10.125000  "
      ]
     },
     "execution_count": 12,
     "metadata": {},
     "output_type": "execute_result"
    }
   ],
   "source": [
    "scores_combined = scores.merge(avg_scores, \n",
    "                               how='inner', \n",
    "                               on=['Player','Year'])\n",
    "scores_combined = scores_combined.merge(wkavg_scores,\n",
    "                                  how='inner',\n",
    "                                  on=['Player', 'Year'])\n",
    "scores_combined = scores_combined.merge(results,\n",
    "                                  how='inner',\n",
    "                                  on=['Player', 'Year','Week'])\n",
    "scores_combined['Diff_from_Avg'] = scores_combined['Points'] - scores_combined['AvgSeasonPoints']\n",
    "scores_combined['Diff_from_WkAvg'] = scores_combined['Points'] - scores_combined['AvgWkPoints']\n",
    "scores_combined['Diff_from_PrevWkAvg'] = scores_combined['Points'] - scores_combined['Prev_Avg_Points'] \n",
    "scores_combined.head()"
   ]
  },
  {
   "cell_type": "markdown",
   "metadata": {},
   "source": [
    "### Player predicted scores"
   ]
  },
  {
   "cell_type": "code",
   "execution_count": 77,
   "metadata": {
    "collapsed": true
   },
   "outputs": [],
   "source": [
    "#Pull in predicted scores\n",
    "preds2016 = pd.read_csv('../data/full_2016_projections.csv', parse_dates= True)\n",
    "preds2017 = pd.read_csv('../data/full_2017_projections.csv', parse_dates = True)\n",
    "preds2016['Year'] = 2016\n",
    "preds2017['Year'] = 2017\n",
    "preds = pd.concat([preds2016, preds2017])"
   ]
  },
  {
   "cell_type": "code",
   "execution_count": 78,
   "metadata": {},
   "outputs": [
    {
     "data": {
      "text/html": [
       "<div>\n",
       "<style>\n",
       "    .dataframe thead tr:only-child th {\n",
       "        text-align: right;\n",
       "    }\n",
       "\n",
       "    .dataframe thead th {\n",
       "        text-align: left;\n",
       "    }\n",
       "\n",
       "    .dataframe tbody tr th {\n",
       "        vertical-align: top;\n",
       "    }\n",
       "</style>\n",
       "<table border=\"1\" class=\"dataframe\">\n",
       "  <thead>\n",
       "    <tr style=\"text-align: right;\">\n",
       "      <th></th>\n",
       "      <th>Player</th>\n",
       "      <th>Pos</th>\n",
       "      <th>Week</th>\n",
       "      <th>Team</th>\n",
       "      <th>Opp</th>\n",
       "      <th>Pass Yds</th>\n",
       "      <th>TD</th>\n",
       "      <th>Int</th>\n",
       "      <th>Rush Yds</th>\n",
       "      <th>TD.1</th>\n",
       "      <th>Rec</th>\n",
       "      <th>Yds</th>\n",
       "      <th>TD.2</th>\n",
       "      <th>Fantasy Points</th>\n",
       "      <th>Year</th>\n",
       "    </tr>\n",
       "  </thead>\n",
       "  <tbody>\n",
       "    <tr>\n",
       "      <th>0</th>\n",
       "      <td>David Johnson</td>\n",
       "      <td>RB</td>\n",
       "      <td>10</td>\n",
       "      <td>ARI</td>\n",
       "      <td>SF</td>\n",
       "      <td>0.0</td>\n",
       "      <td>0.0</td>\n",
       "      <td>0.0</td>\n",
       "      <td>112.4</td>\n",
       "      <td>1.1</td>\n",
       "      <td>4.2</td>\n",
       "      <td>40.8</td>\n",
       "      <td>0.3</td>\n",
       "      <td>27.52</td>\n",
       "      <td>2016</td>\n",
       "    </tr>\n",
       "    <tr>\n",
       "      <th>1</th>\n",
       "      <td>Cam Newton</td>\n",
       "      <td>QB</td>\n",
       "      <td>2</td>\n",
       "      <td>CAR</td>\n",
       "      <td>SF</td>\n",
       "      <td>243.5</td>\n",
       "      <td>1.8</td>\n",
       "      <td>0.6</td>\n",
       "      <td>41.6</td>\n",
       "      <td>0.6</td>\n",
       "      <td>0.0</td>\n",
       "      <td>0.0</td>\n",
       "      <td>0.0</td>\n",
       "      <td>23.10</td>\n",
       "      <td>2016</td>\n",
       "    </tr>\n",
       "    <tr>\n",
       "      <th>2</th>\n",
       "      <td>Aaron Rodgers</td>\n",
       "      <td>QB</td>\n",
       "      <td>9</td>\n",
       "      <td>GB</td>\n",
       "      <td>IND</td>\n",
       "      <td>295.6</td>\n",
       "      <td>2.2</td>\n",
       "      <td>0.8</td>\n",
       "      <td>20.4</td>\n",
       "      <td>0.4</td>\n",
       "      <td>0.0</td>\n",
       "      <td>0.0</td>\n",
       "      <td>0.0</td>\n",
       "      <td>22.86</td>\n",
       "      <td>2016</td>\n",
       "    </tr>\n",
       "    <tr>\n",
       "      <th>3</th>\n",
       "      <td>Matt Ryan</td>\n",
       "      <td>QB</td>\n",
       "      <td>9</td>\n",
       "      <td>ATL</td>\n",
       "      <td>TB</td>\n",
       "      <td>323.1</td>\n",
       "      <td>2.6</td>\n",
       "      <td>0.8</td>\n",
       "      <td>9.3</td>\n",
       "      <td>0.1</td>\n",
       "      <td>0.0</td>\n",
       "      <td>0.0</td>\n",
       "      <td>0.0</td>\n",
       "      <td>22.65</td>\n",
       "      <td>2016</td>\n",
       "    </tr>\n",
       "    <tr>\n",
       "      <th>4</th>\n",
       "      <td>Cam Newton</td>\n",
       "      <td>QB</td>\n",
       "      <td>4</td>\n",
       "      <td>CAR</td>\n",
       "      <td>ATL</td>\n",
       "      <td>243.9</td>\n",
       "      <td>1.8</td>\n",
       "      <td>0.8</td>\n",
       "      <td>41.4</td>\n",
       "      <td>0.6</td>\n",
       "      <td>0.0</td>\n",
       "      <td>0.0</td>\n",
       "      <td>0.0</td>\n",
       "      <td>22.50</td>\n",
       "      <td>2016</td>\n",
       "    </tr>\n",
       "  </tbody>\n",
       "</table>\n",
       "</div>"
      ],
      "text/plain": [
       "          Player Pos  Week Team  Opp  Pass Yds   TD  Int  Rush Yds  TD.1  Rec  \\\n",
       "0  David Johnson  RB    10  ARI   SF       0.0  0.0  0.0     112.4   1.1  4.2   \n",
       "1     Cam Newton  QB     2  CAR   SF     243.5  1.8  0.6      41.6   0.6  0.0   \n",
       "2  Aaron Rodgers  QB     9   GB  IND     295.6  2.2  0.8      20.4   0.4  0.0   \n",
       "3      Matt Ryan  QB     9  ATL   TB     323.1  2.6  0.8       9.3   0.1  0.0   \n",
       "4     Cam Newton  QB     4  CAR  ATL     243.9  1.8  0.8      41.4   0.6  0.0   \n",
       "\n",
       "    Yds  TD.2  Fantasy Points  Year  \n",
       "0  40.8   0.3           27.52  2016  \n",
       "1   0.0   0.0           23.10  2016  \n",
       "2   0.0   0.0           22.86  2016  \n",
       "3   0.0   0.0           22.65  2016  \n",
       "4   0.0   0.0           22.50  2016  "
      ]
     },
     "execution_count": 78,
     "metadata": {},
     "output_type": "execute_result"
    }
   ],
   "source": [
    "preds.head()"
   ]
  },
  {
   "cell_type": "code",
   "execution_count": 79,
   "metadata": {
    "collapsed": true
   },
   "outputs": [],
   "source": [
    "#Restructuring predicted points to mirror actual score data\n",
    "preds = preds[['Player', 'Team', 'Pos', 'Year', 'Week', 'Fantasy Points']]\n",
    "preds.columns = ['Player', 'Team', 'Position', 'Year', 'Week', 'Points']"
   ]
  },
  {
   "cell_type": "code",
   "execution_count": 80,
   "metadata": {
    "collapsed": true
   },
   "outputs": [],
   "source": [
    "#Replacing scores with predicted scores\n",
    "scores = preds.copy(deep=True)"
   ]
  },
  {
   "cell_type": "code",
   "execution_count": 81,
   "metadata": {
    "collapsed": true
   },
   "outputs": [],
   "source": [
    "#Computing average over all weeks in year\n",
    "weeks_in_2016 = scores[scores.Year==2016]['Week'].max()\n",
    "weeks_in_2017 = scores[scores.Year==2017]['Week'].max()\n",
    "avg_scores = scores.groupby(['Player','Year'], as_index=False)['Points'].sum()\n",
    "avg_scores['Avg_Points']= avg_scores.apply(yearly_average,axis=1)\n",
    "avg_scores.columns = ['Player', 'Year', 'SeasonPoints', 'AvgSeasonPoints']"
   ]
  },
  {
   "cell_type": "code",
   "execution_count": 82,
   "metadata": {},
   "outputs": [
    {
     "data": {
      "text/html": [
       "<div>\n",
       "<style>\n",
       "    .dataframe thead tr:only-child th {\n",
       "        text-align: right;\n",
       "    }\n",
       "\n",
       "    .dataframe thead th {\n",
       "        text-align: left;\n",
       "    }\n",
       "\n",
       "    .dataframe tbody tr th {\n",
       "        vertical-align: top;\n",
       "    }\n",
       "</style>\n",
       "<table border=\"1\" class=\"dataframe\">\n",
       "  <thead>\n",
       "    <tr style=\"text-align: right;\">\n",
       "      <th></th>\n",
       "      <th>Player</th>\n",
       "      <th>Year</th>\n",
       "      <th>AvgWkPoints</th>\n",
       "    </tr>\n",
       "  </thead>\n",
       "  <tbody>\n",
       "    <tr>\n",
       "      <th>0</th>\n",
       "      <td>AJ Green</td>\n",
       "      <td>2016</td>\n",
       "      <td>19.012000</td>\n",
       "    </tr>\n",
       "    <tr>\n",
       "      <th>1</th>\n",
       "      <td>AJ Green</td>\n",
       "      <td>2017</td>\n",
       "      <td>16.262143</td>\n",
       "    </tr>\n",
       "    <tr>\n",
       "      <th>2</th>\n",
       "      <td>Aaron Jones</td>\n",
       "      <td>2017</td>\n",
       "      <td>9.964000</td>\n",
       "    </tr>\n",
       "    <tr>\n",
       "      <th>3</th>\n",
       "      <td>Aaron Rodgers</td>\n",
       "      <td>2016</td>\n",
       "      <td>19.733333</td>\n",
       "    </tr>\n",
       "    <tr>\n",
       "      <th>4</th>\n",
       "      <td>Aaron Rodgers</td>\n",
       "      <td>2017</td>\n",
       "      <td>19.687143</td>\n",
       "    </tr>\n",
       "  </tbody>\n",
       "</table>\n",
       "</div>"
      ],
      "text/plain": [
       "          Player  Year  AvgWkPoints\n",
       "0       AJ Green  2016    19.012000\n",
       "1       AJ Green  2017    16.262143\n",
       "2    Aaron Jones  2017     9.964000\n",
       "3  Aaron Rodgers  2016    19.733333\n",
       "4  Aaron Rodgers  2017    19.687143"
      ]
     },
     "execution_count": 82,
     "metadata": {},
     "output_type": "execute_result"
    }
   ],
   "source": [
    "#Computing averages over all weeks *played* in a year\n",
    "wkavg_scores = scores.groupby(['Player', 'Year'], as_index=False)['Points'].mean()\n",
    "wkavg_scores.columns = ['Player', 'Year', 'AvgWkPoints']\n",
    "wkavg_scores.head()"
   ]
  },
  {
   "cell_type": "code",
   "execution_count": 83,
   "metadata": {},
   "outputs": [
    {
     "data": {
      "text/html": [
       "<div>\n",
       "<style>\n",
       "    .dataframe thead tr:only-child th {\n",
       "        text-align: right;\n",
       "    }\n",
       "\n",
       "    .dataframe thead th {\n",
       "        text-align: left;\n",
       "    }\n",
       "\n",
       "    .dataframe tbody tr th {\n",
       "        vertical-align: top;\n",
       "    }\n",
       "</style>\n",
       "<table border=\"1\" class=\"dataframe\">\n",
       "  <thead>\n",
       "    <tr style=\"text-align: right;\">\n",
       "      <th></th>\n",
       "      <th>Player</th>\n",
       "      <th>Team</th>\n",
       "      <th>Position</th>\n",
       "      <th>Year</th>\n",
       "      <th>Week</th>\n",
       "      <th>Points</th>\n",
       "      <th>SeasonPoints</th>\n",
       "      <th>AvgSeasonPoints</th>\n",
       "      <th>AvgWkPoints</th>\n",
       "      <th>Diff_from_Avg</th>\n",
       "      <th>Diff_from_WkAvg</th>\n",
       "    </tr>\n",
       "  </thead>\n",
       "  <tbody>\n",
       "    <tr>\n",
       "      <th>0</th>\n",
       "      <td>David Johnson</td>\n",
       "      <td>ARI</td>\n",
       "      <td>RB</td>\n",
       "      <td>2016</td>\n",
       "      <td>10</td>\n",
       "      <td>27.52</td>\n",
       "      <td>323.05</td>\n",
       "      <td>20.190625</td>\n",
       "      <td>21.536667</td>\n",
       "      <td>7.329375</td>\n",
       "      <td>5.983333</td>\n",
       "    </tr>\n",
       "    <tr>\n",
       "      <th>1</th>\n",
       "      <td>David Johnson</td>\n",
       "      <td>ARI</td>\n",
       "      <td>RB</td>\n",
       "      <td>2016</td>\n",
       "      <td>13</td>\n",
       "      <td>25.62</td>\n",
       "      <td>323.05</td>\n",
       "      <td>20.190625</td>\n",
       "      <td>21.536667</td>\n",
       "      <td>5.429375</td>\n",
       "      <td>4.083333</td>\n",
       "    </tr>\n",
       "    <tr>\n",
       "      <th>2</th>\n",
       "      <td>David Johnson</td>\n",
       "      <td>ARI</td>\n",
       "      <td>RB</td>\n",
       "      <td>2016</td>\n",
       "      <td>14</td>\n",
       "      <td>25.23</td>\n",
       "      <td>323.05</td>\n",
       "      <td>20.190625</td>\n",
       "      <td>21.536667</td>\n",
       "      <td>5.039375</td>\n",
       "      <td>3.693333</td>\n",
       "    </tr>\n",
       "    <tr>\n",
       "      <th>3</th>\n",
       "      <td>David Johnson</td>\n",
       "      <td>ARI</td>\n",
       "      <td>RB</td>\n",
       "      <td>2016</td>\n",
       "      <td>15</td>\n",
       "      <td>25.78</td>\n",
       "      <td>323.05</td>\n",
       "      <td>20.190625</td>\n",
       "      <td>21.536667</td>\n",
       "      <td>5.589375</td>\n",
       "      <td>4.243333</td>\n",
       "    </tr>\n",
       "    <tr>\n",
       "      <th>4</th>\n",
       "      <td>David Johnson</td>\n",
       "      <td>ARI</td>\n",
       "      <td>RB</td>\n",
       "      <td>2016</td>\n",
       "      <td>12</td>\n",
       "      <td>24.09</td>\n",
       "      <td>323.05</td>\n",
       "      <td>20.190625</td>\n",
       "      <td>21.536667</td>\n",
       "      <td>3.899375</td>\n",
       "      <td>2.553333</td>\n",
       "    </tr>\n",
       "  </tbody>\n",
       "</table>\n",
       "</div>"
      ],
      "text/plain": [
       "          Player Team Position  Year  Week  Points  SeasonPoints  \\\n",
       "0  David Johnson  ARI       RB  2016    10   27.52        323.05   \n",
       "1  David Johnson  ARI       RB  2016    13   25.62        323.05   \n",
       "2  David Johnson  ARI       RB  2016    14   25.23        323.05   \n",
       "3  David Johnson  ARI       RB  2016    15   25.78        323.05   \n",
       "4  David Johnson  ARI       RB  2016    12   24.09        323.05   \n",
       "\n",
       "   AvgSeasonPoints  AvgWkPoints  Diff_from_Avg  Diff_from_WkAvg  \n",
       "0        20.190625    21.536667       7.329375         5.983333  \n",
       "1        20.190625    21.536667       5.429375         4.083333  \n",
       "2        20.190625    21.536667       5.039375         3.693333  \n",
       "3        20.190625    21.536667       5.589375         4.243333  \n",
       "4        20.190625    21.536667       3.899375         2.553333  "
      ]
     },
     "execution_count": 83,
     "metadata": {},
     "output_type": "execute_result"
    }
   ],
   "source": [
    "scores_combined = scores.merge(avg_scores, \n",
    "                               how='inner', \n",
    "                               on=['Player','Year'])\n",
    "scores_combined = scores_combined.merge(wkavg_scores,\n",
    "                                  how='inner',\n",
    "                                  on=['Player', 'Year'])\n",
    "scores_combined['Diff_from_Avg'] = scores_combined['Points'] - scores_combined['AvgSeasonPoints']\n",
    "scores_combined['Diff_from_WkAvg'] = scores_combined['Points'] - scores_combined['AvgWkPoints'] \n",
    "scores_combined.head()"
   ]
  },
  {
   "cell_type": "markdown",
   "metadata": {},
   "source": [
    "### Merging"
   ]
  },
  {
   "cell_type": "code",
   "execution_count": 13,
   "metadata": {
    "collapsed": true
   },
   "outputs": [],
   "source": [
    "start_of_season = {2016:pd.datetime.strptime('2016-09-08', '%Y-%m-%d'),\n",
    "                  2017:pd.datetime.strptime('2017-09-08', '%Y-%m-%d')}"
   ]
  },
  {
   "cell_type": "code",
   "execution_count": 14,
   "metadata": {
    "collapsed": true
   },
   "outputs": [],
   "source": [
    "#Add in the first and last date for a given playing week\n",
    "scores_combined['max_date'] = scores_combined.apply(lambda x: start_of_season[x['Year']] + timedelta(weeks = x['Week']), axis=1)\n",
    "scores_combined['min_date'] = scores_combined.apply(lambda x: start_of_season[x['Year']] + timedelta(weeks = x['Week'] - 1), axis=1)"
   ]
  },
  {
   "cell_type": "code",
   "execution_count": 15,
   "metadata": {
    "scrolled": false
   },
   "outputs": [
    {
     "data": {
      "text/plain": [
       "Player                         object\n",
       "Team                           object\n",
       "Position                       object\n",
       "Year                            int64\n",
       "Week                            int64\n",
       "Points                        float64\n",
       "SeasonPoints                  float64\n",
       "AvgSeasonPoints               float64\n",
       "AvgWkPoints                   float64\n",
       "Prev_Avg_Points               float64\n",
       "Diff_from_Avg                 float64\n",
       "Diff_from_WkAvg               float64\n",
       "Diff_from_PrevWkAvg           float64\n",
       "max_date               datetime64[ns]\n",
       "min_date               datetime64[ns]\n",
       "dtype: object"
      ]
     },
     "execution_count": 15,
     "metadata": {},
     "output_type": "execute_result"
    }
   ],
   "source": [
    "scores_combined.dtypes"
   ]
  },
  {
   "cell_type": "code",
   "execution_count": 16,
   "metadata": {
    "scrolled": true
   },
   "outputs": [
    {
     "data": {
      "text/plain": [
       "date             datetime64[ns]\n",
       "headline                 object\n",
       "name                     object\n",
       "news                     object\n",
       "team                     object\n",
       "news_clean               object\n",
       "news_unigrams            object\n",
       "news_bigrams             object\n",
       "orig_unigrams            object\n",
       "orig_bigrams             object\n",
       "dtype: object"
      ]
     },
     "execution_count": 16,
     "metadata": {},
     "output_type": "execute_result"
    }
   ],
   "source": [
    "news.dtypes"
   ]
  },
  {
   "cell_type": "code",
   "execution_count": 17,
   "metadata": {
    "collapsed": true
   },
   "outputs": [],
   "source": [
    "#Scores data does not use . in names (i.e. 'C.J. Anderson')\n",
    "news['name'] = news['name'].apply(lambda x: x.replace('.', ''))"
   ]
  },
  {
   "cell_type": "code",
   "execution_count": 18,
   "metadata": {
    "collapsed": true
   },
   "outputs": [],
   "source": [
    "#Merge news with scores and filter out scores that are not within a playing week\n",
    "combined = scores_combined.merge(news, how='inner', left_on='Player', right_on='name')\n",
    "combined = combined[(combined['date'] <= combined['max_date']) & \n",
    "                    (combined['date'] >= combined['min_date'])]"
   ]
  },
  {
   "cell_type": "code",
   "execution_count": 19,
   "metadata": {
    "scrolled": true
   },
   "outputs": [
    {
     "data": {
      "text/plain": [
       "(10787, 25)"
      ]
     },
     "execution_count": 19,
     "metadata": {},
     "output_type": "execute_result"
    }
   ],
   "source": [
    "combined.shape"
   ]
  },
  {
   "cell_type": "code",
   "execution_count": 20,
   "metadata": {
    "collapsed": true
   },
   "outputs": [],
   "source": [
    "mismatched_scores = scores_combined.merge(news, how='left', left_on='Player', right_on='name')\n",
    "mismatched_scores = mismatched_scores[(mismatched_scores['date'] <= mismatched_scores['max_date']) \n",
    "                                      & (mismatched_scores['date'] >= mismatched_scores['min_date']) \n",
    "                                      & (mismatched_scores['name'].isnull())]\n",
    "                                     #]\n",
    "mismatched_news = scores_combined.merge(news, how='right', left_on='Player', right_on='name')\n",
    "mismatched_news = mismatched_news[mismatched_news['SeasonPoints'].isnull()]"
   ]
  },
  {
   "cell_type": "code",
   "execution_count": 21,
   "metadata": {},
   "outputs": [
    {
     "data": {
      "text/plain": [
       "1403"
      ]
     },
     "execution_count": 21,
     "metadata": {},
     "output_type": "execute_result"
    }
   ],
   "source": [
    "#Number of players with no scores\n",
    "len(news[np.invert(np.in1d(news.name, scores_combined.Player))].name.value_counts())"
   ]
  },
  {
   "cell_type": "code",
   "execution_count": 22,
   "metadata": {},
   "outputs": [
    {
     "data": {
      "text/plain": [
       "6872"
      ]
     },
     "execution_count": 22,
     "metadata": {},
     "output_type": "execute_result"
    }
   ],
   "source": [
    "#Count of news articles with no scores\n",
    "np.sum(news[np.invert(np.in1d(news.name, scores_combined.Player))].name.value_counts())"
   ]
  },
  {
   "cell_type": "code",
   "execution_count": 23,
   "metadata": {},
   "outputs": [
    {
     "data": {
      "text/plain": [
       "Odell Beckham         88\n",
       "CJ Prosise            85\n",
       "TY Hilton             73\n",
       "AJ Green              67\n",
       "Luke Kuechly          49\n",
       "TJ Yeldon             49\n",
       "JJ Nelson             47\n",
       "CJ Fiedorowicz        44\n",
       "Steve Smith Sr        43\n",
       "CJ Anderson           40\n",
       "Tyron Smith           40\n",
       "John Ross             39\n",
       "Vontae Davis          39\n",
       "Ryan Kalil            37\n",
       "Terron Armstead       35\n",
       "Ted Ginn              33\n",
       "Darrelle Revis        32\n",
       "Jimmy Smith           32\n",
       "Cordy Glenn           29\n",
       "Trent Williams        29\n",
       "David Amerson         28\n",
       "Joe Haden             28\n",
       "Muhammad Wilkerson    28\n",
       "Justin Houston        28\n",
       "Dont'a Hightower      27\n",
       "Teddy Bridgewater     27\n",
       "Mike Pouncey          27\n",
       "Tyrann Mathieu        27\n",
       "Michael Bennett       27\n",
       "Ezekiel Ansah         26\n",
       "                      ..\n",
       "Byron Bell             1\n",
       "Don Jones              1\n",
       "Donte Deayon           1\n",
       "Quinton Dial           1\n",
       "DaQuan Jones           1\n",
       "Vinny Curry            1\n",
       "Hau'oli Kikaha         1\n",
       "Charles James          1\n",
       "Jordan Phillips        1\n",
       "Kyle Peko              1\n",
       "Antonio Hamilton       1\n",
       "Trae Waynes            1\n",
       "Al Woods               1\n",
       "Earl Wolff             1\n",
       "Bryce Callahan         1\n",
       "Frank Reich            1\n",
       "Rashad Johnson         1\n",
       "Jonathan Anderson      1\n",
       "KJ Dillon              1\n",
       "Dick LeBeau            1\n",
       "Bruce DeHaven          1\n",
       "Paul Kruger            1\n",
       "Jim Leonhard           1\n",
       "Ben Gottschalk         1\n",
       "Mike Mularkey          1\n",
       "Rob Boras              1\n",
       "Vinnie Sunseri         1\n",
       "Antrel Rolle           1\n",
       "Myles Jack             1\n",
       "Seth DeValve           1\n",
       "Name: name, Length: 1403, dtype: int64"
      ]
     },
     "execution_count": 23,
     "metadata": {},
     "output_type": "execute_result"
    }
   ],
   "source": [
    "news[np.invert(np.in1d(news.name, scores_combined.Player))].name.value_counts()"
   ]
  },
  {
   "cell_type": "code",
   "execution_count": 24,
   "metadata": {},
   "outputs": [
    {
     "data": {
      "text/html": [
       "<div>\n",
       "<style>\n",
       "    .dataframe thead tr:only-child th {\n",
       "        text-align: right;\n",
       "    }\n",
       "\n",
       "    .dataframe thead th {\n",
       "        text-align: left;\n",
       "    }\n",
       "\n",
       "    .dataframe tbody tr th {\n",
       "        vertical-align: top;\n",
       "    }\n",
       "</style>\n",
       "<table border=\"1\" class=\"dataframe\">\n",
       "  <thead>\n",
       "    <tr style=\"text-align: right;\">\n",
       "      <th></th>\n",
       "      <th>Player</th>\n",
       "      <th>Team</th>\n",
       "      <th>Position</th>\n",
       "      <th>Year</th>\n",
       "      <th>Week</th>\n",
       "      <th>Points</th>\n",
       "      <th>SeasonPoints</th>\n",
       "      <th>AvgSeasonPoints</th>\n",
       "      <th>AvgWkPoints</th>\n",
       "      <th>Prev_Avg_Points</th>\n",
       "      <th>...</th>\n",
       "      <th>date</th>\n",
       "      <th>headline</th>\n",
       "      <th>name</th>\n",
       "      <th>news</th>\n",
       "      <th>team</th>\n",
       "      <th>news_clean</th>\n",
       "      <th>news_unigrams</th>\n",
       "      <th>news_bigrams</th>\n",
       "      <th>orig_unigrams</th>\n",
       "      <th>orig_bigrams</th>\n",
       "    </tr>\n",
       "  </thead>\n",
       "  <tbody>\n",
       "  </tbody>\n",
       "</table>\n",
       "<p>0 rows × 25 columns</p>\n",
       "</div>"
      ],
      "text/plain": [
       "Empty DataFrame\n",
       "Columns: [Player, Team, Position, Year, Week, Points, SeasonPoints, AvgSeasonPoints, AvgWkPoints, Prev_Avg_Points, Diff_from_Avg, Diff_from_WkAvg, Diff_from_PrevWkAvg, max_date, min_date, date, headline, name, news, team, news_clean, news_unigrams, news_bigrams, orig_unigrams, orig_bigrams]\n",
       "Index: []\n",
       "\n",
       "[0 rows x 25 columns]"
      ]
     },
     "execution_count": 24,
     "metadata": {},
     "output_type": "execute_result"
    }
   ],
   "source": [
    "mismatched_scores.head()"
   ]
  },
  {
   "cell_type": "markdown",
   "metadata": {},
   "source": [
    "### Output"
   ]
  },
  {
   "cell_type": "code",
   "execution_count": 25,
   "metadata": {
    "collapsed": true
   },
   "outputs": [],
   "source": [
    "#combined.to_csv('../data/news_and_scores.csv', index=False)\n",
    "#combined.to_excel('../data/news_and_scores_no_stemmer.xlsx', index=False)\n",
    "combined.to_csv('../data/news_and_scores_no_stemmer.csv', index=False)"
   ]
  },
  {
   "cell_type": "code",
   "execution_count": 97,
   "metadata": {
    "collapsed": true
   },
   "outputs": [],
   "source": [
    "mismatched_scores.to_csv('../data/mismatched_scores.csv', index=False)\n",
    "mismatched_news.to_csv('../data/mismatched_news.csv', index=False)"
   ]
  },
  {
   "cell_type": "code",
   "execution_count": 98,
   "metadata": {},
   "outputs": [
    {
     "data": {
      "text/plain": [
       "(0, 23)"
      ]
     },
     "execution_count": 98,
     "metadata": {},
     "output_type": "execute_result"
    }
   ],
   "source": [
    "mismatched_scores.shape"
   ]
  },
  {
   "cell_type": "code",
   "execution_count": 99,
   "metadata": {},
   "outputs": [
    {
     "data": {
      "text/plain": [
       "(8738, 23)"
      ]
     },
     "execution_count": 99,
     "metadata": {},
     "output_type": "execute_result"
    }
   ],
   "source": [
    "mismatched_news.shape"
   ]
  },
  {
   "cell_type": "markdown",
   "metadata": {
    "collapsed": true
   },
   "source": [
    "# Modeling"
   ]
  },
  {
   "cell_type": "code",
   "execution_count": 1,
   "metadata": {
    "collapsed": true
   },
   "outputs": [],
   "source": [
    "#Import Libraries\n",
    "import numpy as np\n",
    "import pandas as pd\n",
    "import matplotlib.pyplot as plt\n",
    "import collections\n",
    "from sklearn import naive_bayes\n",
    "from sklearn.model_selection import train_test_split\n",
    "from ast import literal_eval\n",
    "from scipy.sparse import csr_matrix\n",
    "from sklearn.svm import LinearSVR\n",
    "from sklearn.model_selection import GridSearchCV"
   ]
  },
  {
   "cell_type": "code",
   "execution_count": 79,
   "metadata": {
    "collapsed": true
   },
   "outputs": [],
   "source": [
    "data = combined.copy(deep=True)\n",
    "data = data[np.isfinite(data['Diff_from_PrevWkAvg'])]"
   ]
  },
  {
   "cell_type": "code",
   "execution_count": 80,
   "metadata": {
    "collapsed": true
   },
   "outputs": [],
   "source": [
    "class Vocabulary(object):\n",
    "    START_TOKEN = \"<s>\"\n",
    "    END_TOKEN = \"</s>\"\n",
    "    UNK_TOKEN = \"<unk>\"\n",
    "\n",
    "    def __init__(self, tokens, size=None):\n",
    "        self.unigram_counts = collections.Counter(tokens)\n",
    "        self.num_unigrams = sum(self.unigram_counts.values())\n",
    "        # leave space for \"<s>\", \"</s>\", and \"<unk>\"\n",
    "        top_counts = self.unigram_counts.most_common(None if size is None else (size - 3))\n",
    "        vocab = ([self.START_TOKEN, self.END_TOKEN, self.UNK_TOKEN] +\n",
    "                 [w for w,c in top_counts])\n",
    "\n",
    "        # Assign an id to each word, by frequency\n",
    "        self.id_to_word = dict(enumerate(vocab))\n",
    "        self.word_to_id = {v:k for k,v in self.id_to_word.items()}\n",
    "        self.size = len(self.id_to_word)\n",
    "        if size is not None:\n",
    "            assert(self.size <= size)\n",
    "\n",
    "        # For convenience\n",
    "        self.wordset = set(self.word_to_id.keys())\n",
    "\n",
    "        # Store special IDs\n",
    "        self.START_ID = self.word_to_id[self.START_TOKEN]\n",
    "        self.END_ID = self.word_to_id[self.END_TOKEN]\n",
    "        self.UNK_ID = self.word_to_id[self.UNK_TOKEN]\n",
    "\n",
    "    def words_to_ids(self, words):\n",
    "        return [self.word_to_id.get(w, self.UNK_ID) for w in words]\n",
    "\n",
    "    def ids_to_words(self, ids):\n",
    "        return [self.id_to_word[i] for i in ids]\n",
    "\n",
    "    def sentence_to_ids(self, words):\n",
    "        return [self.START_ID] + self.words_to_ids(words) + [self.END_ID]\n",
    "\n",
    "    def ordered_words(self):\n",
    "        \"\"\"Return a list of words, ordered by id.\"\"\"\n",
    "        return self.ids_to_words(range(self.size))"
   ]
  },
  {
   "cell_type": "code",
   "execution_count": 81,
   "metadata": {},
   "outputs": [],
   "source": [
    "#tokenize\n",
    "token_feed_unigram = (word for news in data['news_unigrams'] for word in news)\n",
    "token_feed_bigram = (word for news in data['news_bigrams'] for word in news)\n",
    "vocab_unigram = Vocabulary(token_feed_unigram)\n",
    "vocab_bigram = Vocabulary(token_feed_bigram)\n",
    "\n",
    "token_feed_unigram_orig = (word for news in data['orig_unigrams'] for word in news)\n",
    "token_feed_bigram_orig = (word for news in data['orig_bigrams'] for word in news)\n",
    "vocab_unigram_orig = Vocabulary(token_feed_unigram_orig)\n",
    "vocab_bigram_orig = Vocabulary(token_feed_bigram_orig)"
   ]
  },
  {
   "cell_type": "code",
   "execution_count": 82,
   "metadata": {},
   "outputs": [],
   "source": [
    "#encoding\n",
    "encoded_unigram = [collections.Counter(vocab_unigram.words_to_ids(x)) for x in data['news_unigrams']]\n",
    "encoded_bigram = [collections.Counter(vocab_bigram.words_to_ids(x)) for x in data['news_bigrams']]\n",
    "encoded_unigram_orig = [collections.Counter(vocab_unigram_orig.words_to_ids(x)) for x in data['orig_unigrams']]\n",
    "encoded_bigram_orig = [collections.Counter(vocab_bigram_orig.words_to_ids(x)) for x in data['orig_bigrams']]"
   ]
  },
  {
   "cell_type": "code",
   "execution_count": 38,
   "metadata": {
    "scrolled": true
   },
   "outputs": [
    {
     "data": {
      "text/html": [
       "<div>\n",
       "<style>\n",
       "    .dataframe thead tr:only-child th {\n",
       "        text-align: right;\n",
       "    }\n",
       "\n",
       "    .dataframe thead th {\n",
       "        text-align: left;\n",
       "    }\n",
       "\n",
       "    .dataframe tbody tr th {\n",
       "        vertical-align: top;\n",
       "    }\n",
       "</style>\n",
       "<table border=\"1\" class=\"dataframe\">\n",
       "  <thead>\n",
       "    <tr style=\"text-align: right;\">\n",
       "      <th></th>\n",
       "      <th>Player</th>\n",
       "      <th>Team</th>\n",
       "      <th>Position</th>\n",
       "      <th>Year</th>\n",
       "      <th>Week</th>\n",
       "      <th>Points</th>\n",
       "      <th>SeasonPoints</th>\n",
       "      <th>AvgSeasonPoints</th>\n",
       "      <th>AvgWkPoints</th>\n",
       "      <th>Prev_Avg_Points</th>\n",
       "      <th>...</th>\n",
       "      <th>date</th>\n",
       "      <th>headline</th>\n",
       "      <th>name</th>\n",
       "      <th>news</th>\n",
       "      <th>team</th>\n",
       "      <th>news_clean</th>\n",
       "      <th>news_unigrams</th>\n",
       "      <th>news_bigrams</th>\n",
       "      <th>orig_unigrams</th>\n",
       "      <th>orig_bigrams</th>\n",
       "    </tr>\n",
       "  </thead>\n",
       "  <tbody>\n",
       "    <tr>\n",
       "      <th>20</th>\n",
       "      <td>Drew Brees</td>\n",
       "      <td>NO</td>\n",
       "      <td>QB</td>\n",
       "      <td>2016</td>\n",
       "      <td>1</td>\n",
       "      <td>37.7</td>\n",
       "      <td>338.5</td>\n",
       "      <td>19.911765</td>\n",
       "      <td>21.15625</td>\n",
       "      <td>NaN</td>\n",
       "      <td>...</td>\n",
       "      <td>2016-09-11 04:33:00</td>\n",
       "      <td>Drew Brees completed 28-of-42 passes for 424 y...</td>\n",
       "      <td>Drew Brees</td>\n",
       "      <td>\\n             Aside from an early lost fumble...</td>\n",
       "      <td>Saints</td>\n",
       "      <td>Aside early lost fumble self played quarterbac...</td>\n",
       "      <td>[aside, early, lost, fumble, self, played, qua...</td>\n",
       "      <td>[aside early, the highlight, bumbling defense,...</td>\n",
       "      <td>[aside, early, lost, fumble, ,, brees, played,...</td>\n",
       "      <td>[, brees, . the, aside from, brees played, the...</td>\n",
       "    </tr>\n",
       "    <tr>\n",
       "      <th>21</th>\n",
       "      <td>Drew Brees</td>\n",
       "      <td>NO</td>\n",
       "      <td>QB</td>\n",
       "      <td>2016</td>\n",
       "      <td>1</td>\n",
       "      <td>37.7</td>\n",
       "      <td>338.5</td>\n",
       "      <td>19.911765</td>\n",
       "      <td>21.15625</td>\n",
       "      <td>NaN</td>\n",
       "      <td>...</td>\n",
       "      <td>2016-09-08 11:56:00</td>\n",
       "      <td>Drew Brees got a $30 million signing bonus on ...</td>\n",
       "      <td>Drew Brees</td>\n",
       "      <td>\\n             That bonus will be spread out a...</td>\n",
       "      <td>Saints</td>\n",
       "      <td>That bonus spread across next five years ownte...</td>\n",
       "      <td>[bonus, spread, across, next, five, years, own...</td>\n",
       "      <td>[that bonus, the entire, across next, base sal...</td>\n",
       "      <td>[bonus, spread, across, next, five, years, sai...</td>\n",
       "      <td>[, lowering, that bonus, the entire, a $, base...</td>\n",
       "    </tr>\n",
       "    <tr>\n",
       "      <th>57</th>\n",
       "      <td>Drew Brees</td>\n",
       "      <td>NO</td>\n",
       "      <td>QB</td>\n",
       "      <td>2016</td>\n",
       "      <td>2</td>\n",
       "      <td>14.5</td>\n",
       "      <td>338.5</td>\n",
       "      <td>19.911765</td>\n",
       "      <td>21.15625</td>\n",
       "      <td>37.700000</td>\n",
       "      <td>...</td>\n",
       "      <td>2016-09-18 05:32:00</td>\n",
       "      <td>Drew Brees completed 29-of-44 passes for 263 y...</td>\n",
       "      <td>Drew Brees</td>\n",
       "      <td>\\n             Brees got off to a very slow st...</td>\n",
       "      <td>Saints</td>\n",
       "      <td>self got slow start averaging five yards per a...</td>\n",
       "      <td>[self, got, slow, start, averaging, five, yard...</td>\n",
       "      <td>[atlanta next, giants put, he didnt, it quiet,...</td>\n",
       "      <td>[brees, got, slow, start, ,, averaging, five, ...</td>\n",
       "      <td>[3 at, atlanta next, giants put, he didn, it w...</td>\n",
       "    </tr>\n",
       "    <tr>\n",
       "      <th>94</th>\n",
       "      <td>Drew Brees</td>\n",
       "      <td>NO</td>\n",
       "      <td>QB</td>\n",
       "      <td>2016</td>\n",
       "      <td>3</td>\n",
       "      <td>25.9</td>\n",
       "      <td>338.5</td>\n",
       "      <td>19.911765</td>\n",
       "      <td>21.15625</td>\n",
       "      <td>26.100000</td>\n",
       "      <td>...</td>\n",
       "      <td>2016-09-27 12:01:00</td>\n",
       "      <td>Drew Brees completed 36-of-54 passes for 376 y...</td>\n",
       "      <td>Drew Brees</td>\n",
       "      <td>\\n             Unfortunately for the Saints, t...</td>\n",
       "      <td>Saints</td>\n",
       "      <td>Unfortunately ownteam defense couldnt stop Fal...</td>\n",
       "      <td>[unfortunately, ownteam, defense, couldnt, sto...</td>\n",
       "      <td>[coby fleener, diego week, fleener two, ingram...</td>\n",
       "      <td>[unfortunately, saints, ,, defense, ', stop, f...</td>\n",
       "      <td>[305 pass, coby fleener, mark ingram, michael ...</td>\n",
       "    </tr>\n",
       "    <tr>\n",
       "      <th>131</th>\n",
       "      <td>Drew Brees</td>\n",
       "      <td>NO</td>\n",
       "      <td>QB</td>\n",
       "      <td>2016</td>\n",
       "      <td>4</td>\n",
       "      <td>11.8</td>\n",
       "      <td>338.5</td>\n",
       "      <td>19.911765</td>\n",
       "      <td>21.15625</td>\n",
       "      <td>26.033333</td>\n",
       "      <td>...</td>\n",
       "      <td>2016-10-02 08:25:00</td>\n",
       "      <td>Drew Brees completed 23-of-36 passes for 206 y...</td>\n",
       "      <td>Drew Brees</td>\n",
       "      <td>\\n             It was not a vintage performanc...</td>\n",
       "      <td>Saints</td>\n",
       "      <td>It vintage performance self He struggled accur...</td>\n",
       "      <td>[vintage, performance, self, struggled, accura...</td>\n",
       "      <td>[chargers gifted, it vintage, panthers home, q...</td>\n",
       "      <td>[vintage, performance, brees, ., struggled, ac...</td>\n",
       "      <td>[072 yards, 40 touchdowns, chargers gifted, it...</td>\n",
       "    </tr>\n",
       "  </tbody>\n",
       "</table>\n",
       "<p>5 rows × 25 columns</p>\n",
       "</div>"
      ],
      "text/plain": [
       "         Player Team Position  Year  Week  Points  SeasonPoints  \\\n",
       "20   Drew Brees   NO       QB  2016     1    37.7         338.5   \n",
       "21   Drew Brees   NO       QB  2016     1    37.7         338.5   \n",
       "57   Drew Brees   NO       QB  2016     2    14.5         338.5   \n",
       "94   Drew Brees   NO       QB  2016     3    25.9         338.5   \n",
       "131  Drew Brees   NO       QB  2016     4    11.8         338.5   \n",
       "\n",
       "     AvgSeasonPoints  AvgWkPoints  Prev_Avg_Points  \\\n",
       "20         19.911765     21.15625              NaN   \n",
       "21         19.911765     21.15625              NaN   \n",
       "57         19.911765     21.15625        37.700000   \n",
       "94         19.911765     21.15625        26.100000   \n",
       "131        19.911765     21.15625        26.033333   \n",
       "\n",
       "                           ...                                        date  \\\n",
       "20                         ...                         2016-09-11 04:33:00   \n",
       "21                         ...                         2016-09-08 11:56:00   \n",
       "57                         ...                         2016-09-18 05:32:00   \n",
       "94                         ...                         2016-09-27 12:01:00   \n",
       "131                        ...                         2016-10-02 08:25:00   \n",
       "\n",
       "                                              headline        name  \\\n",
       "20   Drew Brees completed 28-of-42 passes for 424 y...  Drew Brees   \n",
       "21   Drew Brees got a $30 million signing bonus on ...  Drew Brees   \n",
       "57   Drew Brees completed 29-of-44 passes for 263 y...  Drew Brees   \n",
       "94   Drew Brees completed 36-of-54 passes for 376 y...  Drew Brees   \n",
       "131  Drew Brees completed 23-of-36 passes for 206 y...  Drew Brees   \n",
       "\n",
       "                                                  news    team  \\\n",
       "20   \\n             Aside from an early lost fumble...  Saints   \n",
       "21   \\n             That bonus will be spread out a...  Saints   \n",
       "57   \\n             Brees got off to a very slow st...  Saints   \n",
       "94   \\n             Unfortunately for the Saints, t...  Saints   \n",
       "131  \\n             It was not a vintage performanc...  Saints   \n",
       "\n",
       "                                            news_clean  \\\n",
       "20   Aside early lost fumble self played quarterbac...   \n",
       "21   That bonus spread across next five years ownte...   \n",
       "57   self got slow start averaging five yards per a...   \n",
       "94   Unfortunately ownteam defense couldnt stop Fal...   \n",
       "131  It vintage performance self He struggled accur...   \n",
       "\n",
       "                                         news_unigrams  \\\n",
       "20   [aside, early, lost, fumble, self, played, qua...   \n",
       "21   [bonus, spread, across, next, five, years, own...   \n",
       "57   [self, got, slow, start, averaging, five, yard...   \n",
       "94   [unfortunately, ownteam, defense, couldnt, sto...   \n",
       "131  [vintage, performance, self, struggled, accura...   \n",
       "\n",
       "                                          news_bigrams  \\\n",
       "20   [aside early, the highlight, bumbling defense,...   \n",
       "21   [that bonus, the entire, across next, base sal...   \n",
       "57   [atlanta next, giants put, he didnt, it quiet,...   \n",
       "94   [coby fleener, diego week, fleener two, ingram...   \n",
       "131  [chargers gifted, it vintage, panthers home, q...   \n",
       "\n",
       "                                         orig_unigrams  \\\n",
       "20   [aside, early, lost, fumble, ,, brees, played,...   \n",
       "21   [bonus, spread, across, next, five, years, sai...   \n",
       "57   [brees, got, slow, start, ,, averaging, five, ...   \n",
       "94   [unfortunately, saints, ,, defense, ', stop, f...   \n",
       "131  [vintage, performance, brees, ., struggled, ac...   \n",
       "\n",
       "                                          orig_bigrams  \n",
       "20   [, brees, . the, aside from, brees played, the...  \n",
       "21   [, lowering, that bonus, the entire, a $, base...  \n",
       "57   [3 at, atlanta next, giants put, he didn, it w...  \n",
       "94   [305 pass, coby fleener, mark ingram, michael ...  \n",
       "131  [072 yards, 40 touchdowns, chargers gifted, it...  \n",
       "\n",
       "[5 rows x 25 columns]"
      ]
     },
     "execution_count": 38,
     "metadata": {},
     "output_type": "execute_result"
    }
   ],
   "source": [
    "data.head()"
   ]
  },
  {
   "cell_type": "code",
   "execution_count": 119,
   "metadata": {},
   "outputs": [],
   "source": [
    "#Sparse matrix\n",
    "#Processed Unigram\n",
    "row = []\n",
    "col = []\n",
    "val = []\n",
    "for x, count in enumerate(encoded_unigram):\n",
    "    for y, z in count.items():\n",
    "        row.append(x)\n",
    "        col.append(y)\n",
    "        val.append(z)\n",
    "row = np.array(row)\n",
    "col = np.array(col)\n",
    "val = np.array(val)\n",
    "encoded_unigram_sparse = csr_matrix((val, (row, col)), shape=(len(encoded_unigram), vocab_unigram.size))\n",
    "#Processed Bigram\n",
    "row = []\n",
    "col = []\n",
    "val = []\n",
    "for x, count in enumerate(encoded_bigram):\n",
    "    for y, z in count.items():\n",
    "        row.append(x)\n",
    "        col.append(y)\n",
    "        val.append(z)\n",
    "row = np.array(row)\n",
    "col = np.array(col)\n",
    "val = np.array(val)\n",
    "encoded_bigram_sparse = csr_matrix((val, (row, col)), shape=(len(encoded_bigram), vocab_bigram.size))\n",
    "\n",
    "#Original Unigram\n",
    "row = []\n",
    "col = []\n",
    "val = []\n",
    "for x, count in enumerate(encoded_unigram_orig):\n",
    "    for y, z in count.items():\n",
    "        row.append(x)\n",
    "        col.append(y)\n",
    "        val.append(z)\n",
    "row = np.array(row)\n",
    "col = np.array(col)\n",
    "val = np.array(val)\n",
    "encoded_unigram_orig_sparse = csr_matrix((val, (row, col)), shape=(len(encoded_unigram_orig), vocab_unigram_orig.size))\n",
    "\n",
    "#Original Bigram\n",
    "row = []\n",
    "col = []\n",
    "val = []\n",
    "for x, count in enumerate(encoded_bigram_orig):\n",
    "    for y, z in count.items():\n",
    "        row.append(x)\n",
    "        col.append(y)\n",
    "        val.append(z)\n",
    "row = np.array(row)\n",
    "col = np.array(col)\n",
    "val = np.array(val)\n",
    "encoded_bigram_orig_sparse = csr_matrix((val, (row, col)), shape=(len(encoded_bigram_orig), vocab_bigram_orig.size))"
   ]
  },
  {
   "cell_type": "code",
   "execution_count": 120,
   "metadata": {},
   "outputs": [
    {
     "name": "stderr",
     "output_type": "stream",
     "text": [
      "C:\\Users\\Jason\\Anaconda3\\lib\\site-packages\\sklearn\\metrics\\scorer.py:100: DeprecationWarning: Scoring method mean_squared_error was renamed to neg_mean_squared_error in version 0.18 and will be removed in 0.20.\n",
      "  sample_weight=sample_weight)\n",
      "C:\\Users\\Jason\\Anaconda3\\lib\\site-packages\\sklearn\\metrics\\scorer.py:100: DeprecationWarning: Scoring method mean_squared_error was renamed to neg_mean_squared_error in version 0.18 and will be removed in 0.20.\n",
      "  sample_weight=sample_weight)\n",
      "C:\\Users\\Jason\\Anaconda3\\lib\\site-packages\\sklearn\\metrics\\scorer.py:100: DeprecationWarning: Scoring method mean_squared_error was renamed to neg_mean_squared_error in version 0.18 and will be removed in 0.20.\n",
      "  sample_weight=sample_weight)\n",
      "C:\\Users\\Jason\\Anaconda3\\lib\\site-packages\\sklearn\\metrics\\scorer.py:100: DeprecationWarning: Scoring method mean_squared_error was renamed to neg_mean_squared_error in version 0.18 and will be removed in 0.20.\n",
      "  sample_weight=sample_weight)\n",
      "C:\\Users\\Jason\\Anaconda3\\lib\\site-packages\\sklearn\\metrics\\scorer.py:100: DeprecationWarning: Scoring method mean_squared_error was renamed to neg_mean_squared_error in version 0.18 and will be removed in 0.20.\n",
      "  sample_weight=sample_weight)\n",
      "C:\\Users\\Jason\\Anaconda3\\lib\\site-packages\\sklearn\\metrics\\scorer.py:100: DeprecationWarning: Scoring method mean_squared_error was renamed to neg_mean_squared_error in version 0.18 and will be removed in 0.20.\n",
      "  sample_weight=sample_weight)\n",
      "C:\\Users\\Jason\\Anaconda3\\lib\\site-packages\\sklearn\\metrics\\scorer.py:100: DeprecationWarning: Scoring method mean_squared_error was renamed to neg_mean_squared_error in version 0.18 and will be removed in 0.20.\n",
      "  sample_weight=sample_weight)\n",
      "C:\\Users\\Jason\\Anaconda3\\lib\\site-packages\\sklearn\\metrics\\scorer.py:100: DeprecationWarning: Scoring method mean_squared_error was renamed to neg_mean_squared_error in version 0.18 and will be removed in 0.20.\n",
      "  sample_weight=sample_weight)\n",
      "C:\\Users\\Jason\\Anaconda3\\lib\\site-packages\\sklearn\\metrics\\scorer.py:100: DeprecationWarning: Scoring method mean_squared_error was renamed to neg_mean_squared_error in version 0.18 and will be removed in 0.20.\n",
      "  sample_weight=sample_weight)\n",
      "C:\\Users\\Jason\\Anaconda3\\lib\\site-packages\\sklearn\\metrics\\scorer.py:100: DeprecationWarning: Scoring method mean_squared_error was renamed to neg_mean_squared_error in version 0.18 and will be removed in 0.20.\n",
      "  sample_weight=sample_weight)\n"
     ]
    },
    {
     "data": {
      "text/plain": [
       "GridSearchCV(cv=5, error_score='raise',\n",
       "       estimator=LinearSVR(C=1.0, dual=True, epsilon=0.0, fit_intercept=True,\n",
       "     intercept_scaling=1.0, loss='epsilon_insensitive', max_iter=1000,\n",
       "     random_state=None, tol=0.0001, verbose=0),\n",
       "       fit_params=None, iid=True, n_jobs=1,\n",
       "       param_grid={'C': [5000.0], 'epsilon': [0.01]},\n",
       "       pre_dispatch='2*n_jobs', refit=True, return_train_score='warn',\n",
       "       scoring='mean_squared_error', verbose=0)"
      ]
     },
     "execution_count": 120,
     "metadata": {},
     "output_type": "execute_result"
    }
   ],
   "source": [
    "#Unigram Counts No preprocessing\n",
    "SVM = LinearSVR()\n",
    "params = {'C': [5e3],\n",
    "        'epsilon': [0.01], }\n",
    "grid = GridSearchCV(SVM, params, cv=5, scoring='mean_squared_error')\n",
    "grid.fit(encoded_unigram_orig_sparse, data['Diff_from_PrevWkAvg'])"
   ]
  },
  {
   "cell_type": "code",
   "execution_count": 121,
   "metadata": {},
   "outputs": [
    {
     "name": "stderr",
     "output_type": "stream",
     "text": [
      "C:\\Users\\Jason\\Anaconda3\\lib\\site-packages\\sklearn\\metrics\\scorer.py:100: DeprecationWarning: Scoring method mean_squared_error was renamed to neg_mean_squared_error in version 0.18 and will be removed in 0.20.\n",
      "  sample_weight=sample_weight)\n",
      "C:\\Users\\Jason\\Anaconda3\\lib\\site-packages\\sklearn\\metrics\\scorer.py:100: DeprecationWarning: Scoring method mean_squared_error was renamed to neg_mean_squared_error in version 0.18 and will be removed in 0.20.\n",
      "  sample_weight=sample_weight)\n",
      "C:\\Users\\Jason\\Anaconda3\\lib\\site-packages\\sklearn\\metrics\\scorer.py:100: DeprecationWarning: Scoring method mean_squared_error was renamed to neg_mean_squared_error in version 0.18 and will be removed in 0.20.\n",
      "  sample_weight=sample_weight)\n",
      "C:\\Users\\Jason\\Anaconda3\\lib\\site-packages\\sklearn\\metrics\\scorer.py:100: DeprecationWarning: Scoring method mean_squared_error was renamed to neg_mean_squared_error in version 0.18 and will be removed in 0.20.\n",
      "  sample_weight=sample_weight)\n",
      "C:\\Users\\Jason\\Anaconda3\\lib\\site-packages\\sklearn\\metrics\\scorer.py:100: DeprecationWarning: Scoring method mean_squared_error was renamed to neg_mean_squared_error in version 0.18 and will be removed in 0.20.\n",
      "  sample_weight=sample_weight)\n",
      "C:\\Users\\Jason\\Anaconda3\\lib\\site-packages\\sklearn\\metrics\\scorer.py:100: DeprecationWarning: Scoring method mean_squared_error was renamed to neg_mean_squared_error in version 0.18 and will be removed in 0.20.\n",
      "  sample_weight=sample_weight)\n",
      "C:\\Users\\Jason\\Anaconda3\\lib\\site-packages\\sklearn\\metrics\\scorer.py:100: DeprecationWarning: Scoring method mean_squared_error was renamed to neg_mean_squared_error in version 0.18 and will be removed in 0.20.\n",
      "  sample_weight=sample_weight)\n",
      "C:\\Users\\Jason\\Anaconda3\\lib\\site-packages\\sklearn\\metrics\\scorer.py:100: DeprecationWarning: Scoring method mean_squared_error was renamed to neg_mean_squared_error in version 0.18 and will be removed in 0.20.\n",
      "  sample_weight=sample_weight)\n",
      "C:\\Users\\Jason\\Anaconda3\\lib\\site-packages\\sklearn\\metrics\\scorer.py:100: DeprecationWarning: Scoring method mean_squared_error was renamed to neg_mean_squared_error in version 0.18 and will be removed in 0.20.\n",
      "  sample_weight=sample_weight)\n",
      "C:\\Users\\Jason\\Anaconda3\\lib\\site-packages\\sklearn\\metrics\\scorer.py:100: DeprecationWarning: Scoring method mean_squared_error was renamed to neg_mean_squared_error in version 0.18 and will be removed in 0.20.\n",
      "  sample_weight=sample_weight)\n"
     ]
    },
    {
     "data": {
      "text/plain": [
       "GridSearchCV(cv=5, error_score='raise',\n",
       "       estimator=LinearSVR(C=1.0, dual=True, epsilon=0.0, fit_intercept=True,\n",
       "     intercept_scaling=1.0, loss='epsilon_insensitive', max_iter=1000,\n",
       "     random_state=None, tol=0.0001, verbose=0),\n",
       "       fit_params=None, iid=True, n_jobs=1,\n",
       "       param_grid={'C': [5000.0], 'epsilon': [0.01]},\n",
       "       pre_dispatch='2*n_jobs', refit=True, return_train_score='warn',\n",
       "       scoring='mean_squared_error', verbose=0)"
      ]
     },
     "execution_count": 121,
     "metadata": {},
     "output_type": "execute_result"
    }
   ],
   "source": [
    "#Bigram Counts No Preprocessing\n",
    "SVM = LinearSVR()\n",
    "params = {'C': [5e3],\n",
    "        'epsilon': [0.01]}\n",
    "grid2 = GridSearchCV(SVM, params, cv=5, scoring='mean_squared_error')\n",
    "grid2.fit(encoded_bigram_orig_sparse, data['Diff_from_PrevWkAvg'])"
   ]
  },
  {
   "cell_type": "code",
   "execution_count": 122,
   "metadata": {},
   "outputs": [
    {
     "name": "stderr",
     "output_type": "stream",
     "text": [
      "C:\\Users\\Jason\\Anaconda3\\lib\\site-packages\\sklearn\\metrics\\scorer.py:100: DeprecationWarning: Scoring method mean_squared_error was renamed to neg_mean_squared_error in version 0.18 and will be removed in 0.20.\n",
      "  sample_weight=sample_weight)\n",
      "C:\\Users\\Jason\\Anaconda3\\lib\\site-packages\\sklearn\\metrics\\scorer.py:100: DeprecationWarning: Scoring method mean_squared_error was renamed to neg_mean_squared_error in version 0.18 and will be removed in 0.20.\n",
      "  sample_weight=sample_weight)\n",
      "C:\\Users\\Jason\\Anaconda3\\lib\\site-packages\\sklearn\\metrics\\scorer.py:100: DeprecationWarning: Scoring method mean_squared_error was renamed to neg_mean_squared_error in version 0.18 and will be removed in 0.20.\n",
      "  sample_weight=sample_weight)\n",
      "C:\\Users\\Jason\\Anaconda3\\lib\\site-packages\\sklearn\\metrics\\scorer.py:100: DeprecationWarning: Scoring method mean_squared_error was renamed to neg_mean_squared_error in version 0.18 and will be removed in 0.20.\n",
      "  sample_weight=sample_weight)\n",
      "C:\\Users\\Jason\\Anaconda3\\lib\\site-packages\\sklearn\\metrics\\scorer.py:100: DeprecationWarning: Scoring method mean_squared_error was renamed to neg_mean_squared_error in version 0.18 and will be removed in 0.20.\n",
      "  sample_weight=sample_weight)\n",
      "C:\\Users\\Jason\\Anaconda3\\lib\\site-packages\\sklearn\\metrics\\scorer.py:100: DeprecationWarning: Scoring method mean_squared_error was renamed to neg_mean_squared_error in version 0.18 and will be removed in 0.20.\n",
      "  sample_weight=sample_weight)\n",
      "C:\\Users\\Jason\\Anaconda3\\lib\\site-packages\\sklearn\\metrics\\scorer.py:100: DeprecationWarning: Scoring method mean_squared_error was renamed to neg_mean_squared_error in version 0.18 and will be removed in 0.20.\n",
      "  sample_weight=sample_weight)\n",
      "C:\\Users\\Jason\\Anaconda3\\lib\\site-packages\\sklearn\\metrics\\scorer.py:100: DeprecationWarning: Scoring method mean_squared_error was renamed to neg_mean_squared_error in version 0.18 and will be removed in 0.20.\n",
      "  sample_weight=sample_weight)\n",
      "C:\\Users\\Jason\\Anaconda3\\lib\\site-packages\\sklearn\\metrics\\scorer.py:100: DeprecationWarning: Scoring method mean_squared_error was renamed to neg_mean_squared_error in version 0.18 and will be removed in 0.20.\n",
      "  sample_weight=sample_weight)\n",
      "C:\\Users\\Jason\\Anaconda3\\lib\\site-packages\\sklearn\\metrics\\scorer.py:100: DeprecationWarning: Scoring method mean_squared_error was renamed to neg_mean_squared_error in version 0.18 and will be removed in 0.20.\n",
      "  sample_weight=sample_weight)\n"
     ]
    },
    {
     "data": {
      "text/plain": [
       "GridSearchCV(cv=5, error_score='raise',\n",
       "       estimator=LinearSVR(C=1.0, dual=True, epsilon=0.0, fit_intercept=True,\n",
       "     intercept_scaling=1.0, loss='epsilon_insensitive', max_iter=1000,\n",
       "     random_state=None, tol=0.0001, verbose=0),\n",
       "       fit_params=None, iid=True, n_jobs=1,\n",
       "       param_grid={'C': [5000.0], 'epsilon': [0.01]},\n",
       "       pre_dispatch='2*n_jobs', refit=True, return_train_score='warn',\n",
       "       scoring='mean_squared_error', verbose=0)"
      ]
     },
     "execution_count": 122,
     "metadata": {},
     "output_type": "execute_result"
    }
   ],
   "source": [
    "#Unigram Counts With preprocessing\n",
    "SVM = LinearSVR()\n",
    "params = {'C': [5e3],\n",
    "        'epsilon': [0.01]}\n",
    "grid3 = GridSearchCV(SVM, params, cv=5, scoring='mean_squared_error')\n",
    "grid3.fit(encoded_unigram_sparse, data['Diff_from_PrevWkAvg'])"
   ]
  },
  {
   "cell_type": "code",
   "execution_count": 123,
   "metadata": {},
   "outputs": [
    {
     "name": "stderr",
     "output_type": "stream",
     "text": [
      "C:\\Users\\Jason\\Anaconda3\\lib\\site-packages\\sklearn\\metrics\\scorer.py:100: DeprecationWarning: Scoring method mean_squared_error was renamed to neg_mean_squared_error in version 0.18 and will be removed in 0.20.\n",
      "  sample_weight=sample_weight)\n",
      "C:\\Users\\Jason\\Anaconda3\\lib\\site-packages\\sklearn\\metrics\\scorer.py:100: DeprecationWarning: Scoring method mean_squared_error was renamed to neg_mean_squared_error in version 0.18 and will be removed in 0.20.\n",
      "  sample_weight=sample_weight)\n",
      "C:\\Users\\Jason\\Anaconda3\\lib\\site-packages\\sklearn\\metrics\\scorer.py:100: DeprecationWarning: Scoring method mean_squared_error was renamed to neg_mean_squared_error in version 0.18 and will be removed in 0.20.\n",
      "  sample_weight=sample_weight)\n",
      "C:\\Users\\Jason\\Anaconda3\\lib\\site-packages\\sklearn\\metrics\\scorer.py:100: DeprecationWarning: Scoring method mean_squared_error was renamed to neg_mean_squared_error in version 0.18 and will be removed in 0.20.\n",
      "  sample_weight=sample_weight)\n",
      "C:\\Users\\Jason\\Anaconda3\\lib\\site-packages\\sklearn\\metrics\\scorer.py:100: DeprecationWarning: Scoring method mean_squared_error was renamed to neg_mean_squared_error in version 0.18 and will be removed in 0.20.\n",
      "  sample_weight=sample_weight)\n",
      "C:\\Users\\Jason\\Anaconda3\\lib\\site-packages\\sklearn\\metrics\\scorer.py:100: DeprecationWarning: Scoring method mean_squared_error was renamed to neg_mean_squared_error in version 0.18 and will be removed in 0.20.\n",
      "  sample_weight=sample_weight)\n",
      "C:\\Users\\Jason\\Anaconda3\\lib\\site-packages\\sklearn\\metrics\\scorer.py:100: DeprecationWarning: Scoring method mean_squared_error was renamed to neg_mean_squared_error in version 0.18 and will be removed in 0.20.\n",
      "  sample_weight=sample_weight)\n",
      "C:\\Users\\Jason\\Anaconda3\\lib\\site-packages\\sklearn\\metrics\\scorer.py:100: DeprecationWarning: Scoring method mean_squared_error was renamed to neg_mean_squared_error in version 0.18 and will be removed in 0.20.\n",
      "  sample_weight=sample_weight)\n",
      "C:\\Users\\Jason\\Anaconda3\\lib\\site-packages\\sklearn\\metrics\\scorer.py:100: DeprecationWarning: Scoring method mean_squared_error was renamed to neg_mean_squared_error in version 0.18 and will be removed in 0.20.\n",
      "  sample_weight=sample_weight)\n",
      "C:\\Users\\Jason\\Anaconda3\\lib\\site-packages\\sklearn\\metrics\\scorer.py:100: DeprecationWarning: Scoring method mean_squared_error was renamed to neg_mean_squared_error in version 0.18 and will be removed in 0.20.\n",
      "  sample_weight=sample_weight)\n"
     ]
    },
    {
     "data": {
      "text/plain": [
       "GridSearchCV(cv=5, error_score='raise',\n",
       "       estimator=LinearSVR(C=1.0, dual=True, epsilon=0.0, fit_intercept=True,\n",
       "     intercept_scaling=1.0, loss='epsilon_insensitive', max_iter=1000,\n",
       "     random_state=None, tol=0.0001, verbose=0),\n",
       "       fit_params=None, iid=True, n_jobs=1,\n",
       "       param_grid={'C': [5000.0], 'epsilon': [0.01]},\n",
       "       pre_dispatch='2*n_jobs', refit=True, return_train_score='warn',\n",
       "       scoring='mean_squared_error', verbose=0)"
      ]
     },
     "execution_count": 123,
     "metadata": {},
     "output_type": "execute_result"
    }
   ],
   "source": [
    "#Bigram Counts With Preprocessing\n",
    "SVM = LinearSVR()\n",
    "params = {'C': [5e3],\n",
    "        'epsilon': [0.01]}\n",
    "grid4 = GridSearchCV(SVM, params, cv=5, scoring='mean_squared_error')\n",
    "grid4.fit(encoded_bigram_sparse, data['Diff_from_PrevWkAvg'])"
   ]
  },
  {
   "cell_type": "code",
   "execution_count": 124,
   "metadata": {
    "collapsed": true
   },
   "outputs": [],
   "source": [
    "#Reencode all for presence instead of counts\n",
    "#Processed Unigram\n",
    "row = []\n",
    "col = []\n",
    "val = []\n",
    "for x, count in enumerate(encoded_unigram):\n",
    "    for y, z in count.items():\n",
    "        row.append(x)\n",
    "        col.append(y)\n",
    "        val.append(1)\n",
    "row = np.array(row)\n",
    "col = np.array(col)\n",
    "val = np.array(val)\n",
    "encoded_unigram_sparse = csr_matrix((val, (row, col)), shape=(len(encoded_unigram), vocab_unigram.size))\n",
    "#Processed Bigram\n",
    "row = []\n",
    "col = []\n",
    "val = []\n",
    "for x, count in enumerate(encoded_bigram):\n",
    "    for y, z in count.items():\n",
    "        row.append(x)\n",
    "        col.append(y)\n",
    "        val.append(1)\n",
    "row = np.array(row)\n",
    "col = np.array(col)\n",
    "val = np.array(val)\n",
    "encoded_bigram_sparse = csr_matrix((val, (row, col)), shape=(len(encoded_bigram), vocab_bigram.size))\n",
    "\n",
    "#Original Unigram\n",
    "row = []\n",
    "col = []\n",
    "val = []\n",
    "for x, count in enumerate(encoded_unigram_orig):\n",
    "    for y, z in count.items():\n",
    "        row.append(x)\n",
    "        col.append(y)\n",
    "        val.append(1)\n",
    "row = np.array(row)\n",
    "col = np.array(col)\n",
    "val = np.array(val)\n",
    "encoded_unigram_orig_sparse = csr_matrix((val, (row, col)), shape=(len(encoded_unigram_orig), vocab_unigram_orig.size))\n",
    "\n",
    "#Original Bigram\n",
    "row = []\n",
    "col = []\n",
    "val = []\n",
    "for x, count in enumerate(encoded_bigram_orig):\n",
    "    for y, z in count.items():\n",
    "        row.append(x)\n",
    "        col.append(y)\n",
    "        val.append(1)\n",
    "row = np.array(row)\n",
    "col = np.array(col)\n",
    "val = np.array(val)\n",
    "encoded_bigram_orig_sparse = csr_matrix((val, (row, col)), shape=(len(encoded_bigram_orig), vocab_bigram_orig.size))"
   ]
  },
  {
   "cell_type": "code",
   "execution_count": 125,
   "metadata": {},
   "outputs": [
    {
     "name": "stderr",
     "output_type": "stream",
     "text": [
      "C:\\Users\\Jason\\Anaconda3\\lib\\site-packages\\sklearn\\metrics\\scorer.py:100: DeprecationWarning: Scoring method mean_squared_error was renamed to neg_mean_squared_error in version 0.18 and will be removed in 0.20.\n",
      "  sample_weight=sample_weight)\n",
      "C:\\Users\\Jason\\Anaconda3\\lib\\site-packages\\sklearn\\metrics\\scorer.py:100: DeprecationWarning: Scoring method mean_squared_error was renamed to neg_mean_squared_error in version 0.18 and will be removed in 0.20.\n",
      "  sample_weight=sample_weight)\n",
      "C:\\Users\\Jason\\Anaconda3\\lib\\site-packages\\sklearn\\metrics\\scorer.py:100: DeprecationWarning: Scoring method mean_squared_error was renamed to neg_mean_squared_error in version 0.18 and will be removed in 0.20.\n",
      "  sample_weight=sample_weight)\n",
      "C:\\Users\\Jason\\Anaconda3\\lib\\site-packages\\sklearn\\metrics\\scorer.py:100: DeprecationWarning: Scoring method mean_squared_error was renamed to neg_mean_squared_error in version 0.18 and will be removed in 0.20.\n",
      "  sample_weight=sample_weight)\n",
      "C:\\Users\\Jason\\Anaconda3\\lib\\site-packages\\sklearn\\metrics\\scorer.py:100: DeprecationWarning: Scoring method mean_squared_error was renamed to neg_mean_squared_error in version 0.18 and will be removed in 0.20.\n",
      "  sample_weight=sample_weight)\n",
      "C:\\Users\\Jason\\Anaconda3\\lib\\site-packages\\sklearn\\metrics\\scorer.py:100: DeprecationWarning: Scoring method mean_squared_error was renamed to neg_mean_squared_error in version 0.18 and will be removed in 0.20.\n",
      "  sample_weight=sample_weight)\n",
      "C:\\Users\\Jason\\Anaconda3\\lib\\site-packages\\sklearn\\metrics\\scorer.py:100: DeprecationWarning: Scoring method mean_squared_error was renamed to neg_mean_squared_error in version 0.18 and will be removed in 0.20.\n",
      "  sample_weight=sample_weight)\n",
      "C:\\Users\\Jason\\Anaconda3\\lib\\site-packages\\sklearn\\metrics\\scorer.py:100: DeprecationWarning: Scoring method mean_squared_error was renamed to neg_mean_squared_error in version 0.18 and will be removed in 0.20.\n",
      "  sample_weight=sample_weight)\n",
      "C:\\Users\\Jason\\Anaconda3\\lib\\site-packages\\sklearn\\metrics\\scorer.py:100: DeprecationWarning: Scoring method mean_squared_error was renamed to neg_mean_squared_error in version 0.18 and will be removed in 0.20.\n",
      "  sample_weight=sample_weight)\n",
      "C:\\Users\\Jason\\Anaconda3\\lib\\site-packages\\sklearn\\metrics\\scorer.py:100: DeprecationWarning: Scoring method mean_squared_error was renamed to neg_mean_squared_error in version 0.18 and will be removed in 0.20.\n",
      "  sample_weight=sample_weight)\n"
     ]
    },
    {
     "data": {
      "text/plain": [
       "GridSearchCV(cv=5, error_score='raise',\n",
       "       estimator=LinearSVR(C=1.0, dual=True, epsilon=0.0, fit_intercept=True,\n",
       "     intercept_scaling=1.0, loss='epsilon_insensitive', max_iter=1000,\n",
       "     random_state=None, tol=0.0001, verbose=0),\n",
       "       fit_params=None, iid=True, n_jobs=1,\n",
       "       param_grid={'C': [5000.0], 'epsilon': [0.01]},\n",
       "       pre_dispatch='2*n_jobs', refit=True, return_train_score='warn',\n",
       "       scoring='mean_squared_error', verbose=0)"
      ]
     },
     "execution_count": 125,
     "metadata": {},
     "output_type": "execute_result"
    }
   ],
   "source": [
    "#Unigram Presence No preprocessing\n",
    "SVM = LinearSVR()\n",
    "params = {'C': [5e3],\n",
    "        'epsilon': [0.01]}\n",
    "grid5 = GridSearchCV(SVM, params, cv=5, scoring='mean_squared_error')\n",
    "grid5.fit(encoded_unigram_orig_sparse, data['Diff_from_PrevWkAvg'])"
   ]
  },
  {
   "cell_type": "code",
   "execution_count": 126,
   "metadata": {},
   "outputs": [
    {
     "name": "stderr",
     "output_type": "stream",
     "text": [
      "C:\\Users\\Jason\\Anaconda3\\lib\\site-packages\\sklearn\\metrics\\scorer.py:100: DeprecationWarning: Scoring method mean_squared_error was renamed to neg_mean_squared_error in version 0.18 and will be removed in 0.20.\n",
      "  sample_weight=sample_weight)\n",
      "C:\\Users\\Jason\\Anaconda3\\lib\\site-packages\\sklearn\\metrics\\scorer.py:100: DeprecationWarning: Scoring method mean_squared_error was renamed to neg_mean_squared_error in version 0.18 and will be removed in 0.20.\n",
      "  sample_weight=sample_weight)\n",
      "C:\\Users\\Jason\\Anaconda3\\lib\\site-packages\\sklearn\\metrics\\scorer.py:100: DeprecationWarning: Scoring method mean_squared_error was renamed to neg_mean_squared_error in version 0.18 and will be removed in 0.20.\n",
      "  sample_weight=sample_weight)\n",
      "C:\\Users\\Jason\\Anaconda3\\lib\\site-packages\\sklearn\\metrics\\scorer.py:100: DeprecationWarning: Scoring method mean_squared_error was renamed to neg_mean_squared_error in version 0.18 and will be removed in 0.20.\n",
      "  sample_weight=sample_weight)\n",
      "C:\\Users\\Jason\\Anaconda3\\lib\\site-packages\\sklearn\\metrics\\scorer.py:100: DeprecationWarning: Scoring method mean_squared_error was renamed to neg_mean_squared_error in version 0.18 and will be removed in 0.20.\n",
      "  sample_weight=sample_weight)\n",
      "C:\\Users\\Jason\\Anaconda3\\lib\\site-packages\\sklearn\\metrics\\scorer.py:100: DeprecationWarning: Scoring method mean_squared_error was renamed to neg_mean_squared_error in version 0.18 and will be removed in 0.20.\n",
      "  sample_weight=sample_weight)\n",
      "C:\\Users\\Jason\\Anaconda3\\lib\\site-packages\\sklearn\\metrics\\scorer.py:100: DeprecationWarning: Scoring method mean_squared_error was renamed to neg_mean_squared_error in version 0.18 and will be removed in 0.20.\n",
      "  sample_weight=sample_weight)\n",
      "C:\\Users\\Jason\\Anaconda3\\lib\\site-packages\\sklearn\\metrics\\scorer.py:100: DeprecationWarning: Scoring method mean_squared_error was renamed to neg_mean_squared_error in version 0.18 and will be removed in 0.20.\n",
      "  sample_weight=sample_weight)\n",
      "C:\\Users\\Jason\\Anaconda3\\lib\\site-packages\\sklearn\\metrics\\scorer.py:100: DeprecationWarning: Scoring method mean_squared_error was renamed to neg_mean_squared_error in version 0.18 and will be removed in 0.20.\n",
      "  sample_weight=sample_weight)\n",
      "C:\\Users\\Jason\\Anaconda3\\lib\\site-packages\\sklearn\\metrics\\scorer.py:100: DeprecationWarning: Scoring method mean_squared_error was renamed to neg_mean_squared_error in version 0.18 and will be removed in 0.20.\n",
      "  sample_weight=sample_weight)\n"
     ]
    },
    {
     "data": {
      "text/plain": [
       "GridSearchCV(cv=5, error_score='raise',\n",
       "       estimator=LinearSVR(C=1.0, dual=True, epsilon=0.0, fit_intercept=True,\n",
       "     intercept_scaling=1.0, loss='epsilon_insensitive', max_iter=1000,\n",
       "     random_state=None, tol=0.0001, verbose=0),\n",
       "       fit_params=None, iid=True, n_jobs=1,\n",
       "       param_grid={'C': [5000.0], 'epsilon': [0.01]},\n",
       "       pre_dispatch='2*n_jobs', refit=True, return_train_score='warn',\n",
       "       scoring='mean_squared_error', verbose=0)"
      ]
     },
     "execution_count": 126,
     "metadata": {},
     "output_type": "execute_result"
    }
   ],
   "source": [
    "#Bigram Presence No Preprocessing\n",
    "SVM = LinearSVR()\n",
    "params = {'C': [5e3],\n",
    "        'epsilon': [0.01]}\n",
    "grid6 = GridSearchCV(SVM, params, cv=5, scoring='mean_squared_error')\n",
    "grid6.fit(encoded_bigram_orig_sparse, data['Diff_from_PrevWkAvg'])"
   ]
  },
  {
   "cell_type": "code",
   "execution_count": 127,
   "metadata": {},
   "outputs": [
    {
     "name": "stderr",
     "output_type": "stream",
     "text": [
      "C:\\Users\\Jason\\Anaconda3\\lib\\site-packages\\sklearn\\metrics\\scorer.py:100: DeprecationWarning: Scoring method mean_squared_error was renamed to neg_mean_squared_error in version 0.18 and will be removed in 0.20.\n",
      "  sample_weight=sample_weight)\n",
      "C:\\Users\\Jason\\Anaconda3\\lib\\site-packages\\sklearn\\metrics\\scorer.py:100: DeprecationWarning: Scoring method mean_squared_error was renamed to neg_mean_squared_error in version 0.18 and will be removed in 0.20.\n",
      "  sample_weight=sample_weight)\n",
      "C:\\Users\\Jason\\Anaconda3\\lib\\site-packages\\sklearn\\metrics\\scorer.py:100: DeprecationWarning: Scoring method mean_squared_error was renamed to neg_mean_squared_error in version 0.18 and will be removed in 0.20.\n",
      "  sample_weight=sample_weight)\n",
      "C:\\Users\\Jason\\Anaconda3\\lib\\site-packages\\sklearn\\metrics\\scorer.py:100: DeprecationWarning: Scoring method mean_squared_error was renamed to neg_mean_squared_error in version 0.18 and will be removed in 0.20.\n",
      "  sample_weight=sample_weight)\n",
      "C:\\Users\\Jason\\Anaconda3\\lib\\site-packages\\sklearn\\metrics\\scorer.py:100: DeprecationWarning: Scoring method mean_squared_error was renamed to neg_mean_squared_error in version 0.18 and will be removed in 0.20.\n",
      "  sample_weight=sample_weight)\n",
      "C:\\Users\\Jason\\Anaconda3\\lib\\site-packages\\sklearn\\metrics\\scorer.py:100: DeprecationWarning: Scoring method mean_squared_error was renamed to neg_mean_squared_error in version 0.18 and will be removed in 0.20.\n",
      "  sample_weight=sample_weight)\n",
      "C:\\Users\\Jason\\Anaconda3\\lib\\site-packages\\sklearn\\metrics\\scorer.py:100: DeprecationWarning: Scoring method mean_squared_error was renamed to neg_mean_squared_error in version 0.18 and will be removed in 0.20.\n",
      "  sample_weight=sample_weight)\n",
      "C:\\Users\\Jason\\Anaconda3\\lib\\site-packages\\sklearn\\metrics\\scorer.py:100: DeprecationWarning: Scoring method mean_squared_error was renamed to neg_mean_squared_error in version 0.18 and will be removed in 0.20.\n",
      "  sample_weight=sample_weight)\n",
      "C:\\Users\\Jason\\Anaconda3\\lib\\site-packages\\sklearn\\metrics\\scorer.py:100: DeprecationWarning: Scoring method mean_squared_error was renamed to neg_mean_squared_error in version 0.18 and will be removed in 0.20.\n",
      "  sample_weight=sample_weight)\n",
      "C:\\Users\\Jason\\Anaconda3\\lib\\site-packages\\sklearn\\metrics\\scorer.py:100: DeprecationWarning: Scoring method mean_squared_error was renamed to neg_mean_squared_error in version 0.18 and will be removed in 0.20.\n",
      "  sample_weight=sample_weight)\n"
     ]
    },
    {
     "data": {
      "text/plain": [
       "GridSearchCV(cv=5, error_score='raise',\n",
       "       estimator=LinearSVR(C=1.0, dual=True, epsilon=0.0, fit_intercept=True,\n",
       "     intercept_scaling=1.0, loss='epsilon_insensitive', max_iter=1000,\n",
       "     random_state=None, tol=0.0001, verbose=0),\n",
       "       fit_params=None, iid=True, n_jobs=1,\n",
       "       param_grid={'C': [5000.0], 'epsilon': [0.01]},\n",
       "       pre_dispatch='2*n_jobs', refit=True, return_train_score='warn',\n",
       "       scoring='mean_squared_error', verbose=0)"
      ]
     },
     "execution_count": 127,
     "metadata": {},
     "output_type": "execute_result"
    }
   ],
   "source": [
    "#Unigram Presence With preprocessing\n",
    "SVM = LinearSVR()\n",
    "params = {'C': [5e3],\n",
    "        'epsilon': [0.01]}\n",
    "grid7 = GridSearchCV(SVM, params, cv=5, scoring='mean_squared_error')\n",
    "grid7.fit(encoded_unigram_sparse, data['Diff_from_PrevWkAvg'])"
   ]
  },
  {
   "cell_type": "code",
   "execution_count": 128,
   "metadata": {},
   "outputs": [
    {
     "name": "stderr",
     "output_type": "stream",
     "text": [
      "C:\\Users\\Jason\\Anaconda3\\lib\\site-packages\\sklearn\\metrics\\scorer.py:100: DeprecationWarning: Scoring method mean_squared_error was renamed to neg_mean_squared_error in version 0.18 and will be removed in 0.20.\n",
      "  sample_weight=sample_weight)\n",
      "C:\\Users\\Jason\\Anaconda3\\lib\\site-packages\\sklearn\\metrics\\scorer.py:100: DeprecationWarning: Scoring method mean_squared_error was renamed to neg_mean_squared_error in version 0.18 and will be removed in 0.20.\n",
      "  sample_weight=sample_weight)\n",
      "C:\\Users\\Jason\\Anaconda3\\lib\\site-packages\\sklearn\\metrics\\scorer.py:100: DeprecationWarning: Scoring method mean_squared_error was renamed to neg_mean_squared_error in version 0.18 and will be removed in 0.20.\n",
      "  sample_weight=sample_weight)\n",
      "C:\\Users\\Jason\\Anaconda3\\lib\\site-packages\\sklearn\\metrics\\scorer.py:100: DeprecationWarning: Scoring method mean_squared_error was renamed to neg_mean_squared_error in version 0.18 and will be removed in 0.20.\n",
      "  sample_weight=sample_weight)\n",
      "C:\\Users\\Jason\\Anaconda3\\lib\\site-packages\\sklearn\\metrics\\scorer.py:100: DeprecationWarning: Scoring method mean_squared_error was renamed to neg_mean_squared_error in version 0.18 and will be removed in 0.20.\n",
      "  sample_weight=sample_weight)\n",
      "C:\\Users\\Jason\\Anaconda3\\lib\\site-packages\\sklearn\\metrics\\scorer.py:100: DeprecationWarning: Scoring method mean_squared_error was renamed to neg_mean_squared_error in version 0.18 and will be removed in 0.20.\n",
      "  sample_weight=sample_weight)\n",
      "C:\\Users\\Jason\\Anaconda3\\lib\\site-packages\\sklearn\\metrics\\scorer.py:100: DeprecationWarning: Scoring method mean_squared_error was renamed to neg_mean_squared_error in version 0.18 and will be removed in 0.20.\n",
      "  sample_weight=sample_weight)\n",
      "C:\\Users\\Jason\\Anaconda3\\lib\\site-packages\\sklearn\\metrics\\scorer.py:100: DeprecationWarning: Scoring method mean_squared_error was renamed to neg_mean_squared_error in version 0.18 and will be removed in 0.20.\n",
      "  sample_weight=sample_weight)\n",
      "C:\\Users\\Jason\\Anaconda3\\lib\\site-packages\\sklearn\\metrics\\scorer.py:100: DeprecationWarning: Scoring method mean_squared_error was renamed to neg_mean_squared_error in version 0.18 and will be removed in 0.20.\n",
      "  sample_weight=sample_weight)\n",
      "C:\\Users\\Jason\\Anaconda3\\lib\\site-packages\\sklearn\\metrics\\scorer.py:100: DeprecationWarning: Scoring method mean_squared_error was renamed to neg_mean_squared_error in version 0.18 and will be removed in 0.20.\n",
      "  sample_weight=sample_weight)\n"
     ]
    },
    {
     "data": {
      "text/plain": [
       "GridSearchCV(cv=5, error_score='raise',\n",
       "       estimator=LinearSVR(C=1.0, dual=True, epsilon=0.0, fit_intercept=True,\n",
       "     intercept_scaling=1.0, loss='epsilon_insensitive', max_iter=1000,\n",
       "     random_state=None, tol=0.0001, verbose=0),\n",
       "       fit_params=None, iid=True, n_jobs=1,\n",
       "       param_grid={'C': [5000.0], 'epsilon': [0.01]},\n",
       "       pre_dispatch='2*n_jobs', refit=True, return_train_score='warn',\n",
       "       scoring='mean_squared_error', verbose=0)"
      ]
     },
     "execution_count": 128,
     "metadata": {},
     "output_type": "execute_result"
    }
   ],
   "source": [
    "#Bigram Presence With Preprocessing\n",
    "SVM = LinearSVR()\n",
    "params = {'C': [5e3],\n",
    "        'epsilon': [0.01]}\n",
    "grid8 = GridSearchCV(SVM, params, cv=5, scoring='mean_squared_error')\n",
    "grid8.fit(encoded_bigram_sparse, data['Diff_from_PrevWkAvg'])"
   ]
  },
  {
   "cell_type": "code",
   "execution_count": 129,
   "metadata": {},
   "outputs": [
    {
     "data": {
      "text/plain": [
       "4.0448141996443487"
      ]
     },
     "execution_count": 129,
     "metadata": {},
     "output_type": "execute_result"
    }
   ],
   "source": [
    "np.mean(np.square(grid.predict(encoded_unigram_orig_sparse) - np.array(data['Diff_from_PrevWkAvg'], dtype=np.float32)))**.5"
   ]
  },
  {
   "cell_type": "code",
   "execution_count": 130,
   "metadata": {},
   "outputs": [
    {
     "data": {
      "text/plain": [
       "0.39564048476609293"
      ]
     },
     "execution_count": 130,
     "metadata": {},
     "output_type": "execute_result"
    }
   ],
   "source": [
    "np.mean(np.square(grid2.predict(encoded_bigram_orig_sparse) - np.array(data['Diff_from_PrevWkAvg'], dtype=np.float32)))**.5"
   ]
  },
  {
   "cell_type": "code",
   "execution_count": 131,
   "metadata": {
    "scrolled": true
   },
   "outputs": [
    {
     "data": {
      "text/plain": [
       "3.8458563820032508"
      ]
     },
     "execution_count": 131,
     "metadata": {},
     "output_type": "execute_result"
    }
   ],
   "source": [
    "np.mean(np.square(grid3.predict(encoded_unigram_sparse) - np.array(data['Diff_from_PrevWkAvg'], dtype=np.float32)))**.5"
   ]
  },
  {
   "cell_type": "code",
   "execution_count": 132,
   "metadata": {
    "scrolled": true
   },
   "outputs": [
    {
     "data": {
      "text/plain": [
       "0.35647733294362477"
      ]
     },
     "execution_count": 132,
     "metadata": {},
     "output_type": "execute_result"
    }
   ],
   "source": [
    "np.mean(np.square(grid4.predict(encoded_bigram_sparse) - np.array(data['Diff_from_PrevWkAvg'], dtype=np.float32)))**.5"
   ]
  },
  {
   "cell_type": "code",
   "execution_count": 133,
   "metadata": {},
   "outputs": [
    {
     "data": {
      "text/plain": [
       "3.536393020582369"
      ]
     },
     "execution_count": 133,
     "metadata": {},
     "output_type": "execute_result"
    }
   ],
   "source": [
    "np.mean(np.square(grid5.predict(encoded_unigram_orig_sparse) - np.array(data['Diff_from_PrevWkAvg'], dtype=np.float32)))**.5"
   ]
  },
  {
   "cell_type": "code",
   "execution_count": 134,
   "metadata": {},
   "outputs": [
    {
     "data": {
      "text/plain": [
       "0.33761935939590881"
      ]
     },
     "execution_count": 134,
     "metadata": {},
     "output_type": "execute_result"
    }
   ],
   "source": [
    "np.mean(np.square(grid6.predict(encoded_bigram_orig_sparse) - np.array(data['Diff_from_PrevWkAvg'], dtype=np.float32)))**.5"
   ]
  },
  {
   "cell_type": "code",
   "execution_count": 135,
   "metadata": {},
   "outputs": [
    {
     "data": {
      "text/plain": [
       "2.7945029183885852"
      ]
     },
     "execution_count": 135,
     "metadata": {},
     "output_type": "execute_result"
    }
   ],
   "source": [
    "np.mean(np.square(grid7.predict(encoded_unigram_sparse) - np.array(data['Diff_from_PrevWkAvg'], dtype=np.float32)))**.5"
   ]
  },
  {
   "cell_type": "code",
   "execution_count": 136,
   "metadata": {},
   "outputs": [
    {
     "data": {
      "text/plain": [
       "0.39535735775451886"
      ]
     },
     "execution_count": 136,
     "metadata": {},
     "output_type": "execute_result"
    }
   ],
   "source": [
    "np.mean(np.square(grid8.predict(encoded_bigram_sparse) - np.array(data['Diff_from_PrevWkAvg'], dtype=np.float32)))**.5"
   ]
  },
  {
   "cell_type": "code",
   "execution_count": 137,
   "metadata": {},
   "outputs": [
    {
     "data": {
      "text/plain": [
       "-381.3353041437245"
      ]
     },
     "execution_count": 137,
     "metadata": {},
     "output_type": "execute_result"
    }
   ],
   "source": [
    "grid.best_score_"
   ]
  },
  {
   "cell_type": "code",
   "execution_count": 107,
   "metadata": {},
   "outputs": [
    {
     "data": {
      "text/plain": [
       "{'C': 5000.0, 'epsilon': 0.01}"
      ]
     },
     "execution_count": 107,
     "metadata": {},
     "output_type": "execute_result"
    }
   ],
   "source": [
    "grid.best_params_"
   ]
  },
  {
   "cell_type": "code",
   "execution_count": 108,
   "metadata": {},
   "outputs": [
    {
     "data": {
      "text/plain": [
       "{'C': 50000.0, 'epsilon': 0.005}"
      ]
     },
     "execution_count": 108,
     "metadata": {},
     "output_type": "execute_result"
    }
   ],
   "source": [
    "grid2.best_params_"
   ]
  },
  {
   "cell_type": "code",
   "execution_count": 109,
   "metadata": {},
   "outputs": [
    {
     "data": {
      "text/plain": [
       "{'C': 10000.0, 'epsilon': 0.01}"
      ]
     },
     "execution_count": 109,
     "metadata": {},
     "output_type": "execute_result"
    }
   ],
   "source": [
    "grid3.best_params_"
   ]
  },
  {
   "cell_type": "code",
   "execution_count": 110,
   "metadata": {},
   "outputs": [
    {
     "data": {
      "text/plain": [
       "{'C': 5000.0, 'epsilon': 0.005}"
      ]
     },
     "execution_count": 110,
     "metadata": {},
     "output_type": "execute_result"
    }
   ],
   "source": [
    "grid4.best_params_"
   ]
  },
  {
   "cell_type": "code",
   "execution_count": 111,
   "metadata": {},
   "outputs": [
    {
     "data": {
      "text/plain": [
       "{'C': 5000.0, 'epsilon': 0.01}"
      ]
     },
     "execution_count": 111,
     "metadata": {},
     "output_type": "execute_result"
    }
   ],
   "source": [
    "grid5.best_params_"
   ]
  },
  {
   "cell_type": "code",
   "execution_count": 112,
   "metadata": {},
   "outputs": [
    {
     "data": {
      "text/plain": [
       "{'C': 50000.0, 'epsilon': 0.005}"
      ]
     },
     "execution_count": 112,
     "metadata": {},
     "output_type": "execute_result"
    }
   ],
   "source": [
    "grid6.best_params_"
   ]
  },
  {
   "cell_type": "code",
   "execution_count": 113,
   "metadata": {},
   "outputs": [
    {
     "data": {
      "text/plain": [
       "{'C': 50000.0, 'epsilon': 0.01}"
      ]
     },
     "execution_count": 113,
     "metadata": {},
     "output_type": "execute_result"
    }
   ],
   "source": [
    "grid7.best_params_"
   ]
  },
  {
   "cell_type": "code",
   "execution_count": 114,
   "metadata": {},
   "outputs": [
    {
     "data": {
      "text/plain": [
       "{'C': 50000.0, 'epsilon': 0.0005}"
      ]
     },
     "execution_count": 114,
     "metadata": {},
     "output_type": "execute_result"
    }
   ],
   "source": [
    "grid8.best_params_"
   ]
  },
  {
   "cell_type": "code",
   "execution_count": 44,
   "metadata": {
    "collapsed": true
   },
   "outputs": [],
   "source": [
    "def plot_coefficients(classifier, feature_names, top_features=10):\n",
    "    coef = classifier.best_estimator_.coef_.ravel()\n",
    "    #coef = classifier.coef_.ravel()\n",
    "    top_positive_coefficients = np.argsort(coef)[-top_features:]\n",
    "    top_negative_coefficients = np.argsort(coef)[:top_features]\n",
    "    top_coefficients = np.hstack([top_negative_coefficients, top_positive_coefficients])\n",
    "    # create plot\n",
    "    plt.figure(figsize=(15, 5))\n",
    "    colors = ['red' if c < 0 else 'blue' for c in coef[top_coefficients]]\n",
    "    plt.bar(np.arange(2 * top_features), coef[top_coefficients], color=colors)\n",
    "    #feature_names = feature_names)\n",
    "    #return feature_names(top_coefficients)\n",
    "    plt.xticks(np.arange(0, 2 * top_features), feature_names(top_coefficients), rotation=60, ha='right')\n",
    "    plt.show()"
   ]
  },
  {
   "cell_type": "code",
   "execution_count": 61,
   "metadata": {},
   "outputs": [
    {
     "data": {
      "image/png": "[encoded data removed]",
      "text/plain": [
       "<matplotlib.figure.Figure at 0x21bb29f99b0>"
      ]
     },
     "metadata": {},
     "output_type": "display_data"
    }
   ],
   "source": [
    "plot_coefficients(grid8, vocab_bigram.ids_to_words)"
   ]
  },
  {
   "cell_type": "code",
   "execution_count": 62,
   "metadata": {},
   "outputs": [
    {
     "data": {
      "text/plain": [
       "587.81462320190712"
      ]
     },
     "execution_count": 62,
     "metadata": {},
     "output_type": "execute_result"
    }
   ],
   "source": [
    "np.sum(np.square(np.array(data['Diff_from_WkAvg'], dtype=np.float32)))**.5"
   ]
  },
  {
   "cell_type": "code",
   "execution_count": null,
   "metadata": {
    "collapsed": true
   },
   "outputs": [],
   "source": []
  }
 ],
 "metadata": {
  "kernelspec": {
   "display_name": "Python 3",
   "language": "python",
   "name": "python3"
  },
  "language_info": {
   "codemirror_mode": {
    "name": "ipython",
    "version": 3
   },
   "file_extension": ".py",
   "mimetype": "text/x-python",
   "name": "python",
   "nbconvert_exporter": "python",
   "pygments_lexer": "ipython3",
   "version": "3.6.3"
  }
 },
 "nbformat": 4,
 "nbformat_minor": 2
}
