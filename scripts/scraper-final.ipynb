{
 "cells": [
  {
   "cell_type": "code",
   "execution_count": 1,
   "metadata": {
    "collapsed": true
   },
   "outputs": [],
   "source": [
    "import re\n",
    "import os\n",
    "from datetime import date\n",
    "from bs4 import BeautifulSoup\n",
    "from selenium import webdriver\n",
    "from colored import fg, bg, attr\n",
    "from collections import defaultdict as dd\n",
    "import numpy as np\n",
    "import pandas as pd\n",
    "import datetime"
   ]
  },
  {
   "cell_type": "markdown",
   "metadata": {},
   "source": [
    "### Pulling pages using older button"
   ]
  },
  {
   "cell_type": "code",
   "execution_count": 5,
   "metadata": {
    "collapsed": true
   },
   "outputs": [],
   "source": [
    "player_news_list = []"
   ]
  },
  {
   "cell_type": "code",
   "execution_count": 26,
   "metadata": {
    "collapsed": true
   },
   "outputs": [],
   "source": [
    "#Initial Pull\n",
    "nowx = pd.datetime.now()\n",
    "driver = webdriver.Firefox()\n",
    "driver.get('http://www.rotoworld.com/playernews/nfl/football-player-news')\n",
    "soup = BeautifulSoup(driver.page_source, 'html.parser')\n",
    "player_boxes = soup.select('.pb')\n",
    "for player_box in player_boxes:\n",
    "    player_dict = {}\n",
    "    player_info = player_box.select('.player a')\n",
    "    player_dict['team'] = player_info[1].contents[0]\n",
    "    player_dict['name'] = player_info[0].contents[0]\n",
    "    player_dict['headline'] = player_box.select('p')[0].contents[0]\n",
    "    player_dict['news'] = (player_box.select('.impact')[0].contents[0])\n",
    "    datestr = '2017 ' + player_box.select('.date')[0].contents[0]\n",
    "    player_dict['date'] = pd.datetime.strptime(datestr, '%Y %b %d - %H:%M %p')\n",
    "    player_news_list.append(player_dict)"
   ]
  },
  {
   "cell_type": "code",
   "execution_count": 27,
   "metadata": {
    "collapsed": true
   },
   "outputs": [],
   "source": [
    "#Using 'older' button to get updates this season\n",
    "while player_dict['date'] > pd.datetime.strptime('2017-09-05', '%Y-%m-%d'):\n",
    "    older_button = driver.find_element_by_name('ctl00$cp1$ctl00$btnNavigate1')\n",
    "    older_button.click()\n",
    "    soup = BeautifulSoup(driver.page_source, 'html.parser')\n",
    "    player_boxes = soup.select('.pb')\n",
    "    for player_box in player_boxes:\n",
    "        player_dict = {}\n",
    "        player_info = player_box.select('.player a')\n",
    "        player_dict['team'] = player_info[1].contents[0]\n",
    "        player_dict['name'] = player_info[0].contents[0]\n",
    "        player_dict['headline'] = player_box.select('p')[0].contents[0]\n",
    "        player_dict['news'] = (player_box.select('.impact')[0].contents[0])\n",
    "        datestr = '2017 ' + player_box.select('.date')[0].contents[0]\n",
    "        player_dict['date'] = pd.datetime.strptime(datestr, '%Y %b %d - %H:%M %p')\n",
    "        player_news_list.append(player_dict)"
   ]
  },
  {
   "cell_type": "code",
   "execution_count": 4,
   "metadata": {
    "collapsed": true
   },
   "outputs": [],
   "source": [
    "#Use this to restart firefox if necessary\n",
    "nowx = pd.datetime.now()\n",
    "driver = webdriver.Firefox()\n",
    "driver.get('http://www.rotoworld.com/playernews/nfl/football-player-news')"
   ]
  },
  {
   "cell_type": "code",
   "execution_count": 6,
   "metadata": {},
   "outputs": [
    {
     "ename": "ValueError",
     "evalue": "time data '2017 Sat, Dec 31, 2016 09:27:00 PM' does not match format '%Y %b %d - %H:%M %p'",
     "output_type": "error",
     "traceback": [
      "\u001b[1;31m---------------------------------------------------------------------------\u001b[0m",
      "\u001b[1;31mValueError\u001b[0m                                Traceback (most recent call last)",
      "\u001b[1;32m<ipython-input-6-57fd3e250a23>\u001b[0m in \u001b[0;36m<module>\u001b[1;34m()\u001b[0m\n\u001b[0;32m     33\u001b[0m         \u001b[0mplayer_dict\u001b[0m\u001b[1;33m[\u001b[0m\u001b[1;34m'news'\u001b[0m\u001b[1;33m]\u001b[0m \u001b[1;33m=\u001b[0m \u001b[1;33m(\u001b[0m\u001b[0mplayer_box\u001b[0m\u001b[1;33m.\u001b[0m\u001b[0mselect\u001b[0m\u001b[1;33m(\u001b[0m\u001b[1;34m'.impact'\u001b[0m\u001b[1;33m)\u001b[0m\u001b[1;33m[\u001b[0m\u001b[1;36m0\u001b[0m\u001b[1;33m]\u001b[0m\u001b[1;33m.\u001b[0m\u001b[0mcontents\u001b[0m\u001b[1;33m[\u001b[0m\u001b[1;36m0\u001b[0m\u001b[1;33m]\u001b[0m\u001b[1;33m)\u001b[0m\u001b[1;33m\u001b[0m\u001b[0m\n\u001b[0;32m     34\u001b[0m         \u001b[0mdatestr\u001b[0m \u001b[1;33m=\u001b[0m \u001b[1;34m'2017 '\u001b[0m \u001b[1;33m+\u001b[0m \u001b[0mplayer_box\u001b[0m\u001b[1;33m.\u001b[0m\u001b[0mselect\u001b[0m\u001b[1;33m(\u001b[0m\u001b[1;34m'.date'\u001b[0m\u001b[1;33m)\u001b[0m\u001b[1;33m[\u001b[0m\u001b[1;36m0\u001b[0m\u001b[1;33m]\u001b[0m\u001b[1;33m.\u001b[0m\u001b[0mcontents\u001b[0m\u001b[1;33m[\u001b[0m\u001b[1;36m0\u001b[0m\u001b[1;33m]\u001b[0m\u001b[1;33m\u001b[0m\u001b[0m\n\u001b[1;32m---> 35\u001b[1;33m         \u001b[0mplayer_dict\u001b[0m\u001b[1;33m[\u001b[0m\u001b[1;34m'date'\u001b[0m\u001b[1;33m]\u001b[0m \u001b[1;33m=\u001b[0m \u001b[0mpd\u001b[0m\u001b[1;33m.\u001b[0m\u001b[0mdatetime\u001b[0m\u001b[1;33m.\u001b[0m\u001b[0mstrptime\u001b[0m\u001b[1;33m(\u001b[0m\u001b[0mdatestr\u001b[0m\u001b[1;33m,\u001b[0m \u001b[1;34m'%Y %b %d - %H:%M %p'\u001b[0m\u001b[1;33m)\u001b[0m\u001b[1;33m\u001b[0m\u001b[0m\n\u001b[0m\u001b[0;32m     36\u001b[0m         \u001b[0mplayer_news_list\u001b[0m\u001b[1;33m.\u001b[0m\u001b[0mappend\u001b[0m\u001b[1;33m(\u001b[0m\u001b[0mplayer_dict\u001b[0m\u001b[1;33m)\u001b[0m\u001b[1;33m\u001b[0m\u001b[0m\n",
      "\u001b[1;32m~\\Anaconda3\\lib\\_strptime.py\u001b[0m in \u001b[0;36m_strptime_datetime\u001b[1;34m(cls, data_string, format)\u001b[0m\n\u001b[0;32m    563\u001b[0m     \"\"\"Return a class cls instance based on the input string and the\n\u001b[0;32m    564\u001b[0m     format string.\"\"\"\n\u001b[1;32m--> 565\u001b[1;33m     \u001b[0mtt\u001b[0m\u001b[1;33m,\u001b[0m \u001b[0mfraction\u001b[0m \u001b[1;33m=\u001b[0m \u001b[0m_strptime\u001b[0m\u001b[1;33m(\u001b[0m\u001b[0mdata_string\u001b[0m\u001b[1;33m,\u001b[0m \u001b[0mformat\u001b[0m\u001b[1;33m)\u001b[0m\u001b[1;33m\u001b[0m\u001b[0m\n\u001b[0m\u001b[0;32m    566\u001b[0m     \u001b[0mtzname\u001b[0m\u001b[1;33m,\u001b[0m \u001b[0mgmtoff\u001b[0m \u001b[1;33m=\u001b[0m \u001b[0mtt\u001b[0m\u001b[1;33m[\u001b[0m\u001b[1;33m-\u001b[0m\u001b[1;36m2\u001b[0m\u001b[1;33m:\u001b[0m\u001b[1;33m]\u001b[0m\u001b[1;33m\u001b[0m\u001b[0m\n\u001b[0;32m    567\u001b[0m     \u001b[0margs\u001b[0m \u001b[1;33m=\u001b[0m \u001b[0mtt\u001b[0m\u001b[1;33m[\u001b[0m\u001b[1;33m:\u001b[0m\u001b[1;36m6\u001b[0m\u001b[1;33m]\u001b[0m \u001b[1;33m+\u001b[0m \u001b[1;33m(\u001b[0m\u001b[0mfraction\u001b[0m\u001b[1;33m,\u001b[0m\u001b[1;33m)\u001b[0m\u001b[1;33m\u001b[0m\u001b[0m\n",
      "\u001b[1;32m~\\Anaconda3\\lib\\_strptime.py\u001b[0m in \u001b[0;36m_strptime\u001b[1;34m(data_string, format)\u001b[0m\n\u001b[0;32m    360\u001b[0m     \u001b[1;32mif\u001b[0m \u001b[1;32mnot\u001b[0m \u001b[0mfound\u001b[0m\u001b[1;33m:\u001b[0m\u001b[1;33m\u001b[0m\u001b[0m\n\u001b[0;32m    361\u001b[0m         raise ValueError(\"time data %r does not match format %r\" %\n\u001b[1;32m--> 362\u001b[1;33m                          (data_string, format))\n\u001b[0m\u001b[0;32m    363\u001b[0m     \u001b[1;32mif\u001b[0m \u001b[0mlen\u001b[0m\u001b[1;33m(\u001b[0m\u001b[0mdata_string\u001b[0m\u001b[1;33m)\u001b[0m \u001b[1;33m!=\u001b[0m \u001b[0mfound\u001b[0m\u001b[1;33m.\u001b[0m\u001b[0mend\u001b[0m\u001b[1;33m(\u001b[0m\u001b[1;33m)\u001b[0m\u001b[1;33m:\u001b[0m\u001b[1;33m\u001b[0m\u001b[0m\n\u001b[0;32m    364\u001b[0m         raise ValueError(\"unconverted data remains: %s\" %\n",
      "\u001b[1;31mValueError\u001b[0m: time data '2017 Sat, Dec 31, 2016 09:27:00 PM' does not match format '%Y %b %d - %H:%M %p'"
     ]
    }
   ],
   "source": [
    "#getting last season\n",
    "date_picker = driver.find_element_by_name('ctl00$cp1$ctl00$tbDatepicker')\n",
    "date_picker.click()\n",
    "date_picker.clear()\n",
    "date_picker.send_keys('2/15/2017')\n",
    "driver.find_element_by_name('ctl00$cp1$ctl00$btnFilterResults').click()\n",
    "#grab first screen\n",
    "soup = BeautifulSoup(driver.page_source, 'html.parser')\n",
    "player_boxes = soup.select('.pb')\n",
    "for player_box in player_boxes:\n",
    "    player_dict = {}\n",
    "    player_info = player_box.select('.player a')\n",
    "    player_dict['team'] = player_info[1].contents[0]\n",
    "    player_dict['name'] = player_info[0].contents[0]\n",
    "    player_dict['headline'] = player_box.select('p')[0].contents[0]\n",
    "    player_dict['news'] = (player_box.select('.impact')[0].contents[0])\n",
    "    datestr = '2017 ' + player_box.select('.date')[0].contents[0]\n",
    "    player_dict['date'] = pd.datetime.strptime(datestr, '%Y %b %d - %H:%M %p')\n",
    "    player_news_list.append(player_dict)\n",
    "#Loop through older\n",
    "while player_dict['date'] >= pd.datetime.strptime('2017-01-01', '%Y-%m-%d'):\n",
    "    older_button = driver.find_element_by_name('ctl00$cp1$ctl00$btnNavigate1')\n",
    "    older_button.click()\n",
    "    soup = BeautifulSoup(driver.page_source, 'html.parser')\n",
    "    player_boxes = soup.select('.pb')\n",
    "    for player_box in player_boxes:\n",
    "        player_dict = {}\n",
    "        player_info = player_box.select('.player a')\n",
    "        player_dict['team'] = player_info[1].contents[0]\n",
    "        player_dict['name'] = player_info[0].contents[0]\n",
    "        player_dict['headline'] = player_box.select('p')[0].contents[0]\n",
    "        player_dict['news'] = (player_box.select('.impact')[0].contents[0])\n",
    "        datestr = '2017 ' + player_box.select('.date')[0].contents[0]\n",
    "        player_dict['date'] = pd.datetime.strptime(datestr, '%Y %b %d - %H:%M %p')\n",
    "        player_news_list.append(player_dict)"
   ]
  },
  {
   "cell_type": "markdown",
   "metadata": {},
   "source": [
    "### Pulling 2016"
   ]
  },
  {
   "cell_type": "code",
   "execution_count": 2,
   "metadata": {
    "collapsed": true
   },
   "outputs": [],
   "source": [
    "#Use this to restart Firefox if necessary\n",
    "#2016 dates are stored in a different format\n",
    "driver = webdriver.Firefox()\n",
    "driver.get('http://www.rotoworld.com/playernews/nfl/football-player-news')\n",
    "soup = BeautifulSoup(driver.page_source, 'html.parser')"
   ]
  },
  {
   "cell_type": "code",
   "execution_count": 3,
   "metadata": {
    "collapsed": true
   },
   "outputs": [],
   "source": [
    "date_picker = driver.find_element_by_name('ctl00$cp1$ctl00$tbDatepicker')\n",
    "date_picker.click()\n",
    "date_picker.clear()\n",
    "date_picker.send_keys('12/31/2016')\n",
    "driver.find_element_by_name('ctl00$cp1$ctl00$btnFilterResults').click()\n"
   ]
  },
  {
   "cell_type": "code",
   "execution_count": 6,
   "metadata": {},
   "outputs": [],
   "source": [
    "#Scrape initial page\n",
    "soup = BeautifulSoup(driver.page_source, 'html.parser')\n",
    "player_boxes = soup.select('.pb')\n",
    "for player_box in player_boxes:\n",
    "    player_dict = {}\n",
    "    player_info = player_box.select('.player a')\n",
    "    player_dict['team'] = player_info[1].contents[0]\n",
    "    player_dict['name'] = player_info[0].contents[0]\n",
    "    player_dict['headline'] = player_box.select('p')[0].contents[0]\n",
    "    player_dict['news'] = (player_box.select('.impact')[0].contents[0])\n",
    "    datestr = player_box.select('.date')[0].contents[0]\n",
    "    player_dict['date'] = pd.datetime.strptime(datestr, '%a, %b %d, %Y %H:%M:%S %p')\n",
    "    player_news_list.append(player_dict)\n",
    "\n",
    "#Scrape previous pages\n",
    "while player_dict['date'] > pd.datetime.strptime('2016-09-01', '%Y-%m-%d'):\n",
    "    older_button = driver.find_element_by_name('ctl00$cp1$ctl00$btnNavigate1')\n",
    "    older_button.click()\n",
    "    soup = BeautifulSoup(driver.page_source, 'html.parser')\n",
    "    player_boxes = soup.select('.pb')\n",
    "    for player_box in player_boxes:\n",
    "        player_dict = {}\n",
    "        player_info = player_box.select('.player a')\n",
    "        player_dict['team'] = player_info[1].contents[0]\n",
    "        player_dict['name'] = player_info[0].contents[0]\n",
    "        player_dict['headline'] = player_box.select('p')[0].contents[0]\n",
    "        player_dict['news'] = (player_box.select('.impact')[0].contents[0])\n",
    "        datestr = player_box.select('.date')[0].contents[0]\n",
    "        player_dict['date'] = pd.datetime.strptime(datestr, '%a, %b %d, %Y %H:%M:%S %p')\n",
    "        player_news_list.append(player_dict)"
   ]
  },
  {
   "cell_type": "code",
   "execution_count": 7,
   "metadata": {
    "collapsed": true
   },
   "outputs": [],
   "source": [
    "test = pd.DataFrame(player_news_list)\n",
    "test.to_excel('news_data.xlsx', index=False)"
   ]
  },
  {
   "cell_type": "markdown",
   "metadata": {},
   "source": [
    "### Source code "
   ]
  },
  {
   "cell_type": "code",
   "execution_count": null,
   "metadata": {
    "collapsed": true
   },
   "outputs": [],
   "source": [
    "class RWScraper(object):\n",
    "    '''\n",
    "    This is the original scraper we found and used as inspiration\n",
    "    headless scraping was failing, possibly because ads were not loading properly\n",
    "    so this was modified to include a looping function as well as using Firefox\n",
    "    '''\n",
    "    def __init__(self):\n",
    "        self.url = 'http://www.rotoworld.com/playernews/nfl/football-player-news'\n",
    "        self._team_news = dd(lambda : dd(list))\n",
    "        self._same_day = True\n",
    "        self._date = (0, date.today().day, 0)\n",
    "\n",
    "    def _get_player_info(self, player_box):\n",
    "        date_str = player_box.select('.date')[0].contents[0]\n",
    "        date = int(re.findall(r'^.* (\\d+)[ ,].*$', date_str)[0])\n",
    "        if date != self._date[1]:\n",
    "            return False\n",
    "        player_dict = {}\n",
    "        player_info = player_box.select('.player a')\n",
    "        player_dict['team'] = player_info[1].contents[0]\n",
    "        player_dict['name'] = player_info[0].contents[0]\n",
    "        player_dict['news'] = (player_box.select('p')[0].contents[0], \n",
    "                               player_box.select('.impact')[0].contents[0])\n",
    "        return player_dict\n",
    "\n",
    "    def _boxes_to_news(self, player_boxes):\n",
    "        for player_box in player_boxes:\n",
    "            player_dict = self._get_player_info(player_box)\n",
    "            if not player_dict:\n",
    "                return False\n",
    "            self._team_news[player_dict['team']][player_dict['name']].append(player_dict['news'])\n",
    "        return True\n",
    "\n",
    "    def _get_player_news(self):\n",
    "        driver = webdriver.PhantomJS()\n",
    "        driver.get(self.url)\n",
    "        if self._date[0]:\n",
    "            date_picker = driver.find_element_by_id('tbDatepicker')\n",
    "            date_picker.click()\n",
    "            date_picker.send_keys('{}/{}/{}'.format(self._date[0], self._date[1], self._date[2]))\n",
    "            driver.find_element_by_id('cp1_ctl00_btnFilterResults').click()\n",
    "        while self._same_day:\n",
    "            soup = BeautifulSoup(driver.page_source, 'html.parser')\n",
    "            player_boxes = soup.select('.pb')\n",
    "            self._same_day = self._boxes_to_news(player_boxes)\n",
    "            driver.find_element_by_id('cp1_ctl00_btnNavigate1').click()\n",
    "\n",
    "    def scrape(self, date='today'):\n",
    "        if date != 'today':\n",
    "            self._date = date\n",
    "        self._get_player_news()\n",
    "        os.remove('ghostdriver.log')"
   ]
  }
 ],
 "metadata": {
  "kernelspec": {
   "display_name": "Python 3",
   "language": "python",
   "name": "python3"
  },
  "language_info": {
   "codemirror_mode": {
    "name": "ipython",
    "version": 3
   },
   "file_extension": ".py",
   "mimetype": "text/x-python",
   "name": "python",
   "nbconvert_exporter": "python",
   "pygments_lexer": "ipython3",
   "version": "3.6.3"
  }
 },
 "nbformat": 4,
 "nbformat_minor": 2
}
