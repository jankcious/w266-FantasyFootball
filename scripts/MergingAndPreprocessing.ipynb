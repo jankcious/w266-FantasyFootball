{
 "cells": [
  {
   "cell_type": "markdown",
   "metadata": {},
   "source": [
    "# Merging and Preprocessing\n",
    "\n",
    "### Load Libraries"
   ]
  },
  {
   "cell_type": "code",
   "execution_count": 67,
   "metadata": {},
   "outputs": [
    {
     "name": "stdout",
     "output_type": "stream",
     "text": [
      "[nltk_data] Downloading package stopwords to\n",
      "[nltk_data]     C:\\Users\\Jason\\AppData\\Roaming\\nltk_data...\n",
      "[nltk_data]   Package stopwords is already up-to-date!\n"
     ]
    },
    {
     "data": {
      "text/plain": [
       "True"
      ]
     },
     "execution_count": 67,
     "metadata": {},
     "output_type": "execute_result"
    }
   ],
   "source": [
    "import numpy as np\n",
    "import pandas as pd\n",
    "import matplotlib.pyplot as plt\n",
    "from sklearn import naive_bayes\n",
    "from datetime import timedelta\n",
    "import re\n",
    "from collections import defaultdict\n",
    "from sklearn.model_selection import train_test_split\n",
    "from sklearn.svm import LinearSVR\n",
    "import nltk\n",
    "from nltk.corpus import stopwords\n",
    "from nltk.stem import PorterStemmer\n",
    "from nltk.tokenize import WordPunctTokenizer\n",
    "from nltk.collocations import BigramCollocationFinder\n",
    "from nltk.metrics import BigramAssocMeasures\n",
    "\n",
    "nltk.download('stopwords')"
   ]
  },
  {
   "cell_type": "markdown",
   "metadata": {},
   "source": [
    "### Player News"
   ]
  },
  {
   "cell_type": "code",
   "execution_count": 68,
   "metadata": {},
   "outputs": [
    {
     "data": {
      "text/html": [
       "<div>\n",
       "<style>\n",
       "    .dataframe thead tr:only-child th {\n",
       "        text-align: right;\n",
       "    }\n",
       "\n",
       "    .dataframe thead th {\n",
       "        text-align: left;\n",
       "    }\n",
       "\n",
       "    .dataframe tbody tr th {\n",
       "        vertical-align: top;\n",
       "    }\n",
       "</style>\n",
       "<table border=\"1\" class=\"dataframe\">\n",
       "  <thead>\n",
       "    <tr style=\"text-align: right;\">\n",
       "      <th></th>\n",
       "      <th>date</th>\n",
       "      <th>headline</th>\n",
       "      <th>name</th>\n",
       "      <th>news</th>\n",
       "      <th>team</th>\n",
       "    </tr>\n",
       "  </thead>\n",
       "  <tbody>\n",
       "    <tr>\n",
       "      <th>0</th>\n",
       "      <td>2017-12-10 10:40:00</td>\n",
       "      <td>Bucs DT Gerald McCoy fears he suffered a torn ...</td>\n",
       "      <td>Gerald McCoy</td>\n",
       "      <td>\\n             McCoy has torn his biceps twice...</td>\n",
       "      <td>Buccaneers</td>\n",
       "    </tr>\n",
       "    <tr>\n",
       "      <th>1</th>\n",
       "      <td>2017-12-10 09:28:00</td>\n",
       "      <td>Coach Todd Bowles announced Josh McCown suffer...</td>\n",
       "      <td>Josh McCown</td>\n",
       "      <td>\\n             McCown was banged up in this on...</td>\n",
       "      <td>Jets</td>\n",
       "    </tr>\n",
       "    <tr>\n",
       "      <th>2</th>\n",
       "      <td>2017-12-10 09:20:00</td>\n",
       "      <td>Keelan Cole caught all three of his targets fo...</td>\n",
       "      <td>Keelan Cole</td>\n",
       "      <td>\\n             Cole reeled in a 75-yard touchd...</td>\n",
       "      <td>Jaguars</td>\n",
       "    </tr>\n",
       "    <tr>\n",
       "      <th>3</th>\n",
       "      <td>2017-12-10 09:15:00</td>\n",
       "      <td>Dede Westbrook caught 5-of-8 targets for 81 ya...</td>\n",
       "      <td>Dede Westbrook</td>\n",
       "      <td>\\n             Westbrook's first NFL touchdown...</td>\n",
       "      <td>Jaguars</td>\n",
       "    </tr>\n",
       "    <tr>\n",
       "      <th>4</th>\n",
       "      <td>2017-12-10 09:10:00</td>\n",
       "      <td>Marqise Lee caught 5-of-6 targets for 65 yards...</td>\n",
       "      <td>Marqise Lee</td>\n",
       "      <td>\\n             Lee has turned into a solid flo...</td>\n",
       "      <td>Jaguars</td>\n",
       "    </tr>\n",
       "  </tbody>\n",
       "</table>\n",
       "</div>"
      ],
      "text/plain": [
       "                 date                                           headline  \\\n",
       "0 2017-12-10 10:40:00  Bucs DT Gerald McCoy fears he suffered a torn ...   \n",
       "1 2017-12-10 09:28:00  Coach Todd Bowles announced Josh McCown suffer...   \n",
       "2 2017-12-10 09:20:00  Keelan Cole caught all three of his targets fo...   \n",
       "3 2017-12-10 09:15:00  Dede Westbrook caught 5-of-8 targets for 81 ya...   \n",
       "4 2017-12-10 09:10:00  Marqise Lee caught 5-of-6 targets for 65 yards...   \n",
       "\n",
       "             name                                               news  \\\n",
       "0    Gerald McCoy  \\n             McCoy has torn his biceps twice...   \n",
       "1     Josh McCown  \\n             McCown was banged up in this on...   \n",
       "2     Keelan Cole  \\n             Cole reeled in a 75-yard touchd...   \n",
       "3  Dede Westbrook  \\n             Westbrook's first NFL touchdown...   \n",
       "4     Marqise Lee  \\n             Lee has turned into a solid flo...   \n",
       "\n",
       "         team  \n",
       "0  Buccaneers  \n",
       "1        Jets  \n",
       "2     Jaguars  \n",
       "3     Jaguars  \n",
       "4     Jaguars  "
      ]
     },
     "execution_count": 68,
     "metadata": {},
     "output_type": "execute_result"
    }
   ],
   "source": [
    "news = pd.read_excel('../data/news_data.xlsx')\n",
    "news.head()"
   ]
  },
  {
   "cell_type": "code",
   "execution_count": 69,
   "metadata": {
    "scrolled": true
   },
   "outputs": [
    {
     "data": {
      "text/html": [
       "<div>\n",
       "<style>\n",
       "    .dataframe thead tr:only-child th {\n",
       "        text-align: right;\n",
       "    }\n",
       "\n",
       "    .dataframe thead th {\n",
       "        text-align: left;\n",
       "    }\n",
       "\n",
       "    .dataframe tbody tr th {\n",
       "        vertical-align: top;\n",
       "    }\n",
       "</style>\n",
       "<table border=\"1\" class=\"dataframe\">\n",
       "  <thead>\n",
       "    <tr style=\"text-align: right;\">\n",
       "      <th></th>\n",
       "      <th>date</th>\n",
       "      <th>headline</th>\n",
       "      <th>name</th>\n",
       "      <th>news</th>\n",
       "      <th>team</th>\n",
       "    </tr>\n",
       "  </thead>\n",
       "  <tbody>\n",
       "    <tr>\n",
       "      <th>22476</th>\n",
       "      <td>2016-10-20 09:31:00</td>\n",
       "      <td>Ladarius Green (ankle, PUP) said there is \"no ...</td>\n",
       "      <td>Ladarius Green</td>\n",
       "      <td>\\n             Signed to a four-year, $20 mill...</td>\n",
       "      <td>Free Agent</td>\n",
       "    </tr>\n",
       "    <tr>\n",
       "      <th>22477</th>\n",
       "      <td>2016-10-20 09:28:00</td>\n",
       "      <td>Gerald McCoy (calf) practiced on a limited bas...</td>\n",
       "      <td>Gerald McCoy</td>\n",
       "      <td>\\n             It is a step in the right direc...</td>\n",
       "      <td>Buccaneers</td>\n",
       "    </tr>\n",
       "    <tr>\n",
       "      <th>22478</th>\n",
       "      <td>2016-10-20 09:25:00</td>\n",
       "      <td>Jordan Reed said he hid the concussion he suff...</td>\n",
       "      <td>Jordan Reed</td>\n",
       "      <td>\\n             \"I kind of kept it to myself,\" ...</td>\n",
       "      <td>Redskins</td>\n",
       "    </tr>\n",
       "    <tr>\n",
       "      <th>22479</th>\n",
       "      <td>2016-10-20 09:13:00</td>\n",
       "      <td>Colts coach Chuck Pagano said DE Henry Anderso...</td>\n",
       "      <td>Henry Anderson</td>\n",
       "      <td>\\n             Anderson played through his kne...</td>\n",
       "      <td>Colts</td>\n",
       "    </tr>\n",
       "    <tr>\n",
       "      <th>22480</th>\n",
       "      <td>2016-10-20 09:10:00</td>\n",
       "      <td>With Doug Martin (hamstring) out, Jacquizz Rod...</td>\n",
       "      <td>Jacquizz Rodgers</td>\n",
       "      <td>\\n             Rodgers was the unquestioned wo...</td>\n",
       "      <td>Buccaneers</td>\n",
       "    </tr>\n",
       "  </tbody>\n",
       "</table>\n",
       "</div>"
      ],
      "text/plain": [
       "                     date                                           headline  \\\n",
       "22476 2016-10-20 09:31:00  Ladarius Green (ankle, PUP) said there is \"no ...   \n",
       "22477 2016-10-20 09:28:00  Gerald McCoy (calf) practiced on a limited bas...   \n",
       "22478 2016-10-20 09:25:00  Jordan Reed said he hid the concussion he suff...   \n",
       "22479 2016-10-20 09:13:00  Colts coach Chuck Pagano said DE Henry Anderso...   \n",
       "22480 2016-10-20 09:10:00  With Doug Martin (hamstring) out, Jacquizz Rod...   \n",
       "\n",
       "                   name                                               news  \\\n",
       "22476    Ladarius Green  \\n             Signed to a four-year, $20 mill...   \n",
       "22477      Gerald McCoy  \\n             It is a step in the right direc...   \n",
       "22478       Jordan Reed  \\n             \"I kind of kept it to myself,\" ...   \n",
       "22479    Henry Anderson  \\n             Anderson played through his kne...   \n",
       "22480  Jacquizz Rodgers  \\n             Rodgers was the unquestioned wo...   \n",
       "\n",
       "             team  \n",
       "22476  Free Agent  \n",
       "22477  Buccaneers  \n",
       "22478    Redskins  \n",
       "22479       Colts  \n",
       "22480  Buccaneers  "
      ]
     },
     "execution_count": 69,
     "metadata": {},
     "output_type": "execute_result"
    }
   ],
   "source": [
    "news.tail()"
   ]
  },
  {
   "cell_type": "markdown",
   "metadata": {},
   "source": [
    "### Preprocessing Player News"
   ]
  },
  {
   "cell_type": "code",
   "execution_count": 70,
   "metadata": {
    "collapsed": true
   },
   "outputs": [],
   "source": [
    "cities = {\n",
    "    'Bills':'Buffalo',\n",
    "    'Dolphins':'Miami',\n",
    "    'Patriots':'New England',\n",
    "    'Jets':'New York',\n",
    "    'Ravens':'Baltimore',\n",
    "    'Bengals':'Cincinnati',\n",
    "    'Browns':'Cleveland',\n",
    "    'Steelers':'Pittsburgh',\n",
    "    'Texans':'Houston',\n",
    "    'Colts':'Indianapolis',\n",
    "    'Jaguars':'Jacksonville',\n",
    "    'Titans':'Tennessee',\n",
    "    'Broncos':'Denver',\n",
    "    'Chiefs':'Kansas City',\n",
    "    'Chargers':'Los Angeles',\n",
    "    'Raiders':'Oakland',\n",
    "    'Cowboys':'Dallas',\n",
    "    'Giants':'New York',\n",
    "    'Eagles':'Philadelphia',\n",
    "    'Redskins':'Washington',\n",
    "    'Bears':'Chicago',\n",
    "    'Lions':'Detroit',\n",
    "    'Packers':'Green Bay',\n",
    "    'Vikings':'Minnesota',\n",
    "    'Falcons':'Atlanta',\n",
    "    'Panthers':'Carolina',\n",
    "    'Saints':'New Orleans',\n",
    "    'Buccaneers':'Tampa Bay',\n",
    "    'Cardinals':'Arizona',\n",
    "    'Rams':'Los Angeles',\n",
    "    '49ers':'San Francisco',\n",
    "    'Seahawks':'Seattle'  \n",
    "}\n",
    "\n",
    "default_cities = defaultdict(str)\n",
    "for city in cities.keys():\n",
    "    default_cities[city] = cities[city]"
   ]
  },
  {
   "cell_type": "code",
   "execution_count": 71,
   "metadata": {},
   "outputs": [
    {
     "data": {
      "text/html": [
       "<div>\n",
       "<style>\n",
       "    .dataframe thead tr:only-child th {\n",
       "        text-align: right;\n",
       "    }\n",
       "\n",
       "    .dataframe thead th {\n",
       "        text-align: left;\n",
       "    }\n",
       "\n",
       "    .dataframe tbody tr th {\n",
       "        vertical-align: top;\n",
       "    }\n",
       "</style>\n",
       "<table border=\"1\" class=\"dataframe\">\n",
       "  <thead>\n",
       "    <tr style=\"text-align: right;\">\n",
       "      <th></th>\n",
       "      <th>name</th>\n",
       "      <th>news</th>\n",
       "      <th>news_clean</th>\n",
       "      <th>news_unigrams</th>\n",
       "      <th>news_bigrams</th>\n",
       "    </tr>\n",
       "  </thead>\n",
       "  <tbody>\n",
       "    <tr>\n",
       "      <th>0</th>\n",
       "      <td>Gerald McCoy</td>\n",
       "      <td>\\n             McCoy has torn his biceps twice...</td>\n",
       "      <td>self torn biceps twice already pro career tear...</td>\n",
       "      <td>[self, torn, bicep, twice, alreadi, pro, caree...</td>\n",
       "      <td>[falcon panther, he know, panther saint, saint...</td>\n",
       "    </tr>\n",
       "    <tr>\n",
       "      <th>1</th>\n",
       "      <td>Josh McCown</td>\n",
       "      <td>\\n             McCown was banged up in this on...</td>\n",
       "      <td>self banged one injuring back second quarter h...</td>\n",
       "      <td>[self, bang, one, injur, back, second, quarter...</td>\n",
       "      <td>[bryce petti, hell undergo, it tough, mccown g...</td>\n",
       "    </tr>\n",
       "    <tr>\n",
       "      <th>2</th>\n",
       "      <td>Keelan Cole</td>\n",
       "      <td>\\n             Cole reeled in a 75-yard touchd...</td>\n",
       "      <td>self reeled yard touchdown beautiful catch thr...</td>\n",
       "      <td>[self, reel, yard, touchdown, beauti, catch, t...</td>\n",
       "      <td>[blake bortl, bortl give, it second, wr head, ...</td>\n",
       "    </tr>\n",
       "    <tr>\n",
       "      <th>3</th>\n",
       "      <td>Dede Westbrook</td>\n",
       "      <td>\\n             Westbrook's first NFL touchdown...</td>\n",
       "      <td>Westbrooks first NFL touchdown came yard corne...</td>\n",
       "      <td>[westbrook, first, nfl, touchdown, came, yard,...</td>\n",
       "      <td>[hi eight, nfl touchdown, texan defens, came y...</td>\n",
       "    </tr>\n",
       "    <tr>\n",
       "      <th>4</th>\n",
       "      <td>Marqise Lee</td>\n",
       "      <td>\\n             Lee has turned into a solid flo...</td>\n",
       "      <td>self turned solid floor play fantasy five catc...</td>\n",
       "      <td>[self, turn, solid, floor, play, fantasi, five...</td>\n",
       "      <td>[after catch, wr option, week meet, with week,...</td>\n",
       "    </tr>\n",
       "  </tbody>\n",
       "</table>\n",
       "</div>"
      ],
      "text/plain": [
       "             name                                               news  \\\n",
       "0    Gerald McCoy  \\n             McCoy has torn his biceps twice...   \n",
       "1     Josh McCown  \\n             McCown was banged up in this on...   \n",
       "2     Keelan Cole  \\n             Cole reeled in a 75-yard touchd...   \n",
       "3  Dede Westbrook  \\n             Westbrook's first NFL touchdown...   \n",
       "4     Marqise Lee  \\n             Lee has turned into a solid flo...   \n",
       "\n",
       "                                          news_clean  \\\n",
       "0  self torn biceps twice already pro career tear...   \n",
       "1  self banged one injuring back second quarter h...   \n",
       "2  self reeled yard touchdown beautiful catch thr...   \n",
       "3  Westbrooks first NFL touchdown came yard corne...   \n",
       "4  self turned solid floor play fantasy five catc...   \n",
       "\n",
       "                                       news_unigrams  \\\n",
       "0  [self, torn, bicep, twice, alreadi, pro, caree...   \n",
       "1  [self, bang, one, injur, back, second, quarter...   \n",
       "2  [self, reel, yard, touchdown, beauti, catch, t...   \n",
       "3  [westbrook, first, nfl, touchdown, came, yard,...   \n",
       "4  [self, turn, solid, floor, play, fantasi, five...   \n",
       "\n",
       "                                        news_bigrams  \n",
       "0  [falcon panther, he know, panther saint, saint...  \n",
       "1  [bryce petti, hell undergo, it tough, mccown g...  \n",
       "2  [blake bortl, bortl give, it second, wr head, ...  \n",
       "3  [hi eight, nfl touchdown, texan defens, came y...  \n",
       "4  [after catch, wr option, week meet, with week,...  "
      ]
     },
     "execution_count": 71,
     "metadata": {},
     "output_type": "execute_result"
    }
   ],
   "source": [
    "regex = re.compile('[^a-zA-Z]')\n",
    "to_display = ['name','news','news_clean','news_unigrams','news_bigrams']\n",
    "stopWords = set(stopwords.words('english'))\n",
    "\n",
    "def process_text(row):\n",
    "    '''\n",
    "    if the news mentions that player -> self\n",
    "    if the news mentions the player's team -> ownteam\n",
    "    if the news mentions the player's city -> owncity\n",
    "    '''\n",
    "    parsed_sentence = str()\n",
    "    names = row['name'].split()\n",
    "    for word in row['news'].split():\n",
    "        word = regex.sub('',word)\n",
    "        if word in names:\n",
    "            parsed_sentence = parsed_sentence+'self '\n",
    "        elif word ==row['team']:\n",
    "            parsed_sentence = parsed_sentence+'ownteam '\n",
    "        elif word in default_cities[row['team']].split():\n",
    "            parsed_sentence = parsed_sentence+'owncity '\n",
    "        elif word in stopWords:\n",
    "            pass\n",
    "        else:\n",
    "            parsed_sentence = parsed_sentence+word+' '\n",
    "    return parsed_sentence\n",
    "\n",
    "def get_bigrams(myString):\n",
    "    tokenizer = WordPunctTokenizer()\n",
    "    tokens = tokenizer.tokenize(myString)\n",
    "    stemmer = PorterStemmer()\n",
    "    bigram_finder = BigramCollocationFinder.from_words(tokens)\n",
    "    bigram_tuples = bigram_finder.nbest(BigramAssocMeasures.chi_sq, 500)\n",
    "    bigrams = []\n",
    "    for bigram_tuple in bigram_tuples:\n",
    "        x = \"%s %s\" % bigram_tuple\n",
    "        bigrams.append(x)\n",
    "        \n",
    "    result = [' '.join([stemmer.stem(w).lower() for w in x.split()]) for x in bigrams]\n",
    "    return result\n",
    "\n",
    "def get_unigrams(myString):\n",
    "    tokenizer = WordPunctTokenizer()\n",
    "    tokens = tokenizer.tokenize(myString)\n",
    "    stemmer = PorterStemmer()\n",
    "    result = [stemmer.stem(w).lower() for w in tokens if w.lower() not in stopWords]\n",
    "    return result\n",
    "\n",
    "news['news_clean'] = news.apply(process_text, axis = 1)\n",
    "news['news_unigrams'] = news['news_clean'].apply(lambda x: get_unigrams(x))\n",
    "news['news_bigrams'] = news['news_clean'].apply(lambda x: get_bigrams(x))\n",
    "news['orig_unigrams'] = news['news'].apply(lambda x: get_unigrams(x))\n",
    "news['orig_bigrams'] = news['news'].apply(lambda x: get_bigrams(x))\n",
    "news[to_display].head()"
   ]
  },
  {
   "cell_type": "markdown",
   "metadata": {},
   "source": [
    "### Player Scores and Averages"
   ]
  },
  {
   "cell_type": "code",
   "execution_count": 72,
   "metadata": {
    "scrolled": true
   },
   "outputs": [
    {
     "data": {
      "text/html": [
       "<div>\n",
       "<style>\n",
       "    .dataframe thead tr:only-child th {\n",
       "        text-align: right;\n",
       "    }\n",
       "\n",
       "    .dataframe thead th {\n",
       "        text-align: left;\n",
       "    }\n",
       "\n",
       "    .dataframe tbody tr th {\n",
       "        vertical-align: top;\n",
       "    }\n",
       "</style>\n",
       "<table border=\"1\" class=\"dataframe\">\n",
       "  <thead>\n",
       "    <tr style=\"text-align: right;\">\n",
       "      <th></th>\n",
       "      <th>Player</th>\n",
       "      <th>Team</th>\n",
       "      <th>Position</th>\n",
       "      <th>Year</th>\n",
       "      <th>Week</th>\n",
       "      <th>Points</th>\n",
       "    </tr>\n",
       "  </thead>\n",
       "  <tbody>\n",
       "    <tr>\n",
       "      <th>0</th>\n",
       "      <td>Drew Brees</td>\n",
       "      <td>NO</td>\n",
       "      <td>QB</td>\n",
       "      <td>2016</td>\n",
       "      <td>1</td>\n",
       "      <td>37.7</td>\n",
       "    </tr>\n",
       "    <tr>\n",
       "      <th>1</th>\n",
       "      <td>Andrew Luck</td>\n",
       "      <td>IND</td>\n",
       "      <td>QB</td>\n",
       "      <td>2016</td>\n",
       "      <td>1</td>\n",
       "      <td>37.4</td>\n",
       "    </tr>\n",
       "    <tr>\n",
       "      <th>2</th>\n",
       "      <td>Alex Smith</td>\n",
       "      <td>KC</td>\n",
       "      <td>QB</td>\n",
       "      <td>2016</td>\n",
       "      <td>1</td>\n",
       "      <td>33.7</td>\n",
       "    </tr>\n",
       "    <tr>\n",
       "      <th>3</th>\n",
       "      <td>Jameis Winston</td>\n",
       "      <td>TB</td>\n",
       "      <td>QB</td>\n",
       "      <td>2016</td>\n",
       "      <td>1</td>\n",
       "      <td>30.4</td>\n",
       "    </tr>\n",
       "    <tr>\n",
       "      <th>4</th>\n",
       "      <td>Matthew Stafford</td>\n",
       "      <td>DET</td>\n",
       "      <td>QB</td>\n",
       "      <td>2016</td>\n",
       "      <td>1</td>\n",
       "      <td>29.5</td>\n",
       "    </tr>\n",
       "  </tbody>\n",
       "</table>\n",
       "</div>"
      ],
      "text/plain": [
       "             Player Team Position  Year  Week  Points\n",
       "0        Drew Brees   NO       QB  2016     1    37.7\n",
       "1       Andrew Luck  IND       QB  2016     1    37.4\n",
       "2        Alex Smith   KC       QB  2016     1    33.7\n",
       "3    Jameis Winston   TB       QB  2016     1    30.4\n",
       "4  Matthew Stafford  DET       QB  2016     1    29.5"
      ]
     },
     "execution_count": 72,
     "metadata": {},
     "output_type": "execute_result"
    }
   ],
   "source": [
    "#Match up scores with articles\n",
    "scores = pd.read_csv('../data/fantasy_points_data.csv', parse_dates= True)\n",
    "scores.head()"
   ]
  },
  {
   "cell_type": "code",
   "execution_count": 73,
   "metadata": {
    "collapsed": true
   },
   "outputs": [],
   "source": [
    "def yearly_average(row):\n",
    "    if row['Year']==2016:\n",
    "        return row['Points']/weeks_in_2016\n",
    "    elif row['Year']==2017:\n",
    "        return row['Points']/weeks_in_2017"
   ]
  },
  {
   "cell_type": "code",
   "execution_count": 74,
   "metadata": {
    "collapsed": true
   },
   "outputs": [],
   "source": [
    "#Computing average over all weeks in year\n",
    "weeks_in_2016 = scores[scores.Year==2016]['Week'].max()\n",
    "weeks_in_2017 = scores[scores.Year==2017]['Week'].max()\n",
    "avg_scores = scores.groupby(['Player','Year'], as_index=False)['Points'].sum()\n",
    "avg_scores['Avg_Points']= avg_scores.apply(yearly_average,axis=1)\n",
    "avg_scores.columns = ['Player', 'Year', 'SeasonPoints', 'AvgSeasonPoints']"
   ]
  },
  {
   "cell_type": "code",
   "execution_count": 75,
   "metadata": {},
   "outputs": [
    {
     "data": {
      "text/html": [
       "<div>\n",
       "<style>\n",
       "    .dataframe thead tr:only-child th {\n",
       "        text-align: right;\n",
       "    }\n",
       "\n",
       "    .dataframe thead th {\n",
       "        text-align: left;\n",
       "    }\n",
       "\n",
       "    .dataframe tbody tr th {\n",
       "        vertical-align: top;\n",
       "    }\n",
       "</style>\n",
       "<table border=\"1\" class=\"dataframe\">\n",
       "  <thead>\n",
       "    <tr style=\"text-align: right;\">\n",
       "      <th></th>\n",
       "      <th>Player</th>\n",
       "      <th>Year</th>\n",
       "      <th>AvgWkPoints</th>\n",
       "    </tr>\n",
       "  </thead>\n",
       "  <tbody>\n",
       "    <tr>\n",
       "      <th>0</th>\n",
       "      <td>A.J. Derby</td>\n",
       "      <td>2016</td>\n",
       "      <td>3.425000</td>\n",
       "    </tr>\n",
       "    <tr>\n",
       "      <th>1</th>\n",
       "      <td>A.J. Derby</td>\n",
       "      <td>2017</td>\n",
       "      <td>4.050000</td>\n",
       "    </tr>\n",
       "    <tr>\n",
       "      <th>2</th>\n",
       "      <td>A.J. Green</td>\n",
       "      <td>2016</td>\n",
       "      <td>13.377778</td>\n",
       "    </tr>\n",
       "    <tr>\n",
       "      <th>3</th>\n",
       "      <td>A.J. Green</td>\n",
       "      <td>2017</td>\n",
       "      <td>10.692308</td>\n",
       "    </tr>\n",
       "    <tr>\n",
       "      <th>4</th>\n",
       "      <td>AJ McCarron</td>\n",
       "      <td>2017</td>\n",
       "      <td>1.900000</td>\n",
       "    </tr>\n",
       "  </tbody>\n",
       "</table>\n",
       "</div>"
      ],
      "text/plain": [
       "        Player  Year  AvgWkPoints\n",
       "0   A.J. Derby  2016     3.425000\n",
       "1   A.J. Derby  2017     4.050000\n",
       "2   A.J. Green  2016    13.377778\n",
       "3   A.J. Green  2017    10.692308\n",
       "4  AJ McCarron  2017     1.900000"
      ]
     },
     "execution_count": 75,
     "metadata": {},
     "output_type": "execute_result"
    }
   ],
   "source": [
    "#Computing averages over all weeks *played* in a year\n",
    "wkavg_scores = scores.groupby(['Player', 'Year'], as_index=False)['Points'].mean()\n",
    "wkavg_scores.columns = ['Player', 'Year', 'AvgWkPoints']\n",
    "wkavg_scores.head()"
   ]
  },
  {
   "cell_type": "code",
   "execution_count": 76,
   "metadata": {
    "scrolled": true
   },
   "outputs": [
    {
     "data": {
      "text/html": [
       "<div>\n",
       "<style>\n",
       "    .dataframe thead tr:only-child th {\n",
       "        text-align: right;\n",
       "    }\n",
       "\n",
       "    .dataframe thead th {\n",
       "        text-align: left;\n",
       "    }\n",
       "\n",
       "    .dataframe tbody tr th {\n",
       "        vertical-align: top;\n",
       "    }\n",
       "</style>\n",
       "<table border=\"1\" class=\"dataframe\">\n",
       "  <thead>\n",
       "    <tr style=\"text-align: right;\">\n",
       "      <th></th>\n",
       "      <th>Player</th>\n",
       "      <th>Team</th>\n",
       "      <th>Position</th>\n",
       "      <th>Year</th>\n",
       "      <th>Week</th>\n",
       "      <th>Points</th>\n",
       "      <th>SeasonPoints</th>\n",
       "      <th>AvgSeasonPoints</th>\n",
       "      <th>AvgWkPoints</th>\n",
       "      <th>Diff_from_Avg</th>\n",
       "      <th>Diff_from_WkAvg</th>\n",
       "    </tr>\n",
       "  </thead>\n",
       "  <tbody>\n",
       "    <tr>\n",
       "      <th>0</th>\n",
       "      <td>Drew Brees</td>\n",
       "      <td>NO</td>\n",
       "      <td>QB</td>\n",
       "      <td>2016</td>\n",
       "      <td>1</td>\n",
       "      <td>37.7</td>\n",
       "      <td>338.5</td>\n",
       "      <td>19.911765</td>\n",
       "      <td>21.15625</td>\n",
       "      <td>17.788235</td>\n",
       "      <td>16.54375</td>\n",
       "    </tr>\n",
       "    <tr>\n",
       "      <th>1</th>\n",
       "      <td>Drew Brees</td>\n",
       "      <td>NO</td>\n",
       "      <td>QB</td>\n",
       "      <td>2016</td>\n",
       "      <td>2</td>\n",
       "      <td>14.5</td>\n",
       "      <td>338.5</td>\n",
       "      <td>19.911765</td>\n",
       "      <td>21.15625</td>\n",
       "      <td>-5.411765</td>\n",
       "      <td>-6.65625</td>\n",
       "    </tr>\n",
       "    <tr>\n",
       "      <th>2</th>\n",
       "      <td>Drew Brees</td>\n",
       "      <td>NO</td>\n",
       "      <td>QB</td>\n",
       "      <td>2016</td>\n",
       "      <td>3</td>\n",
       "      <td>25.9</td>\n",
       "      <td>338.5</td>\n",
       "      <td>19.911765</td>\n",
       "      <td>21.15625</td>\n",
       "      <td>5.988235</td>\n",
       "      <td>4.74375</td>\n",
       "    </tr>\n",
       "    <tr>\n",
       "      <th>3</th>\n",
       "      <td>Drew Brees</td>\n",
       "      <td>NO</td>\n",
       "      <td>QB</td>\n",
       "      <td>2016</td>\n",
       "      <td>4</td>\n",
       "      <td>11.8</td>\n",
       "      <td>338.5</td>\n",
       "      <td>19.911765</td>\n",
       "      <td>21.15625</td>\n",
       "      <td>-8.111765</td>\n",
       "      <td>-9.35625</td>\n",
       "    </tr>\n",
       "    <tr>\n",
       "      <th>4</th>\n",
       "      <td>Drew Brees</td>\n",
       "      <td>NO</td>\n",
       "      <td>QB</td>\n",
       "      <td>2016</td>\n",
       "      <td>6</td>\n",
       "      <td>32.6</td>\n",
       "      <td>338.5</td>\n",
       "      <td>19.911765</td>\n",
       "      <td>21.15625</td>\n",
       "      <td>12.688235</td>\n",
       "      <td>11.44375</td>\n",
       "    </tr>\n",
       "  </tbody>\n",
       "</table>\n",
       "</div>"
      ],
      "text/plain": [
       "       Player Team Position  Year  Week  Points  SeasonPoints  \\\n",
       "0  Drew Brees   NO       QB  2016     1    37.7         338.5   \n",
       "1  Drew Brees   NO       QB  2016     2    14.5         338.5   \n",
       "2  Drew Brees   NO       QB  2016     3    25.9         338.5   \n",
       "3  Drew Brees   NO       QB  2016     4    11.8         338.5   \n",
       "4  Drew Brees   NO       QB  2016     6    32.6         338.5   \n",
       "\n",
       "   AvgSeasonPoints  AvgWkPoints  Diff_from_Avg  Diff_from_WkAvg  \n",
       "0        19.911765     21.15625      17.788235         16.54375  \n",
       "1        19.911765     21.15625      -5.411765         -6.65625  \n",
       "2        19.911765     21.15625       5.988235          4.74375  \n",
       "3        19.911765     21.15625      -8.111765         -9.35625  \n",
       "4        19.911765     21.15625      12.688235         11.44375  "
      ]
     },
     "execution_count": 76,
     "metadata": {},
     "output_type": "execute_result"
    }
   ],
   "source": [
    "scores_combined = scores.merge(avg_scores, \n",
    "                               how='inner', \n",
    "                               on=['Player','Year'])\n",
    "scores_combined = scores_combined.merge(wkavg_scores,\n",
    "                                  how='inner',\n",
    "                                  on=['Player', 'Year'])\n",
    "scores_combined['Diff_from_Avg'] = scores_combined['Points'] - scores_combined['AvgSeasonPoints']\n",
    "scores_combined['Diff_from_WkAvg'] = scores_combined['Points'] - scores_combined['AvgWkPoints'] \n",
    "scores_combined.head()"
   ]
  },
  {
   "cell_type": "markdown",
   "metadata": {},
   "source": [
    "### Player predicted scores"
   ]
  },
  {
   "cell_type": "code",
   "execution_count": 77,
   "metadata": {},
   "outputs": [],
   "source": [
    "#Pull in predicted scores\n",
    "preds2016 = pd.read_csv('../data/full_2016_projections.csv', parse_dates= True)\n",
    "preds2017 = pd.read_csv('../data/full_2017_projections.csv', parse_dates = True)\n",
    "preds2016['Year'] = 2016\n",
    "preds2017['Year'] = 2017\n",
    "preds = pd.concat([preds2016, preds2017])"
   ]
  },
  {
   "cell_type": "code",
   "execution_count": 78,
   "metadata": {},
   "outputs": [
    {
     "data": {
      "text/html": [
       "<div>\n",
       "<style>\n",
       "    .dataframe thead tr:only-child th {\n",
       "        text-align: right;\n",
       "    }\n",
       "\n",
       "    .dataframe thead th {\n",
       "        text-align: left;\n",
       "    }\n",
       "\n",
       "    .dataframe tbody tr th {\n",
       "        vertical-align: top;\n",
       "    }\n",
       "</style>\n",
       "<table border=\"1\" class=\"dataframe\">\n",
       "  <thead>\n",
       "    <tr style=\"text-align: right;\">\n",
       "      <th></th>\n",
       "      <th>Player</th>\n",
       "      <th>Pos</th>\n",
       "      <th>Week</th>\n",
       "      <th>Team</th>\n",
       "      <th>Opp</th>\n",
       "      <th>Pass Yds</th>\n",
       "      <th>TD</th>\n",
       "      <th>Int</th>\n",
       "      <th>Rush Yds</th>\n",
       "      <th>TD.1</th>\n",
       "      <th>Rec</th>\n",
       "      <th>Yds</th>\n",
       "      <th>TD.2</th>\n",
       "      <th>Fantasy Points</th>\n",
       "      <th>Year</th>\n",
       "    </tr>\n",
       "  </thead>\n",
       "  <tbody>\n",
       "    <tr>\n",
       "      <th>0</th>\n",
       "      <td>David Johnson</td>\n",
       "      <td>RB</td>\n",
       "      <td>10</td>\n",
       "      <td>ARI</td>\n",
       "      <td>SF</td>\n",
       "      <td>0.0</td>\n",
       "      <td>0.0</td>\n",
       "      <td>0.0</td>\n",
       "      <td>112.4</td>\n",
       "      <td>1.1</td>\n",
       "      <td>4.2</td>\n",
       "      <td>40.8</td>\n",
       "      <td>0.3</td>\n",
       "      <td>27.52</td>\n",
       "      <td>2016</td>\n",
       "    </tr>\n",
       "    <tr>\n",
       "      <th>1</th>\n",
       "      <td>Cam Newton</td>\n",
       "      <td>QB</td>\n",
       "      <td>2</td>\n",
       "      <td>CAR</td>\n",
       "      <td>SF</td>\n",
       "      <td>243.5</td>\n",
       "      <td>1.8</td>\n",
       "      <td>0.6</td>\n",
       "      <td>41.6</td>\n",
       "      <td>0.6</td>\n",
       "      <td>0.0</td>\n",
       "      <td>0.0</td>\n",
       "      <td>0.0</td>\n",
       "      <td>23.10</td>\n",
       "      <td>2016</td>\n",
       "    </tr>\n",
       "    <tr>\n",
       "      <th>2</th>\n",
       "      <td>Aaron Rodgers</td>\n",
       "      <td>QB</td>\n",
       "      <td>9</td>\n",
       "      <td>GB</td>\n",
       "      <td>IND</td>\n",
       "      <td>295.6</td>\n",
       "      <td>2.2</td>\n",
       "      <td>0.8</td>\n",
       "      <td>20.4</td>\n",
       "      <td>0.4</td>\n",
       "      <td>0.0</td>\n",
       "      <td>0.0</td>\n",
       "      <td>0.0</td>\n",
       "      <td>22.86</td>\n",
       "      <td>2016</td>\n",
       "    </tr>\n",
       "    <tr>\n",
       "      <th>3</th>\n",
       "      <td>Matt Ryan</td>\n",
       "      <td>QB</td>\n",
       "      <td>9</td>\n",
       "      <td>ATL</td>\n",
       "      <td>TB</td>\n",
       "      <td>323.1</td>\n",
       "      <td>2.6</td>\n",
       "      <td>0.8</td>\n",
       "      <td>9.3</td>\n",
       "      <td>0.1</td>\n",
       "      <td>0.0</td>\n",
       "      <td>0.0</td>\n",
       "      <td>0.0</td>\n",
       "      <td>22.65</td>\n",
       "      <td>2016</td>\n",
       "    </tr>\n",
       "    <tr>\n",
       "      <th>4</th>\n",
       "      <td>Cam Newton</td>\n",
       "      <td>QB</td>\n",
       "      <td>4</td>\n",
       "      <td>CAR</td>\n",
       "      <td>ATL</td>\n",
       "      <td>243.9</td>\n",
       "      <td>1.8</td>\n",
       "      <td>0.8</td>\n",
       "      <td>41.4</td>\n",
       "      <td>0.6</td>\n",
       "      <td>0.0</td>\n",
       "      <td>0.0</td>\n",
       "      <td>0.0</td>\n",
       "      <td>22.50</td>\n",
       "      <td>2016</td>\n",
       "    </tr>\n",
       "  </tbody>\n",
       "</table>\n",
       "</div>"
      ],
      "text/plain": [
       "          Player Pos  Week Team  Opp  Pass Yds   TD  Int  Rush Yds  TD.1  Rec  \\\n",
       "0  David Johnson  RB    10  ARI   SF       0.0  0.0  0.0     112.4   1.1  4.2   \n",
       "1     Cam Newton  QB     2  CAR   SF     243.5  1.8  0.6      41.6   0.6  0.0   \n",
       "2  Aaron Rodgers  QB     9   GB  IND     295.6  2.2  0.8      20.4   0.4  0.0   \n",
       "3      Matt Ryan  QB     9  ATL   TB     323.1  2.6  0.8       9.3   0.1  0.0   \n",
       "4     Cam Newton  QB     4  CAR  ATL     243.9  1.8  0.8      41.4   0.6  0.0   \n",
       "\n",
       "    Yds  TD.2  Fantasy Points  Year  \n",
       "0  40.8   0.3           27.52  2016  \n",
       "1   0.0   0.0           23.10  2016  \n",
       "2   0.0   0.0           22.86  2016  \n",
       "3   0.0   0.0           22.65  2016  \n",
       "4   0.0   0.0           22.50  2016  "
      ]
     },
     "execution_count": 78,
     "metadata": {},
     "output_type": "execute_result"
    }
   ],
   "source": [
    "preds.head()"
   ]
  },
  {
   "cell_type": "code",
   "execution_count": 79,
   "metadata": {
    "collapsed": true
   },
   "outputs": [],
   "source": [
    "#Restructuring predicted points to mirror actual score data\n",
    "preds = preds[['Player', 'Team', 'Pos', 'Year', 'Week', 'Fantasy Points']]\n",
    "preds.columns = ['Player', 'Team', 'Position', 'Year', 'Week', 'Points']"
   ]
  },
  {
   "cell_type": "code",
   "execution_count": 80,
   "metadata": {
    "collapsed": true
   },
   "outputs": [],
   "source": [
    "#Replacing scores with predicted scores\n",
    "scores = preds.copy(deep=True)"
   ]
  },
  {
   "cell_type": "code",
   "execution_count": 81,
   "metadata": {
    "collapsed": true
   },
   "outputs": [],
   "source": [
    "#Computing average over all weeks in year\n",
    "weeks_in_2016 = scores[scores.Year==2016]['Week'].max()\n",
    "weeks_in_2017 = scores[scores.Year==2017]['Week'].max()\n",
    "avg_scores = scores.groupby(['Player','Year'], as_index=False)['Points'].sum()\n",
    "avg_scores['Avg_Points']= avg_scores.apply(yearly_average,axis=1)\n",
    "avg_scores.columns = ['Player', 'Year', 'SeasonPoints', 'AvgSeasonPoints']"
   ]
  },
  {
   "cell_type": "code",
   "execution_count": 82,
   "metadata": {},
   "outputs": [
    {
     "data": {
      "text/html": [
       "<div>\n",
       "<style>\n",
       "    .dataframe thead tr:only-child th {\n",
       "        text-align: right;\n",
       "    }\n",
       "\n",
       "    .dataframe thead th {\n",
       "        text-align: left;\n",
       "    }\n",
       "\n",
       "    .dataframe tbody tr th {\n",
       "        vertical-align: top;\n",
       "    }\n",
       "</style>\n",
       "<table border=\"1\" class=\"dataframe\">\n",
       "  <thead>\n",
       "    <tr style=\"text-align: right;\">\n",
       "      <th></th>\n",
       "      <th>Player</th>\n",
       "      <th>Year</th>\n",
       "      <th>AvgWkPoints</th>\n",
       "    </tr>\n",
       "  </thead>\n",
       "  <tbody>\n",
       "    <tr>\n",
       "      <th>0</th>\n",
       "      <td>AJ Green</td>\n",
       "      <td>2016</td>\n",
       "      <td>19.012000</td>\n",
       "    </tr>\n",
       "    <tr>\n",
       "      <th>1</th>\n",
       "      <td>AJ Green</td>\n",
       "      <td>2017</td>\n",
       "      <td>16.262143</td>\n",
       "    </tr>\n",
       "    <tr>\n",
       "      <th>2</th>\n",
       "      <td>Aaron Jones</td>\n",
       "      <td>2017</td>\n",
       "      <td>9.964000</td>\n",
       "    </tr>\n",
       "    <tr>\n",
       "      <th>3</th>\n",
       "      <td>Aaron Rodgers</td>\n",
       "      <td>2016</td>\n",
       "      <td>19.733333</td>\n",
       "    </tr>\n",
       "    <tr>\n",
       "      <th>4</th>\n",
       "      <td>Aaron Rodgers</td>\n",
       "      <td>2017</td>\n",
       "      <td>19.687143</td>\n",
       "    </tr>\n",
       "  </tbody>\n",
       "</table>\n",
       "</div>"
      ],
      "text/plain": [
       "          Player  Year  AvgWkPoints\n",
       "0       AJ Green  2016    19.012000\n",
       "1       AJ Green  2017    16.262143\n",
       "2    Aaron Jones  2017     9.964000\n",
       "3  Aaron Rodgers  2016    19.733333\n",
       "4  Aaron Rodgers  2017    19.687143"
      ]
     },
     "execution_count": 82,
     "metadata": {},
     "output_type": "execute_result"
    }
   ],
   "source": [
    "#Computing averages over all weeks *played* in a year\n",
    "wkavg_scores = scores.groupby(['Player', 'Year'], as_index=False)['Points'].mean()\n",
    "wkavg_scores.columns = ['Player', 'Year', 'AvgWkPoints']\n",
    "wkavg_scores.head()"
   ]
  },
  {
   "cell_type": "code",
   "execution_count": 83,
   "metadata": {},
   "outputs": [
    {
     "data": {
      "text/html": [
       "<div>\n",
       "<style>\n",
       "    .dataframe thead tr:only-child th {\n",
       "        text-align: right;\n",
       "    }\n",
       "\n",
       "    .dataframe thead th {\n",
       "        text-align: left;\n",
       "    }\n",
       "\n",
       "    .dataframe tbody tr th {\n",
       "        vertical-align: top;\n",
       "    }\n",
       "</style>\n",
       "<table border=\"1\" class=\"dataframe\">\n",
       "  <thead>\n",
       "    <tr style=\"text-align: right;\">\n",
       "      <th></th>\n",
       "      <th>Player</th>\n",
       "      <th>Team</th>\n",
       "      <th>Position</th>\n",
       "      <th>Year</th>\n",
       "      <th>Week</th>\n",
       "      <th>Points</th>\n",
       "      <th>SeasonPoints</th>\n",
       "      <th>AvgSeasonPoints</th>\n",
       "      <th>AvgWkPoints</th>\n",
       "      <th>Diff_from_Avg</th>\n",
       "      <th>Diff_from_WkAvg</th>\n",
       "    </tr>\n",
       "  </thead>\n",
       "  <tbody>\n",
       "    <tr>\n",
       "      <th>0</th>\n",
       "      <td>David Johnson</td>\n",
       "      <td>ARI</td>\n",
       "      <td>RB</td>\n",
       "      <td>2016</td>\n",
       "      <td>10</td>\n",
       "      <td>27.52</td>\n",
       "      <td>323.05</td>\n",
       "      <td>20.190625</td>\n",
       "      <td>21.536667</td>\n",
       "      <td>7.329375</td>\n",
       "      <td>5.983333</td>\n",
       "    </tr>\n",
       "    <tr>\n",
       "      <th>1</th>\n",
       "      <td>David Johnson</td>\n",
       "      <td>ARI</td>\n",
       "      <td>RB</td>\n",
       "      <td>2016</td>\n",
       "      <td>13</td>\n",
       "      <td>25.62</td>\n",
       "      <td>323.05</td>\n",
       "      <td>20.190625</td>\n",
       "      <td>21.536667</td>\n",
       "      <td>5.429375</td>\n",
       "      <td>4.083333</td>\n",
       "    </tr>\n",
       "    <tr>\n",
       "      <th>2</th>\n",
       "      <td>David Johnson</td>\n",
       "      <td>ARI</td>\n",
       "      <td>RB</td>\n",
       "      <td>2016</td>\n",
       "      <td>14</td>\n",
       "      <td>25.23</td>\n",
       "      <td>323.05</td>\n",
       "      <td>20.190625</td>\n",
       "      <td>21.536667</td>\n",
       "      <td>5.039375</td>\n",
       "      <td>3.693333</td>\n",
       "    </tr>\n",
       "    <tr>\n",
       "      <th>3</th>\n",
       "      <td>David Johnson</td>\n",
       "      <td>ARI</td>\n",
       "      <td>RB</td>\n",
       "      <td>2016</td>\n",
       "      <td>15</td>\n",
       "      <td>25.78</td>\n",
       "      <td>323.05</td>\n",
       "      <td>20.190625</td>\n",
       "      <td>21.536667</td>\n",
       "      <td>5.589375</td>\n",
       "      <td>4.243333</td>\n",
       "    </tr>\n",
       "    <tr>\n",
       "      <th>4</th>\n",
       "      <td>David Johnson</td>\n",
       "      <td>ARI</td>\n",
       "      <td>RB</td>\n",
       "      <td>2016</td>\n",
       "      <td>12</td>\n",
       "      <td>24.09</td>\n",
       "      <td>323.05</td>\n",
       "      <td>20.190625</td>\n",
       "      <td>21.536667</td>\n",
       "      <td>3.899375</td>\n",
       "      <td>2.553333</td>\n",
       "    </tr>\n",
       "  </tbody>\n",
       "</table>\n",
       "</div>"
      ],
      "text/plain": [
       "          Player Team Position  Year  Week  Points  SeasonPoints  \\\n",
       "0  David Johnson  ARI       RB  2016    10   27.52        323.05   \n",
       "1  David Johnson  ARI       RB  2016    13   25.62        323.05   \n",
       "2  David Johnson  ARI       RB  2016    14   25.23        323.05   \n",
       "3  David Johnson  ARI       RB  2016    15   25.78        323.05   \n",
       "4  David Johnson  ARI       RB  2016    12   24.09        323.05   \n",
       "\n",
       "   AvgSeasonPoints  AvgWkPoints  Diff_from_Avg  Diff_from_WkAvg  \n",
       "0        20.190625    21.536667       7.329375         5.983333  \n",
       "1        20.190625    21.536667       5.429375         4.083333  \n",
       "2        20.190625    21.536667       5.039375         3.693333  \n",
       "3        20.190625    21.536667       5.589375         4.243333  \n",
       "4        20.190625    21.536667       3.899375         2.553333  "
      ]
     },
     "execution_count": 83,
     "metadata": {},
     "output_type": "execute_result"
    }
   ],
   "source": [
    "scores_combined = scores.merge(avg_scores, \n",
    "                               how='inner', \n",
    "                               on=['Player','Year'])\n",
    "scores_combined = scores_combined.merge(wkavg_scores,\n",
    "                                  how='inner',\n",
    "                                  on=['Player', 'Year'])\n",
    "scores_combined['Diff_from_Avg'] = scores_combined['Points'] - scores_combined['AvgSeasonPoints']\n",
    "scores_combined['Diff_from_WkAvg'] = scores_combined['Points'] - scores_combined['AvgWkPoints'] \n",
    "scores_combined.head()"
   ]
  },
  {
   "cell_type": "markdown",
   "metadata": {},
   "source": [
    "### Merging"
   ]
  },
  {
   "cell_type": "code",
   "execution_count": 84,
   "metadata": {
    "collapsed": true
   },
   "outputs": [],
   "source": [
    "start_of_season = {2016:pd.datetime.strptime('2016-09-08', '%Y-%m-%d'),\n",
    "                  2017:pd.datetime.strptime('2017-09-08', '%Y-%m-%d')}"
   ]
  },
  {
   "cell_type": "code",
   "execution_count": 85,
   "metadata": {
    "collapsed": true
   },
   "outputs": [],
   "source": [
    "#Add in the first and last date for a given playing week\n",
    "scores_combined['max_date'] = scores_combined.apply(lambda x: start_of_season[x['Year']] + timedelta(weeks = x['Week']), axis=1)\n",
    "scores_combined['min_date'] = scores_combined.apply(lambda x: start_of_season[x['Year']] + timedelta(weeks = x['Week'] - 1), axis=1)"
   ]
  },
  {
   "cell_type": "code",
   "execution_count": 86,
   "metadata": {
    "scrolled": false
   },
   "outputs": [
    {
     "data": {
      "text/plain": [
       "Player                     object\n",
       "Team                       object\n",
       "Position                   object\n",
       "Year                        int64\n",
       "Week                        int64\n",
       "Points                    float64\n",
       "SeasonPoints              float64\n",
       "AvgSeasonPoints           float64\n",
       "AvgWkPoints               float64\n",
       "Diff_from_Avg             float64\n",
       "Diff_from_WkAvg           float64\n",
       "max_date           datetime64[ns]\n",
       "min_date           datetime64[ns]\n",
       "dtype: object"
      ]
     },
     "execution_count": 86,
     "metadata": {},
     "output_type": "execute_result"
    }
   ],
   "source": [
    "scores_combined.dtypes"
   ]
  },
  {
   "cell_type": "code",
   "execution_count": 87,
   "metadata": {
    "scrolled": true
   },
   "outputs": [
    {
     "data": {
      "text/plain": [
       "date             datetime64[ns]\n",
       "headline                 object\n",
       "name                     object\n",
       "news                     object\n",
       "team                     object\n",
       "news_clean               object\n",
       "news_unigrams            object\n",
       "news_bigrams             object\n",
       "orig_unigrams            object\n",
       "orig_bigrams             object\n",
       "dtype: object"
      ]
     },
     "execution_count": 87,
     "metadata": {},
     "output_type": "execute_result"
    }
   ],
   "source": [
    "news.dtypes"
   ]
  },
  {
   "cell_type": "code",
   "execution_count": 88,
   "metadata": {
    "collapsed": true
   },
   "outputs": [],
   "source": [
    "#Scores data does not use . in names (i.e. 'C.J. Anderson')\n",
    "news['name'] = news['name'].apply(lambda x: x.replace('.', ''))"
   ]
  },
  {
   "cell_type": "code",
   "execution_count": 89,
   "metadata": {
    "collapsed": true
   },
   "outputs": [],
   "source": [
    "#Merge news with scores and filter out scores that are not within a playing week\n",
    "combined = scores_combined.merge(news, how='inner', left_on='Player', right_on='name')\n",
    "combined = combined[(combined['date'] <= combined['max_date']) & \n",
    "                    (combined['date'] >= combined['min_date'])]"
   ]
  },
  {
   "cell_type": "code",
   "execution_count": 90,
   "metadata": {
    "scrolled": true
   },
   "outputs": [
    {
     "data": {
      "text/plain": [
       "(7118, 23)"
      ]
     },
     "execution_count": 90,
     "metadata": {},
     "output_type": "execute_result"
    }
   ],
   "source": [
    "combined.shape"
   ]
  },
  {
   "cell_type": "code",
   "execution_count": 91,
   "metadata": {},
   "outputs": [],
   "source": [
    "mismatched_scores = scores_combined.merge(news, how='left', left_on='Player', right_on='name')\n",
    "mismatched_scores = mismatched_scores[(mismatched_scores['date'] <= mismatched_scores['max_date']) \n",
    "                                      & (mismatched_scores['date'] >= mismatched_scores['min_date']) \n",
    "                                      & (mismatched_scores['name'].isnull())]\n",
    "                                     #]\n",
    "mismatched_news = scores_combined.merge(news, how='right', left_on='Player', right_on='name')\n",
    "mismatched_news = mismatched_news[mismatched_news['SeasonPoints'].isnull()]"
   ]
  },
  {
   "cell_type": "code",
   "execution_count": 92,
   "metadata": {},
   "outputs": [
    {
     "data": {
      "text/plain": [
       "1628"
      ]
     },
     "execution_count": 92,
     "metadata": {},
     "output_type": "execute_result"
    }
   ],
   "source": [
    "#Number of players with no scores\n",
    "len(news[np.invert(np.in1d(news.name, scores_combined.Player))].name.value_counts())"
   ]
  },
  {
   "cell_type": "code",
   "execution_count": 93,
   "metadata": {},
   "outputs": [
    {
     "data": {
      "text/plain": [
       "8738"
      ]
     },
     "execution_count": 93,
     "metadata": {},
     "output_type": "execute_result"
    }
   ],
   "source": [
    "#Count of news articles with no scores\n",
    "np.sum(news[np.invert(np.in1d(news.name, scores_combined.Player))].name.value_counts())"
   ]
  },
  {
   "cell_type": "code",
   "execution_count": 94,
   "metadata": {},
   "outputs": [
    {
     "data": {
      "text/plain": [
       "DeVante Parker        105\n",
       "Odell Beckham          88\n",
       "Tony Romo              59\n",
       "Markus Wheaton         55\n",
       "Luke Kuechly           49\n",
       "Breshad Perriman       44\n",
       "Kendall Wright         44\n",
       "Steve Smith Sr         43\n",
       "Victor Cruz            42\n",
       "Tyron Smith            40\n",
       "Vontae Davis           39\n",
       "John Ross              39\n",
       "Mike Williams          37\n",
       "Ryan Kalil             37\n",
       "Terron Armstead        35\n",
       "Braxton Miller         34\n",
       "Eli Rogers             34\n",
       "George Kittle          33\n",
       "Ben Watson             33\n",
       "Virgil Green           33\n",
       "Jesse James            33\n",
       "Vance McDonald         33\n",
       "Jimmy Smith            32\n",
       "Darrelle Revis         32\n",
       "DeAndre Washington     31\n",
       "Adam Humphries         31\n",
       "Dwayne Allen           31\n",
       "Trent Williams         29\n",
       "Cordy Glenn            29\n",
       "DeShone Kizer          29\n",
       "                     ... \n",
       "Rico Gathers            1\n",
       "Todd Wash               1\n",
       "Brandon Doughty         1\n",
       "Stephen Hauschka        1\n",
       "Jason Tarver            1\n",
       "Perry Riley             1\n",
       "Tre Madden              1\n",
       "Scot McCloughan         1\n",
       "Ramon Humber            1\n",
       "Dewey McDonald          1\n",
       "Michael Ola             1\n",
       "Chad Wheeler            1\n",
       "Jahwan Edwards          1\n",
       "Daeshon Hall            1\n",
       "Trovon Reed             1\n",
       "Bryant Young            1\n",
       "Chris Givens            1\n",
       "Keith McGill            1\n",
       "Jonas Gray              1\n",
       "Senquez Golson          1\n",
       "Zach Sterup             1\n",
       "Ricky Proehl            1\n",
       "Korey Toomer            1\n",
       "Jacoby Jones            1\n",
       "John Morton             1\n",
       "Dan Skuta               1\n",
       "Colt Anderson           1\n",
       "Tom Johnson             1\n",
       "Blake Bell              1\n",
       "Dolphins Defense        1\n",
       "Name: name, Length: 1628, dtype: int64"
      ]
     },
     "execution_count": 94,
     "metadata": {},
     "output_type": "execute_result"
    }
   ],
   "source": [
    "news[np.invert(np.in1d(news.name, scores_combined.Player))].name.value_counts()"
   ]
  },
  {
   "cell_type": "code",
   "execution_count": 95,
   "metadata": {},
   "outputs": [
    {
     "data": {
      "text/html": [
       "<div>\n",
       "<style>\n",
       "    .dataframe thead tr:only-child th {\n",
       "        text-align: right;\n",
       "    }\n",
       "\n",
       "    .dataframe thead th {\n",
       "        text-align: left;\n",
       "    }\n",
       "\n",
       "    .dataframe tbody tr th {\n",
       "        vertical-align: top;\n",
       "    }\n",
       "</style>\n",
       "<table border=\"1\" class=\"dataframe\">\n",
       "  <thead>\n",
       "    <tr style=\"text-align: right;\">\n",
       "      <th></th>\n",
       "      <th>Player</th>\n",
       "      <th>Team</th>\n",
       "      <th>Position</th>\n",
       "      <th>Year</th>\n",
       "      <th>Week</th>\n",
       "      <th>Points</th>\n",
       "      <th>SeasonPoints</th>\n",
       "      <th>AvgSeasonPoints</th>\n",
       "      <th>AvgWkPoints</th>\n",
       "      <th>Diff_from_Avg</th>\n",
       "      <th>...</th>\n",
       "      <th>date</th>\n",
       "      <th>headline</th>\n",
       "      <th>name</th>\n",
       "      <th>news</th>\n",
       "      <th>team</th>\n",
       "      <th>news_clean</th>\n",
       "      <th>news_unigrams</th>\n",
       "      <th>news_bigrams</th>\n",
       "      <th>orig_unigrams</th>\n",
       "      <th>orig_bigrams</th>\n",
       "    </tr>\n",
       "  </thead>\n",
       "  <tbody>\n",
       "  </tbody>\n",
       "</table>\n",
       "<p>0 rows × 23 columns</p>\n",
       "</div>"
      ],
      "text/plain": [
       "Empty DataFrame\n",
       "Columns: [Player, Team, Position, Year, Week, Points, SeasonPoints, AvgSeasonPoints, AvgWkPoints, Diff_from_Avg, Diff_from_WkAvg, max_date, min_date, date, headline, name, news, team, news_clean, news_unigrams, news_bigrams, orig_unigrams, orig_bigrams]\n",
       "Index: []\n",
       "\n",
       "[0 rows x 23 columns]"
      ]
     },
     "execution_count": 95,
     "metadata": {},
     "output_type": "execute_result"
    }
   ],
   "source": [
    "mismatched_scores.head()"
   ]
  },
  {
   "cell_type": "markdown",
   "metadata": {},
   "source": [
    "### Output"
   ]
  },
  {
   "cell_type": "code",
   "execution_count": 96,
   "metadata": {
    "collapsed": true
   },
   "outputs": [],
   "source": [
    "#combined.to_csv('../data/news_and_scores.csv', index=False)\n",
    "combined.to_excel('../data/news_and_scores.xlsx', index=False)"
   ]
  },
  {
   "cell_type": "code",
   "execution_count": 97,
   "metadata": {},
   "outputs": [],
   "source": [
    "mismatched_scores.to_csv('../data/mismatched_scores.csv', index=False)\n",
    "mismatched_news.to_csv('../data/mismatched_news.csv', index=False)"
   ]
  },
  {
   "cell_type": "code",
   "execution_count": 98,
   "metadata": {},
   "outputs": [
    {
     "data": {
      "text/plain": [
       "(0, 23)"
      ]
     },
     "execution_count": 98,
     "metadata": {},
     "output_type": "execute_result"
    }
   ],
   "source": [
    "mismatched_scores.shape"
   ]
  },
  {
   "cell_type": "code",
   "execution_count": 99,
   "metadata": {},
   "outputs": [
    {
     "data": {
      "text/plain": [
       "(8738, 23)"
      ]
     },
     "execution_count": 99,
     "metadata": {},
     "output_type": "execute_result"
    }
   ],
   "source": [
    "mismatched_news.shape"
   ]
  },
  {
   "cell_type": "code",
   "execution_count": null,
   "metadata": {
    "collapsed": true
   },
   "outputs": [],
   "source": []
  }
 ],
 "metadata": {
  "kernelspec": {
   "display_name": "Python 3",
   "language": "python",
   "name": "python3"
  },
  "language_info": {
   "codemirror_mode": {
    "name": "ipython",
    "version": 3
   },
   "file_extension": ".py",
   "mimetype": "text/x-python",
   "name": "python",
   "nbconvert_exporter": "python",
   "pygments_lexer": "ipython3",
   "version": "3.6.3"
  }
 },
 "nbformat": 4,
 "nbformat_minor": 2
}
