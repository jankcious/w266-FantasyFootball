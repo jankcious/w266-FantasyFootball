{
 "cells": [
  {
   "cell_type": "markdown",
   "metadata": {},
   "source": [
    "# Merging and Preprocessing\n",
    "\n",
    "### Load Libraries"
   ]
  },
  {
   "cell_type": "code",
   "execution_count": 1,
   "metadata": {},
   "outputs": [
    {
     "name": "stdout",
     "output_type": "stream",
     "text": [
      "[nltk_data] Downloading package stopwords to\n",
      "[nltk_data]     C:\\Users\\Jason\\AppData\\Roaming\\nltk_data...\n",
      "[nltk_data]   Package stopwords is already up-to-date!\n"
     ]
    },
    {
     "data": {
      "text/plain": [
       "True"
      ]
     },
     "execution_count": 1,
     "metadata": {},
     "output_type": "execute_result"
    }
   ],
   "source": [
    "import numpy as np\n",
    "import pandas as pd\n",
    "import matplotlib.pyplot as plt\n",
    "from sklearn import naive_bayes\n",
    "from datetime import timedelta\n",
    "import re\n",
    "from collections import defaultdict\n",
    "from sklearn.model_selection import train_test_split\n",
    "from sklearn.svm import LinearSVR\n",
    "import nltk\n",
    "from nltk.corpus import stopwords\n",
    "from nltk.stem import PorterStemmer\n",
    "from nltk.tokenize import WordPunctTokenizer\n",
    "from nltk.collocations import BigramCollocationFinder\n",
    "from nltk.metrics import BigramAssocMeasures\n",
    "\n",
    "nltk.download('stopwords')"
   ]
  },
  {
   "cell_type": "markdown",
   "metadata": {},
   "source": [
    "### Player News"
   ]
  },
  {
   "cell_type": "code",
   "execution_count": 2,
   "metadata": {},
   "outputs": [
    {
     "data": {
      "text/html": [
       "<div>\n",
       "<style>\n",
       "    .dataframe thead tr:only-child th {\n",
       "        text-align: right;\n",
       "    }\n",
       "\n",
       "    .dataframe thead th {\n",
       "        text-align: left;\n",
       "    }\n",
       "\n",
       "    .dataframe tbody tr th {\n",
       "        vertical-align: top;\n",
       "    }\n",
       "</style>\n",
       "<table border=\"1\" class=\"dataframe\">\n",
       "  <thead>\n",
       "    <tr style=\"text-align: right;\">\n",
       "      <th></th>\n",
       "      <th>date</th>\n",
       "      <th>headline</th>\n",
       "      <th>name</th>\n",
       "      <th>news</th>\n",
       "      <th>team</th>\n",
       "    </tr>\n",
       "  </thead>\n",
       "  <tbody>\n",
       "    <tr>\n",
       "      <th>0</th>\n",
       "      <td>2017-12-10 10:40:00</td>\n",
       "      <td>Bucs DT Gerald McCoy fears he suffered a torn ...</td>\n",
       "      <td>Gerald McCoy</td>\n",
       "      <td>\\n             McCoy has torn his biceps twice...</td>\n",
       "      <td>Buccaneers</td>\n",
       "    </tr>\n",
       "    <tr>\n",
       "      <th>1</th>\n",
       "      <td>2017-12-10 09:28:00</td>\n",
       "      <td>Coach Todd Bowles announced Josh McCown suffer...</td>\n",
       "      <td>Josh McCown</td>\n",
       "      <td>\\n             McCown was banged up in this on...</td>\n",
       "      <td>Jets</td>\n",
       "    </tr>\n",
       "    <tr>\n",
       "      <th>2</th>\n",
       "      <td>2017-12-10 09:20:00</td>\n",
       "      <td>Keelan Cole caught all three of his targets fo...</td>\n",
       "      <td>Keelan Cole</td>\n",
       "      <td>\\n             Cole reeled in a 75-yard touchd...</td>\n",
       "      <td>Jaguars</td>\n",
       "    </tr>\n",
       "    <tr>\n",
       "      <th>3</th>\n",
       "      <td>2017-12-10 09:15:00</td>\n",
       "      <td>Dede Westbrook caught 5-of-8 targets for 81 ya...</td>\n",
       "      <td>Dede Westbrook</td>\n",
       "      <td>\\n             Westbrook's first NFL touchdown...</td>\n",
       "      <td>Jaguars</td>\n",
       "    </tr>\n",
       "    <tr>\n",
       "      <th>4</th>\n",
       "      <td>2017-12-10 09:10:00</td>\n",
       "      <td>Marqise Lee caught 5-of-6 targets for 65 yards...</td>\n",
       "      <td>Marqise Lee</td>\n",
       "      <td>\\n             Lee has turned into a solid flo...</td>\n",
       "      <td>Jaguars</td>\n",
       "    </tr>\n",
       "  </tbody>\n",
       "</table>\n",
       "</div>"
      ],
      "text/plain": [
       "                 date                                           headline  \\\n",
       "0 2017-12-10 10:40:00  Bucs DT Gerald McCoy fears he suffered a torn ...   \n",
       "1 2017-12-10 09:28:00  Coach Todd Bowles announced Josh McCown suffer...   \n",
       "2 2017-12-10 09:20:00  Keelan Cole caught all three of his targets fo...   \n",
       "3 2017-12-10 09:15:00  Dede Westbrook caught 5-of-8 targets for 81 ya...   \n",
       "4 2017-12-10 09:10:00  Marqise Lee caught 5-of-6 targets for 65 yards...   \n",
       "\n",
       "             name                                               news  \\\n",
       "0    Gerald McCoy  \\n             McCoy has torn his biceps twice...   \n",
       "1     Josh McCown  \\n             McCown was banged up in this on...   \n",
       "2     Keelan Cole  \\n             Cole reeled in a 75-yard touchd...   \n",
       "3  Dede Westbrook  \\n             Westbrook's first NFL touchdown...   \n",
       "4     Marqise Lee  \\n             Lee has turned into a solid flo...   \n",
       "\n",
       "         team  \n",
       "0  Buccaneers  \n",
       "1        Jets  \n",
       "2     Jaguars  \n",
       "3     Jaguars  \n",
       "4     Jaguars  "
      ]
     },
     "execution_count": 2,
     "metadata": {},
     "output_type": "execute_result"
    }
   ],
   "source": [
    "news = pd.read_excel('../data/news_data.xlsx')\n",
    "news.head()"
   ]
  },
  {
   "cell_type": "code",
   "execution_count": 3,
   "metadata": {
    "scrolled": true
   },
   "outputs": [
    {
     "data": {
      "text/html": [
       "<div>\n",
       "<style>\n",
       "    .dataframe thead tr:only-child th {\n",
       "        text-align: right;\n",
       "    }\n",
       "\n",
       "    .dataframe thead th {\n",
       "        text-align: left;\n",
       "    }\n",
       "\n",
       "    .dataframe tbody tr th {\n",
       "        vertical-align: top;\n",
       "    }\n",
       "</style>\n",
       "<table border=\"1\" class=\"dataframe\">\n",
       "  <thead>\n",
       "    <tr style=\"text-align: right;\">\n",
       "      <th></th>\n",
       "      <th>date</th>\n",
       "      <th>headline</th>\n",
       "      <th>name</th>\n",
       "      <th>news</th>\n",
       "      <th>team</th>\n",
       "    </tr>\n",
       "  </thead>\n",
       "  <tbody>\n",
       "    <tr>\n",
       "      <th>22476</th>\n",
       "      <td>2016-10-20 09:31:00</td>\n",
       "      <td>Ladarius Green (ankle, PUP) said there is \"no ...</td>\n",
       "      <td>Ladarius Green</td>\n",
       "      <td>\\n             Signed to a four-year, $20 mill...</td>\n",
       "      <td>Free Agent</td>\n",
       "    </tr>\n",
       "    <tr>\n",
       "      <th>22477</th>\n",
       "      <td>2016-10-20 09:28:00</td>\n",
       "      <td>Gerald McCoy (calf) practiced on a limited bas...</td>\n",
       "      <td>Gerald McCoy</td>\n",
       "      <td>\\n             It is a step in the right direc...</td>\n",
       "      <td>Buccaneers</td>\n",
       "    </tr>\n",
       "    <tr>\n",
       "      <th>22478</th>\n",
       "      <td>2016-10-20 09:25:00</td>\n",
       "      <td>Jordan Reed said he hid the concussion he suff...</td>\n",
       "      <td>Jordan Reed</td>\n",
       "      <td>\\n             \"I kind of kept it to myself,\" ...</td>\n",
       "      <td>Redskins</td>\n",
       "    </tr>\n",
       "    <tr>\n",
       "      <th>22479</th>\n",
       "      <td>2016-10-20 09:13:00</td>\n",
       "      <td>Colts coach Chuck Pagano said DE Henry Anderso...</td>\n",
       "      <td>Henry Anderson</td>\n",
       "      <td>\\n             Anderson played through his kne...</td>\n",
       "      <td>Colts</td>\n",
       "    </tr>\n",
       "    <tr>\n",
       "      <th>22480</th>\n",
       "      <td>2016-10-20 09:10:00</td>\n",
       "      <td>With Doug Martin (hamstring) out, Jacquizz Rod...</td>\n",
       "      <td>Jacquizz Rodgers</td>\n",
       "      <td>\\n             Rodgers was the unquestioned wo...</td>\n",
       "      <td>Buccaneers</td>\n",
       "    </tr>\n",
       "  </tbody>\n",
       "</table>\n",
       "</div>"
      ],
      "text/plain": [
       "                     date                                           headline  \\\n",
       "22476 2016-10-20 09:31:00  Ladarius Green (ankle, PUP) said there is \"no ...   \n",
       "22477 2016-10-20 09:28:00  Gerald McCoy (calf) practiced on a limited bas...   \n",
       "22478 2016-10-20 09:25:00  Jordan Reed said he hid the concussion he suff...   \n",
       "22479 2016-10-20 09:13:00  Colts coach Chuck Pagano said DE Henry Anderso...   \n",
       "22480 2016-10-20 09:10:00  With Doug Martin (hamstring) out, Jacquizz Rod...   \n",
       "\n",
       "                   name                                               news  \\\n",
       "22476    Ladarius Green  \\n             Signed to a four-year, $20 mill...   \n",
       "22477      Gerald McCoy  \\n             It is a step in the right direc...   \n",
       "22478       Jordan Reed  \\n             \"I kind of kept it to myself,\" ...   \n",
       "22479    Henry Anderson  \\n             Anderson played through his kne...   \n",
       "22480  Jacquizz Rodgers  \\n             Rodgers was the unquestioned wo...   \n",
       "\n",
       "             team  \n",
       "22476  Free Agent  \n",
       "22477  Buccaneers  \n",
       "22478    Redskins  \n",
       "22479       Colts  \n",
       "22480  Buccaneers  "
      ]
     },
     "execution_count": 3,
     "metadata": {},
     "output_type": "execute_result"
    }
   ],
   "source": [
    "news.tail()"
   ]
  },
  {
   "cell_type": "markdown",
   "metadata": {},
   "source": [
    "### Preprocessing Player News"
   ]
  },
  {
   "cell_type": "code",
   "execution_count": 4,
   "metadata": {
    "collapsed": true
   },
   "outputs": [],
   "source": [
    "cities = {\n",
    "    'Bills':'Buffalo',\n",
    "    'Dolphins':'Miami',\n",
    "    'Patriots':'New England',\n",
    "    'Jets':'New York',\n",
    "    'Ravens':'Baltimore',\n",
    "    'Bengals':'Cincinnati',\n",
    "    'Browns':'Cleveland',\n",
    "    'Steelers':'Pittsburgh',\n",
    "    'Texans':'Houston',\n",
    "    'Colts':'Indianapolis',\n",
    "    'Jaguars':'Jacksonville',\n",
    "    'Titans':'Tennessee',\n",
    "    'Broncos':'Denver',\n",
    "    'Chiefs':'Kansas City',\n",
    "    'Chargers':'Los Angeles',\n",
    "    'Raiders':'Oakland',\n",
    "    'Cowboys':'Dallas',\n",
    "    'Giants':'New York',\n",
    "    'Eagles':'Philadelphia',\n",
    "    'Redskins':'Washington',\n",
    "    'Bears':'Chicago',\n",
    "    'Lions':'Detroit',\n",
    "    'Packers':'Green Bay',\n",
    "    'Vikings':'Minnesota',\n",
    "    'Falcons':'Atlanta',\n",
    "    'Panthers':'Carolina',\n",
    "    'Saints':'New Orleans',\n",
    "    'Buccaneers':'Tampa Bay',\n",
    "    'Cardinals':'Arizona',\n",
    "    'Rams':'Los Angeles',\n",
    "    '49ers':'San Francisco',\n",
    "    'Seahawks':'Seattle'  \n",
    "}\n",
    "\n",
    "default_cities = defaultdict(str)\n",
    "for city in cities.keys():\n",
    "    default_cities[city] = cities[city]"
   ]
  },
  {
   "cell_type": "code",
   "execution_count": 5,
   "metadata": {},
   "outputs": [
    {
     "data": {
      "text/html": [
       "<div>\n",
       "<style>\n",
       "    .dataframe thead tr:only-child th {\n",
       "        text-align: right;\n",
       "    }\n",
       "\n",
       "    .dataframe thead th {\n",
       "        text-align: left;\n",
       "    }\n",
       "\n",
       "    .dataframe tbody tr th {\n",
       "        vertical-align: top;\n",
       "    }\n",
       "</style>\n",
       "<table border=\"1\" class=\"dataframe\">\n",
       "  <thead>\n",
       "    <tr style=\"text-align: right;\">\n",
       "      <th></th>\n",
       "      <th>name</th>\n",
       "      <th>news</th>\n",
       "      <th>news_clean</th>\n",
       "      <th>news_unigrams</th>\n",
       "      <th>news_bigrams</th>\n",
       "    </tr>\n",
       "  </thead>\n",
       "  <tbody>\n",
       "    <tr>\n",
       "      <th>0</th>\n",
       "      <td>Gerald McCoy</td>\n",
       "      <td>\\n             McCoy has torn his biceps twice...</td>\n",
       "      <td>self torn biceps twice already pro career tear...</td>\n",
       "      <td>[self, torn, bicep, twice, alreadi, pro, caree...</td>\n",
       "      <td>[falcon panther, he know, panther saint, saint...</td>\n",
       "    </tr>\n",
       "    <tr>\n",
       "      <th>1</th>\n",
       "      <td>Josh McCown</td>\n",
       "      <td>\\n             McCown was banged up in this on...</td>\n",
       "      <td>self banged one injuring back second quarter h...</td>\n",
       "      <td>[self, bang, one, injur, back, second, quarter...</td>\n",
       "      <td>[bryce petti, hell undergo, it tough, mccown g...</td>\n",
       "    </tr>\n",
       "    <tr>\n",
       "      <th>2</th>\n",
       "      <td>Keelan Cole</td>\n",
       "      <td>\\n             Cole reeled in a 75-yard touchd...</td>\n",
       "      <td>self reeled yard touchdown beautiful catch thr...</td>\n",
       "      <td>[self, reel, yard, touchdown, beauti, catch, t...</td>\n",
       "      <td>[blake bortl, bortl give, it second, wr head, ...</td>\n",
       "    </tr>\n",
       "    <tr>\n",
       "      <th>3</th>\n",
       "      <td>Dede Westbrook</td>\n",
       "      <td>\\n             Westbrook's first NFL touchdown...</td>\n",
       "      <td>Westbrooks first NFL touchdown came yard corne...</td>\n",
       "      <td>[westbrook, first, nfl, touchdown, came, yard,...</td>\n",
       "      <td>[hi eight, nfl touchdown, texan defens, came y...</td>\n",
       "    </tr>\n",
       "    <tr>\n",
       "      <th>4</th>\n",
       "      <td>Marqise Lee</td>\n",
       "      <td>\\n             Lee has turned into a solid flo...</td>\n",
       "      <td>self turned solid floor play fantasy five catc...</td>\n",
       "      <td>[self, turn, solid, floor, play, fantasi, five...</td>\n",
       "      <td>[after catch, wr option, week meet, with week,...</td>\n",
       "    </tr>\n",
       "  </tbody>\n",
       "</table>\n",
       "</div>"
      ],
      "text/plain": [
       "             name                                               news  \\\n",
       "0    Gerald McCoy  \\n             McCoy has torn his biceps twice...   \n",
       "1     Josh McCown  \\n             McCown was banged up in this on...   \n",
       "2     Keelan Cole  \\n             Cole reeled in a 75-yard touchd...   \n",
       "3  Dede Westbrook  \\n             Westbrook's first NFL touchdown...   \n",
       "4     Marqise Lee  \\n             Lee has turned into a solid flo...   \n",
       "\n",
       "                                          news_clean  \\\n",
       "0  self torn biceps twice already pro career tear...   \n",
       "1  self banged one injuring back second quarter h...   \n",
       "2  self reeled yard touchdown beautiful catch thr...   \n",
       "3  Westbrooks first NFL touchdown came yard corne...   \n",
       "4  self turned solid floor play fantasy five catc...   \n",
       "\n",
       "                                       news_unigrams  \\\n",
       "0  [self, torn, bicep, twice, alreadi, pro, caree...   \n",
       "1  [self, bang, one, injur, back, second, quarter...   \n",
       "2  [self, reel, yard, touchdown, beauti, catch, t...   \n",
       "3  [westbrook, first, nfl, touchdown, came, yard,...   \n",
       "4  [self, turn, solid, floor, play, fantasi, five...   \n",
       "\n",
       "                                        news_bigrams  \n",
       "0  [falcon panther, he know, panther saint, saint...  \n",
       "1  [bryce petti, hell undergo, it tough, mccown g...  \n",
       "2  [blake bortl, bortl give, it second, wr head, ...  \n",
       "3  [hi eight, nfl touchdown, texan defens, came y...  \n",
       "4  [after catch, wr option, week meet, with week,...  "
      ]
     },
     "execution_count": 5,
     "metadata": {},
     "output_type": "execute_result"
    }
   ],
   "source": [
    "regex = re.compile('[^a-zA-Z]')\n",
    "to_display = ['name','news','news_clean','news_unigrams','news_bigrams']\n",
    "stopWords = set(stopwords.words('english'))\n",
    "\n",
    "def process_text(row):\n",
    "    '''\n",
    "    if the news mentions that player -> self\n",
    "    if the news mentions the player's team -> ownteam\n",
    "    if the news mentions the player's city -> owncity\n",
    "    '''\n",
    "    parsed_sentence = str()\n",
    "    names = row['name'].split()\n",
    "    for word in row['news'].split():\n",
    "        word = regex.sub('',word)\n",
    "        if word in names:\n",
    "            parsed_sentence = parsed_sentence+'self '\n",
    "        elif word ==row['team']:\n",
    "            parsed_sentence = parsed_sentence+'ownteam '\n",
    "        elif word in default_cities[row['team']].split():\n",
    "            parsed_sentence = parsed_sentence+'owncity '\n",
    "        elif word in stopWords:\n",
    "            pass\n",
    "        else:\n",
    "            parsed_sentence = parsed_sentence+word+' '\n",
    "    return parsed_sentence\n",
    "\n",
    "def get_bigrams(myString):\n",
    "    tokenizer = WordPunctTokenizer()\n",
    "    tokens = tokenizer.tokenize(myString)\n",
    "    stemmer = PorterStemmer()\n",
    "    bigram_finder = BigramCollocationFinder.from_words(tokens)\n",
    "    bigram_tuples = bigram_finder.nbest(BigramAssocMeasures.chi_sq, 500)\n",
    "    bigrams = []\n",
    "    for bigram_tuple in bigram_tuples:\n",
    "        x = \"%s %s\" % bigram_tuple\n",
    "        bigrams.append(x)\n",
    "        \n",
    "    result = [' '.join([stemmer.stem(w).lower() for w in x.split()]) for x in bigrams]\n",
    "    return result\n",
    "\n",
    "def get_unigrams(myString):\n",
    "    tokenizer = WordPunctTokenizer()\n",
    "    tokens = tokenizer.tokenize(myString)\n",
    "    stemmer = PorterStemmer()\n",
    "    result = [stemmer.stem(w).lower() for w in tokens if w.lower() not in stopWords]\n",
    "    return result\n",
    "\n",
    "news['news_clean'] = news.apply(process_text, axis = 1)\n",
    "news['news_unigrams'] = news['news_clean'].apply(lambda x: get_unigrams(x))\n",
    "news['news_bigrams'] = news['news_clean'].apply(lambda x: get_bigrams(x))\n",
    "news[to_display].head()"
   ]
  },
  {
   "cell_type": "markdown",
   "metadata": {},
   "source": [
    "### Player Scores and Averages"
   ]
  },
  {
   "cell_type": "code",
   "execution_count": 6,
   "metadata": {
    "scrolled": true
   },
   "outputs": [
    {
     "data": {
      "text/html": [
       "<div>\n",
       "<style>\n",
       "    .dataframe thead tr:only-child th {\n",
       "        text-align: right;\n",
       "    }\n",
       "\n",
       "    .dataframe thead th {\n",
       "        text-align: left;\n",
       "    }\n",
       "\n",
       "    .dataframe tbody tr th {\n",
       "        vertical-align: top;\n",
       "    }\n",
       "</style>\n",
       "<table border=\"1\" class=\"dataframe\">\n",
       "  <thead>\n",
       "    <tr style=\"text-align: right;\">\n",
       "      <th></th>\n",
       "      <th>Player</th>\n",
       "      <th>Team</th>\n",
       "      <th>Position</th>\n",
       "      <th>Year</th>\n",
       "      <th>Week</th>\n",
       "      <th>Points</th>\n",
       "    </tr>\n",
       "  </thead>\n",
       "  <tbody>\n",
       "    <tr>\n",
       "      <th>0</th>\n",
       "      <td>Drew Brees</td>\n",
       "      <td>NO</td>\n",
       "      <td>QB</td>\n",
       "      <td>2016</td>\n",
       "      <td>1</td>\n",
       "      <td>37.7</td>\n",
       "    </tr>\n",
       "    <tr>\n",
       "      <th>1</th>\n",
       "      <td>Andrew Luck</td>\n",
       "      <td>IND</td>\n",
       "      <td>QB</td>\n",
       "      <td>2016</td>\n",
       "      <td>1</td>\n",
       "      <td>37.4</td>\n",
       "    </tr>\n",
       "    <tr>\n",
       "      <th>2</th>\n",
       "      <td>Alex Smith</td>\n",
       "      <td>KC</td>\n",
       "      <td>QB</td>\n",
       "      <td>2016</td>\n",
       "      <td>1</td>\n",
       "      <td>33.7</td>\n",
       "    </tr>\n",
       "    <tr>\n",
       "      <th>3</th>\n",
       "      <td>Jameis Winston</td>\n",
       "      <td>TB</td>\n",
       "      <td>QB</td>\n",
       "      <td>2016</td>\n",
       "      <td>1</td>\n",
       "      <td>30.4</td>\n",
       "    </tr>\n",
       "    <tr>\n",
       "      <th>4</th>\n",
       "      <td>Matthew Stafford</td>\n",
       "      <td>DET</td>\n",
       "      <td>QB</td>\n",
       "      <td>2016</td>\n",
       "      <td>1</td>\n",
       "      <td>29.5</td>\n",
       "    </tr>\n",
       "  </tbody>\n",
       "</table>\n",
       "</div>"
      ],
      "text/plain": [
       "             Player Team Position  Year  Week  Points\n",
       "0        Drew Brees   NO       QB  2016     1    37.7\n",
       "1       Andrew Luck  IND       QB  2016     1    37.4\n",
       "2        Alex Smith   KC       QB  2016     1    33.7\n",
       "3    Jameis Winston   TB       QB  2016     1    30.4\n",
       "4  Matthew Stafford  DET       QB  2016     1    29.5"
      ]
     },
     "execution_count": 6,
     "metadata": {},
     "output_type": "execute_result"
    }
   ],
   "source": [
    "#Match up scores with articles\n",
    "scores = pd.read_csv('../data/fantasy_points_data.csv', parse_dates= True)\n",
    "scores.head()"
   ]
  },
  {
   "cell_type": "code",
   "execution_count": 7,
   "metadata": {
    "collapsed": true
   },
   "outputs": [],
   "source": [
    "def yearly_average(row):\n",
    "    if row['Year']==2016:\n",
    "        return row['Points']/weeks_in_2016\n",
    "    elif row['Year']==2017:\n",
    "        return row['Points']/weeks_in_2017"
   ]
  },
  {
   "cell_type": "code",
   "execution_count": 8,
   "metadata": {
    "collapsed": true
   },
   "outputs": [],
   "source": [
    "#Computing average over all weeks in year\n",
    "weeks_in_2016 = scores[scores.Year==2016]['Week'].max()\n",
    "weeks_in_2017 = scores[scores.Year==2017]['Week'].max()\n",
    "avg_scores = scores.groupby(['Player','Year'], as_index=False)['Points'].sum()\n",
    "avg_scores['Avg_Points']= avg_scores.apply(yearly_average,axis=1)\n",
    "avg_scores.columns = ['Player', 'Year', 'SeasonPoints', 'AvgSeasonPoints']"
   ]
  },
  {
   "cell_type": "code",
   "execution_count": 9,
   "metadata": {},
   "outputs": [
    {
     "data": {
      "text/html": [
       "<div>\n",
       "<style>\n",
       "    .dataframe thead tr:only-child th {\n",
       "        text-align: right;\n",
       "    }\n",
       "\n",
       "    .dataframe thead th {\n",
       "        text-align: left;\n",
       "    }\n",
       "\n",
       "    .dataframe tbody tr th {\n",
       "        vertical-align: top;\n",
       "    }\n",
       "</style>\n",
       "<table border=\"1\" class=\"dataframe\">\n",
       "  <thead>\n",
       "    <tr style=\"text-align: right;\">\n",
       "      <th></th>\n",
       "      <th>Player</th>\n",
       "      <th>Year</th>\n",
       "      <th>AvgWkPoints</th>\n",
       "    </tr>\n",
       "  </thead>\n",
       "  <tbody>\n",
       "    <tr>\n",
       "      <th>0</th>\n",
       "      <td>A.J. Derby</td>\n",
       "      <td>2016</td>\n",
       "      <td>3.425000</td>\n",
       "    </tr>\n",
       "    <tr>\n",
       "      <th>1</th>\n",
       "      <td>A.J. Derby</td>\n",
       "      <td>2017</td>\n",
       "      <td>4.050000</td>\n",
       "    </tr>\n",
       "    <tr>\n",
       "      <th>2</th>\n",
       "      <td>A.J. Green</td>\n",
       "      <td>2016</td>\n",
       "      <td>13.377778</td>\n",
       "    </tr>\n",
       "    <tr>\n",
       "      <th>3</th>\n",
       "      <td>A.J. Green</td>\n",
       "      <td>2017</td>\n",
       "      <td>10.692308</td>\n",
       "    </tr>\n",
       "    <tr>\n",
       "      <th>4</th>\n",
       "      <td>AJ McCarron</td>\n",
       "      <td>2017</td>\n",
       "      <td>1.900000</td>\n",
       "    </tr>\n",
       "  </tbody>\n",
       "</table>\n",
       "</div>"
      ],
      "text/plain": [
       "        Player  Year  AvgWkPoints\n",
       "0   A.J. Derby  2016     3.425000\n",
       "1   A.J. Derby  2017     4.050000\n",
       "2   A.J. Green  2016    13.377778\n",
       "3   A.J. Green  2017    10.692308\n",
       "4  AJ McCarron  2017     1.900000"
      ]
     },
     "execution_count": 9,
     "metadata": {},
     "output_type": "execute_result"
    }
   ],
   "source": [
    "#Computing averages over all weeks *played* in a year\n",
    "wkavg_scores = scores.groupby(['Player', 'Year'], as_index=False)['Points'].mean()\n",
    "wkavg_scores.columns = ['Player', 'Year', 'AvgWkPoints']\n",
    "wkavg_scores.head()"
   ]
  },
  {
   "cell_type": "code",
   "execution_count": 10,
   "metadata": {},
   "outputs": [
    {
     "data": {
      "text/html": [
       "<div>\n",
       "<style>\n",
       "    .dataframe thead tr:only-child th {\n",
       "        text-align: right;\n",
       "    }\n",
       "\n",
       "    .dataframe thead th {\n",
       "        text-align: left;\n",
       "    }\n",
       "\n",
       "    .dataframe tbody tr th {\n",
       "        vertical-align: top;\n",
       "    }\n",
       "</style>\n",
       "<table border=\"1\" class=\"dataframe\">\n",
       "  <thead>\n",
       "    <tr style=\"text-align: right;\">\n",
       "      <th></th>\n",
       "      <th>Player</th>\n",
       "      <th>Team</th>\n",
       "      <th>Position</th>\n",
       "      <th>Year</th>\n",
       "      <th>Week</th>\n",
       "      <th>Points</th>\n",
       "      <th>SeasonPoints</th>\n",
       "      <th>AvgSeasonPoints</th>\n",
       "      <th>AvgWkPoints</th>\n",
       "      <th>Diff_from_Avg</th>\n",
       "      <th>Diff_from_WkAvg</th>\n",
       "    </tr>\n",
       "  </thead>\n",
       "  <tbody>\n",
       "    <tr>\n",
       "      <th>0</th>\n",
       "      <td>Drew Brees</td>\n",
       "      <td>NO</td>\n",
       "      <td>QB</td>\n",
       "      <td>2016</td>\n",
       "      <td>1</td>\n",
       "      <td>37.7</td>\n",
       "      <td>338.5</td>\n",
       "      <td>19.911765</td>\n",
       "      <td>21.15625</td>\n",
       "      <td>17.788235</td>\n",
       "      <td>16.54375</td>\n",
       "    </tr>\n",
       "    <tr>\n",
       "      <th>1</th>\n",
       "      <td>Drew Brees</td>\n",
       "      <td>NO</td>\n",
       "      <td>QB</td>\n",
       "      <td>2016</td>\n",
       "      <td>2</td>\n",
       "      <td>14.5</td>\n",
       "      <td>338.5</td>\n",
       "      <td>19.911765</td>\n",
       "      <td>21.15625</td>\n",
       "      <td>-5.411765</td>\n",
       "      <td>-6.65625</td>\n",
       "    </tr>\n",
       "    <tr>\n",
       "      <th>2</th>\n",
       "      <td>Drew Brees</td>\n",
       "      <td>NO</td>\n",
       "      <td>QB</td>\n",
       "      <td>2016</td>\n",
       "      <td>3</td>\n",
       "      <td>25.9</td>\n",
       "      <td>338.5</td>\n",
       "      <td>19.911765</td>\n",
       "      <td>21.15625</td>\n",
       "      <td>5.988235</td>\n",
       "      <td>4.74375</td>\n",
       "    </tr>\n",
       "    <tr>\n",
       "      <th>3</th>\n",
       "      <td>Drew Brees</td>\n",
       "      <td>NO</td>\n",
       "      <td>QB</td>\n",
       "      <td>2016</td>\n",
       "      <td>4</td>\n",
       "      <td>11.8</td>\n",
       "      <td>338.5</td>\n",
       "      <td>19.911765</td>\n",
       "      <td>21.15625</td>\n",
       "      <td>-8.111765</td>\n",
       "      <td>-9.35625</td>\n",
       "    </tr>\n",
       "    <tr>\n",
       "      <th>4</th>\n",
       "      <td>Drew Brees</td>\n",
       "      <td>NO</td>\n",
       "      <td>QB</td>\n",
       "      <td>2016</td>\n",
       "      <td>6</td>\n",
       "      <td>32.6</td>\n",
       "      <td>338.5</td>\n",
       "      <td>19.911765</td>\n",
       "      <td>21.15625</td>\n",
       "      <td>12.688235</td>\n",
       "      <td>11.44375</td>\n",
       "    </tr>\n",
       "  </tbody>\n",
       "</table>\n",
       "</div>"
      ],
      "text/plain": [
       "       Player Team Position  Year  Week  Points  SeasonPoints  \\\n",
       "0  Drew Brees   NO       QB  2016     1    37.7         338.5   \n",
       "1  Drew Brees   NO       QB  2016     2    14.5         338.5   \n",
       "2  Drew Brees   NO       QB  2016     3    25.9         338.5   \n",
       "3  Drew Brees   NO       QB  2016     4    11.8         338.5   \n",
       "4  Drew Brees   NO       QB  2016     6    32.6         338.5   \n",
       "\n",
       "   AvgSeasonPoints  AvgWkPoints  Diff_from_Avg  Diff_from_WkAvg  \n",
       "0        19.911765     21.15625      17.788235         16.54375  \n",
       "1        19.911765     21.15625      -5.411765         -6.65625  \n",
       "2        19.911765     21.15625       5.988235          4.74375  \n",
       "3        19.911765     21.15625      -8.111765         -9.35625  \n",
       "4        19.911765     21.15625      12.688235         11.44375  "
      ]
     },
     "execution_count": 10,
     "metadata": {},
     "output_type": "execute_result"
    }
   ],
   "source": [
    "scores_combined = scores.merge(avg_scores, \n",
    "                               how='inner', \n",
    "                               on=['Player','Year'])\n",
    "scores_combined = scores_combined.merge(wkavg_scores,\n",
    "                                  how='inner',\n",
    "                                  on=['Player', 'Year'])\n",
    "scores_combined['Diff_from_Avg'] = scores_combined['Points'] - scores_combined['AvgSeasonPoints']\n",
    "scores_combined['Diff_from_WkAvg'] = scores_combined['Points'] - scores_combined['AvgWkPoints'] \n",
    "scores_combined.head()"
   ]
  },
  {
   "cell_type": "markdown",
   "metadata": {},
   "source": [
    "### Merging"
   ]
  },
  {
   "cell_type": "code",
   "execution_count": 11,
   "metadata": {
    "collapsed": true
   },
   "outputs": [],
   "source": [
    "start_of_season = {2016:pd.datetime.strptime('2016-09-08', '%Y-%m-%d'),\n",
    "                  2017:pd.datetime.strptime('2017-09-08', '%Y-%m-%d')}"
   ]
  },
  {
   "cell_type": "code",
   "execution_count": 12,
   "metadata": {
    "collapsed": true
   },
   "outputs": [],
   "source": [
    "#Add in the first and last date for a given playing week\n",
    "scores_combined['max_date'] = scores_combined.apply(lambda x: start_of_season[x['Year']] + timedelta(weeks = x['Week']), axis=1)\n",
    "scores_combined['min_date'] = scores_combined.apply(lambda x: start_of_season[x['Year']] + timedelta(weeks = x['Week'] - 1), axis=1)"
   ]
  },
  {
   "cell_type": "code",
   "execution_count": 13,
   "metadata": {
    "scrolled": false
   },
   "outputs": [
    {
     "data": {
      "text/plain": [
       "Player                     object\n",
       "Team                       object\n",
       "Position                   object\n",
       "Year                        int64\n",
       "Week                        int64\n",
       "Points                    float64\n",
       "SeasonPoints              float64\n",
       "AvgSeasonPoints           float64\n",
       "AvgWkPoints               float64\n",
       "Diff_from_Avg             float64\n",
       "Diff_from_WkAvg           float64\n",
       "max_date           datetime64[ns]\n",
       "min_date           datetime64[ns]\n",
       "dtype: object"
      ]
     },
     "execution_count": 13,
     "metadata": {},
     "output_type": "execute_result"
    }
   ],
   "source": [
    "scores_combined.dtypes"
   ]
  },
  {
   "cell_type": "code",
   "execution_count": 14,
   "metadata": {
    "scrolled": false
   },
   "outputs": [
    {
     "data": {
      "text/plain": [
       "date             datetime64[ns]\n",
       "headline                 object\n",
       "name                     object\n",
       "news                     object\n",
       "team                     object\n",
       "news_clean               object\n",
       "news_unigrams            object\n",
       "news_bigrams             object\n",
       "dtype: object"
      ]
     },
     "execution_count": 14,
     "metadata": {},
     "output_type": "execute_result"
    }
   ],
   "source": [
    "news.dtypes"
   ]
  },
  {
   "cell_type": "code",
   "execution_count": 15,
   "metadata": {
    "collapsed": true
   },
   "outputs": [],
   "source": [
    "#Merge news with scores and filter out scores that are not within a playing week\n",
    "combined = scores_combined.merge(news, how='inner', left_on='Player', right_on='name')\n",
    "combined = combined[(combined['date'] <= combined['max_date']) & \n",
    "                    (combined['date'] >= combined['min_date'])]"
   ]
  },
  {
   "cell_type": "code",
   "execution_count": 16,
   "metadata": {
    "scrolled": true
   },
   "outputs": [
    {
     "data": {
      "text/plain": [
       "(11105, 21)"
      ]
     },
     "execution_count": 16,
     "metadata": {},
     "output_type": "execute_result"
    }
   ],
   "source": [
    "combined.shape"
   ]
  },
  {
   "cell_type": "code",
   "execution_count": 26,
   "metadata": {
    "collapsed": true
   },
   "outputs": [],
   "source": [
    "mismatched_scores = scores_combined.merge(news, how='left', left_on='Player', right_on='name')\n",
    "mismatched_scores = mismatched_scores[(mismatched_scores['date'] <= mismatched_scores['max_date']) \n",
    "                                      & (mismatched_scores['date'] >= mismatched_scores['min_date']) \n",
    "                                      #& (mismatched_scores['name'] == np.nan)]\n",
    "                                     ]\n",
    "mismatched_news = scores_combined.merge(news, how='right', left_on='Player', right_on='name')\n",
    "#mismatched_news = mismatched_news[mismatched_news['Player'] == np.nan]"
   ]
  },
  {
   "cell_type": "code",
   "execution_count": 46,
   "metadata": {},
   "outputs": [
    {
     "data": {
      "text/plain": [
       "1390"
      ]
     },
     "execution_count": 46,
     "metadata": {},
     "output_type": "execute_result"
    }
   ],
   "source": [
    "#Number of players with no scores\n",
    "len(news[np.invert(np.in1d(news.name, scores_combined.Player))].name.value_counts())"
   ]
  },
  {
   "cell_type": "code",
   "execution_count": 47,
   "metadata": {},
   "outputs": [
    {
     "data": {
      "text/plain": [
       "6387"
      ]
     },
     "execution_count": 47,
     "metadata": {},
     "output_type": "execute_result"
    }
   ],
   "source": [
    "#Count of news articles with no scores\n",
    "np.sum(news[np.invert(np.in1d(news.name, scores_combined.Player))].name.value_counts())"
   ]
  },
  {
   "cell_type": "code",
   "execution_count": 48,
   "metadata": {},
   "outputs": [
    {
     "data": {
      "text/plain": [
       "Odell Beckham         88\n",
       "Luke Kuechly          49\n",
       "Steve Smith Sr.       43\n",
       "Tyron Smith           40\n",
       "Vontae Davis          39\n",
       "John Ross             39\n",
       "Ryan Kalil            37\n",
       "Terron Armstead       35\n",
       "Ted Ginn              33\n",
       "Darrelle Revis        32\n",
       "Jimmy Smith           32\n",
       "Trent Williams        29\n",
       "Cordy Glenn           29\n",
       "Joe Haden             28\n",
       "Muhammad Wilkerson    28\n",
       "Justin Houston        28\n",
       "David Amerson         28\n",
       "Tyrann Mathieu        27\n",
       "Teddy Bridgewater     27\n",
       "Michael Bennett       27\n",
       "Mike Pouncey          27\n",
       "Dont'a Hightower      27\n",
       "Janoris Jenkins       26\n",
       "Kyle Shanahan         26\n",
       "Ezekiel Ansah         26\n",
       "Jason Pierre-Paul     26\n",
       "Clay Matthews         25\n",
       "Jalen Ramsey          25\n",
       "DeAndre Levy          25\n",
       "Earl Thomas           25\n",
       "                      ..\n",
       "Morgan Fox             1\n",
       "Cameron Stingily       1\n",
       "Jude Adjei-Barimah     1\n",
       "Tenny Palepoi          1\n",
       "Corbin Bryant          1\n",
       "Matt Wile              1\n",
       "Alexander Armah        1\n",
       "Glenn Gronkowski       1\n",
       "Nate Sudfeld           1\n",
       "Nick Fairley           1\n",
       "Jacques McClendon      1\n",
       "Dick LeBeau            1\n",
       "Todd Downing           1\n",
       "Jordan Dangerfield     1\n",
       "Kapron Lewis-Moore     1\n",
       "Derel Walker           1\n",
       "Ben Gottschalk         1\n",
       "Bryce Harris           1\n",
       "Jordan Phillips        1\n",
       "Louis Riddick          1\n",
       "Robert Eddins          1\n",
       "Garrett Gilbert        1\n",
       "Eric Pinkins           1\n",
       "David Lee              1\n",
       "Perry Riley            1\n",
       "Jordan Hill            1\n",
       "Jayrone Elliott        1\n",
       "Josh Forrest           1\n",
       "Adam Gase              1\n",
       "Chris Clemons          1\n",
       "Name: name, Length: 1390, dtype: int64"
      ]
     },
     "execution_count": 48,
     "metadata": {},
     "output_type": "execute_result"
    }
   ],
   "source": [
    "news[np.invert(np.in1d(news.name, scores_combined.Player))].name.value_counts()"
   ]
  },
  {
   "cell_type": "code",
   "execution_count": 22,
   "metadata": {},
   "outputs": [
    {
     "data": {
      "text/html": [
       "<div>\n",
       "<style>\n",
       "    .dataframe thead tr:only-child th {\n",
       "        text-align: right;\n",
       "    }\n",
       "\n",
       "    .dataframe thead th {\n",
       "        text-align: left;\n",
       "    }\n",
       "\n",
       "    .dataframe tbody tr th {\n",
       "        vertical-align: top;\n",
       "    }\n",
       "</style>\n",
       "<table border=\"1\" class=\"dataframe\">\n",
       "  <thead>\n",
       "    <tr style=\"text-align: right;\">\n",
       "      <th></th>\n",
       "      <th>Player</th>\n",
       "      <th>Team</th>\n",
       "      <th>Position</th>\n",
       "      <th>Year</th>\n",
       "      <th>Week</th>\n",
       "      <th>Points</th>\n",
       "      <th>SeasonPoints</th>\n",
       "      <th>AvgSeasonPoints</th>\n",
       "      <th>AvgWkPoints</th>\n",
       "      <th>Diff_from_Avg</th>\n",
       "      <th>...</th>\n",
       "      <th>max_date</th>\n",
       "      <th>min_date</th>\n",
       "      <th>date</th>\n",
       "      <th>headline</th>\n",
       "      <th>name</th>\n",
       "      <th>news</th>\n",
       "      <th>team</th>\n",
       "      <th>news_clean</th>\n",
       "      <th>news_unigrams</th>\n",
       "      <th>news_bigrams</th>\n",
       "    </tr>\n",
       "  </thead>\n",
       "  <tbody>\n",
       "    <tr>\n",
       "      <th>20</th>\n",
       "      <td>Drew Brees</td>\n",
       "      <td>NO</td>\n",
       "      <td>QB</td>\n",
       "      <td>2016</td>\n",
       "      <td>1</td>\n",
       "      <td>37.7</td>\n",
       "      <td>338.5</td>\n",
       "      <td>19.911765</td>\n",
       "      <td>21.15625</td>\n",
       "      <td>17.788235</td>\n",
       "      <td>...</td>\n",
       "      <td>2016-09-15</td>\n",
       "      <td>2016-09-08</td>\n",
       "      <td>2016-09-11 04:33:00</td>\n",
       "      <td>Drew Brees completed 28-of-42 passes for 424 y...</td>\n",
       "      <td>Drew Brees</td>\n",
       "      <td>\\n             Aside from an early lost fumble...</td>\n",
       "      <td>Saints</td>\n",
       "      <td>Aside early lost fumble self played quarterbac...</td>\n",
       "      <td>[asid, earli, lost, fumbl, self, play, quarter...</td>\n",
       "      <td>[asid earli, the highlight, bumbl defens, defe...</td>\n",
       "    </tr>\n",
       "    <tr>\n",
       "      <th>21</th>\n",
       "      <td>Drew Brees</td>\n",
       "      <td>NO</td>\n",
       "      <td>QB</td>\n",
       "      <td>2016</td>\n",
       "      <td>1</td>\n",
       "      <td>37.7</td>\n",
       "      <td>338.5</td>\n",
       "      <td>19.911765</td>\n",
       "      <td>21.15625</td>\n",
       "      <td>17.788235</td>\n",
       "      <td>...</td>\n",
       "      <td>2016-09-15</td>\n",
       "      <td>2016-09-08</td>\n",
       "      <td>2016-09-08 11:56:00</td>\n",
       "      <td>Drew Brees got a $30 million signing bonus on ...</td>\n",
       "      <td>Drew Brees</td>\n",
       "      <td>\\n             That bonus will be spread out a...</td>\n",
       "      <td>Saints</td>\n",
       "      <td>That bonus spread across next five years ownte...</td>\n",
       "      <td>[bonu, spread, across, next, five, year, ownte...</td>\n",
       "      <td>[that bonu, the entir, across next, base salar...</td>\n",
       "    </tr>\n",
       "    <tr>\n",
       "      <th>57</th>\n",
       "      <td>Drew Brees</td>\n",
       "      <td>NO</td>\n",
       "      <td>QB</td>\n",
       "      <td>2016</td>\n",
       "      <td>2</td>\n",
       "      <td>14.5</td>\n",
       "      <td>338.5</td>\n",
       "      <td>19.911765</td>\n",
       "      <td>21.15625</td>\n",
       "      <td>-5.411765</td>\n",
       "      <td>...</td>\n",
       "      <td>2016-09-22</td>\n",
       "      <td>2016-09-15</td>\n",
       "      <td>2016-09-18 05:32:00</td>\n",
       "      <td>Drew Brees completed 29-of-44 passes for 263 y...</td>\n",
       "      <td>Drew Brees</td>\n",
       "      <td>\\n             Brees got off to a very slow st...</td>\n",
       "      <td>Saints</td>\n",
       "      <td>self got slow start averaging five yards per a...</td>\n",
       "      <td>[self, got, slow, start, averag, five, yard, p...</td>\n",
       "      <td>[atlanta next, giant put, he didnt, it quiet, ...</td>\n",
       "    </tr>\n",
       "    <tr>\n",
       "      <th>94</th>\n",
       "      <td>Drew Brees</td>\n",
       "      <td>NO</td>\n",
       "      <td>QB</td>\n",
       "      <td>2016</td>\n",
       "      <td>3</td>\n",
       "      <td>25.9</td>\n",
       "      <td>338.5</td>\n",
       "      <td>19.911765</td>\n",
       "      <td>21.15625</td>\n",
       "      <td>5.988235</td>\n",
       "      <td>...</td>\n",
       "      <td>2016-09-29</td>\n",
       "      <td>2016-09-22</td>\n",
       "      <td>2016-09-27 12:01:00</td>\n",
       "      <td>Drew Brees completed 36-of-54 passes for 376 y...</td>\n",
       "      <td>Drew Brees</td>\n",
       "      <td>\\n             Unfortunately for the Saints, t...</td>\n",
       "      <td>Saints</td>\n",
       "      <td>Unfortunately ownteam defense couldnt stop Fal...</td>\n",
       "      <td>[unfortun, ownteam, defens, couldnt, stop, fal...</td>\n",
       "      <td>[cobi fleener, diego week, fleener two, ingram...</td>\n",
       "    </tr>\n",
       "    <tr>\n",
       "      <th>131</th>\n",
       "      <td>Drew Brees</td>\n",
       "      <td>NO</td>\n",
       "      <td>QB</td>\n",
       "      <td>2016</td>\n",
       "      <td>4</td>\n",
       "      <td>11.8</td>\n",
       "      <td>338.5</td>\n",
       "      <td>19.911765</td>\n",
       "      <td>21.15625</td>\n",
       "      <td>-8.111765</td>\n",
       "      <td>...</td>\n",
       "      <td>2016-10-06</td>\n",
       "      <td>2016-09-29</td>\n",
       "      <td>2016-10-02 08:25:00</td>\n",
       "      <td>Drew Brees completed 23-of-36 passes for 206 y...</td>\n",
       "      <td>Drew Brees</td>\n",
       "      <td>\\n             It was not a vintage performanc...</td>\n",
       "      <td>Saints</td>\n",
       "      <td>It vintage performance self He struggled accur...</td>\n",
       "      <td>[vintag, perform, self, struggl, accuraci, gam...</td>\n",
       "      <td>[charger gift, it vintag, panther home, qb fac...</td>\n",
       "    </tr>\n",
       "  </tbody>\n",
       "</table>\n",
       "<p>5 rows × 21 columns</p>\n",
       "</div>"
      ],
      "text/plain": [
       "         Player Team Position  Year  Week  Points  SeasonPoints  \\\n",
       "20   Drew Brees   NO       QB  2016     1    37.7         338.5   \n",
       "21   Drew Brees   NO       QB  2016     1    37.7         338.5   \n",
       "57   Drew Brees   NO       QB  2016     2    14.5         338.5   \n",
       "94   Drew Brees   NO       QB  2016     3    25.9         338.5   \n",
       "131  Drew Brees   NO       QB  2016     4    11.8         338.5   \n",
       "\n",
       "     AvgSeasonPoints  AvgWkPoints  Diff_from_Avg  \\\n",
       "20         19.911765     21.15625      17.788235   \n",
       "21         19.911765     21.15625      17.788235   \n",
       "57         19.911765     21.15625      -5.411765   \n",
       "94         19.911765     21.15625       5.988235   \n",
       "131        19.911765     21.15625      -8.111765   \n",
       "\n",
       "                           ...                           max_date   min_date  \\\n",
       "20                         ...                         2016-09-15 2016-09-08   \n",
       "21                         ...                         2016-09-15 2016-09-08   \n",
       "57                         ...                         2016-09-22 2016-09-15   \n",
       "94                         ...                         2016-09-29 2016-09-22   \n",
       "131                        ...                         2016-10-06 2016-09-29   \n",
       "\n",
       "                   date                                           headline  \\\n",
       "20  2016-09-11 04:33:00  Drew Brees completed 28-of-42 passes for 424 y...   \n",
       "21  2016-09-08 11:56:00  Drew Brees got a $30 million signing bonus on ...   \n",
       "57  2016-09-18 05:32:00  Drew Brees completed 29-of-44 passes for 263 y...   \n",
       "94  2016-09-27 12:01:00  Drew Brees completed 36-of-54 passes for 376 y...   \n",
       "131 2016-10-02 08:25:00  Drew Brees completed 23-of-36 passes for 206 y...   \n",
       "\n",
       "           name                                               news    team  \\\n",
       "20   Drew Brees  \\n             Aside from an early lost fumble...  Saints   \n",
       "21   Drew Brees  \\n             That bonus will be spread out a...  Saints   \n",
       "57   Drew Brees  \\n             Brees got off to a very slow st...  Saints   \n",
       "94   Drew Brees  \\n             Unfortunately for the Saints, t...  Saints   \n",
       "131  Drew Brees  \\n             It was not a vintage performanc...  Saints   \n",
       "\n",
       "                                            news_clean  \\\n",
       "20   Aside early lost fumble self played quarterbac...   \n",
       "21   That bonus spread across next five years ownte...   \n",
       "57   self got slow start averaging five yards per a...   \n",
       "94   Unfortunately ownteam defense couldnt stop Fal...   \n",
       "131  It vintage performance self He struggled accur...   \n",
       "\n",
       "                                         news_unigrams  \\\n",
       "20   [asid, earli, lost, fumbl, self, play, quarter...   \n",
       "21   [bonu, spread, across, next, five, year, ownte...   \n",
       "57   [self, got, slow, start, averag, five, yard, p...   \n",
       "94   [unfortun, ownteam, defens, couldnt, stop, fal...   \n",
       "131  [vintag, perform, self, struggl, accuraci, gam...   \n",
       "\n",
       "                                          news_bigrams  \n",
       "20   [asid earli, the highlight, bumbl defens, defe...  \n",
       "21   [that bonu, the entir, across next, base salar...  \n",
       "57   [atlanta next, giant put, he didnt, it quiet, ...  \n",
       "94   [cobi fleener, diego week, fleener two, ingram...  \n",
       "131  [charger gift, it vintag, panther home, qb fac...  \n",
       "\n",
       "[5 rows x 21 columns]"
      ]
     },
     "execution_count": 22,
     "metadata": {},
     "output_type": "execute_result"
    }
   ],
   "source": [
    "mismatched_scores.head()"
   ]
  },
  {
   "cell_type": "markdown",
   "metadata": {},
   "source": [
    "### Output"
   ]
  },
  {
   "cell_type": "code",
   "execution_count": 49,
   "metadata": {
    "collapsed": true
   },
   "outputs": [],
   "source": [
    "#combined.to_csv('../data/news_and_scores.csv', index=False)\n",
    "combined.to_excel('../data/news_and_scores.xlsx', index=False)"
   ]
  },
  {
   "cell_type": "code",
   "execution_count": 18,
   "metadata": {
    "collapsed": true
   },
   "outputs": [],
   "source": [
    "mismatched_scores.to_csv('../data/mismatched_scores.csv', index=False)\n",
    "mismatched_news.to_csv('../data/mismatched_news.csv')"
   ]
  },
  {
   "cell_type": "code",
   "execution_count": 19,
   "metadata": {},
   "outputs": [
    {
     "data": {
      "text/plain": [
       "(0, 21)"
      ]
     },
     "execution_count": 19,
     "metadata": {},
     "output_type": "execute_result"
    }
   ],
   "source": [
    "mismatched_scores.shape"
   ]
  },
  {
   "cell_type": "code",
   "execution_count": 20,
   "metadata": {},
   "outputs": [
    {
     "data": {
      "text/plain": [
       "(0, 21)"
      ]
     },
     "execution_count": 20,
     "metadata": {},
     "output_type": "execute_result"
    }
   ],
   "source": [
    "mismatched_news.shape"
   ]
  },
  {
   "cell_type": "code",
   "execution_count": null,
   "metadata": {
    "collapsed": true
   },
   "outputs": [],
   "source": []
  }
 ],
 "metadata": {
  "kernelspec": {
   "display_name": "Python 3",
   "language": "python",
   "name": "python3"
  },
  "language_info": {
   "codemirror_mode": {
    "name": "ipython",
    "version": 3
   },
   "file_extension": ".py",
   "mimetype": "text/x-python",
   "name": "python",
   "nbconvert_exporter": "python",
   "pygments_lexer": "ipython3",
   "version": "3.6.3"
  }
 },
 "nbformat": 4,
 "nbformat_minor": 2
}
