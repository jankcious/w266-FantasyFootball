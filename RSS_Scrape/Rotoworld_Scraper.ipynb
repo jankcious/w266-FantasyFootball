{
 "cells": [
  {
   "cell_type": "code",
   "execution_count": 1,
   "metadata": {
    "collapsed": false
   },
   "outputs": [],
   "source": [
    "import feedparser\n",
    "import pandas\n",
    "import numpy\n",
    "import time\n",
    "import csv"
   ]
  },
  {
   "cell_type": "code",
   "execution_count": 2,
   "metadata": {
    "collapsed": true
   },
   "outputs": [],
   "source": [
    "d = feedparser.parse('http://www.rotoworld.com/rss/feed.aspx?sport=nfl&ftype=news&count=12&format=rss')"
   ]
  },
  {
   "cell_type": "code",
   "execution_count": 3,
   "metadata": {
    "collapsed": true
   },
   "outputs": [],
   "source": [
    "vault = {}"
   ]
  },
  {
   "cell_type": "code",
   "execution_count": 5,
   "metadata": {
    "collapsed": false
   },
   "outputs": [
    {
     "data": {
      "text/plain": [
       "u'WAS'"
      ]
     },
     "execution_count": 5,
     "metadata": {},
     "output_type": "execute_result"
    }
   ],
   "source": [
    "d['entries'][1]['title'].rsplit('| ', 1)[1]"
   ]
  },
  {
   "cell_type": "code",
   "execution_count": null,
   "metadata": {
    "collapsed": false,
    "scrolled": false
   },
   "outputs": [
    {
     "name": "stdout",
     "output_type": "stream",
     "text": [
      "{'date': u'2017-11-13T19:11:00-05:00', 'player': u'damien-williams', 'team': u'MIA', 'text': u'Damien Williams (illness) is active for Week 10 against the Panthers.', 'title': u'Damien Williams (illness) active for MNF - Damien Williams | MIA'}\n",
      "{'date': u'2017-11-13T18:32:00-05:00', 'player': u'philip-rivers', 'team': u'LAC', 'text': u\"Philip Rivers is in the league's concussion protocol.\", 'title': u'Philip Rivers in concussion protocol Monday - Philip Rivers | LAC'}\n",
      "{'date': u'2017-11-13T17:48:00-05:00', 'player': u'sean-lee', 'team': u'DAL', 'text': u'The Dallas Morning News reports the Cowboys are bracing for WLB Sean Lee (hamstring) to miss the next three games.', 'title': u'Cowboys fear 3-game absence for LB Sean Lee - Sean Lee | DAL'}\n",
      "{'date': u'2017-11-13T17:38:00-05:00', 'player': u'allen-hurns', 'team': u'JAC', 'text': u'Allen Hurns (ankle) will not play in Week 11 against the Browns.', 'title': u'Jags to be without WR Hurns against Browns - Allen Hurns | JAC'}\n",
      "{'date': u'2017-11-13T17:14:00-05:00', 'player': u'gareon-conley', 'team': u'OAK', 'text': u'Raiders placed CB Gareon Conley (shin) on injured reserve, ending his season.', 'title': u'Raiders put 1st-rd pick Conley on inj reserve - Gareon Conley | OAK'}\n",
      "{'date': u'2017-11-13T17:01:00-05:00', 'player': u'dj-humphries', 'team': u'ARZ', 'text': u'Cardinals placed LT D.J. Humphries on injured reserve with an MCL injury and dislocated kneecap, ending his season.', 'title': u'Cardinals place LT Humphries on inj. reserve - D.J. Humphries | ARZ'}\n",
      "{'date': u'2017-11-13T16:54:00-05:00', 'player': u'ty-montgomery', 'team': u'GB', 'text': u'The Packers believe Ty Montgomery (ribs) has a &quot;chance&quot; to play in Week 11 against the Ravens.', 'title': u\"Ty Montgomery has 'chance' to play vs Ravens - Ty Montgomery | GB\"}\n",
      "{'date': u'2017-11-13T16:46:00-05:00', 'player': u'sean-lee', 'team': u'DAL', 'text': u'Cowboys WLB Sean Lee (hamstring) is not expected to play in Week 11 and is in danger of missing &quot;several games.&quot;', 'title': u\"Sean Lee in danger of missing 'several games' - Sean Lee | DAL\"}\n",
      "{'date': u'2017-11-13T16:35:00-05:00', 'player': u'byron-maxwell', 'team': u'SEA', 'text': u'Seahawks signed CB Byron Maxwell, formerly of the Dolphins.', 'title': u'Seahawks reunite with CB Byron Maxwell - Byron Maxwell | SEA'}\n",
      "{'date': u'2017-11-13T16:16:00-05:00', 'player': u'tyron-smith', 'team': u'DAL', 'text': u'Cowboys coach Jason Garrett admitted Monday that LT Tyron Smith (groin) and WLB Sean Lee (hamstring) are uncertain to play in Week 11.', 'title': u'Tyron Smith, Sean Lee uncertain for Week 11 - Tyron Smith | DAL'}\n",
      "{'date': u'2017-11-13T16:10:00-05:00', 'player': u'danny-woodhead', 'team': u'BAL', 'text': u'The Ravens are &quot;not sure&quot; Danny Woodhead (hamstring, I.R.) will be ready to play in Week 11 against the Packers.', 'title': u\"Ravens 'not sure' Woodhead will play Week 11 - Danny Woodhead | BAL\"}\n",
      "{'date': u'2017-11-13T16:08:00-05:00', 'player': u'case-keenum', 'team': u'MIN', 'text': u\"CBS Sports' Jason La Canfora reports the Vikings will stick with Case Keenum at quarterback for Week 11 against the Rams.\", 'title': u'Report: Vikings sticking with Keenum at QB - Case Keenum | MIN'}\n",
      "{'date': u'2017-11-13T23:45:00-05:00', 'player': u'cam-newton', 'team': u'CAR', 'text': u\"Cam Newton completed 21-of-35 passes for 254 yards and four touchdowns in the Panthers' 45-21, Week 10 win over the Dolphins, adding 95 yards on five carries as a runner.\", 'title': u'Newton throws 4 TDs in Panthers win - Cam Newton | CAR'}\n",
      "{'date': u'2017-11-13T23:53:00-05:00', 'player': u'devin-funchess', 'team': u'CAR', 'text': u\"Devin Funchess caught 5-of-6 targets for 92 yards and two touchdowns in the Panthers' Week 10 win over the Dolphins.\", 'title': u'Funchess torches Dolphins for 5/92/2 - Devin Funchess | CAR'}\n",
      "{'date': u'2017-11-14T00:03:00-05:00', 'player': u'christian-mccaffrey', 'team': u'CAR', 'text': u\"Christian McCaffrey rushed five times for 23 yards and one touchdown in the Panthers' 45-21, Week 10 win over the Dolphins.\", 'title': u'McCaffrey scores twice in win over Dolphins - Christian McCaffrey | CAR'}\n",
      "{'date': u'2017-11-14T00:14:00-05:00', 'player': u'jonathan-stewart', 'team': u'CAR', 'text': u\"Jonathan Stewart rushed 17 times for 110 yards in the Panthers' Week 10 win over the Dolphins.\", 'title': u'Jonathan Stewart rushes for 110 yards in win - Jonathan Stewart | CAR'}\n"
     ]
    }
   ],
   "source": [
    "for minutes in range(1000): \n",
    "    d = feedparser.parse('http://www.rotoworld.com/rss/feed.aspx?sport=nfl&ftype=news&count=12&format=rss')\n",
    "    for updates in d['entries']:\n",
    "        if updates['id'] in vault:\n",
    "            pass\n",
    "        else:\n",
    "            vault[updates['id']] = {'player': updates['link'].rsplit('/', 1)[1], 'title': updates['title'], 'text': updates['summary'], 'team': updates['title'].rsplit('| ', 1)[1],  'date': updates['updated']}\n",
    "            print vault[updates['id']]\n",
    "    if minutes % 10 == 0:\n",
    "        w = csv.writer(open(\"rotoworld_3.csv\", \"w\"))\n",
    "        for key, val in vault.items():\n",
    "            w.writerow([key, val])\n",
    "    time.sleep(240)"
   ]
  }
 ],
 "metadata": {
  "kernelspec": {
   "display_name": "Python 2",
   "language": "python",
   "name": "python2"
  },
  "language_info": {
   "codemirror_mode": {
    "name": "ipython",
    "version": 2
   },
   "file_extension": ".py",
   "mimetype": "text/x-python",
   "name": "python",
   "nbconvert_exporter": "python",
   "pygments_lexer": "ipython2",
   "version": "2.7.13"
  }
 },
 "nbformat": 4,
 "nbformat_minor": 2
}
