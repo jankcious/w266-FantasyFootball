{
 "cells": [
  {
   "cell_type": "code",
   "execution_count": 1,
   "metadata": {
    "collapsed": true
   },
   "outputs": [],
   "source": [
    "import feedparser\n",
    "import pandas\n",
    "import numpy\n",
    "import time"
   ]
  },
  {
   "cell_type": "code",
   "execution_count": 2,
   "metadata": {
    "collapsed": true
   },
   "outputs": [],
   "source": [
    "d = feedparser.parse('http://www.rotowire.com/rss/news.htm?sport=nfl')"
   ]
  },
  {
   "cell_type": "code",
   "execution_count": 6,
   "metadata": {
    "collapsed": false
   },
   "outputs": [
    {
     "data": {
      "text/plain": [
       "{'bozo': 0,\n",
       " 'encoding': u'utf-8',\n",
       " 'entries': [{'guidislink': False,\n",
       "   'id': u'http://www.rotowire.com/rss/nfl365588',\n",
       "   'link': u'https://www.rotowire.com/football/player.htm?id=10133',\n",
       "   'links': [{'href': u'https://www.rotowire.com/football/player.htm?id=10133',\n",
       "     'rel': u'alternate',\n",
       "     'type': u'text/html'}],\n",
       "   'published': u'Fri, 20 Oct 2017 11:22:00 PST',\n",
       "   'published_parsed': time.struct_time(tm_year=2017, tm_mon=10, tm_mday=20, tm_hour=19, tm_min=22, tm_sec=0, tm_wday=4, tm_yday=293, tm_isdst=0),\n",
       "   'summary': u\"Stefon Diggs: The Vikings ruled Diggs (groin) out for Sunday's game against Baltimore, Courtney Cronin of ESPN.com reports.\\n\\nVisit RotoWire.com for more analysis on this update.\",\n",
       "   'summary_detail': {'base': u'http://www.rotowire.com/rss/news.htm?sport=nfl',\n",
       "    'language': None,\n",
       "    'type': u'text/html',\n",
       "    'value': u\"Stefon Diggs: The Vikings ruled Diggs (groin) out for Sunday's game against Baltimore, Courtney Cronin of ESPN.com reports.\\n\\nVisit RotoWire.com for more analysis on this update.\"},\n",
       "   'title': u'Stefon Diggs: Ruled out again',\n",
       "   'title_detail': {'base': u'http://www.rotowire.com/rss/news.htm?sport=nfl',\n",
       "    'language': None,\n",
       "    'type': u'text/plain',\n",
       "    'value': u'Stefon Diggs: Ruled out again'}},\n",
       "  {'guidislink': False,\n",
       "   'id': u'http://www.rotowire.com/rss/nfl365583',\n",
       "   'link': u'https://www.rotowire.com/football/player.htm?id=9273',\n",
       "   'links': [{'href': u'https://www.rotowire.com/football/player.htm?id=9273',\n",
       "     'rel': u'alternate',\n",
       "     'type': u'text/html'}],\n",
       "   'published': u'Fri, 20 Oct 2017 10:59:00 PST',\n",
       "   'published_parsed': time.struct_time(tm_year=2017, tm_mon=10, tm_mday=20, tm_hour=18, tm_min=59, tm_sec=0, tm_wday=4, tm_yday=293, tm_isdst=0),\n",
       "   'summary': u\"Jordan Matthews: Though listed as a full practice participant Friday, Matthews (thumb) is listed as questionable for Sunday's game against the Buccaneers.\\n\\nVisit RotoWire.com for more analysis on this update.\",\n",
       "   'summary_detail': {'base': u'http://www.rotowire.com/rss/news.htm?sport=nfl',\n",
       "    'language': None,\n",
       "    'type': u'text/html',\n",
       "    'value': u\"Jordan Matthews: Though listed as a full practice participant Friday, Matthews (thumb) is listed as questionable for Sunday's game against the Buccaneers.\\n\\nVisit RotoWire.com for more analysis on this update.\"},\n",
       "   'title': u'Jordan Matthews: Listed as questionable this week',\n",
       "   'title_detail': {'base': u'http://www.rotowire.com/rss/news.htm?sport=nfl',\n",
       "    'language': None,\n",
       "    'type': u'text/plain',\n",
       "    'value': u'Jordan Matthews: Listed as questionable this week'}},\n",
       "  {'guidislink': False,\n",
       "   'id': u'http://www.rotowire.com/rss/nfl365577',\n",
       "   'link': u'https://www.rotowire.com/football/player.htm?id=6452',\n",
       "   'links': [{'href': u'https://www.rotowire.com/football/player.htm?id=6452',\n",
       "     'rel': u'alternate',\n",
       "     'type': u'text/html'}],\n",
       "   'published': u'Fri, 20 Oct 2017 10:37:00 PST',\n",
       "   'published_parsed': time.struct_time(tm_year=2017, tm_mon=10, tm_mday=20, tm_hour=18, tm_min=37, tm_sec=0, tm_wday=4, tm_yday=293, tm_isdst=0),\n",
       "   'summary': u\"Sam Bradford: Vikings head coach Mike Zimmer ruled Bradford (knee) out for Sunday's game against Baltimore, Chris Tomasson of the St. Paul Pioneer Press reports.\\n\\nVisit RotoWire.com for more analysis on this update.\",\n",
       "   'summary_detail': {'base': u'http://www.rotowire.com/rss/news.htm?sport=nfl',\n",
       "    'language': None,\n",
       "    'type': u'text/html',\n",
       "    'value': u\"Sam Bradford: Vikings head coach Mike Zimmer ruled Bradford (knee) out for Sunday's game against Baltimore, Chris Tomasson of the St. Paul Pioneer Press reports.\\n\\nVisit RotoWire.com for more analysis on this update.\"},\n",
       "   'title': u'Sam Bradford: Ruled out for Week 7',\n",
       "   'title_detail': {'base': u'http://www.rotowire.com/rss/news.htm?sport=nfl',\n",
       "    'language': None,\n",
       "    'type': u'text/plain',\n",
       "    'value': u'Sam Bradford: Ruled out for Week 7'}},\n",
       "  {'guidislink': False,\n",
       "   'id': u'http://www.rotowire.com/rss/nfl365576',\n",
       "   'link': u'https://www.rotowire.com/football/player.htm?id=8065',\n",
       "   'links': [{'href': u'https://www.rotowire.com/football/player.htm?id=8065',\n",
       "     'rel': u'alternate',\n",
       "     'type': u'text/html'}],\n",
       "   'published': u'Fri, 20 Oct 2017 10:35:00 PST',\n",
       "   'published_parsed': time.struct_time(tm_year=2017, tm_mon=10, tm_mday=20, tm_hour=18, tm_min=35, tm_sec=0, tm_wday=4, tm_yday=293, tm_isdst=0),\n",
       "   'summary': u\"Case Keenum: Vikings coach Mike Zimmer confirmed that Keenum will start Sunday's game against Baltimore, Chris Tomasson of the St. Paul Pioneer Press reports.\\n\\nVisit RotoWire.com for more analysis on this update.\",\n",
       "   'summary_detail': {'base': u'http://www.rotowire.com/rss/news.htm?sport=nfl',\n",
       "    'language': None,\n",
       "    'type': u'text/html',\n",
       "    'value': u\"Case Keenum: Vikings coach Mike Zimmer confirmed that Keenum will start Sunday's game against Baltimore, Chris Tomasson of the St. Paul Pioneer Press reports.\\n\\nVisit RotoWire.com for more analysis on this update.\"},\n",
       "   'title': u'Case Keenum: Confirmed as Week 7 starter',\n",
       "   'title_detail': {'base': u'http://www.rotowire.com/rss/news.htm?sport=nfl',\n",
       "    'language': None,\n",
       "    'type': u'text/plain',\n",
       "    'value': u'Case Keenum: Confirmed as Week 7 starter'}},\n",
       "  {'guidislink': False,\n",
       "   'id': u'http://www.rotowire.com/rss/nfl365575',\n",
       "   'link': u'https://www.rotowire.com/football/player.htm?id=7359',\n",
       "   'links': [{'href': u'https://www.rotowire.com/football/player.htm?id=7359',\n",
       "     'rel': u'alternate',\n",
       "     'type': u'text/html'}],\n",
       "   'published': u'Fri, 20 Oct 2017 10:32:00 PST',\n",
       "   'published_parsed': time.struct_time(tm_year=2017, tm_mon=10, tm_mday=20, tm_hour=18, tm_min=32, tm_sec=0, tm_wday=4, tm_yday=293, tm_isdst=0),\n",
       "   'summary': u\"DeMarco Murray: Murray (hamstring) is listed as questionable for the Titans' Week 7 matchup Sunday against the Browns, Jim Wyatt of the Titans' official site reports.\\n\\nVisit RotoWire.com for more analysis on this update.\",\n",
       "   'summary_detail': {'base': u'http://www.rotowire.com/rss/news.htm?sport=nfl',\n",
       "    'language': None,\n",
       "    'type': u'text/html',\n",
       "    'value': u\"DeMarco Murray: Murray (hamstring) is listed as questionable for the Titans' Week 7 matchup Sunday against the Browns, Jim Wyatt of the Titans' official site reports.\\n\\nVisit RotoWire.com for more analysis on this update.\"},\n",
       "   'title': u'DeMarco Murray: Deemed questionable for Sunday',\n",
       "   'title_detail': {'base': u'http://www.rotowire.com/rss/news.htm?sport=nfl',\n",
       "    'language': None,\n",
       "    'type': u'text/plain',\n",
       "    'value': u'DeMarco Murray: Deemed questionable for Sunday'}},\n",
       "  {'guidislink': False,\n",
       "   'id': u'http://www.rotowire.com/rss/nfl365573',\n",
       "   'link': u'https://www.rotowire.com/football/player.htm?id=8026',\n",
       "   'links': [{'href': u'https://www.rotowire.com/football/player.htm?id=8026',\n",
       "     'rel': u'alternate',\n",
       "     'type': u'text/html'}],\n",
       "   'published': u'Fri, 20 Oct 2017 10:28:00 PST',\n",
       "   'published_parsed': time.struct_time(tm_year=2017, tm_mon=10, tm_mday=20, tm_hour=18, tm_min=28, tm_sec=0, tm_wday=4, tm_yday=293, tm_isdst=0),\n",
       "   'summary': u\"Mohamed Sanu: Though he remained limited at Friday's practice, Sanu (hamstring) doesn't have an injury designation for Sunday's game in New England, Vaughn McClure of ESPN.com reports.\\n\\nVisit RotoWire.com for more analysis on this update.\",\n",
       "   'summary_detail': {'base': u'http://www.rotowire.com/rss/news.htm?sport=nfl',\n",
       "    'language': None,\n",
       "    'type': u'text/html',\n",
       "    'value': u\"Mohamed Sanu: Though he remained limited at Friday's practice, Sanu (hamstring) doesn't have an injury designation for Sunday's game in New England, Vaughn McClure of ESPN.com reports.\\n\\nVisit RotoWire.com for more analysis on this update.\"},\n",
       "   'title': u'Mohamed Sanu: Cleared to face Pats',\n",
       "   'title_detail': {'base': u'http://www.rotowire.com/rss/news.htm?sport=nfl',\n",
       "    'language': None,\n",
       "    'type': u'text/plain',\n",
       "    'value': u'Mohamed Sanu: Cleared to face Pats'}}],\n",
       " 'feed': {'image': {'height': 30,\n",
       "   'href': u'https://www.rotowire.com/images/logo_roto_small.gif',\n",
       "   'link': u'https://www.rotowire.com',\n",
       "   'links': [{'href': u'https://www.rotowire.com',\n",
       "     'rel': u'alternate',\n",
       "     'type': u'text/html'}],\n",
       "   'title': u'RotoWire.com Fantasy Sports',\n",
       "   'title_detail': {'base': u'http://www.rotowire.com/rss/news.htm?sport=nfl',\n",
       "    'language': None,\n",
       "    'type': u'text/plain',\n",
       "    'value': u'RotoWire.com Fantasy Sports'},\n",
       "   'width': 120},\n",
       "  'language': u'en-us',\n",
       "  'link': u'https://www.rotowire.com',\n",
       "  'links': [{'href': u'https://www.rotowire.com',\n",
       "    'rel': u'alternate',\n",
       "    'type': u'text/html'}],\n",
       "  'rights': u'Copyright (c) 2007 Roto Sports, Inc, All rights reserved.',\n",
       "  'rights_detail': {'base': u'http://www.rotowire.com/rss/news.htm?sport=nfl',\n",
       "   'language': None,\n",
       "   'type': u'text/plain',\n",
       "   'value': u'Copyright (c) 2007 Roto Sports, Inc, All rights reserved.'},\n",
       "  'subtitle': u'Fantasy Sports from RotoWire.com',\n",
       "  'subtitle_detail': {'base': u'http://www.rotowire.com/rss/news.htm?sport=nfl',\n",
       "   'language': None,\n",
       "   'type': u'text/html',\n",
       "   'value': u'Fantasy Sports from RotoWire.com'},\n",
       "  'tags': [{'label': None, 'scheme': None, 'term': u'Fantasy Sports'}],\n",
       "  'title': u'RotoWire.com NFL Latest News',\n",
       "  'title_detail': {'base': u'http://www.rotowire.com/rss/news.htm?sport=nfl',\n",
       "   'language': None,\n",
       "   'type': u'text/plain',\n",
       "   'value': u'RotoWire.com NFL Latest News'},\n",
       "  'ttl': u'10'},\n",
       " 'headers': {'cache-control': 'private',\n",
       "  'connection': 'close',\n",
       "  'content-length': '3942',\n",
       "  'content-type': 'application/rss+xml',\n",
       "  'date': 'Fri, 20 Oct 2017 19:10:46 GMT',\n",
       "  'server': 'Microsoft-IIS/7.0',\n",
       "  'set-cookie': 'ASPSESSIONIDQCDABQBT=HOJBHBCBFEIDEACKNMBDPJIF; path=/'},\n",
       " 'href': u'http://www.rotowire.com/rss/news.htm?sport=nfl',\n",
       " 'namespaces': {},\n",
       " 'status': 200,\n",
       " 'version': u'rss20'}"
      ]
     },
     "execution_count": 6,
     "metadata": {},
     "output_type": "execute_result"
    }
   ],
   "source": [
    "d"
   ]
  },
  {
   "cell_type": "code",
   "execution_count": 4,
   "metadata": {
    "collapsed": true
   },
   "outputs": [],
   "source": [
    "vault_1 = {}"
   ]
  },
  {
   "cell_type": "code",
   "execution_count": null,
   "metadata": {
    "collapsed": true
   },
   "outputs": [],
   "source": [
    "for minutes in range(1000): \n",
    "    d = feedparser.parse('http://www.rotowire.com/rss/news.htm?sport=nfl')\n",
    "    for updates in d['entries']:\n",
    "        if updates['id'] in vault:\n",
    "            pass\n",
    "        else:\n",
    "            vault[updates['id']] = {'player': updates['link'].rsplit('/', 1)[1], 'title': updates['title'], 'text': updates['summary'], 'team': updates['title'].rsplit('| ', 1)[1],  'date': updates['updated']}\n",
    "            print vault[updates['id']]\n",
    "    time.sleep(240)"
   ]
  },
  {
   "cell_type": "code",
   "execution_count": 11,
   "metadata": {
    "collapsed": false
   },
   "outputs": [
    {
     "data": {
      "text/plain": [
       "u'Fri, 20 Oct 2017 10:59:00 PST'"
      ]
     },
     "execution_count": 11,
     "metadata": {},
     "output_type": "execute_result"
    }
   ],
   "source": [
    "d['entries'][1]['published']"
   ]
  }
 ],
 "metadata": {
  "kernelspec": {
   "display_name": "Python 2",
   "language": "python",
   "name": "python2"
  },
  "language_info": {
   "codemirror_mode": {
    "name": "ipython",
    "version": 2
   },
   "file_extension": ".py",
   "mimetype": "text/x-python",
   "name": "python",
   "nbconvert_exporter": "python",
   "pygments_lexer": "ipython2",
   "version": "2.7.13"
  }
 },
 "nbformat": 4,
 "nbformat_minor": 2
}
