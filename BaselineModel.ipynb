{
 "cells": [
  {
   "cell_type": "code",
   "execution_count": 1,
   "metadata": {
    "collapsed": true
   },
   "outputs": [],
   "source": [
    "import numpy as np\n",
    "import pandas as pd\n",
    "import matplotlib.pyplot as plt\n",
    "from sklearn import naive_bayes\n",
    "from datetime import timedelta"
   ]
  },
  {
   "cell_type": "code",
   "execution_count": 37,
   "metadata": {
    "collapsed": true
   },
   "outputs": [],
   "source": [
    "import collections\n",
    "\n",
    "class Vocabulary(object):\n",
    "    START_TOKEN = \"<s>\"\n",
    "    END_TOKEN = \"</s>\"\n",
    "    UNK_TOKEN = \"<unk>\"\n",
    "\n",
    "    def __init__(self, tokens, size=None):\n",
    "        self.unigram_counts = collections.Counter(tokens)\n",
    "        self.num_unigrams = sum(self.unigram_counts.values())\n",
    "        # leave space for \"<s>\", \"</s>\", and \"<unk>\"\n",
    "        top_counts = self.unigram_counts.most_common(None if size is None else (size - 3))\n",
    "        vocab = ([self.START_TOKEN, self.END_TOKEN, self.UNK_TOKEN] +\n",
    "                 [w for w,c in top_counts])\n",
    "\n",
    "        # Assign an id to each word, by frequency\n",
    "        self.id_to_word = dict(enumerate(vocab))\n",
    "        self.word_to_id = {v:k for k,v in self.id_to_word.items()}\n",
    "        self.size = len(self.id_to_word)\n",
    "        if size is not None:\n",
    "            assert(self.size <= size)\n",
    "\n",
    "        # For convenience\n",
    "        self.wordset = set(self.word_to_id.keys())\n",
    "\n",
    "        # Store special IDs\n",
    "        self.START_ID = self.word_to_id[self.START_TOKEN]\n",
    "        self.END_ID = self.word_to_id[self.END_TOKEN]\n",
    "        self.UNK_ID = self.word_to_id[self.UNK_TOKEN]\n",
    "\n",
    "    def words_to_ids(self, words):\n",
    "        return [self.word_to_id.get(w, self.UNK_ID) for w in words]\n",
    "\n",
    "    def ids_to_words(self, ids):\n",
    "        return [self.id_to_word[i] for i in ids]\n",
    "\n",
    "    def sentence_to_ids(self, words):\n",
    "        return [self.START_ID] + self.words_to_ids(words) + [self.END_ID]\n",
    "\n",
    "    def ordered_words(self):\n",
    "        \"\"\"Return a list of words, ordered by id.\"\"\"\n",
    "        return self.ids_to_words(range(self.size))\n"
   ]
  },
  {
   "cell_type": "code",
   "execution_count": 7,
   "metadata": {
    "collapsed": true
   },
   "outputs": [],
   "source": [
    "def clean(sentence):\n",
    "    return sentence.lower().split()"
   ]
  },
  {
   "cell_type": "markdown",
   "metadata": {},
   "source": [
    "# Load in Articles"
   ]
  },
  {
   "cell_type": "code",
   "execution_count": 3,
   "metadata": {},
   "outputs": [
    {
     "data": {
      "text/html": [
       "<div>\n",
       "<style>\n",
       "    .dataframe thead tr:only-child th {\n",
       "        text-align: right;\n",
       "    }\n",
       "\n",
       "    .dataframe thead th {\n",
       "        text-align: left;\n",
       "    }\n",
       "\n",
       "    .dataframe tbody tr th {\n",
       "        vertical-align: top;\n",
       "    }\n",
       "</style>\n",
       "<table border=\"1\" class=\"dataframe\">\n",
       "  <thead>\n",
       "    <tr style=\"text-align: right;\">\n",
       "      <th></th>\n",
       "      <th>date</th>\n",
       "      <th>name</th>\n",
       "      <th>news</th>\n",
       "      <th>team</th>\n",
       "    </tr>\n",
       "  </thead>\n",
       "  <tbody>\n",
       "    <tr>\n",
       "      <th>0</th>\n",
       "      <td>2017-11-17</td>\n",
       "      <td>Bryan Bulaga</td>\n",
       "      <td>('The Green Bay Press-Gazette suggests the Pac...</td>\n",
       "      <td>Packers</td>\n",
       "    </tr>\n",
       "    <tr>\n",
       "      <th>1</th>\n",
       "      <td>2017-11-17</td>\n",
       "      <td>Philip Rivers</td>\n",
       "      <td>('Philip Rivers (concussion) has been cleared ...</td>\n",
       "      <td>Chargers</td>\n",
       "    </tr>\n",
       "    <tr>\n",
       "      <th>2</th>\n",
       "      <td>2017-11-17</td>\n",
       "      <td>Ezekiel Ansah</td>\n",
       "      <td>('The Detroit Free Press considers contract-ye...</td>\n",
       "      <td>Lions</td>\n",
       "    </tr>\n",
       "    <tr>\n",
       "      <th>3</th>\n",
       "      <td>2017-11-17</td>\n",
       "      <td>Ryan Grant</td>\n",
       "      <td>('Ryan Grant (concussion) is questionable for ...</td>\n",
       "      <td>Redskins</td>\n",
       "    </tr>\n",
       "    <tr>\n",
       "      <th>4</th>\n",
       "      <td>2017-11-17</td>\n",
       "      <td>Ronnie Stanley</td>\n",
       "      <td>('Ravens LT Ronnie Stanley (concussion) is lis...</td>\n",
       "      <td>Ravens</td>\n",
       "    </tr>\n",
       "  </tbody>\n",
       "</table>\n",
       "</div>"
      ],
      "text/plain": [
       "        date            name  \\\n",
       "0 2017-11-17    Bryan Bulaga   \n",
       "1 2017-11-17   Philip Rivers   \n",
       "2 2017-11-17   Ezekiel Ansah   \n",
       "3 2017-11-17      Ryan Grant   \n",
       "4 2017-11-17  Ronnie Stanley   \n",
       "\n",
       "                                                news      team  \n",
       "0  ('The Green Bay Press-Gazette suggests the Pac...   Packers  \n",
       "1  ('Philip Rivers (concussion) has been cleared ...  Chargers  \n",
       "2  ('The Detroit Free Press considers contract-ye...     Lions  \n",
       "3  ('Ryan Grant (concussion) is questionable for ...  Redskins  \n",
       "4  ('Ravens LT Ronnie Stanley (concussion) is lis...    Ravens  "
      ]
     },
     "execution_count": 3,
     "metadata": {},
     "output_type": "execute_result"
    }
   ],
   "source": [
    "df = pd.read_excel('all_season.xlsx')\n",
    "df.head()"
   ]
  },
  {
   "cell_type": "code",
   "execution_count": 10,
   "metadata": {},
   "outputs": [
    {
     "data": {
      "text/plain": [
       "'(\\'Anquan Boldin believes Zach Zenner can take a step forward in 2017.\\', \\'\\\\n             \"Whenever you have a young guy like that who’s able to play every down, that’s big,\" Boldin said. \"I saw him personally mature over the year, and he grabbed the coaches’ confidence. They weren’t shy about putting him in there. When they did put him in there, he responded well.\" Zenner was the unquestioned lead back by the end of the season, but the healthy returns of Ameer Abdullah and Theo Riddick are sure to push Zenner back down the depth chart. It is also possible the Lions add another big back in free agency or the draft. Despite a great finish to the season, Zenner is likely to open 2017 near the bottom of the depth chart.\\\\n        \\')'"
      ]
     },
     "execution_count": 10,
     "metadata": {},
     "output_type": "execute_result"
    }
   ],
   "source": [
    "#Split sentences into words\n",
    "df.iloc[0,2]"
   ]
  },
  {
   "cell_type": "code",
   "execution_count": 4,
   "metadata": {
    "collapsed": true
   },
   "outputs": [],
   "source": [
    "players = df.name.unique()"
   ]
  },
  {
   "cell_type": "code",
   "execution_count": 5,
   "metadata": {},
   "outputs": [
    {
     "data": {
      "text/plain": [
       "1681"
      ]
     },
     "execution_count": 5,
     "metadata": {},
     "output_type": "execute_result"
    }
   ],
   "source": [
    "len(players)"
   ]
  },
  {
   "cell_type": "code",
   "execution_count": 6,
   "metadata": {},
   "outputs": [
    {
     "data": {
      "text/plain": [
       "(5665, 4)"
      ]
     },
     "execution_count": 6,
     "metadata": {},
     "output_type": "execute_result"
    }
   ],
   "source": [
    "df.shape"
   ]
  },
  {
   "cell_type": "code",
   "execution_count": 8,
   "metadata": {
    "collapsed": true
   },
   "outputs": [],
   "source": [
    "df['news_list'] = df['news'].apply(lambda x: clean(x))"
   ]
  },
  {
   "cell_type": "code",
   "execution_count": 9,
   "metadata": {
    "scrolled": true
   },
   "outputs": [
    {
     "data": {
      "text/html": [
       "<div>\n",
       "<style>\n",
       "    .dataframe thead tr:only-child th {\n",
       "        text-align: right;\n",
       "    }\n",
       "\n",
       "    .dataframe thead th {\n",
       "        text-align: left;\n",
       "    }\n",
       "\n",
       "    .dataframe tbody tr th {\n",
       "        vertical-align: top;\n",
       "    }\n",
       "</style>\n",
       "<table border=\"1\" class=\"dataframe\">\n",
       "  <thead>\n",
       "    <tr style=\"text-align: right;\">\n",
       "      <th></th>\n",
       "      <th>date</th>\n",
       "      <th>name</th>\n",
       "      <th>news</th>\n",
       "      <th>team</th>\n",
       "      <th>news_list</th>\n",
       "    </tr>\n",
       "  </thead>\n",
       "  <tbody>\n",
       "    <tr>\n",
       "      <th>0</th>\n",
       "      <td>2017-11-17</td>\n",
       "      <td>Bryan Bulaga</td>\n",
       "      <td>('The Green Bay Press-Gazette suggests the Pac...</td>\n",
       "      <td>Packers</td>\n",
       "      <td>[('the, green, bay, press-gazette, suggests, t...</td>\n",
       "    </tr>\n",
       "    <tr>\n",
       "      <th>1</th>\n",
       "      <td>2017-11-17</td>\n",
       "      <td>Philip Rivers</td>\n",
       "      <td>('Philip Rivers (concussion) has been cleared ...</td>\n",
       "      <td>Chargers</td>\n",
       "      <td>[('philip, rivers, (concussion), has, been, cl...</td>\n",
       "    </tr>\n",
       "    <tr>\n",
       "      <th>2</th>\n",
       "      <td>2017-11-17</td>\n",
       "      <td>Ezekiel Ansah</td>\n",
       "      <td>('The Detroit Free Press considers contract-ye...</td>\n",
       "      <td>Lions</td>\n",
       "      <td>[('the, detroit, free, press, considers, contr...</td>\n",
       "    </tr>\n",
       "    <tr>\n",
       "      <th>3</th>\n",
       "      <td>2017-11-17</td>\n",
       "      <td>Ryan Grant</td>\n",
       "      <td>('Ryan Grant (concussion) is questionable for ...</td>\n",
       "      <td>Redskins</td>\n",
       "      <td>[('ryan, grant, (concussion), is, questionable...</td>\n",
       "    </tr>\n",
       "    <tr>\n",
       "      <th>4</th>\n",
       "      <td>2017-11-17</td>\n",
       "      <td>Ronnie Stanley</td>\n",
       "      <td>('Ravens LT Ronnie Stanley (concussion) is lis...</td>\n",
       "      <td>Ravens</td>\n",
       "      <td>[('ravens, lt, ronnie, stanley, (concussion), ...</td>\n",
       "    </tr>\n",
       "  </tbody>\n",
       "</table>\n",
       "</div>"
      ],
      "text/plain": [
       "        date            name  \\\n",
       "0 2017-11-17    Bryan Bulaga   \n",
       "1 2017-11-17   Philip Rivers   \n",
       "2 2017-11-17   Ezekiel Ansah   \n",
       "3 2017-11-17      Ryan Grant   \n",
       "4 2017-11-17  Ronnie Stanley   \n",
       "\n",
       "                                                news      team  \\\n",
       "0  ('The Green Bay Press-Gazette suggests the Pac...   Packers   \n",
       "1  ('Philip Rivers (concussion) has been cleared ...  Chargers   \n",
       "2  ('The Detroit Free Press considers contract-ye...     Lions   \n",
       "3  ('Ryan Grant (concussion) is questionable for ...  Redskins   \n",
       "4  ('Ravens LT Ronnie Stanley (concussion) is lis...    Ravens   \n",
       "\n",
       "                                           news_list  \n",
       "0  [('the, green, bay, press-gazette, suggests, t...  \n",
       "1  [('philip, rivers, (concussion), has, been, cl...  \n",
       "2  [('the, detroit, free, press, considers, contr...  \n",
       "3  [('ryan, grant, (concussion), is, questionable...  \n",
       "4  [('ravens, lt, ronnie, stanley, (concussion), ...  "
      ]
     },
     "execution_count": 9,
     "metadata": {},
     "output_type": "execute_result"
    }
   ],
   "source": [
    "df.head()"
   ]
  },
  {
   "cell_type": "code",
   "execution_count": 10,
   "metadata": {},
   "outputs": [
    {
     "data": {
      "text/plain": [
       "date         datetime64[ns]\n",
       "name                 object\n",
       "news                 object\n",
       "team                 object\n",
       "news_list            object\n",
       "dtype: object"
      ]
     },
     "execution_count": 10,
     "metadata": {},
     "output_type": "execute_result"
    }
   ],
   "source": [
    "df.dtypes"
   ]
  },
  {
   "cell_type": "code",
   "execution_count": 60,
   "metadata": {
    "collapsed": true
   },
   "outputs": [],
   "source": [
    "#df['date'] = ['2017 ' + x if x[:3] in ('Feb', 'Jan') else '2016 ' + x for x in df['date']]"
   ]
  },
  {
   "cell_type": "code",
   "execution_count": 66,
   "metadata": {
    "collapsed": true
   },
   "outputs": [],
   "source": [
    "#df['date'] = df['date'].apply(lambda x: pd.datetime.strptime(x, '%Y %b %d - %H:%M %p'))"
   ]
  },
  {
   "cell_type": "code",
   "execution_count": 92,
   "metadata": {},
   "outputs": [
    {
     "data": {
      "text/html": [
       "<div>\n",
       "<style>\n",
       "    .dataframe thead tr:only-child th {\n",
       "        text-align: right;\n",
       "    }\n",
       "\n",
       "    .dataframe thead th {\n",
       "        text-align: left;\n",
       "    }\n",
       "\n",
       "    .dataframe tbody tr th {\n",
       "        vertical-align: top;\n",
       "    }\n",
       "</style>\n",
       "<table border=\"1\" class=\"dataframe\">\n",
       "  <thead>\n",
       "    <tr style=\"text-align: right;\">\n",
       "      <th></th>\n",
       "      <th>date</th>\n",
       "      <th>name</th>\n",
       "      <th>news</th>\n",
       "      <th>team</th>\n",
       "      <th>news_list</th>\n",
       "    </tr>\n",
       "  </thead>\n",
       "  <tbody>\n",
       "    <tr>\n",
       "      <th>550</th>\n",
       "      <td>2017-01-01</td>\n",
       "      <td>Chip Kelly</td>\n",
       "      <td>('49ers fired HC Chip Kelly.', \"\\n            ...</td>\n",
       "      <td>Free Agent</td>\n",
       "      <td>[('49ers, fired, hc, chip, kelly.',, \"\\n, espn...</td>\n",
       "    </tr>\n",
       "    <tr>\n",
       "      <th>551</th>\n",
       "      <td>2017-01-01</td>\n",
       "      <td>Brandon Coleman</td>\n",
       "      <td>(\"Brandon Coleman caught 1-of-3 targets for ei...</td>\n",
       "      <td>Saints</td>\n",
       "      <td>[(\"brandon, coleman, caught, 1-of-3, targets, ...</td>\n",
       "    </tr>\n",
       "    <tr>\n",
       "      <th>552</th>\n",
       "      <td>2017-01-01</td>\n",
       "      <td>Tyrell Williams</td>\n",
       "      <td>('Tyrell Williams caught 6-of-7 targets for 70...</td>\n",
       "      <td>Chargers</td>\n",
       "      <td>[('tyrell, williams, caught, 6-of-7, targets, ...</td>\n",
       "    </tr>\n",
       "    <tr>\n",
       "      <th>553</th>\n",
       "      <td>2017-01-01</td>\n",
       "      <td>Brandin Cooks</td>\n",
       "      <td>(\"Brandin Cooks caught 3-of-6 targets for 19 y...</td>\n",
       "      <td>Patriots</td>\n",
       "      <td>[(\"brandin, cooks, caught, 3-of-6, targets, fo...</td>\n",
       "    </tr>\n",
       "    <tr>\n",
       "      <th>554</th>\n",
       "      <td>2017-01-01</td>\n",
       "      <td>Ronnie Hillman</td>\n",
       "      <td>('Ronnie Hillman rushed seven times for 41 yar...</td>\n",
       "      <td>Free Agent</td>\n",
       "      <td>[('ronnie, hillman, rushed, seven, times, for,...</td>\n",
       "    </tr>\n",
       "  </tbody>\n",
       "</table>\n",
       "</div>"
      ],
      "text/plain": [
       "          date             name  \\\n",
       "550 2017-01-01       Chip Kelly   \n",
       "551 2017-01-01  Brandon Coleman   \n",
       "552 2017-01-01  Tyrell Williams   \n",
       "553 2017-01-01    Brandin Cooks   \n",
       "554 2017-01-01   Ronnie Hillman   \n",
       "\n",
       "                                                  news        team  \\\n",
       "550  ('49ers fired HC Chip Kelly.', \"\\n            ...  Free Agent   \n",
       "551  (\"Brandon Coleman caught 1-of-3 targets for ei...      Saints   \n",
       "552  ('Tyrell Williams caught 6-of-7 targets for 70...    Chargers   \n",
       "553  (\"Brandin Cooks caught 3-of-6 targets for 19 y...    Patriots   \n",
       "554  ('Ronnie Hillman rushed seven times for 41 yar...  Free Agent   \n",
       "\n",
       "                                             news_list  \n",
       "550  [('49ers, fired, hc, chip, kelly.',, \"\\n, espn...  \n",
       "551  [(\"brandon, coleman, caught, 1-of-3, targets, ...  \n",
       "552  [('tyrell, williams, caught, 6-of-7, targets, ...  \n",
       "553  [(\"brandin, cooks, caught, 3-of-6, targets, fo...  \n",
       "554  [('ronnie, hillman, rushed, seven, times, for,...  "
      ]
     },
     "execution_count": 92,
     "metadata": {},
     "output_type": "execute_result"
    }
   ],
   "source": [
    "df.tail()"
   ]
  },
  {
   "cell_type": "code",
   "execution_count": 11,
   "metadata": {},
   "outputs": [
    {
     "data": {
      "text/html": [
       "<div>\n",
       "<style>\n",
       "    .dataframe thead tr:only-child th {\n",
       "        text-align: right;\n",
       "    }\n",
       "\n",
       "    .dataframe thead th {\n",
       "        text-align: left;\n",
       "    }\n",
       "\n",
       "    .dataframe tbody tr th {\n",
       "        vertical-align: top;\n",
       "    }\n",
       "</style>\n",
       "<table border=\"1\" class=\"dataframe\">\n",
       "  <thead>\n",
       "    <tr style=\"text-align: right;\">\n",
       "      <th></th>\n",
       "      <th>Player</th>\n",
       "      <th>Team</th>\n",
       "      <th>Position</th>\n",
       "      <th>Year</th>\n",
       "      <th>Week</th>\n",
       "      <th>Points</th>\n",
       "    </tr>\n",
       "  </thead>\n",
       "  <tbody>\n",
       "    <tr>\n",
       "      <th>0</th>\n",
       "      <td>Drew Brees</td>\n",
       "      <td>NO</td>\n",
       "      <td>QB</td>\n",
       "      <td>2016</td>\n",
       "      <td>1</td>\n",
       "      <td>37.7</td>\n",
       "    </tr>\n",
       "    <tr>\n",
       "      <th>1</th>\n",
       "      <td>Andrew Luck</td>\n",
       "      <td>IND</td>\n",
       "      <td>QB</td>\n",
       "      <td>2016</td>\n",
       "      <td>1</td>\n",
       "      <td>37.4</td>\n",
       "    </tr>\n",
       "    <tr>\n",
       "      <th>2</th>\n",
       "      <td>Alex Smith</td>\n",
       "      <td>KC</td>\n",
       "      <td>QB</td>\n",
       "      <td>2016</td>\n",
       "      <td>1</td>\n",
       "      <td>33.7</td>\n",
       "    </tr>\n",
       "    <tr>\n",
       "      <th>3</th>\n",
       "      <td>Jameis Winston</td>\n",
       "      <td>TB</td>\n",
       "      <td>QB</td>\n",
       "      <td>2016</td>\n",
       "      <td>1</td>\n",
       "      <td>30.4</td>\n",
       "    </tr>\n",
       "    <tr>\n",
       "      <th>4</th>\n",
       "      <td>Matthew Stafford</td>\n",
       "      <td>DET</td>\n",
       "      <td>QB</td>\n",
       "      <td>2016</td>\n",
       "      <td>1</td>\n",
       "      <td>29.5</td>\n",
       "    </tr>\n",
       "  </tbody>\n",
       "</table>\n",
       "</div>"
      ],
      "text/plain": [
       "             Player Team Position  Year  Week  Points\n",
       "0        Drew Brees   NO       QB  2016     1    37.7\n",
       "1       Andrew Luck  IND       QB  2016     1    37.4\n",
       "2        Alex Smith   KC       QB  2016     1    33.7\n",
       "3    Jameis Winston   TB       QB  2016     1    30.4\n",
       "4  Matthew Stafford  DET       QB  2016     1    29.5"
      ]
     },
     "execution_count": 11,
     "metadata": {},
     "output_type": "execute_result"
    }
   ],
   "source": [
    "#Match up scores with articles\n",
    "scores = pd.read_csv('fantasy_points_data.csv', parse_dates= True)\n",
    "scores.head()"
   ]
  },
  {
   "cell_type": "code",
   "execution_count": 16,
   "metadata": {},
   "outputs": [
    {
     "data": {
      "text/plain": [
       "Player       object\n",
       "Team         object\n",
       "Position     object\n",
       "Year          int64\n",
       "Week          int64\n",
       "Points      float64\n",
       "dtype: object"
      ]
     },
     "execution_count": 16,
     "metadata": {},
     "output_type": "execute_result"
    }
   ],
   "source": [
    "scores.dtypes"
   ]
  },
  {
   "cell_type": "code",
   "execution_count": 12,
   "metadata": {},
   "outputs": [
    {
     "data": {
      "text/plain": [
       "(7161, 6)"
      ]
     },
     "execution_count": 12,
     "metadata": {},
     "output_type": "execute_result"
    }
   ],
   "source": [
    "scores.shape"
   ]
  },
  {
   "cell_type": "code",
   "execution_count": 17,
   "metadata": {},
   "outputs": [
    {
     "data": {
      "text/plain": [
       "2     583\n",
       "3     563\n",
       "4     555\n",
       "7     545\n",
       "1     536\n",
       "6     524\n",
       "10    493\n",
       "5     490\n",
       "9     478\n",
       "8     459\n",
       "16    294\n",
       "12    287\n",
       "15    286\n",
       "17    285\n",
       "14    273\n",
       "13    269\n",
       "11    241\n",
       "Name: Week, dtype: int64"
      ]
     },
     "execution_count": 17,
     "metadata": {},
     "output_type": "execute_result"
    }
   ],
   "source": [
    "scores['Week'].value_counts()"
   ]
  },
  {
   "cell_type": "code",
   "execution_count": 18,
   "metadata": {},
   "outputs": [
    {
     "data": {
      "text/plain": [
       "2016    4560\n",
       "2017    2601\n",
       "Name: Year, dtype: int64"
      ]
     },
     "execution_count": 18,
     "metadata": {},
     "output_type": "execute_result"
    }
   ],
   "source": [
    "scores['Year'].value_counts()"
   ]
  },
  {
   "cell_type": "code",
   "execution_count": 13,
   "metadata": {
    "collapsed": true
   },
   "outputs": [],
   "source": [
    "start_of_season = {2016:pd.datetime.strptime('2016-09-08', '%Y-%m-%d'),\n",
    "                  2017:pd.datetime.strptime('2017-09-08', '%Y-%m-%d')}"
   ]
  },
  {
   "cell_type": "code",
   "execution_count": 14,
   "metadata": {
    "collapsed": true
   },
   "outputs": [],
   "source": [
    "start_of_season2016 = pd.datetime.strptime('2016-09-08', '%Y-%m-%d')\n",
    "start_of_season2017 = pd.datetime.strptime('2017-09-08', '%Y-%m-%d')"
   ]
  },
  {
   "cell_type": "code",
   "execution_count": 19,
   "metadata": {
    "collapsed": true
   },
   "outputs": [],
   "source": [
    "scores['max_date'] = scores.apply(lambda x: start_of_season[x['Year']] + timedelta(weeks = x['Week']), axis=1)\n",
    "scores['min_date'] = scores.apply(lambda x: start_of_season[x['Year']] + timedelta(weeks = x['Week'] - 1), axis=1)"
   ]
  },
  {
   "cell_type": "code",
   "execution_count": 20,
   "metadata": {
    "scrolled": false
   },
   "outputs": [
    {
     "data": {
      "text/html": [
       "<div>\n",
       "<style>\n",
       "    .dataframe thead tr:only-child th {\n",
       "        text-align: right;\n",
       "    }\n",
       "\n",
       "    .dataframe thead th {\n",
       "        text-align: left;\n",
       "    }\n",
       "\n",
       "    .dataframe tbody tr th {\n",
       "        vertical-align: top;\n",
       "    }\n",
       "</style>\n",
       "<table border=\"1\" class=\"dataframe\">\n",
       "  <thead>\n",
       "    <tr style=\"text-align: right;\">\n",
       "      <th></th>\n",
       "      <th>Player</th>\n",
       "      <th>Team</th>\n",
       "      <th>Position</th>\n",
       "      <th>Year</th>\n",
       "      <th>Week</th>\n",
       "      <th>Points</th>\n",
       "      <th>max_date</th>\n",
       "      <th>min_date</th>\n",
       "    </tr>\n",
       "  </thead>\n",
       "  <tbody>\n",
       "    <tr>\n",
       "      <th>7156</th>\n",
       "      <td>Michael Hoomanawanui</td>\n",
       "      <td>NO</td>\n",
       "      <td>TE</td>\n",
       "      <td>2017</td>\n",
       "      <td>10</td>\n",
       "      <td>0.4</td>\n",
       "      <td>2017-11-17</td>\n",
       "      <td>2017-11-10</td>\n",
       "    </tr>\n",
       "    <tr>\n",
       "      <th>7157</th>\n",
       "      <td>Tyler Kroft</td>\n",
       "      <td>CIN</td>\n",
       "      <td>TE</td>\n",
       "      <td>2017</td>\n",
       "      <td>10</td>\n",
       "      <td>0.4</td>\n",
       "      <td>2017-11-17</td>\n",
       "      <td>2017-11-10</td>\n",
       "    </tr>\n",
       "    <tr>\n",
       "      <th>7158</th>\n",
       "      <td>Antonio Gates</td>\n",
       "      <td>LAC</td>\n",
       "      <td>TE</td>\n",
       "      <td>2017</td>\n",
       "      <td>10</td>\n",
       "      <td>0.3</td>\n",
       "      <td>2017-11-17</td>\n",
       "      <td>2017-11-10</td>\n",
       "    </tr>\n",
       "    <tr>\n",
       "      <th>7159</th>\n",
       "      <td>David Njoku</td>\n",
       "      <td>CLE</td>\n",
       "      <td>TE</td>\n",
       "      <td>2017</td>\n",
       "      <td>10</td>\n",
       "      <td>0.3</td>\n",
       "      <td>2017-11-17</td>\n",
       "      <td>2017-11-10</td>\n",
       "    </tr>\n",
       "    <tr>\n",
       "      <th>7160</th>\n",
       "      <td>A.J. Derby</td>\n",
       "      <td>DEN</td>\n",
       "      <td>TE</td>\n",
       "      <td>2017</td>\n",
       "      <td>10</td>\n",
       "      <td>0.2</td>\n",
       "      <td>2017-11-17</td>\n",
       "      <td>2017-11-10</td>\n",
       "    </tr>\n",
       "  </tbody>\n",
       "</table>\n",
       "</div>"
      ],
      "text/plain": [
       "                    Player Team Position  Year  Week  Points   max_date  \\\n",
       "7156  Michael Hoomanawanui   NO       TE  2017    10     0.4 2017-11-17   \n",
       "7157           Tyler Kroft  CIN       TE  2017    10     0.4 2017-11-17   \n",
       "7158         Antonio Gates  LAC       TE  2017    10     0.3 2017-11-17   \n",
       "7159           David Njoku  CLE       TE  2017    10     0.3 2017-11-17   \n",
       "7160            A.J. Derby  DEN       TE  2017    10     0.2 2017-11-17   \n",
       "\n",
       "       min_date  \n",
       "7156 2017-11-10  \n",
       "7157 2017-11-10  \n",
       "7158 2017-11-10  \n",
       "7159 2017-11-10  \n",
       "7160 2017-11-10  "
      ]
     },
     "execution_count": 20,
     "metadata": {},
     "output_type": "execute_result"
    }
   ],
   "source": [
    "scores.tail()"
   ]
  },
  {
   "cell_type": "code",
   "execution_count": 21,
   "metadata": {
    "collapsed": true
   },
   "outputs": [],
   "source": [
    "combined = scores.merge(df, how='inner', left_on='Player', right_on='name')"
   ]
  },
  {
   "cell_type": "code",
   "execution_count": 22,
   "metadata": {},
   "outputs": [
    {
     "data": {
      "text/plain": [
       "Player               object\n",
       "Team                 object\n",
       "Position             object\n",
       "Year                  int64\n",
       "Week                  int64\n",
       "Points              float64\n",
       "max_date     datetime64[ns]\n",
       "min_date     datetime64[ns]\n",
       "date         datetime64[ns]\n",
       "name                 object\n",
       "news                 object\n",
       "team                 object\n",
       "news_list            object\n",
       "dtype: object"
      ]
     },
     "execution_count": 22,
     "metadata": {},
     "output_type": "execute_result"
    }
   ],
   "source": [
    "combined.dtypes"
   ]
  },
  {
   "cell_type": "code",
   "execution_count": 23,
   "metadata": {},
   "outputs": [
    {
     "data": {
      "text/plain": [
       "(48527, 13)"
      ]
     },
     "execution_count": 23,
     "metadata": {},
     "output_type": "execute_result"
    }
   ],
   "source": [
    "combined.shape"
   ]
  },
  {
   "cell_type": "code",
   "execution_count": 70,
   "metadata": {},
   "outputs": [
    {
     "data": {
      "text/html": [
       "<div>\n",
       "<style>\n",
       "    .dataframe thead tr:only-child th {\n",
       "        text-align: right;\n",
       "    }\n",
       "\n",
       "    .dataframe thead th {\n",
       "        text-align: left;\n",
       "    }\n",
       "\n",
       "    .dataframe tbody tr th {\n",
       "        vertical-align: top;\n",
       "    }\n",
       "</style>\n",
       "<table border=\"1\" class=\"dataframe\">\n",
       "  <thead>\n",
       "    <tr style=\"text-align: right;\">\n",
       "      <th></th>\n",
       "      <th>index</th>\n",
       "      <th>Player</th>\n",
       "      <th>Team</th>\n",
       "      <th>Position</th>\n",
       "      <th>Year</th>\n",
       "      <th>Week</th>\n",
       "      <th>Points</th>\n",
       "      <th>max_date</th>\n",
       "      <th>min_date</th>\n",
       "      <th>date</th>\n",
       "      <th>name</th>\n",
       "      <th>news</th>\n",
       "      <th>team</th>\n",
       "      <th>news_list</th>\n",
       "    </tr>\n",
       "  </thead>\n",
       "  <tbody>\n",
       "    <tr>\n",
       "      <th>50</th>\n",
       "      <td>1898</td>\n",
       "      <td>Cam Newton</td>\n",
       "      <td>CAR</td>\n",
       "      <td>QB</td>\n",
       "      <td>2016</td>\n",
       "      <td>15</td>\n",
       "      <td>20.0</td>\n",
       "      <td>2016-12-22</td>\n",
       "      <td>2016-12-15</td>\n",
       "      <td>2016-12-19</td>\n",
       "      <td>Cam Newton</td>\n",
       "      <td>(\"Cam Newton (shoulder) is active for Monday n...</td>\n",
       "      <td>Panthers</td>\n",
       "      <td>[(\"cam, newton, (shoulder), is, active, for, m...</td>\n",
       "    </tr>\n",
       "    <tr>\n",
       "      <th>51</th>\n",
       "      <td>2005</td>\n",
       "      <td>Cam Newton</td>\n",
       "      <td>CAR</td>\n",
       "      <td>QB</td>\n",
       "      <td>2017</td>\n",
       "      <td>5</td>\n",
       "      <td>26.2</td>\n",
       "      <td>2017-10-13</td>\n",
       "      <td>2017-10-06</td>\n",
       "      <td>2017-10-12</td>\n",
       "      <td>Cam Newton</td>\n",
       "      <td>(\"Cam Newton completed 28-of-52 passes for 238...</td>\n",
       "      <td>Panthers</td>\n",
       "      <td>[(\"cam, newton, completed, 28-of-52, passes, f...</td>\n",
       "    </tr>\n",
       "    <tr>\n",
       "      <th>52</th>\n",
       "      <td>2089</td>\n",
       "      <td>Cam Newton</td>\n",
       "      <td>CAR</td>\n",
       "      <td>QB</td>\n",
       "      <td>2017</td>\n",
       "      <td>10</td>\n",
       "      <td>35.7</td>\n",
       "      <td>2017-11-17</td>\n",
       "      <td>2017-11-10</td>\n",
       "      <td>2017-11-13</td>\n",
       "      <td>Cam Newton</td>\n",
       "      <td>(\"Cam Newton completed 21-of-35 passes for 254...</td>\n",
       "      <td>Panthers</td>\n",
       "      <td>[(\"cam, newton, completed, 21-of-35, passes, f...</td>\n",
       "    </tr>\n",
       "    <tr>\n",
       "      <th>53</th>\n",
       "      <td>2182</td>\n",
       "      <td>Marcus Mariota</td>\n",
       "      <td>TEN</td>\n",
       "      <td>QB</td>\n",
       "      <td>2016</td>\n",
       "      <td>7</td>\n",
       "      <td>16.7</td>\n",
       "      <td>2016-10-27</td>\n",
       "      <td>2016-10-20</td>\n",
       "      <td>2016-10-27</td>\n",
       "      <td>Marcus Mariota</td>\n",
       "      <td>(\"Marcus Mariota completed 18-of-22 passes for...</td>\n",
       "      <td>Titans</td>\n",
       "      <td>[(\"marcus, mariota, completed, 18-of-22, passe...</td>\n",
       "    </tr>\n",
       "    <tr>\n",
       "      <th>54</th>\n",
       "      <td>2193</td>\n",
       "      <td>Marcus Mariota</td>\n",
       "      <td>TEN</td>\n",
       "      <td>QB</td>\n",
       "      <td>2016</td>\n",
       "      <td>8</td>\n",
       "      <td>19.9</td>\n",
       "      <td>2016-11-03</td>\n",
       "      <td>2016-10-27</td>\n",
       "      <td>2016-10-27</td>\n",
       "      <td>Marcus Mariota</td>\n",
       "      <td>(\"Marcus Mariota completed 18-of-22 passes for...</td>\n",
       "      <td>Titans</td>\n",
       "      <td>[(\"marcus, mariota, completed, 18-of-22, passe...</td>\n",
       "    </tr>\n",
       "    <tr>\n",
       "      <th>55</th>\n",
       "      <td>2316</td>\n",
       "      <td>Marcus Mariota</td>\n",
       "      <td>TEN</td>\n",
       "      <td>QB</td>\n",
       "      <td>2017</td>\n",
       "      <td>6</td>\n",
       "      <td>14.2</td>\n",
       "      <td>2017-10-20</td>\n",
       "      <td>2017-10-13</td>\n",
       "      <td>2017-10-17</td>\n",
       "      <td>Marcus Mariota</td>\n",
       "      <td>(\"Marcus Mariota (hamstring) escaped Monday ni...</td>\n",
       "      <td>Titans</td>\n",
       "      <td>[(\"marcus, mariota, (hamstring), escaped, mond...</td>\n",
       "    </tr>\n",
       "    <tr>\n",
       "      <th>56</th>\n",
       "      <td>2317</td>\n",
       "      <td>Marcus Mariota</td>\n",
       "      <td>TEN</td>\n",
       "      <td>QB</td>\n",
       "      <td>2017</td>\n",
       "      <td>6</td>\n",
       "      <td>14.2</td>\n",
       "      <td>2017-10-20</td>\n",
       "      <td>2017-10-13</td>\n",
       "      <td>2017-10-16</td>\n",
       "      <td>Marcus Mariota</td>\n",
       "      <td>(\"Marcus Mariota completed 23-of-32 passes for...</td>\n",
       "      <td>Titans</td>\n",
       "      <td>[(\"marcus, mariota, completed, 23-of-32, passe...</td>\n",
       "    </tr>\n",
       "    <tr>\n",
       "      <th>57</th>\n",
       "      <td>2318</td>\n",
       "      <td>Marcus Mariota</td>\n",
       "      <td>TEN</td>\n",
       "      <td>QB</td>\n",
       "      <td>2017</td>\n",
       "      <td>6</td>\n",
       "      <td>14.2</td>\n",
       "      <td>2017-10-20</td>\n",
       "      <td>2017-10-13</td>\n",
       "      <td>2017-10-16</td>\n",
       "      <td>Marcus Mariota</td>\n",
       "      <td>('Marcus Mariota (hamstring) is active and sta...</td>\n",
       "      <td>Titans</td>\n",
       "      <td>[('marcus, mariota, (hamstring), is, active, a...</td>\n",
       "    </tr>\n",
       "    <tr>\n",
       "      <th>58</th>\n",
       "      <td>2319</td>\n",
       "      <td>Marcus Mariota</td>\n",
       "      <td>TEN</td>\n",
       "      <td>QB</td>\n",
       "      <td>2017</td>\n",
       "      <td>6</td>\n",
       "      <td>14.2</td>\n",
       "      <td>2017-10-20</td>\n",
       "      <td>2017-10-13</td>\n",
       "      <td>2017-10-14</td>\n",
       "      <td>Marcus Mariota</td>\n",
       "      <td>(\"Marcus Mariota (hamstring) is questionable f...</td>\n",
       "      <td>Titans</td>\n",
       "      <td>[(\"marcus, mariota, (hamstring), is, questiona...</td>\n",
       "    </tr>\n",
       "    <tr>\n",
       "      <th>59</th>\n",
       "      <td>2348</td>\n",
       "      <td>Marcus Mariota</td>\n",
       "      <td>TEN</td>\n",
       "      <td>QB</td>\n",
       "      <td>2017</td>\n",
       "      <td>10</td>\n",
       "      <td>17.7</td>\n",
       "      <td>2017-11-17</td>\n",
       "      <td>2017-11-10</td>\n",
       "      <td>2017-11-16</td>\n",
       "      <td>Marcus Mariota</td>\n",
       "      <td>(\"Marcus Mariota completed 22-of-33 passes for...</td>\n",
       "      <td>Titans</td>\n",
       "      <td>[(\"marcus, mariota, completed, 22-of-33, passe...</td>\n",
       "    </tr>\n",
       "    <tr>\n",
       "      <th>60</th>\n",
       "      <td>2376</td>\n",
       "      <td>Andy Dalton</td>\n",
       "      <td>CIN</td>\n",
       "      <td>QB</td>\n",
       "      <td>2016</td>\n",
       "      <td>10</td>\n",
       "      <td>11.7</td>\n",
       "      <td>2016-11-17</td>\n",
       "      <td>2016-11-10</td>\n",
       "      <td>2016-11-14</td>\n",
       "      <td>Andy Dalton</td>\n",
       "      <td>(\"Andy Dalton completed 16-of-29 passes for 20...</td>\n",
       "      <td>Bengals</td>\n",
       "      <td>[(\"andy, dalton, completed, 16-of-29, passes, ...</td>\n",
       "    </tr>\n",
       "    <tr>\n",
       "      <th>61</th>\n",
       "      <td>2549</td>\n",
       "      <td>Eli Manning</td>\n",
       "      <td>NYG</td>\n",
       "      <td>QB</td>\n",
       "      <td>2016</td>\n",
       "      <td>14</td>\n",
       "      <td>5.5</td>\n",
       "      <td>2016-12-15</td>\n",
       "      <td>2016-12-08</td>\n",
       "      <td>2016-12-11</td>\n",
       "      <td>Eli Manning</td>\n",
       "      <td>(\"Eli Manning completed 17-of-28 passes for 19...</td>\n",
       "      <td>Giants</td>\n",
       "      <td>[(\"eli, manning, completed, 17-of-28, passes, ...</td>\n",
       "    </tr>\n",
       "    <tr>\n",
       "      <th>62</th>\n",
       "      <td>2559</td>\n",
       "      <td>Eli Manning</td>\n",
       "      <td>NYG</td>\n",
       "      <td>QB</td>\n",
       "      <td>2016</td>\n",
       "      <td>15</td>\n",
       "      <td>16.0</td>\n",
       "      <td>2016-12-22</td>\n",
       "      <td>2016-12-15</td>\n",
       "      <td>2016-12-22</td>\n",
       "      <td>Eli Manning</td>\n",
       "      <td>('Eli Manning completed 38-of-63 passes for 35...</td>\n",
       "      <td>Giants</td>\n",
       "      <td>[('eli, manning, completed, 38-of-63, passes, ...</td>\n",
       "    </tr>\n",
       "    <tr>\n",
       "      <th>63</th>\n",
       "      <td>2570</td>\n",
       "      <td>Eli Manning</td>\n",
       "      <td>NYG</td>\n",
       "      <td>QB</td>\n",
       "      <td>2016</td>\n",
       "      <td>16</td>\n",
       "      <td>12.2</td>\n",
       "      <td>2016-12-29</td>\n",
       "      <td>2016-12-22</td>\n",
       "      <td>2016-12-22</td>\n",
       "      <td>Eli Manning</td>\n",
       "      <td>('Eli Manning completed 38-of-63 passes for 35...</td>\n",
       "      <td>Giants</td>\n",
       "      <td>[('eli, manning, completed, 38-of-63, passes, ...</td>\n",
       "    </tr>\n",
       "    <tr>\n",
       "      <th>64</th>\n",
       "      <td>2585</td>\n",
       "      <td>Eli Manning</td>\n",
       "      <td>NYG</td>\n",
       "      <td>QB</td>\n",
       "      <td>2017</td>\n",
       "      <td>1</td>\n",
       "      <td>6.7</td>\n",
       "      <td>2017-09-15</td>\n",
       "      <td>2017-09-08</td>\n",
       "      <td>2017-09-10</td>\n",
       "      <td>Eli Manning</td>\n",
       "      <td>('Eli Manning completed 28-of-37 passes for 21...</td>\n",
       "      <td>Giants</td>\n",
       "      <td>[('eli, manning, completed, 28-of-37, passes, ...</td>\n",
       "    </tr>\n",
       "    <tr>\n",
       "      <th>65</th>\n",
       "      <td>2595</td>\n",
       "      <td>Eli Manning</td>\n",
       "      <td>NYG</td>\n",
       "      <td>QB</td>\n",
       "      <td>2017</td>\n",
       "      <td>2</td>\n",
       "      <td>11.6</td>\n",
       "      <td>2017-09-22</td>\n",
       "      <td>2017-09-15</td>\n",
       "      <td>2017-09-18</td>\n",
       "      <td>Eli Manning</td>\n",
       "      <td>(\"Eli Manning completed 22-of-32 passes for 23...</td>\n",
       "      <td>Giants</td>\n",
       "      <td>[(\"eli, manning, completed, 22-of-32, passes, ...</td>\n",
       "    </tr>\n",
       "    <tr>\n",
       "      <th>66</th>\n",
       "      <td>2638</td>\n",
       "      <td>Eli Manning</td>\n",
       "      <td>NYG</td>\n",
       "      <td>QB</td>\n",
       "      <td>2017</td>\n",
       "      <td>6</td>\n",
       "      <td>9.1</td>\n",
       "      <td>2017-10-20</td>\n",
       "      <td>2017-10-13</td>\n",
       "      <td>2017-10-15</td>\n",
       "      <td>Eli Manning</td>\n",
       "      <td>('Eli Manning 11-of-19 passes for 128 yards an...</td>\n",
       "      <td>Giants</td>\n",
       "      <td>[('eli, manning, 11-of-19, passes, for, 128, y...</td>\n",
       "    </tr>\n",
       "    <tr>\n",
       "      <th>67</th>\n",
       "      <td>2813</td>\n",
       "      <td>Carson Wentz</td>\n",
       "      <td>PHI</td>\n",
       "      <td>QB</td>\n",
       "      <td>2016</td>\n",
       "      <td>12</td>\n",
       "      <td>17.5</td>\n",
       "      <td>2016-12-01</td>\n",
       "      <td>2016-11-24</td>\n",
       "      <td>2016-11-28</td>\n",
       "      <td>Carson Wentz</td>\n",
       "      <td>(\"Carson Wentz completed 24-of-36 passes for 2...</td>\n",
       "      <td>Eagles</td>\n",
       "      <td>[(\"carson, wentz, completed, 24-of-36, passes,...</td>\n",
       "    </tr>\n",
       "    <tr>\n",
       "      <th>68</th>\n",
       "      <td>2846</td>\n",
       "      <td>Carson Wentz</td>\n",
       "      <td>PHI</td>\n",
       "      <td>QB</td>\n",
       "      <td>2016</td>\n",
       "      <td>15</td>\n",
       "      <td>11.6</td>\n",
       "      <td>2016-12-22</td>\n",
       "      <td>2016-12-15</td>\n",
       "      <td>2016-12-22</td>\n",
       "      <td>Carson Wentz</td>\n",
       "      <td>(\"Carson Wentz completed 13-of-24 passes for 1...</td>\n",
       "      <td>Eagles</td>\n",
       "      <td>[(\"carson, wentz, completed, 13-of-24, passes,...</td>\n",
       "    </tr>\n",
       "    <tr>\n",
       "      <th>69</th>\n",
       "      <td>2847</td>\n",
       "      <td>Carson Wentz</td>\n",
       "      <td>PHI</td>\n",
       "      <td>QB</td>\n",
       "      <td>2016</td>\n",
       "      <td>15</td>\n",
       "      <td>11.6</td>\n",
       "      <td>2016-12-22</td>\n",
       "      <td>2016-12-15</td>\n",
       "      <td>2016-12-22</td>\n",
       "      <td>Carson Wentz</td>\n",
       "      <td>('Carson Wentz has cleared the concussion prot...</td>\n",
       "      <td>Eagles</td>\n",
       "      <td>[('carson, wentz, has, cleared, the, concussio...</td>\n",
       "    </tr>\n",
       "    <tr>\n",
       "      <th>70</th>\n",
       "      <td>2848</td>\n",
       "      <td>Carson Wentz</td>\n",
       "      <td>PHI</td>\n",
       "      <td>QB</td>\n",
       "      <td>2016</td>\n",
       "      <td>15</td>\n",
       "      <td>11.6</td>\n",
       "      <td>2016-12-22</td>\n",
       "      <td>2016-12-15</td>\n",
       "      <td>2016-12-22</td>\n",
       "      <td>Carson Wentz</td>\n",
       "      <td>('Carson Wentz left Week 16 against the Giants...</td>\n",
       "      <td>Eagles</td>\n",
       "      <td>[('carson, wentz, left, week, 16, against, the...</td>\n",
       "    </tr>\n",
       "    <tr>\n",
       "      <th>71</th>\n",
       "      <td>2858</td>\n",
       "      <td>Carson Wentz</td>\n",
       "      <td>PHI</td>\n",
       "      <td>QB</td>\n",
       "      <td>2016</td>\n",
       "      <td>16</td>\n",
       "      <td>10.8</td>\n",
       "      <td>2016-12-29</td>\n",
       "      <td>2016-12-22</td>\n",
       "      <td>2016-12-22</td>\n",
       "      <td>Carson Wentz</td>\n",
       "      <td>(\"Carson Wentz completed 13-of-24 passes for 1...</td>\n",
       "      <td>Eagles</td>\n",
       "      <td>[(\"carson, wentz, completed, 13-of-24, passes,...</td>\n",
       "    </tr>\n",
       "    <tr>\n",
       "      <th>72</th>\n",
       "      <td>2859</td>\n",
       "      <td>Carson Wentz</td>\n",
       "      <td>PHI</td>\n",
       "      <td>QB</td>\n",
       "      <td>2016</td>\n",
       "      <td>16</td>\n",
       "      <td>10.8</td>\n",
       "      <td>2016-12-29</td>\n",
       "      <td>2016-12-22</td>\n",
       "      <td>2016-12-22</td>\n",
       "      <td>Carson Wentz</td>\n",
       "      <td>('Carson Wentz has cleared the concussion prot...</td>\n",
       "      <td>Eagles</td>\n",
       "      <td>[('carson, wentz, has, cleared, the, concussio...</td>\n",
       "    </tr>\n",
       "    <tr>\n",
       "      <th>73</th>\n",
       "      <td>2860</td>\n",
       "      <td>Carson Wentz</td>\n",
       "      <td>PHI</td>\n",
       "      <td>QB</td>\n",
       "      <td>2016</td>\n",
       "      <td>16</td>\n",
       "      <td>10.8</td>\n",
       "      <td>2016-12-29</td>\n",
       "      <td>2016-12-22</td>\n",
       "      <td>2016-12-22</td>\n",
       "      <td>Carson Wentz</td>\n",
       "      <td>('Carson Wentz left Week 16 against the Giants...</td>\n",
       "      <td>Eagles</td>\n",
       "      <td>[('carson, wentz, left, week, 16, against, the...</td>\n",
       "    </tr>\n",
       "    <tr>\n",
       "      <th>74</th>\n",
       "      <td>2923</td>\n",
       "      <td>Carson Wentz</td>\n",
       "      <td>PHI</td>\n",
       "      <td>QB</td>\n",
       "      <td>2017</td>\n",
       "      <td>5</td>\n",
       "      <td>27.3</td>\n",
       "      <td>2017-10-13</td>\n",
       "      <td>2017-10-06</td>\n",
       "      <td>2017-10-12</td>\n",
       "      <td>Carson Wentz</td>\n",
       "      <td>(\"Carson Wentz completed 16-of-30 passes for 2...</td>\n",
       "      <td>Eagles</td>\n",
       "      <td>[(\"carson, wentz, completed, 16-of-30, passes,...</td>\n",
       "    </tr>\n",
       "    <tr>\n",
       "      <th>75</th>\n",
       "      <td>2946</td>\n",
       "      <td>Carson Wentz</td>\n",
       "      <td>PHI</td>\n",
       "      <td>QB</td>\n",
       "      <td>2017</td>\n",
       "      <td>7</td>\n",
       "      <td>31.0</td>\n",
       "      <td>2017-10-27</td>\n",
       "      <td>2017-10-20</td>\n",
       "      <td>2017-10-23</td>\n",
       "      <td>Carson Wentz</td>\n",
       "      <td>(\"Carson Wentz completed 17-of-25 passes for 2...</td>\n",
       "      <td>Eagles</td>\n",
       "      <td>[(\"carson, wentz, completed, 17-of-25, passes,...</td>\n",
       "    </tr>\n",
       "    <tr>\n",
       "      <th>76</th>\n",
       "      <td>3176</td>\n",
       "      <td>Carson Palmer</td>\n",
       "      <td>ARI</td>\n",
       "      <td>QB</td>\n",
       "      <td>2016</td>\n",
       "      <td>15</td>\n",
       "      <td>20.7</td>\n",
       "      <td>2016-12-22</td>\n",
       "      <td>2016-12-15</td>\n",
       "      <td>2016-12-18</td>\n",
       "      <td>Carson Palmer</td>\n",
       "      <td>('Carson Palmer said, \"I expect to play in 201...</td>\n",
       "      <td>Cardinals</td>\n",
       "      <td>[('carson, palmer, said,, \"i, expect, to, play...</td>\n",
       "    </tr>\n",
       "    <tr>\n",
       "      <th>77</th>\n",
       "      <td>3239</td>\n",
       "      <td>Carson Palmer</td>\n",
       "      <td>ARI</td>\n",
       "      <td>QB</td>\n",
       "      <td>2017</td>\n",
       "      <td>3</td>\n",
       "      <td>21.7</td>\n",
       "      <td>2017-09-29</td>\n",
       "      <td>2017-09-22</td>\n",
       "      <td>2017-09-25</td>\n",
       "      <td>Carson Palmer</td>\n",
       "      <td>(\"Carson Palmer completed 29-of-48 passes for ...</td>\n",
       "      <td>Cardinals</td>\n",
       "      <td>[(\"carson, palmer, completed, 29-of-48, passes...</td>\n",
       "    </tr>\n",
       "    <tr>\n",
       "      <th>78</th>\n",
       "      <td>3298</td>\n",
       "      <td>Carson Palmer</td>\n",
       "      <td>ARI</td>\n",
       "      <td>QB</td>\n",
       "      <td>2017</td>\n",
       "      <td>7</td>\n",
       "      <td>2.9</td>\n",
       "      <td>2017-10-27</td>\n",
       "      <td>2017-10-20</td>\n",
       "      <td>2017-10-23</td>\n",
       "      <td>Carson Palmer</td>\n",
       "      <td>('Carson Palmer is hopeful he can return from ...</td>\n",
       "      <td>Cardinals</td>\n",
       "      <td>[('carson, palmer, is, hopeful, he, can, retur...</td>\n",
       "    </tr>\n",
       "    <tr>\n",
       "      <th>79</th>\n",
       "      <td>3563</td>\n",
       "      <td>Derek Carr</td>\n",
       "      <td>OAK</td>\n",
       "      <td>QB</td>\n",
       "      <td>2016</td>\n",
       "      <td>9</td>\n",
       "      <td>7.7</td>\n",
       "      <td>2016-11-10</td>\n",
       "      <td>2016-11-03</td>\n",
       "      <td>2016-11-06</td>\n",
       "      <td>Derek Carr</td>\n",
       "      <td>(\"Derek Carr completed 20-of-31 passes for 184...</td>\n",
       "      <td>Raiders</td>\n",
       "      <td>[(\"derek, carr, completed, 20-of-31, passes, f...</td>\n",
       "    </tr>\n",
       "    <tr>\n",
       "      <th>80</th>\n",
       "      <td>3590</td>\n",
       "      <td>Derek Carr</td>\n",
       "      <td>OAK</td>\n",
       "      <td>QB</td>\n",
       "      <td>2016</td>\n",
       "      <td>11</td>\n",
       "      <td>21.6</td>\n",
       "      <td>2016-11-24</td>\n",
       "      <td>2016-11-17</td>\n",
       "      <td>2016-11-21</td>\n",
       "      <td>Derek Carr</td>\n",
       "      <td>(\"Derek Carr completed 21-of-31 passes for 295...</td>\n",
       "      <td>Raiders</td>\n",
       "      <td>[(\"derek, carr, completed, 21-of-31, passes, f...</td>\n",
       "    </tr>\n",
       "    <tr>\n",
       "      <th>81</th>\n",
       "      <td>3616</td>\n",
       "      <td>Derek Carr</td>\n",
       "      <td>OAK</td>\n",
       "      <td>QB</td>\n",
       "      <td>2016</td>\n",
       "      <td>12</td>\n",
       "      <td>15.3</td>\n",
       "      <td>2016-12-01</td>\n",
       "      <td>2016-11-24</td>\n",
       "      <td>2016-12-01</td>\n",
       "      <td>Derek Carr</td>\n",
       "      <td>('Derek Carr practiced without a glove on his ...</td>\n",
       "      <td>Raiders</td>\n",
       "      <td>[('derek, carr, practiced, without, a, glove, ...</td>\n",
       "    </tr>\n",
       "    <tr>\n",
       "      <th>82</th>\n",
       "      <td>3617</td>\n",
       "      <td>Derek Carr</td>\n",
       "      <td>OAK</td>\n",
       "      <td>QB</td>\n",
       "      <td>2016</td>\n",
       "      <td>12</td>\n",
       "      <td>15.3</td>\n",
       "      <td>2016-12-01</td>\n",
       "      <td>2016-11-24</td>\n",
       "      <td>2016-11-30</td>\n",
       "      <td>Derek Carr</td>\n",
       "      <td>(\"Updating an earlier report, Derek Carr (fing...</td>\n",
       "      <td>Raiders</td>\n",
       "      <td>[(\"updating, an, earlier, report,, derek, carr...</td>\n",
       "    </tr>\n",
       "    <tr>\n",
       "      <th>83</th>\n",
       "      <td>3643</td>\n",
       "      <td>Derek Carr</td>\n",
       "      <td>OAK</td>\n",
       "      <td>QB</td>\n",
       "      <td>2016</td>\n",
       "      <td>13</td>\n",
       "      <td>18.8</td>\n",
       "      <td>2016-12-08</td>\n",
       "      <td>2016-12-01</td>\n",
       "      <td>2016-12-08</td>\n",
       "      <td>Derek Carr</td>\n",
       "      <td>(\"Derek Carr completed 17-of-41 passes for 117...</td>\n",
       "      <td>Raiders</td>\n",
       "      <td>[(\"derek, carr, completed, 17-of-41, passes, f...</td>\n",
       "    </tr>\n",
       "    <tr>\n",
       "      <th>84</th>\n",
       "      <td>3644</td>\n",
       "      <td>Derek Carr</td>\n",
       "      <td>OAK</td>\n",
       "      <td>QB</td>\n",
       "      <td>2016</td>\n",
       "      <td>13</td>\n",
       "      <td>18.8</td>\n",
       "      <td>2016-12-08</td>\n",
       "      <td>2016-12-01</td>\n",
       "      <td>2016-12-01</td>\n",
       "      <td>Derek Carr</td>\n",
       "      <td>('Derek Carr practiced without a glove on his ...</td>\n",
       "      <td>Raiders</td>\n",
       "      <td>[('derek, carr, practiced, without, a, glove, ...</td>\n",
       "    </tr>\n",
       "    <tr>\n",
       "      <th>85</th>\n",
       "      <td>3671</td>\n",
       "      <td>Derek Carr</td>\n",
       "      <td>OAK</td>\n",
       "      <td>QB</td>\n",
       "      <td>2016</td>\n",
       "      <td>14</td>\n",
       "      <td>5.0</td>\n",
       "      <td>2016-12-15</td>\n",
       "      <td>2016-12-08</td>\n",
       "      <td>2016-12-08</td>\n",
       "      <td>Derek Carr</td>\n",
       "      <td>(\"Derek Carr completed 17-of-41 passes for 117...</td>\n",
       "      <td>Raiders</td>\n",
       "      <td>[(\"derek, carr, completed, 17-of-41, passes, f...</td>\n",
       "    </tr>\n",
       "    <tr>\n",
       "      <th>86</th>\n",
       "      <td>3698</td>\n",
       "      <td>Derek Carr</td>\n",
       "      <td>OAK</td>\n",
       "      <td>QB</td>\n",
       "      <td>2016</td>\n",
       "      <td>15</td>\n",
       "      <td>11.0</td>\n",
       "      <td>2016-12-22</td>\n",
       "      <td>2016-12-15</td>\n",
       "      <td>2016-12-20</td>\n",
       "      <td>Derek Carr</td>\n",
       "      <td>('The Raiders had a league-best seven players ...</td>\n",
       "      <td>Raiders</td>\n",
       "      <td>[('the, raiders, had, a, league-best, seven, p...</td>\n",
       "    </tr>\n",
       "    <tr>\n",
       "      <th>87</th>\n",
       "      <td>3725</td>\n",
       "      <td>Derek Carr</td>\n",
       "      <td>OAK</td>\n",
       "      <td>QB</td>\n",
       "      <td>2016</td>\n",
       "      <td>16</td>\n",
       "      <td>21.9</td>\n",
       "      <td>2016-12-29</td>\n",
       "      <td>2016-12-22</td>\n",
       "      <td>2016-12-29</td>\n",
       "      <td>Derek Carr</td>\n",
       "      <td>('Derek Carr (leg) has reportedly avoided liga...</td>\n",
       "      <td>Raiders</td>\n",
       "      <td>[('derek, carr, (leg), has, reportedly, avoide...</td>\n",
       "    </tr>\n",
       "    <tr>\n",
       "      <th>88</th>\n",
       "      <td>3794</td>\n",
       "      <td>Derek Carr</td>\n",
       "      <td>OAK</td>\n",
       "      <td>QB</td>\n",
       "      <td>2017</td>\n",
       "      <td>3</td>\n",
       "      <td>5.2</td>\n",
       "      <td>2017-09-29</td>\n",
       "      <td>2017-09-22</td>\n",
       "      <td>2017-09-24</td>\n",
       "      <td>Derek Carr</td>\n",
       "      <td>('Derek Carr completed 18-of-30 passes for 118...</td>\n",
       "      <td>Raiders</td>\n",
       "      <td>[('derek, carr, completed, 18-of-30, passes, f...</td>\n",
       "    </tr>\n",
       "    <tr>\n",
       "      <th>89</th>\n",
       "      <td>3819</td>\n",
       "      <td>Derek Carr</td>\n",
       "      <td>OAK</td>\n",
       "      <td>QB</td>\n",
       "      <td>2017</td>\n",
       "      <td>4</td>\n",
       "      <td>9.7</td>\n",
       "      <td>2017-10-06</td>\n",
       "      <td>2017-09-29</td>\n",
       "      <td>2017-10-06</td>\n",
       "      <td>Derek Carr</td>\n",
       "      <td>('The Las Vegas Review Journal reports Derek C...</td>\n",
       "      <td>Raiders</td>\n",
       "      <td>[('the, las, vegas, review, journal, reports, ...</td>\n",
       "    </tr>\n",
       "    <tr>\n",
       "      <th>90</th>\n",
       "      <td>3820</td>\n",
       "      <td>Derek Carr</td>\n",
       "      <td>OAK</td>\n",
       "      <td>QB</td>\n",
       "      <td>2017</td>\n",
       "      <td>4</td>\n",
       "      <td>9.7</td>\n",
       "      <td>2017-10-06</td>\n",
       "      <td>2017-09-29</td>\n",
       "      <td>2017-10-02</td>\n",
       "      <td>Derek Carr</td>\n",
       "      <td>('Coach Jack Del Rio said Derek Carr has a tra...</td>\n",
       "      <td>Raiders</td>\n",
       "      <td>[('coach, jack, del, rio, said, derek, carr, h...</td>\n",
       "    </tr>\n",
       "    <tr>\n",
       "      <th>91</th>\n",
       "      <td>3821</td>\n",
       "      <td>Derek Carr</td>\n",
       "      <td>OAK</td>\n",
       "      <td>QB</td>\n",
       "      <td>2017</td>\n",
       "      <td>4</td>\n",
       "      <td>9.7</td>\n",
       "      <td>2017-10-06</td>\n",
       "      <td>2017-09-29</td>\n",
       "      <td>2017-10-01</td>\n",
       "      <td>Derek Carr</td>\n",
       "      <td>('Derek Carr went for X-rays on his injured ba...</td>\n",
       "      <td>Raiders</td>\n",
       "      <td>[('derek, carr, went, for, x-rays, on, his, in...</td>\n",
       "    </tr>\n",
       "    <tr>\n",
       "      <th>92</th>\n",
       "      <td>3928</td>\n",
       "      <td>Derek Carr</td>\n",
       "      <td>OAK</td>\n",
       "      <td>QB</td>\n",
       "      <td>2017</td>\n",
       "      <td>9</td>\n",
       "      <td>13.7</td>\n",
       "      <td>2017-11-10</td>\n",
       "      <td>2017-11-03</td>\n",
       "      <td>2017-11-05</td>\n",
       "      <td>Derek Carr</td>\n",
       "      <td>('Derek Carr completed 21-of-30 passes for 300...</td>\n",
       "      <td>Raiders</td>\n",
       "      <td>[('derek, carr, completed, 21-of-30, passes, f...</td>\n",
       "    </tr>\n",
       "    <tr>\n",
       "      <th>93</th>\n",
       "      <td>4165</td>\n",
       "      <td>Brock Osweiler</td>\n",
       "      <td>HOU</td>\n",
       "      <td>QB</td>\n",
       "      <td>2016</td>\n",
       "      <td>17</td>\n",
       "      <td>20.2</td>\n",
       "      <td>2017-01-05</td>\n",
       "      <td>2016-12-29</td>\n",
       "      <td>2017-01-04</td>\n",
       "      <td>Brock Osweiler</td>\n",
       "      <td>('According to Aaron Wilson of the Houston Chr...</td>\n",
       "      <td>Broncos</td>\n",
       "      <td>[('according, to, aaron, wilson, of, the, hous...</td>\n",
       "    </tr>\n",
       "    <tr>\n",
       "      <th>94</th>\n",
       "      <td>4196</td>\n",
       "      <td>Brock Osweiler</td>\n",
       "      <td>DEN</td>\n",
       "      <td>QB</td>\n",
       "      <td>2017</td>\n",
       "      <td>10</td>\n",
       "      <td>10.7</td>\n",
       "      <td>2017-11-17</td>\n",
       "      <td>2017-11-10</td>\n",
       "      <td>2017-11-16</td>\n",
       "      <td>Brock Osweiler</td>\n",
       "      <td>('Brock Osweiler (shoulder) is practicing in f...</td>\n",
       "      <td>Broncos</td>\n",
       "      <td>[('brock, osweiler, (shoulder), is, practicing...</td>\n",
       "    </tr>\n",
       "    <tr>\n",
       "      <th>95</th>\n",
       "      <td>4300</td>\n",
       "      <td>Blake Bortles</td>\n",
       "      <td>JAC</td>\n",
       "      <td>QB</td>\n",
       "      <td>2016</td>\n",
       "      <td>7</td>\n",
       "      <td>13.1</td>\n",
       "      <td>2016-10-27</td>\n",
       "      <td>2016-10-20</td>\n",
       "      <td>2016-10-27</td>\n",
       "      <td>Blake Bortles</td>\n",
       "      <td>(\"Blake Bortles completed 33-of-54 passes for ...</td>\n",
       "      <td>Jaguars</td>\n",
       "      <td>[(\"blake, bortles, completed, 33-of-54, passes...</td>\n",
       "    </tr>\n",
       "    <tr>\n",
       "      <th>96</th>\n",
       "      <td>4315</td>\n",
       "      <td>Blake Bortles</td>\n",
       "      <td>JAC</td>\n",
       "      <td>QB</td>\n",
       "      <td>2016</td>\n",
       "      <td>8</td>\n",
       "      <td>27.7</td>\n",
       "      <td>2016-11-03</td>\n",
       "      <td>2016-10-27</td>\n",
       "      <td>2016-10-27</td>\n",
       "      <td>Blake Bortles</td>\n",
       "      <td>(\"Blake Bortles completed 33-of-54 passes for ...</td>\n",
       "      <td>Jaguars</td>\n",
       "      <td>[(\"blake, bortles, completed, 33-of-54, passes...</td>\n",
       "    </tr>\n",
       "    <tr>\n",
       "      <th>97</th>\n",
       "      <td>4652</td>\n",
       "      <td>Ryan Fitzpatrick</td>\n",
       "      <td>NYJ</td>\n",
       "      <td>QB</td>\n",
       "      <td>2016</td>\n",
       "      <td>13</td>\n",
       "      <td>1.5</td>\n",
       "      <td>2016-12-08</td>\n",
       "      <td>2016-12-01</td>\n",
       "      <td>2016-12-06</td>\n",
       "      <td>Ryan Fitzpatrick</td>\n",
       "      <td>('Ryan Fitzpatrick has been benched.', '\\n    ...</td>\n",
       "      <td>Buccaneers</td>\n",
       "      <td>[('ryan, fitzpatrick, has, been, benched.',, '...</td>\n",
       "    </tr>\n",
       "    <tr>\n",
       "      <th>98</th>\n",
       "      <td>4653</td>\n",
       "      <td>Ryan Fitzpatrick</td>\n",
       "      <td>NYJ</td>\n",
       "      <td>QB</td>\n",
       "      <td>2016</td>\n",
       "      <td>13</td>\n",
       "      <td>1.5</td>\n",
       "      <td>2016-12-08</td>\n",
       "      <td>2016-12-01</td>\n",
       "      <td>2016-12-05</td>\n",
       "      <td>Ryan Fitzpatrick</td>\n",
       "      <td>('Ryan Fitzpatrick was benched after completin...</td>\n",
       "      <td>Buccaneers</td>\n",
       "      <td>[('ryan, fitzpatrick, was, benched, after, com...</td>\n",
       "    </tr>\n",
       "    <tr>\n",
       "      <th>99</th>\n",
       "      <td>4665</td>\n",
       "      <td>Ryan Fitzpatrick</td>\n",
       "      <td>NYJ</td>\n",
       "      <td>QB</td>\n",
       "      <td>2016</td>\n",
       "      <td>16</td>\n",
       "      <td>1.7</td>\n",
       "      <td>2016-12-29</td>\n",
       "      <td>2016-12-22</td>\n",
       "      <td>2016-12-28</td>\n",
       "      <td>Ryan Fitzpatrick</td>\n",
       "      <td>(\"Ryan Fitzpatrick doesn't expect to be back w...</td>\n",
       "      <td>Buccaneers</td>\n",
       "      <td>[(\"ryan, fitzpatrick, doesn't, expect, to, be,...</td>\n",
       "    </tr>\n",
       "  </tbody>\n",
       "</table>\n",
       "</div>"
      ],
      "text/plain": [
       "    index            Player Team Position  Year  Week  Points   max_date  \\\n",
       "50   1898        Cam Newton  CAR       QB  2016    15    20.0 2016-12-22   \n",
       "51   2005        Cam Newton  CAR       QB  2017     5    26.2 2017-10-13   \n",
       "52   2089        Cam Newton  CAR       QB  2017    10    35.7 2017-11-17   \n",
       "53   2182    Marcus Mariota  TEN       QB  2016     7    16.7 2016-10-27   \n",
       "54   2193    Marcus Mariota  TEN       QB  2016     8    19.9 2016-11-03   \n",
       "55   2316    Marcus Mariota  TEN       QB  2017     6    14.2 2017-10-20   \n",
       "56   2317    Marcus Mariota  TEN       QB  2017     6    14.2 2017-10-20   \n",
       "57   2318    Marcus Mariota  TEN       QB  2017     6    14.2 2017-10-20   \n",
       "58   2319    Marcus Mariota  TEN       QB  2017     6    14.2 2017-10-20   \n",
       "59   2348    Marcus Mariota  TEN       QB  2017    10    17.7 2017-11-17   \n",
       "60   2376       Andy Dalton  CIN       QB  2016    10    11.7 2016-11-17   \n",
       "61   2549       Eli Manning  NYG       QB  2016    14     5.5 2016-12-15   \n",
       "62   2559       Eli Manning  NYG       QB  2016    15    16.0 2016-12-22   \n",
       "63   2570       Eli Manning  NYG       QB  2016    16    12.2 2016-12-29   \n",
       "64   2585       Eli Manning  NYG       QB  2017     1     6.7 2017-09-15   \n",
       "65   2595       Eli Manning  NYG       QB  2017     2    11.6 2017-09-22   \n",
       "66   2638       Eli Manning  NYG       QB  2017     6     9.1 2017-10-20   \n",
       "67   2813      Carson Wentz  PHI       QB  2016    12    17.5 2016-12-01   \n",
       "68   2846      Carson Wentz  PHI       QB  2016    15    11.6 2016-12-22   \n",
       "69   2847      Carson Wentz  PHI       QB  2016    15    11.6 2016-12-22   \n",
       "70   2848      Carson Wentz  PHI       QB  2016    15    11.6 2016-12-22   \n",
       "71   2858      Carson Wentz  PHI       QB  2016    16    10.8 2016-12-29   \n",
       "72   2859      Carson Wentz  PHI       QB  2016    16    10.8 2016-12-29   \n",
       "73   2860      Carson Wentz  PHI       QB  2016    16    10.8 2016-12-29   \n",
       "74   2923      Carson Wentz  PHI       QB  2017     5    27.3 2017-10-13   \n",
       "75   2946      Carson Wentz  PHI       QB  2017     7    31.0 2017-10-27   \n",
       "76   3176     Carson Palmer  ARI       QB  2016    15    20.7 2016-12-22   \n",
       "77   3239     Carson Palmer  ARI       QB  2017     3    21.7 2017-09-29   \n",
       "78   3298     Carson Palmer  ARI       QB  2017     7     2.9 2017-10-27   \n",
       "79   3563        Derek Carr  OAK       QB  2016     9     7.7 2016-11-10   \n",
       "80   3590        Derek Carr  OAK       QB  2016    11    21.6 2016-11-24   \n",
       "81   3616        Derek Carr  OAK       QB  2016    12    15.3 2016-12-01   \n",
       "82   3617        Derek Carr  OAK       QB  2016    12    15.3 2016-12-01   \n",
       "83   3643        Derek Carr  OAK       QB  2016    13    18.8 2016-12-08   \n",
       "84   3644        Derek Carr  OAK       QB  2016    13    18.8 2016-12-08   \n",
       "85   3671        Derek Carr  OAK       QB  2016    14     5.0 2016-12-15   \n",
       "86   3698        Derek Carr  OAK       QB  2016    15    11.0 2016-12-22   \n",
       "87   3725        Derek Carr  OAK       QB  2016    16    21.9 2016-12-29   \n",
       "88   3794        Derek Carr  OAK       QB  2017     3     5.2 2017-09-29   \n",
       "89   3819        Derek Carr  OAK       QB  2017     4     9.7 2017-10-06   \n",
       "90   3820        Derek Carr  OAK       QB  2017     4     9.7 2017-10-06   \n",
       "91   3821        Derek Carr  OAK       QB  2017     4     9.7 2017-10-06   \n",
       "92   3928        Derek Carr  OAK       QB  2017     9    13.7 2017-11-10   \n",
       "93   4165    Brock Osweiler  HOU       QB  2016    17    20.2 2017-01-05   \n",
       "94   4196    Brock Osweiler  DEN       QB  2017    10    10.7 2017-11-17   \n",
       "95   4300     Blake Bortles  JAC       QB  2016     7    13.1 2016-10-27   \n",
       "96   4315     Blake Bortles  JAC       QB  2016     8    27.7 2016-11-03   \n",
       "97   4652  Ryan Fitzpatrick  NYJ       QB  2016    13     1.5 2016-12-08   \n",
       "98   4653  Ryan Fitzpatrick  NYJ       QB  2016    13     1.5 2016-12-08   \n",
       "99   4665  Ryan Fitzpatrick  NYJ       QB  2016    16     1.7 2016-12-29   \n",
       "\n",
       "     min_date       date              name  \\\n",
       "50 2016-12-15 2016-12-19        Cam Newton   \n",
       "51 2017-10-06 2017-10-12        Cam Newton   \n",
       "52 2017-11-10 2017-11-13        Cam Newton   \n",
       "53 2016-10-20 2016-10-27    Marcus Mariota   \n",
       "54 2016-10-27 2016-10-27    Marcus Mariota   \n",
       "55 2017-10-13 2017-10-17    Marcus Mariota   \n",
       "56 2017-10-13 2017-10-16    Marcus Mariota   \n",
       "57 2017-10-13 2017-10-16    Marcus Mariota   \n",
       "58 2017-10-13 2017-10-14    Marcus Mariota   \n",
       "59 2017-11-10 2017-11-16    Marcus Mariota   \n",
       "60 2016-11-10 2016-11-14       Andy Dalton   \n",
       "61 2016-12-08 2016-12-11       Eli Manning   \n",
       "62 2016-12-15 2016-12-22       Eli Manning   \n",
       "63 2016-12-22 2016-12-22       Eli Manning   \n",
       "64 2017-09-08 2017-09-10       Eli Manning   \n",
       "65 2017-09-15 2017-09-18       Eli Manning   \n",
       "66 2017-10-13 2017-10-15       Eli Manning   \n",
       "67 2016-11-24 2016-11-28      Carson Wentz   \n",
       "68 2016-12-15 2016-12-22      Carson Wentz   \n",
       "69 2016-12-15 2016-12-22      Carson Wentz   \n",
       "70 2016-12-15 2016-12-22      Carson Wentz   \n",
       "71 2016-12-22 2016-12-22      Carson Wentz   \n",
       "72 2016-12-22 2016-12-22      Carson Wentz   \n",
       "73 2016-12-22 2016-12-22      Carson Wentz   \n",
       "74 2017-10-06 2017-10-12      Carson Wentz   \n",
       "75 2017-10-20 2017-10-23      Carson Wentz   \n",
       "76 2016-12-15 2016-12-18     Carson Palmer   \n",
       "77 2017-09-22 2017-09-25     Carson Palmer   \n",
       "78 2017-10-20 2017-10-23     Carson Palmer   \n",
       "79 2016-11-03 2016-11-06        Derek Carr   \n",
       "80 2016-11-17 2016-11-21        Derek Carr   \n",
       "81 2016-11-24 2016-12-01        Derek Carr   \n",
       "82 2016-11-24 2016-11-30        Derek Carr   \n",
       "83 2016-12-01 2016-12-08        Derek Carr   \n",
       "84 2016-12-01 2016-12-01        Derek Carr   \n",
       "85 2016-12-08 2016-12-08        Derek Carr   \n",
       "86 2016-12-15 2016-12-20        Derek Carr   \n",
       "87 2016-12-22 2016-12-29        Derek Carr   \n",
       "88 2017-09-22 2017-09-24        Derek Carr   \n",
       "89 2017-09-29 2017-10-06        Derek Carr   \n",
       "90 2017-09-29 2017-10-02        Derek Carr   \n",
       "91 2017-09-29 2017-10-01        Derek Carr   \n",
       "92 2017-11-03 2017-11-05        Derek Carr   \n",
       "93 2016-12-29 2017-01-04    Brock Osweiler   \n",
       "94 2017-11-10 2017-11-16    Brock Osweiler   \n",
       "95 2016-10-20 2016-10-27     Blake Bortles   \n",
       "96 2016-10-27 2016-10-27     Blake Bortles   \n",
       "97 2016-12-01 2016-12-06  Ryan Fitzpatrick   \n",
       "98 2016-12-01 2016-12-05  Ryan Fitzpatrick   \n",
       "99 2016-12-22 2016-12-28  Ryan Fitzpatrick   \n",
       "\n",
       "                                                 news        team  \\\n",
       "50  (\"Cam Newton (shoulder) is active for Monday n...    Panthers   \n",
       "51  (\"Cam Newton completed 28-of-52 passes for 238...    Panthers   \n",
       "52  (\"Cam Newton completed 21-of-35 passes for 254...    Panthers   \n",
       "53  (\"Marcus Mariota completed 18-of-22 passes for...      Titans   \n",
       "54  (\"Marcus Mariota completed 18-of-22 passes for...      Titans   \n",
       "55  (\"Marcus Mariota (hamstring) escaped Monday ni...      Titans   \n",
       "56  (\"Marcus Mariota completed 23-of-32 passes for...      Titans   \n",
       "57  ('Marcus Mariota (hamstring) is active and sta...      Titans   \n",
       "58  (\"Marcus Mariota (hamstring) is questionable f...      Titans   \n",
       "59  (\"Marcus Mariota completed 22-of-33 passes for...      Titans   \n",
       "60  (\"Andy Dalton completed 16-of-29 passes for 20...     Bengals   \n",
       "61  (\"Eli Manning completed 17-of-28 passes for 19...      Giants   \n",
       "62  ('Eli Manning completed 38-of-63 passes for 35...      Giants   \n",
       "63  ('Eli Manning completed 38-of-63 passes for 35...      Giants   \n",
       "64  ('Eli Manning completed 28-of-37 passes for 21...      Giants   \n",
       "65  (\"Eli Manning completed 22-of-32 passes for 23...      Giants   \n",
       "66  ('Eli Manning 11-of-19 passes for 128 yards an...      Giants   \n",
       "67  (\"Carson Wentz completed 24-of-36 passes for 2...      Eagles   \n",
       "68  (\"Carson Wentz completed 13-of-24 passes for 1...      Eagles   \n",
       "69  ('Carson Wentz has cleared the concussion prot...      Eagles   \n",
       "70  ('Carson Wentz left Week 16 against the Giants...      Eagles   \n",
       "71  (\"Carson Wentz completed 13-of-24 passes for 1...      Eagles   \n",
       "72  ('Carson Wentz has cleared the concussion prot...      Eagles   \n",
       "73  ('Carson Wentz left Week 16 against the Giants...      Eagles   \n",
       "74  (\"Carson Wentz completed 16-of-30 passes for 2...      Eagles   \n",
       "75  (\"Carson Wentz completed 17-of-25 passes for 2...      Eagles   \n",
       "76  ('Carson Palmer said, \"I expect to play in 201...   Cardinals   \n",
       "77  (\"Carson Palmer completed 29-of-48 passes for ...   Cardinals   \n",
       "78  ('Carson Palmer is hopeful he can return from ...   Cardinals   \n",
       "79  (\"Derek Carr completed 20-of-31 passes for 184...     Raiders   \n",
       "80  (\"Derek Carr completed 21-of-31 passes for 295...     Raiders   \n",
       "81  ('Derek Carr practiced without a glove on his ...     Raiders   \n",
       "82  (\"Updating an earlier report, Derek Carr (fing...     Raiders   \n",
       "83  (\"Derek Carr completed 17-of-41 passes for 117...     Raiders   \n",
       "84  ('Derek Carr practiced without a glove on his ...     Raiders   \n",
       "85  (\"Derek Carr completed 17-of-41 passes for 117...     Raiders   \n",
       "86  ('The Raiders had a league-best seven players ...     Raiders   \n",
       "87  ('Derek Carr (leg) has reportedly avoided liga...     Raiders   \n",
       "88  ('Derek Carr completed 18-of-30 passes for 118...     Raiders   \n",
       "89  ('The Las Vegas Review Journal reports Derek C...     Raiders   \n",
       "90  ('Coach Jack Del Rio said Derek Carr has a tra...     Raiders   \n",
       "91  ('Derek Carr went for X-rays on his injured ba...     Raiders   \n",
       "92  ('Derek Carr completed 21-of-30 passes for 300...     Raiders   \n",
       "93  ('According to Aaron Wilson of the Houston Chr...     Broncos   \n",
       "94  ('Brock Osweiler (shoulder) is practicing in f...     Broncos   \n",
       "95  (\"Blake Bortles completed 33-of-54 passes for ...     Jaguars   \n",
       "96  (\"Blake Bortles completed 33-of-54 passes for ...     Jaguars   \n",
       "97  ('Ryan Fitzpatrick has been benched.', '\\n    ...  Buccaneers   \n",
       "98  ('Ryan Fitzpatrick was benched after completin...  Buccaneers   \n",
       "99  (\"Ryan Fitzpatrick doesn't expect to be back w...  Buccaneers   \n",
       "\n",
       "                                            news_list  \n",
       "50  [(\"cam, newton, (shoulder), is, active, for, m...  \n",
       "51  [(\"cam, newton, completed, 28-of-52, passes, f...  \n",
       "52  [(\"cam, newton, completed, 21-of-35, passes, f...  \n",
       "53  [(\"marcus, mariota, completed, 18-of-22, passe...  \n",
       "54  [(\"marcus, mariota, completed, 18-of-22, passe...  \n",
       "55  [(\"marcus, mariota, (hamstring), escaped, mond...  \n",
       "56  [(\"marcus, mariota, completed, 23-of-32, passe...  \n",
       "57  [('marcus, mariota, (hamstring), is, active, a...  \n",
       "58  [(\"marcus, mariota, (hamstring), is, questiona...  \n",
       "59  [(\"marcus, mariota, completed, 22-of-33, passe...  \n",
       "60  [(\"andy, dalton, completed, 16-of-29, passes, ...  \n",
       "61  [(\"eli, manning, completed, 17-of-28, passes, ...  \n",
       "62  [('eli, manning, completed, 38-of-63, passes, ...  \n",
       "63  [('eli, manning, completed, 38-of-63, passes, ...  \n",
       "64  [('eli, manning, completed, 28-of-37, passes, ...  \n",
       "65  [(\"eli, manning, completed, 22-of-32, passes, ...  \n",
       "66  [('eli, manning, 11-of-19, passes, for, 128, y...  \n",
       "67  [(\"carson, wentz, completed, 24-of-36, passes,...  \n",
       "68  [(\"carson, wentz, completed, 13-of-24, passes,...  \n",
       "69  [('carson, wentz, has, cleared, the, concussio...  \n",
       "70  [('carson, wentz, left, week, 16, against, the...  \n",
       "71  [(\"carson, wentz, completed, 13-of-24, passes,...  \n",
       "72  [('carson, wentz, has, cleared, the, concussio...  \n",
       "73  [('carson, wentz, left, week, 16, against, the...  \n",
       "74  [(\"carson, wentz, completed, 16-of-30, passes,...  \n",
       "75  [(\"carson, wentz, completed, 17-of-25, passes,...  \n",
       "76  [('carson, palmer, said,, \"i, expect, to, play...  \n",
       "77  [(\"carson, palmer, completed, 29-of-48, passes...  \n",
       "78  [('carson, palmer, is, hopeful, he, can, retur...  \n",
       "79  [(\"derek, carr, completed, 20-of-31, passes, f...  \n",
       "80  [(\"derek, carr, completed, 21-of-31, passes, f...  \n",
       "81  [('derek, carr, practiced, without, a, glove, ...  \n",
       "82  [(\"updating, an, earlier, report,, derek, carr...  \n",
       "83  [(\"derek, carr, completed, 17-of-41, passes, f...  \n",
       "84  [('derek, carr, practiced, without, a, glove, ...  \n",
       "85  [(\"derek, carr, completed, 17-of-41, passes, f...  \n",
       "86  [('the, raiders, had, a, league-best, seven, p...  \n",
       "87  [('derek, carr, (leg), has, reportedly, avoide...  \n",
       "88  [('derek, carr, completed, 18-of-30, passes, f...  \n",
       "89  [('the, las, vegas, review, journal, reports, ...  \n",
       "90  [('coach, jack, del, rio, said, derek, carr, h...  \n",
       "91  [('derek, carr, went, for, x-rays, on, his, in...  \n",
       "92  [('derek, carr, completed, 21-of-30, passes, f...  \n",
       "93  [('according, to, aaron, wilson, of, the, hous...  \n",
       "94  [('brock, osweiler, (shoulder), is, practicing...  \n",
       "95  [(\"blake, bortles, completed, 33-of-54, passes...  \n",
       "96  [(\"blake, bortles, completed, 33-of-54, passes...  \n",
       "97  [('ryan, fitzpatrick, has, been, benched.',, '...  \n",
       "98  [('ryan, fitzpatrick, was, benched, after, com...  \n",
       "99  [(\"ryan, fitzpatrick, doesn't, expect, to, be,...  "
      ]
     },
     "execution_count": 70,
     "metadata": {},
     "output_type": "execute_result"
    }
   ],
   "source": [
    "combined.iloc[50:100]"
   ]
  },
  {
   "cell_type": "code",
   "execution_count": 24,
   "metadata": {
    "collapsed": true
   },
   "outputs": [],
   "source": [
    "combined = combined[(combined['date'] <= combined['max_date']) & \n",
    "                    (combined['date'] >= combined['min_date'])]"
   ]
  },
  {
   "cell_type": "code",
   "execution_count": 55,
   "metadata": {},
   "outputs": [
    {
     "data": {
      "text/plain": [
       "(1137, 13)"
      ]
     },
     "execution_count": 55,
     "metadata": {},
     "output_type": "execute_result"
    }
   ],
   "source": [
    "combined.shape"
   ]
  },
  {
   "cell_type": "code",
   "execution_count": 69,
   "metadata": {
    "collapsed": true
   },
   "outputs": [],
   "source": [
    "combined.reset_index(inplace=True)"
   ]
  },
  {
   "cell_type": "code",
   "execution_count": 26,
   "metadata": {
    "collapsed": true
   },
   "outputs": [],
   "source": [
    "combined.to_excel('combined.xlsx')"
   ]
  },
  {
   "cell_type": "code",
   "execution_count": 5,
   "metadata": {
    "collapsed": true
   },
   "outputs": [],
   "source": [
    "#Normalize scores"
   ]
  },
  {
   "cell_type": "code",
   "execution_count": 6,
   "metadata": {
    "collapsed": true
   },
   "outputs": [],
   "source": [
    "#Split into train/test"
   ]
  },
  {
   "cell_type": "code",
   "execution_count": 38,
   "metadata": {
    "collapsed": true
   },
   "outputs": [],
   "source": [
    "token_feed = (word for news in combined['news_list'] for word in news)\n",
    "\n",
    "vocab = Vocabulary(token_feed)"
   ]
  },
  {
   "cell_type": "code",
   "execution_count": 39,
   "metadata": {},
   "outputs": [
    {
     "data": {
      "text/plain": [
       "9372"
      ]
     },
     "execution_count": 39,
     "metadata": {},
     "output_type": "execute_result"
    }
   ],
   "source": [
    "vocab.size"
   ]
  },
  {
   "cell_type": "code",
   "execution_count": 40,
   "metadata": {},
   "outputs": [
    {
     "name": "stdout",
     "output_type": "stream",
     "text": [
      "\"the\": 4820\n",
      "\"a\": 2576\n",
      "\"in\": 2278\n",
      "\"to\": 1754\n",
      "\"for\": 1585\n",
      "\"week\": 1364\n",
      "\"and\": 1277\n",
      "\"on\": 1092\n",
      "\"of\": 963\n",
      "\"was\": 959\n"
     ]
    }
   ],
   "source": [
    "for word, count in vocab.unigram_counts.most_common(10):\n",
    "    print(\"\\\"%s\\\": %d\" % (word, count))"
   ]
  },
  {
   "cell_type": "code",
   "execution_count": 52,
   "metadata": {
    "collapsed": true
   },
   "outputs": [],
   "source": [
    "encoded = pd.DataFrame([collections.Counter(vocab.words_to_ids(x)) for x in combined['news_list']], \n",
    "                       columns = range(vocab.size))"
   ]
  },
  {
   "cell_type": "code",
   "execution_count": 53,
   "metadata": {
    "scrolled": true
   },
   "outputs": [
    {
     "data": {
      "text/html": [
       "<div>\n",
       "<style>\n",
       "    .dataframe thead tr:only-child th {\n",
       "        text-align: right;\n",
       "    }\n",
       "\n",
       "    .dataframe thead th {\n",
       "        text-align: left;\n",
       "    }\n",
       "\n",
       "    .dataframe tbody tr th {\n",
       "        vertical-align: top;\n",
       "    }\n",
       "</style>\n",
       "<table border=\"1\" class=\"dataframe\">\n",
       "  <thead>\n",
       "    <tr style=\"text-align: right;\">\n",
       "      <th></th>\n",
       "      <th>0</th>\n",
       "      <th>1</th>\n",
       "      <th>2</th>\n",
       "      <th>3</th>\n",
       "      <th>4</th>\n",
       "      <th>5</th>\n",
       "      <th>6</th>\n",
       "      <th>7</th>\n",
       "      <th>8</th>\n",
       "      <th>9</th>\n",
       "      <th>...</th>\n",
       "      <th>9362</th>\n",
       "      <th>9363</th>\n",
       "      <th>9364</th>\n",
       "      <th>9365</th>\n",
       "      <th>9366</th>\n",
       "      <th>9367</th>\n",
       "      <th>9368</th>\n",
       "      <th>9369</th>\n",
       "      <th>9370</th>\n",
       "      <th>9371</th>\n",
       "    </tr>\n",
       "  </thead>\n",
       "  <tbody>\n",
       "    <tr>\n",
       "      <th>0</th>\n",
       "      <td>NaN</td>\n",
       "      <td>NaN</td>\n",
       "      <td>NaN</td>\n",
       "      <td>9.0</td>\n",
       "      <td>4.0</td>\n",
       "      <td>3.0</td>\n",
       "      <td>2.0</td>\n",
       "      <td>3.0</td>\n",
       "      <td>2.0</td>\n",
       "      <td>2.0</td>\n",
       "      <td>...</td>\n",
       "      <td>NaN</td>\n",
       "      <td>NaN</td>\n",
       "      <td>NaN</td>\n",
       "      <td>NaN</td>\n",
       "      <td>NaN</td>\n",
       "      <td>NaN</td>\n",
       "      <td>NaN</td>\n",
       "      <td>NaN</td>\n",
       "      <td>NaN</td>\n",
       "      <td>NaN</td>\n",
       "    </tr>\n",
       "    <tr>\n",
       "      <th>1</th>\n",
       "      <td>NaN</td>\n",
       "      <td>NaN</td>\n",
       "      <td>NaN</td>\n",
       "      <td>9.0</td>\n",
       "      <td>4.0</td>\n",
       "      <td>3.0</td>\n",
       "      <td>2.0</td>\n",
       "      <td>3.0</td>\n",
       "      <td>2.0</td>\n",
       "      <td>2.0</td>\n",
       "      <td>...</td>\n",
       "      <td>NaN</td>\n",
       "      <td>NaN</td>\n",
       "      <td>NaN</td>\n",
       "      <td>NaN</td>\n",
       "      <td>NaN</td>\n",
       "      <td>NaN</td>\n",
       "      <td>NaN</td>\n",
       "      <td>NaN</td>\n",
       "      <td>NaN</td>\n",
       "      <td>NaN</td>\n",
       "    </tr>\n",
       "    <tr>\n",
       "      <th>2</th>\n",
       "      <td>NaN</td>\n",
       "      <td>NaN</td>\n",
       "      <td>NaN</td>\n",
       "      <td>3.0</td>\n",
       "      <td>1.0</td>\n",
       "      <td>NaN</td>\n",
       "      <td>1.0</td>\n",
       "      <td>1.0</td>\n",
       "      <td>NaN</td>\n",
       "      <td>NaN</td>\n",
       "      <td>...</td>\n",
       "      <td>NaN</td>\n",
       "      <td>NaN</td>\n",
       "      <td>NaN</td>\n",
       "      <td>NaN</td>\n",
       "      <td>NaN</td>\n",
       "      <td>NaN</td>\n",
       "      <td>NaN</td>\n",
       "      <td>NaN</td>\n",
       "      <td>NaN</td>\n",
       "      <td>NaN</td>\n",
       "    </tr>\n",
       "    <tr>\n",
       "      <th>3</th>\n",
       "      <td>NaN</td>\n",
       "      <td>NaN</td>\n",
       "      <td>NaN</td>\n",
       "      <td>9.0</td>\n",
       "      <td>4.0</td>\n",
       "      <td>4.0</td>\n",
       "      <td>1.0</td>\n",
       "      <td>3.0</td>\n",
       "      <td>NaN</td>\n",
       "      <td>1.0</td>\n",
       "      <td>...</td>\n",
       "      <td>NaN</td>\n",
       "      <td>NaN</td>\n",
       "      <td>NaN</td>\n",
       "      <td>NaN</td>\n",
       "      <td>NaN</td>\n",
       "      <td>NaN</td>\n",
       "      <td>NaN</td>\n",
       "      <td>NaN</td>\n",
       "      <td>NaN</td>\n",
       "      <td>NaN</td>\n",
       "    </tr>\n",
       "    <tr>\n",
       "      <th>4</th>\n",
       "      <td>NaN</td>\n",
       "      <td>NaN</td>\n",
       "      <td>NaN</td>\n",
       "      <td>10.0</td>\n",
       "      <td>3.0</td>\n",
       "      <td>5.0</td>\n",
       "      <td>5.0</td>\n",
       "      <td>1.0</td>\n",
       "      <td>1.0</td>\n",
       "      <td>NaN</td>\n",
       "      <td>...</td>\n",
       "      <td>NaN</td>\n",
       "      <td>NaN</td>\n",
       "      <td>NaN</td>\n",
       "      <td>NaN</td>\n",
       "      <td>NaN</td>\n",
       "      <td>NaN</td>\n",
       "      <td>NaN</td>\n",
       "      <td>NaN</td>\n",
       "      <td>NaN</td>\n",
       "      <td>NaN</td>\n",
       "    </tr>\n",
       "  </tbody>\n",
       "</table>\n",
       "<p>5 rows × 9372 columns</p>\n",
       "</div>"
      ],
      "text/plain": [
       "   0     1     2     3     4     5     6     7     8     9     ...   9362  \\\n",
       "0   NaN   NaN   NaN   9.0   4.0   3.0   2.0   3.0   2.0   2.0  ...    NaN   \n",
       "1   NaN   NaN   NaN   9.0   4.0   3.0   2.0   3.0   2.0   2.0  ...    NaN   \n",
       "2   NaN   NaN   NaN   3.0   1.0   NaN   1.0   1.0   NaN   NaN  ...    NaN   \n",
       "3   NaN   NaN   NaN   9.0   4.0   4.0   1.0   3.0   NaN   1.0  ...    NaN   \n",
       "4   NaN   NaN   NaN  10.0   3.0   5.0   5.0   1.0   1.0   NaN  ...    NaN   \n",
       "\n",
       "   9363  9364  9365  9366  9367  9368  9369  9370  9371  \n",
       "0   NaN   NaN   NaN   NaN   NaN   NaN   NaN   NaN   NaN  \n",
       "1   NaN   NaN   NaN   NaN   NaN   NaN   NaN   NaN   NaN  \n",
       "2   NaN   NaN   NaN   NaN   NaN   NaN   NaN   NaN   NaN  \n",
       "3   NaN   NaN   NaN   NaN   NaN   NaN   NaN   NaN   NaN  \n",
       "4   NaN   NaN   NaN   NaN   NaN   NaN   NaN   NaN   NaN  \n",
       "\n",
       "[5 rows x 9372 columns]"
      ]
     },
     "execution_count": 53,
     "metadata": {},
     "output_type": "execute_result"
    }
   ],
   "source": [
    "encoded.head()"
   ]
  },
  {
   "cell_type": "code",
   "execution_count": 63,
   "metadata": {
    "collapsed": true
   },
   "outputs": [],
   "source": [
    "encoded.fillna(value= 0, inplace=True)"
   ]
  },
  {
   "cell_type": "code",
   "execution_count": 54,
   "metadata": {},
   "outputs": [
    {
     "data": {
      "text/plain": [
       "(1137, 9372)"
      ]
     },
     "execution_count": 54,
     "metadata": {},
     "output_type": "execute_result"
    }
   ],
   "source": [
    "encoded.shape"
   ]
  },
  {
   "cell_type": "code",
   "execution_count": 51,
   "metadata": {},
   "outputs": [
    {
     "data": {
      "text/plain": [
       "array([  1.22649551e-311,   1.22649962e-311,   0.00000000e+000, ...,\n",
       "         0.00000000e+000,   0.00000000e+000,   0.00000000e+000])"
      ]
     },
     "execution_count": 51,
     "metadata": {},
     "output_type": "execute_result"
    }
   ],
   "source": [
    "np.ndarray(vocab.size)"
   ]
  },
  {
   "cell_type": "code",
   "execution_count": 57,
   "metadata": {
    "collapsed": true
   },
   "outputs": [],
   "source": [
    "from sklearn.model_selection import train_test_split"
   ]
  },
  {
   "cell_type": "code",
   "execution_count": 71,
   "metadata": {
    "collapsed": true
   },
   "outputs": [],
   "source": [
    "X_train, X_test, y_train, y_test = train_test_split(encoded, combined['Points'], test_size = 0.5)"
   ]
  },
  {
   "cell_type": "code",
   "execution_count": 89,
   "metadata": {
    "collapsed": true
   },
   "outputs": [],
   "source": [
    "model = naive_bayes.GaussianNB()"
   ]
  },
  {
   "cell_type": "code",
   "execution_count": 73,
   "metadata": {},
   "outputs": [
    {
     "data": {
      "text/html": [
       "<div>\n",
       "<style>\n",
       "    .dataframe thead tr:only-child th {\n",
       "        text-align: right;\n",
       "    }\n",
       "\n",
       "    .dataframe thead th {\n",
       "        text-align: left;\n",
       "    }\n",
       "\n",
       "    .dataframe tbody tr th {\n",
       "        vertical-align: top;\n",
       "    }\n",
       "</style>\n",
       "<table border=\"1\" class=\"dataframe\">\n",
       "  <thead>\n",
       "    <tr style=\"text-align: right;\">\n",
       "      <th></th>\n",
       "      <th>0</th>\n",
       "      <th>1</th>\n",
       "      <th>2</th>\n",
       "      <th>3</th>\n",
       "      <th>4</th>\n",
       "      <th>5</th>\n",
       "      <th>6</th>\n",
       "      <th>7</th>\n",
       "      <th>8</th>\n",
       "      <th>9</th>\n",
       "      <th>...</th>\n",
       "      <th>9362</th>\n",
       "      <th>9363</th>\n",
       "      <th>9364</th>\n",
       "      <th>9365</th>\n",
       "      <th>9366</th>\n",
       "      <th>9367</th>\n",
       "      <th>9368</th>\n",
       "      <th>9369</th>\n",
       "      <th>9370</th>\n",
       "      <th>9371</th>\n",
       "    </tr>\n",
       "  </thead>\n",
       "  <tbody>\n",
       "    <tr>\n",
       "      <th>905</th>\n",
       "      <td>0.0</td>\n",
       "      <td>0.0</td>\n",
       "      <td>0.0</td>\n",
       "      <td>2.0</td>\n",
       "      <td>1.0</td>\n",
       "      <td>0.0</td>\n",
       "      <td>0.0</td>\n",
       "      <td>3.0</td>\n",
       "      <td>1.0</td>\n",
       "      <td>1.0</td>\n",
       "      <td>...</td>\n",
       "      <td>0.0</td>\n",
       "      <td>0.0</td>\n",
       "      <td>0.0</td>\n",
       "      <td>0.0</td>\n",
       "      <td>0.0</td>\n",
       "      <td>0.0</td>\n",
       "      <td>0.0</td>\n",
       "      <td>0.0</td>\n",
       "      <td>0.0</td>\n",
       "      <td>0.0</td>\n",
       "    </tr>\n",
       "    <tr>\n",
       "      <th>965</th>\n",
       "      <td>0.0</td>\n",
       "      <td>0.0</td>\n",
       "      <td>0.0</td>\n",
       "      <td>1.0</td>\n",
       "      <td>2.0</td>\n",
       "      <td>2.0</td>\n",
       "      <td>1.0</td>\n",
       "      <td>1.0</td>\n",
       "      <td>1.0</td>\n",
       "      <td>0.0</td>\n",
       "      <td>...</td>\n",
       "      <td>0.0</td>\n",
       "      <td>0.0</td>\n",
       "      <td>0.0</td>\n",
       "      <td>0.0</td>\n",
       "      <td>0.0</td>\n",
       "      <td>0.0</td>\n",
       "      <td>0.0</td>\n",
       "      <td>0.0</td>\n",
       "      <td>0.0</td>\n",
       "      <td>0.0</td>\n",
       "    </tr>\n",
       "    <tr>\n",
       "      <th>139</th>\n",
       "      <td>0.0</td>\n",
       "      <td>0.0</td>\n",
       "      <td>0.0</td>\n",
       "      <td>4.0</td>\n",
       "      <td>3.0</td>\n",
       "      <td>4.0</td>\n",
       "      <td>1.0</td>\n",
       "      <td>2.0</td>\n",
       "      <td>2.0</td>\n",
       "      <td>3.0</td>\n",
       "      <td>...</td>\n",
       "      <td>0.0</td>\n",
       "      <td>0.0</td>\n",
       "      <td>0.0</td>\n",
       "      <td>0.0</td>\n",
       "      <td>0.0</td>\n",
       "      <td>0.0</td>\n",
       "      <td>0.0</td>\n",
       "      <td>0.0</td>\n",
       "      <td>0.0</td>\n",
       "      <td>0.0</td>\n",
       "    </tr>\n",
       "    <tr>\n",
       "      <th>527</th>\n",
       "      <td>0.0</td>\n",
       "      <td>0.0</td>\n",
       "      <td>0.0</td>\n",
       "      <td>3.0</td>\n",
       "      <td>1.0</td>\n",
       "      <td>2.0</td>\n",
       "      <td>0.0</td>\n",
       "      <td>2.0</td>\n",
       "      <td>1.0</td>\n",
       "      <td>2.0</td>\n",
       "      <td>...</td>\n",
       "      <td>0.0</td>\n",
       "      <td>0.0</td>\n",
       "      <td>0.0</td>\n",
       "      <td>0.0</td>\n",
       "      <td>0.0</td>\n",
       "      <td>0.0</td>\n",
       "      <td>0.0</td>\n",
       "      <td>0.0</td>\n",
       "      <td>0.0</td>\n",
       "      <td>0.0</td>\n",
       "    </tr>\n",
       "    <tr>\n",
       "      <th>302</th>\n",
       "      <td>0.0</td>\n",
       "      <td>0.0</td>\n",
       "      <td>0.0</td>\n",
       "      <td>5.0</td>\n",
       "      <td>6.0</td>\n",
       "      <td>2.0</td>\n",
       "      <td>2.0</td>\n",
       "      <td>2.0</td>\n",
       "      <td>1.0</td>\n",
       "      <td>1.0</td>\n",
       "      <td>...</td>\n",
       "      <td>0.0</td>\n",
       "      <td>0.0</td>\n",
       "      <td>0.0</td>\n",
       "      <td>0.0</td>\n",
       "      <td>0.0</td>\n",
       "      <td>0.0</td>\n",
       "      <td>0.0</td>\n",
       "      <td>0.0</td>\n",
       "      <td>0.0</td>\n",
       "      <td>0.0</td>\n",
       "    </tr>\n",
       "  </tbody>\n",
       "</table>\n",
       "<p>5 rows × 9372 columns</p>\n",
       "</div>"
      ],
      "text/plain": [
       "     0     1     2     3     4     5     6     7     8     9     ...   9362  \\\n",
       "905   0.0   0.0   0.0   2.0   1.0   0.0   0.0   3.0   1.0   1.0  ...    0.0   \n",
       "965   0.0   0.0   0.0   1.0   2.0   2.0   1.0   1.0   1.0   0.0  ...    0.0   \n",
       "139   0.0   0.0   0.0   4.0   3.0   4.0   1.0   2.0   2.0   3.0  ...    0.0   \n",
       "527   0.0   0.0   0.0   3.0   1.0   2.0   0.0   2.0   1.0   2.0  ...    0.0   \n",
       "302   0.0   0.0   0.0   5.0   6.0   2.0   2.0   2.0   1.0   1.0  ...    0.0   \n",
       "\n",
       "     9363  9364  9365  9366  9367  9368  9369  9370  9371  \n",
       "905   0.0   0.0   0.0   0.0   0.0   0.0   0.0   0.0   0.0  \n",
       "965   0.0   0.0   0.0   0.0   0.0   0.0   0.0   0.0   0.0  \n",
       "139   0.0   0.0   0.0   0.0   0.0   0.0   0.0   0.0   0.0  \n",
       "527   0.0   0.0   0.0   0.0   0.0   0.0   0.0   0.0   0.0  \n",
       "302   0.0   0.0   0.0   0.0   0.0   0.0   0.0   0.0   0.0  \n",
       "\n",
       "[5 rows x 9372 columns]"
      ]
     },
     "execution_count": 73,
     "metadata": {},
     "output_type": "execute_result"
    }
   ],
   "source": [
    "X_train.head()"
   ]
  },
  {
   "cell_type": "code",
   "execution_count": 74,
   "metadata": {
    "scrolled": true
   },
   "outputs": [
    {
     "data": {
      "text/plain": [
       "905     4.1\n",
       "965     0.5\n",
       "139    15.9\n",
       "527     9.1\n",
       "302    24.0\n",
       "Name: Points, dtype: float64"
      ]
     },
     "execution_count": 74,
     "metadata": {},
     "output_type": "execute_result"
    }
   ],
   "source": [
    "y_train.head()"
   ]
  },
  {
   "cell_type": "code",
   "execution_count": 90,
   "metadata": {},
   "outputs": [
    {
     "ename": "ValueError",
     "evalue": "Unknown label type: (array([  0.1       ,   0.2       ,   0.30000001,   0.40000001,\n         0.5       ,   0.60000002,   0.69999999,   0.80000001,\n         0.89999998,   1.        ,   1.10000002,   1.20000005,\n         1.29999995,   1.39999998,   1.5       ,   1.60000002,\n         1.70000005,   1.79999995,   1.89999998,   2.        ,\n         2.0999999 ,   2.20000005,   2.29999995,   2.4000001 ,\n         2.5       ,   2.5999999 ,   2.70000005,   2.79999995,\n         2.9000001 ,   3.        ,   3.0999999 ,   3.20000005,\n         3.29999995,   3.4000001 ,   3.5       ,   3.5999999 ,\n         3.70000005,   3.79999995,   3.9000001 ,   4.0999999 ,\n         4.19999981,   4.30000019,   4.4000001 ,   4.5       ,\n         4.5999999 ,   4.69999981,   4.80000019,   4.9000001 ,\n         5.        ,   5.0999999 ,   5.19999981,   5.30000019,\n         5.4000001 ,   5.5       ,   5.5999999 ,   5.69999981,\n         5.80000019,   5.9000001 ,   6.        ,   6.0999999 ,\n         6.19999981,   6.30000019,   6.4000001 ,   6.5999999 ,\n         6.69999981,   6.80000019,   6.9000001 ,   7.        ,\n         7.0999999 ,   7.19999981,   7.30000019,   7.4000001 ,\n         7.5999999 ,   7.69999981,   7.80000019,   7.9000001 ,\n         8.        ,   8.10000038,   8.19999981,   8.30000019,\n         8.39999962,   8.5       ,   8.60000038,   8.69999981,\n         8.80000019,   8.89999962,   9.        ,   9.10000038,\n         9.19999981,   9.30000019,   9.5       ,   9.60000038,\n         9.69999981,   9.80000019,   9.89999962,  10.10000038,\n        10.19999981,  10.30000019,  10.5       ,  10.60000038,\n        10.69999981,  10.80000019,  10.89999962,  11.        ,\n        11.10000038,  11.19999981,  11.30000019,  11.39999962,\n        11.60000038,  11.69999981,  11.80000019,  11.89999962,\n        12.        ,  12.19999981,  12.5       ,  12.60000038,\n        12.69999981,  12.80000019,  13.        ,  13.19999981,\n        13.39999962,  13.5       ,  13.60000038,  13.69999981,\n        13.80000019,  13.89999962,  14.        ,  14.10000038,\n        14.19999981,  14.30000019,  14.5       ,  14.60000038,\n        14.69999981,  14.80000019,  14.89999962,  15.        ,\n        15.19999981,  15.30000019,  15.39999962,  15.69999981,\n        15.80000019,  15.89999962,  16.        ,  16.20000076,\n        16.39999962,  16.5       ,  16.70000076,  16.79999924,\n        17.        ,  17.29999924,  17.39999962,  18.        ,\n        18.20000076,  18.29999924,  18.39999962,  18.70000076,\n        18.79999924,  19.        ,  19.10000038,  19.20000076,\n        19.29999924,  19.39999962,  19.5       ,  19.89999962,\n        20.        ,  20.10000038,  20.39999962,  20.5       ,\n        20.60000038,  20.70000076,  20.89999962,  21.        ,\n        21.20000076,  21.39999962,  21.5       ,  21.60000038,\n        21.89999962,  22.29999924,  22.5       ,  22.60000038,\n        22.70000076,  22.89999962,  23.10000038,  23.29999924,\n        23.60000038,  23.79999924,  23.89999962,  24.        ,\n        24.39999962,  24.79999924,  25.20000076,  25.29999924,\n        25.39999962,  25.5       ,  26.10000038,  26.20000076,\n        26.29999924,  26.5       ,  26.79999924,  27.        ,\n        27.39999962,  28.29999924,  29.70000076,  29.79999924,\n        30.39999962,  35.70000076], dtype=float32),)",
     "output_type": "error",
     "traceback": [
      "\u001b[1;31m---------------------------------------------------------------------------\u001b[0m",
      "\u001b[1;31mValueError\u001b[0m                                Traceback (most recent call last)",
      "\u001b[1;32m<ipython-input-90-af9b0bb57a0e>\u001b[0m in \u001b[0;36m<module>\u001b[1;34m()\u001b[0m\n\u001b[1;32m----> 1\u001b[1;33m \u001b[0mmodel\u001b[0m\u001b[1;33m.\u001b[0m\u001b[0mfit\u001b[0m\u001b[1;33m(\u001b[0m\u001b[0mX_train\u001b[0m\u001b[1;33m,\u001b[0m \u001b[0mnp\u001b[0m\u001b[1;33m.\u001b[0m\u001b[0masarray\u001b[0m\u001b[1;33m(\u001b[0m\u001b[0my_train\u001b[0m\u001b[1;33m,\u001b[0m \u001b[0mdtype\u001b[0m\u001b[1;33m=\u001b[0m\u001b[0mnp\u001b[0m\u001b[1;33m.\u001b[0m\u001b[0mfloat32\u001b[0m\u001b[1;33m)\u001b[0m\u001b[1;33m)\u001b[0m\u001b[1;33m\u001b[0m\u001b[0m\n\u001b[0m",
      "\u001b[1;32m~\\Anaconda3\\lib\\site-packages\\sklearn\\naive_bayes.py\u001b[0m in \u001b[0;36mfit\u001b[1;34m(self, X, y, sample_weight)\u001b[0m\n\u001b[0;32m    183\u001b[0m         \u001b[0mX\u001b[0m\u001b[1;33m,\u001b[0m \u001b[0my\u001b[0m \u001b[1;33m=\u001b[0m \u001b[0mcheck_X_y\u001b[0m\u001b[1;33m(\u001b[0m\u001b[0mX\u001b[0m\u001b[1;33m,\u001b[0m \u001b[0my\u001b[0m\u001b[1;33m)\u001b[0m\u001b[1;33m\u001b[0m\u001b[0m\n\u001b[0;32m    184\u001b[0m         return self._partial_fit(X, y, np.unique(y), _refit=True,\n\u001b[1;32m--> 185\u001b[1;33m                                  sample_weight=sample_weight)\n\u001b[0m\u001b[0;32m    186\u001b[0m \u001b[1;33m\u001b[0m\u001b[0m\n\u001b[0;32m    187\u001b[0m     \u001b[1;33m@\u001b[0m\u001b[0mstaticmethod\u001b[0m\u001b[1;33m\u001b[0m\u001b[0m\n",
      "\u001b[1;32m~\\Anaconda3\\lib\\site-packages\\sklearn\\naive_bayes.py\u001b[0m in \u001b[0;36m_partial_fit\u001b[1;34m(self, X, y, classes, _refit, sample_weight)\u001b[0m\n\u001b[0;32m    348\u001b[0m             \u001b[0mself\u001b[0m\u001b[1;33m.\u001b[0m\u001b[0mclasses_\u001b[0m \u001b[1;33m=\u001b[0m \u001b[1;32mNone\u001b[0m\u001b[1;33m\u001b[0m\u001b[0m\n\u001b[0;32m    349\u001b[0m \u001b[1;33m\u001b[0m\u001b[0m\n\u001b[1;32m--> 350\u001b[1;33m         \u001b[1;32mif\u001b[0m \u001b[0m_check_partial_fit_first_call\u001b[0m\u001b[1;33m(\u001b[0m\u001b[0mself\u001b[0m\u001b[1;33m,\u001b[0m \u001b[0mclasses\u001b[0m\u001b[1;33m)\u001b[0m\u001b[1;33m:\u001b[0m\u001b[1;33m\u001b[0m\u001b[0m\n\u001b[0m\u001b[0;32m    351\u001b[0m             \u001b[1;31m# This is the first call to partial_fit:\u001b[0m\u001b[1;33m\u001b[0m\u001b[1;33m\u001b[0m\u001b[0m\n\u001b[0;32m    352\u001b[0m             \u001b[1;31m# initialize various cumulative counters\u001b[0m\u001b[1;33m\u001b[0m\u001b[1;33m\u001b[0m\u001b[0m\n",
      "\u001b[1;32m~\\Anaconda3\\lib\\site-packages\\sklearn\\utils\\multiclass.py\u001b[0m in \u001b[0;36m_check_partial_fit_first_call\u001b[1;34m(clf, classes)\u001b[0m\n\u001b[0;32m    319\u001b[0m         \u001b[1;32melse\u001b[0m\u001b[1;33m:\u001b[0m\u001b[1;33m\u001b[0m\u001b[0m\n\u001b[0;32m    320\u001b[0m             \u001b[1;31m# This is the first call to partial_fit\u001b[0m\u001b[1;33m\u001b[0m\u001b[1;33m\u001b[0m\u001b[0m\n\u001b[1;32m--> 321\u001b[1;33m             \u001b[0mclf\u001b[0m\u001b[1;33m.\u001b[0m\u001b[0mclasses_\u001b[0m \u001b[1;33m=\u001b[0m \u001b[0munique_labels\u001b[0m\u001b[1;33m(\u001b[0m\u001b[0mclasses\u001b[0m\u001b[1;33m)\u001b[0m\u001b[1;33m\u001b[0m\u001b[0m\n\u001b[0m\u001b[0;32m    322\u001b[0m             \u001b[1;32mreturn\u001b[0m \u001b[1;32mTrue\u001b[0m\u001b[1;33m\u001b[0m\u001b[0m\n\u001b[0;32m    323\u001b[0m \u001b[1;33m\u001b[0m\u001b[0m\n",
      "\u001b[1;32m~\\Anaconda3\\lib\\site-packages\\sklearn\\utils\\multiclass.py\u001b[0m in \u001b[0;36munique_labels\u001b[1;34m(*ys)\u001b[0m\n\u001b[0;32m     95\u001b[0m     \u001b[0m_unique_labels\u001b[0m \u001b[1;33m=\u001b[0m \u001b[0m_FN_UNIQUE_LABELS\u001b[0m\u001b[1;33m.\u001b[0m\u001b[0mget\u001b[0m\u001b[1;33m(\u001b[0m\u001b[0mlabel_type\u001b[0m\u001b[1;33m,\u001b[0m \u001b[1;32mNone\u001b[0m\u001b[1;33m)\u001b[0m\u001b[1;33m\u001b[0m\u001b[0m\n\u001b[0;32m     96\u001b[0m     \u001b[1;32mif\u001b[0m \u001b[1;32mnot\u001b[0m \u001b[0m_unique_labels\u001b[0m\u001b[1;33m:\u001b[0m\u001b[1;33m\u001b[0m\u001b[0m\n\u001b[1;32m---> 97\u001b[1;33m         \u001b[1;32mraise\u001b[0m \u001b[0mValueError\u001b[0m\u001b[1;33m(\u001b[0m\u001b[1;34m\"Unknown label type: %s\"\u001b[0m \u001b[1;33m%\u001b[0m \u001b[0mrepr\u001b[0m\u001b[1;33m(\u001b[0m\u001b[0mys\u001b[0m\u001b[1;33m)\u001b[0m\u001b[1;33m)\u001b[0m\u001b[1;33m\u001b[0m\u001b[0m\n\u001b[0m\u001b[0;32m     98\u001b[0m \u001b[1;33m\u001b[0m\u001b[0m\n\u001b[0;32m     99\u001b[0m     \u001b[0mys_labels\u001b[0m \u001b[1;33m=\u001b[0m \u001b[0mset\u001b[0m\u001b[1;33m(\u001b[0m\u001b[0mchain\u001b[0m\u001b[1;33m.\u001b[0m\u001b[0mfrom_iterable\u001b[0m\u001b[1;33m(\u001b[0m\u001b[0m_unique_labels\u001b[0m\u001b[1;33m(\u001b[0m\u001b[0my\u001b[0m\u001b[1;33m)\u001b[0m \u001b[1;32mfor\u001b[0m \u001b[0my\u001b[0m \u001b[1;32min\u001b[0m \u001b[0mys\u001b[0m\u001b[1;33m)\u001b[0m\u001b[1;33m)\u001b[0m\u001b[1;33m\u001b[0m\u001b[0m\n",
      "\u001b[1;31mValueError\u001b[0m: Unknown label type: (array([  0.1       ,   0.2       ,   0.30000001,   0.40000001,\n         0.5       ,   0.60000002,   0.69999999,   0.80000001,\n         0.89999998,   1.        ,   1.10000002,   1.20000005,\n         1.29999995,   1.39999998,   1.5       ,   1.60000002,\n         1.70000005,   1.79999995,   1.89999998,   2.        ,\n         2.0999999 ,   2.20000005,   2.29999995,   2.4000001 ,\n         2.5       ,   2.5999999 ,   2.70000005,   2.79999995,\n         2.9000001 ,   3.        ,   3.0999999 ,   3.20000005,\n         3.29999995,   3.4000001 ,   3.5       ,   3.5999999 ,\n         3.70000005,   3.79999995,   3.9000001 ,   4.0999999 ,\n         4.19999981,   4.30000019,   4.4000001 ,   4.5       ,\n         4.5999999 ,   4.69999981,   4.80000019,   4.9000001 ,\n         5.        ,   5.0999999 ,   5.19999981,   5.30000019,\n         5.4000001 ,   5.5       ,   5.5999999 ,   5.69999981,\n         5.80000019,   5.9000001 ,   6.        ,   6.0999999 ,\n         6.19999981,   6.30000019,   6.4000001 ,   6.5999999 ,\n         6.69999981,   6.80000019,   6.9000001 ,   7.        ,\n         7.0999999 ,   7.19999981,   7.30000019,   7.4000001 ,\n         7.5999999 ,   7.69999981,   7.80000019,   7.9000001 ,\n         8.        ,   8.10000038,   8.19999981,   8.30000019,\n         8.39999962,   8.5       ,   8.60000038,   8.69999981,\n         8.80000019,   8.89999962,   9.        ,   9.10000038,\n         9.19999981,   9.30000019,   9.5       ,   9.60000038,\n         9.69999981,   9.80000019,   9.89999962,  10.10000038,\n        10.19999981,  10.30000019,  10.5       ,  10.60000038,\n        10.69999981,  10.80000019,  10.89999962,  11.        ,\n        11.10000038,  11.19999981,  11.30000019,  11.39999962,\n        11.60000038,  11.69999981,  11.80000019,  11.89999962,\n        12.        ,  12.19999981,  12.5       ,  12.60000038,\n        12.69999981,  12.80000019,  13.        ,  13.19999981,\n        13.39999962,  13.5       ,  13.60000038,  13.69999981,\n        13.80000019,  13.89999962,  14.        ,  14.10000038,\n        14.19999981,  14.30000019,  14.5       ,  14.60000038,\n        14.69999981,  14.80000019,  14.89999962,  15.        ,\n        15.19999981,  15.30000019,  15.39999962,  15.69999981,\n        15.80000019,  15.89999962,  16.        ,  16.20000076,\n        16.39999962,  16.5       ,  16.70000076,  16.79999924,\n        17.        ,  17.29999924,  17.39999962,  18.        ,\n        18.20000076,  18.29999924,  18.39999962,  18.70000076,\n        18.79999924,  19.        ,  19.10000038,  19.20000076,\n        19.29999924,  19.39999962,  19.5       ,  19.89999962,\n        20.        ,  20.10000038,  20.39999962,  20.5       ,\n        20.60000038,  20.70000076,  20.89999962,  21.        ,\n        21.20000076,  21.39999962,  21.5       ,  21.60000038,\n        21.89999962,  22.29999924,  22.5       ,  22.60000038,\n        22.70000076,  22.89999962,  23.10000038,  23.29999924,\n        23.60000038,  23.79999924,  23.89999962,  24.        ,\n        24.39999962,  24.79999924,  25.20000076,  25.29999924,\n        25.39999962,  25.5       ,  26.10000038,  26.20000076,\n        26.29999924,  26.5       ,  26.79999924,  27.        ,\n        27.39999962,  28.29999924,  29.70000076,  29.79999924,\n        30.39999962,  35.70000076], dtype=float32),)"
     ]
    }
   ],
   "source": [
    "model.fit(X_train, np.asarray(y_train, dtype=np.float32))"
   ]
  },
  {
   "cell_type": "code",
   "execution_count": 84,
   "metadata": {},
   "outputs": [
    {
     "data": {
      "text/plain": [
       "0.01054481546572935"
      ]
     },
     "execution_count": 84,
     "metadata": {},
     "output_type": "execute_result"
    }
   ],
   "source": [
    "model.score(X_test, np.asarray(y_test, dtype='|S6'))"
   ]
  },
  {
   "cell_type": "code",
   "execution_count": 85,
   "metadata": {
    "collapsed": true
   },
   "outputs": [],
   "source": [
    "?model.score()"
   ]
  },
  {
   "cell_type": "code",
   "execution_count": 86,
   "metadata": {
    "collapsed": true
   },
   "outputs": [],
   "source": [
    "preds = model.predict(X_test)"
   ]
  },
  {
   "cell_type": "code",
   "execution_count": 88,
   "metadata": {},
   "outputs": [
    {
     "data": {
      "text/plain": [
       "array([b'1.0', b'1.0', b'1.7', b'1.0', b'1.0', b'1.0', b'1.0', b'4.7',\n",
       "       b'4.7', b'1.0', b'1.0', b'1.0', b'1.7', b'1.0', b'4.7', b'1.0',\n",
       "       b'1.7', b'1.7', b'4.7', b'1.0', b'1.0', b'1.0', b'1.0', b'1.0',\n",
       "       b'1.0', b'1.7', b'4.7', b'1.0', b'1.0', b'1.0', b'1.7', b'1.7',\n",
       "       b'1.0', b'4.7', b'1.7', b'1.7', b'1.0', b'1.0', b'1.0', b'4.7',\n",
       "       b'4.7', b'4.7', b'4.7', b'1.0', b'1.0', b'1.0', b'1.0', b'1.0',\n",
       "       b'1.0', b'1.0', b'1.7', b'1.7', b'1.0', b'1.0', b'1.0', b'1.0',\n",
       "       b'4.7', b'1.0', b'1.0', b'1.0', b'1.7', b'1.0', b'1.0', b'1.0',\n",
       "       b'4.7', b'1.0', b'1.0', b'1.7', b'1.0', b'1.7', b'1.0', b'1.0',\n",
       "       b'1.0', b'1.0', b'1.0', b'1.0', b'1.0', b'1.0', b'4.7', b'1.0',\n",
       "       b'4.7', b'1.7', b'1.7', b'1.0', b'4.7', b'1.7', b'1.0', b'1.0',\n",
       "       b'1.0', b'1.7', b'1.0', b'1.0', b'1.0', b'4.7', b'1.0', b'4.7',\n",
       "       b'1.0', b'1.0', b'1.7', b'1.7', b'1.0', b'1.0', b'1.0', b'4.7',\n",
       "       b'1.0', b'1.0', b'1.0', b'1.7', b'1.7', b'1.7', b'1.0', b'1.7',\n",
       "       b'1.0', b'1.7', b'1.0', b'1.7', b'4.7', b'1.0', b'1.0', b'1.0',\n",
       "       b'4.7', b'4.7', b'1.7', b'1.0', b'4.7', b'1.7', b'1.7', b'1.7',\n",
       "       b'1.0', b'1.0', b'1.0', b'1.0', b'1.0', b'1.0', b'1.0', b'1.0',\n",
       "       b'1.7', b'4.7', b'1.7', b'1.0', b'1.0', b'4.7', b'1.0', b'1.7',\n",
       "       b'1.7', b'1.0', b'1.0', b'1.7', b'1.0', b'1.0', b'1.7', b'4.7',\n",
       "       b'1.0', b'4.7', b'1.0', b'1.7', b'1.0', b'1.0', b'1.7', b'1.0',\n",
       "       b'1.0', b'1.0', b'1.7', b'1.0', b'1.7', b'4.7', b'1.7', b'1.7',\n",
       "       b'4.7', b'1.0', b'4.7', b'1.0', b'1.0', b'1.7', b'1.7', b'1.0',\n",
       "       b'4.7', b'1.7', b'1.0', b'1.0', b'4.7', b'1.0', b'4.7', b'1.7',\n",
       "       b'1.0', b'1.7', b'1.0', b'4.7', b'4.7', b'4.7', b'1.0', b'1.0',\n",
       "       b'1.0', b'4.7', b'1.0', b'1.7', b'1.0', b'1.0', b'1.0', b'1.7',\n",
       "       b'1.0', b'1.0', b'1.0', b'1.7', b'1.0', b'1.7', b'1.0', b'4.7',\n",
       "       b'1.0', b'1.0', b'1.0', b'1.7', b'1.7', b'1.0', b'1.0', b'1.0',\n",
       "       b'4.7', b'1.7', b'1.7', b'1.0', b'1.0', b'1.0', b'1.7', b'1.0',\n",
       "       b'1.0', b'1.0', b'1.0', b'1.0', b'1.0', b'1.7', b'1.0', b'1.0',\n",
       "       b'1.0', b'1.7', b'1.0', b'1.0', b'1.0', b'1.0', b'1.0', b'4.7',\n",
       "       b'1.0', b'1.0', b'1.7', b'1.7', b'1.7', b'4.7', b'1.0', b'4.7',\n",
       "       b'1.0', b'1.0', b'1.0', b'1.0', b'1.0', b'1.0', b'1.7', b'1.0',\n",
       "       b'4.7', b'4.7', b'1.7', b'1.0', b'1.7', b'1.0', b'1.0', b'1.0',\n",
       "       b'4.7', b'1.7', b'1.7', b'1.0', b'1.0', b'1.0', b'1.0', b'1.7',\n",
       "       b'1.0', b'1.0', b'1.0', b'1.0', b'1.0', b'1.7', b'1.0', b'1.0',\n",
       "       b'1.0', b'4.7', b'1.0', b'1.0', b'1.0', b'1.0', b'1.0', b'4.7',\n",
       "       b'1.0', b'1.0', b'1.0', b'4.7', b'1.0', b'1.0', b'1.0', b'1.0',\n",
       "       b'1.0', b'1.0', b'1.0', b'1.7', b'1.0', b'4.7', b'4.7', b'4.7',\n",
       "       b'1.7', b'4.7', b'4.7', b'1.0', b'1.7', b'1.0', b'1.0', b'1.0',\n",
       "       b'1.0', b'1.0', b'1.0', b'1.0', b'1.0', b'1.7', b'1.7', b'4.7',\n",
       "       b'1.0', b'1.7', b'1.0', b'4.7', b'1.0', b'1.0', b'1.7', b'4.7',\n",
       "       b'1.0', b'1.0', b'4.7', b'1.0', b'1.7', b'1.0', b'1.0', b'1.0',\n",
       "       b'4.7', b'1.7', b'1.0', b'1.0', b'1.0', b'1.0', b'4.7', b'1.0',\n",
       "       b'4.7', b'1.0', b'1.7', b'1.7', b'1.7', b'1.0', b'4.7', b'1.0',\n",
       "       b'1.0', b'1.0', b'4.7', b'1.0', b'1.7', b'1.0', b'1.7', b'1.0',\n",
       "       b'1.0', b'1.7', b'4.7', b'1.0', b'1.0', b'1.0', b'4.7', b'1.0',\n",
       "       b'1.7', b'1.7', b'1.7', b'1.0', b'4.7', b'1.0', b'1.7', b'1.7',\n",
       "       b'1.0', b'1.7', b'1.0', b'1.7', b'1.0', b'1.0', b'4.7', b'1.0',\n",
       "       b'1.0', b'4.7', b'1.0', b'1.0', b'1.0', b'1.0', b'1.0', b'1.7',\n",
       "       b'1.0', b'1.0', b'1.0', b'1.0', b'1.0', b'1.7', b'1.0', b'4.7',\n",
       "       b'1.0', b'1.7', b'1.0', b'1.0', b'1.0', b'1.0', b'1.7', b'1.7',\n",
       "       b'1.0', b'1.0', b'1.0', b'1.7', b'1.0', b'1.0', b'1.0', b'4.7',\n",
       "       b'1.0', b'1.7', b'1.0', b'1.0', b'1.0', b'1.0', b'1.0', b'1.7',\n",
       "       b'4.7', b'1.0', b'1.0', b'1.0', b'1.0', b'1.7', b'1.7', b'1.7',\n",
       "       b'4.7', b'1.0', b'4.7', b'1.0', b'1.0', b'1.0', b'1.0', b'1.0',\n",
       "       b'1.0', b'1.0', b'1.7', b'1.0', b'1.0', b'1.0', b'4.7', b'1.0',\n",
       "       b'1.0', b'1.0', b'1.0', b'1.7', b'1.0', b'1.0', b'1.0', b'1.0',\n",
       "       b'1.0', b'1.7', b'1.0', b'1.0', b'1.0', b'1.0', b'1.7', b'1.0',\n",
       "       b'4.7', b'1.0', b'1.0', b'1.0', b'1.7', b'1.7', b'1.0', b'1.7',\n",
       "       b'4.7', b'1.7', b'1.7', b'1.0', b'1.0', b'1.7', b'1.7', b'1.0',\n",
       "       b'1.0', b'1.0', b'1.0', b'1.7', b'1.7', b'1.0', b'1.0', b'1.0',\n",
       "       b'4.7', b'1.0', b'1.0', b'1.0', b'1.0', b'1.7', b'4.7', b'1.0',\n",
       "       b'1.0', b'1.0', b'1.0', b'1.7', b'4.7', b'1.7', b'1.7', b'4.7',\n",
       "       b'1.0', b'1.7', b'4.7', b'1.0', b'4.7', b'1.0', b'4.7', b'1.7',\n",
       "       b'1.0', b'1.0', b'4.7', b'4.7', b'1.7', b'1.0', b'1.7', b'1.0',\n",
       "       b'1.0', b'1.0', b'1.0', b'1.0', b'4.7', b'4.7', b'1.0', b'1.7',\n",
       "       b'4.7', b'1.0', b'1.0', b'1.7', b'1.7', b'1.0', b'1.0', b'1.7',\n",
       "       b'1.0', b'1.0', b'1.0', b'1.0', b'1.0', b'1.7', b'1.7', b'1.0',\n",
       "       b'1.0', b'1.0', b'1.0', b'1.0', b'1.0', b'1.7', b'1.0', b'4.7',\n",
       "       b'1.0', b'1.0', b'1.0', b'4.7', b'1.0', b'1.7', b'1.7', b'1.0',\n",
       "       b'4.7', b'1.7', b'4.7', b'1.0', b'1.0', b'1.0', b'1.0', b'1.7',\n",
       "       b'1.0'],\n",
       "      dtype='|S7')"
      ]
     },
     "execution_count": 88,
     "metadata": {},
     "output_type": "execute_result"
    }
   ],
   "source": [
    "preds"
   ]
  },
  {
   "cell_type": "code",
   "execution_count": 95,
   "metadata": {
    "collapsed": true
   },
   "outputs": [],
   "source": [
    "from sklearn.ensemble import RandomForestRegressor"
   ]
  },
  {
   "cell_type": "code",
   "execution_count": 96,
   "metadata": {
    "collapsed": true
   },
   "outputs": [],
   "source": [
    "RFC = RandomForestRegressor()"
   ]
  },
  {
   "cell_type": "code",
   "execution_count": 100,
   "metadata": {},
   "outputs": [
    {
     "data": {
      "text/plain": [
       "(569, 9372)"
      ]
     },
     "execution_count": 100,
     "metadata": {},
     "output_type": "execute_result"
    }
   ],
   "source": [
    "X_test.shape"
   ]
  },
  {
   "cell_type": "code",
   "execution_count": null,
   "metadata": {
    "collapsed": true
   },
   "outputs": [],
   "source": [
    "y_t"
   ]
  },
  {
   "cell_type": "code",
   "execution_count": 101,
   "metadata": {},
   "outputs": [
    {
     "data": {
      "text/plain": [
       "RandomForestRegressor(bootstrap=True, criterion='mse', max_depth=None,\n",
       "           max_features='auto', max_leaf_nodes=None,\n",
       "           min_impurity_decrease=0.0, min_impurity_split=None,\n",
       "           min_samples_leaf=1, min_samples_split=2,\n",
       "           min_weight_fraction_leaf=0.0, n_estimators=10, n_jobs=1,\n",
       "           oob_score=False, random_state=None, verbose=0, warm_start=False)"
      ]
     },
     "execution_count": 101,
     "metadata": {},
     "output_type": "execute_result"
    }
   ],
   "source": [
    "RFC.fit(X_train, y_train)"
   ]
  },
  {
   "cell_type": "code",
   "execution_count": 102,
   "metadata": {},
   "outputs": [
    {
     "data": {
      "text/plain": [
       "0.19312228804024167"
      ]
     },
     "execution_count": 102,
     "metadata": {},
     "output_type": "execute_result"
    }
   ],
   "source": [
    "RFC.score(X_test, y_test)"
   ]
  },
  {
   "cell_type": "code",
   "execution_count": 171,
   "metadata": {},
   "outputs": [
    {
     "data": {
      "text/plain": [
       "LinearSVR(C=1.0, dual=True, epsilon=0.0, fit_intercept=True,\n",
       "     intercept_scaling=1.0, loss='epsilon_insensitive', max_iter=1000,\n",
       "     random_state=None, tol=0.0001, verbose=0)"
      ]
     },
     "execution_count": 171,
     "metadata": {},
     "output_type": "execute_result"
    }
   ],
   "source": [
    "from sklearn.svm import LinearSVR\n",
    "SVM = LinearSVR()\n",
    "SVM.fit(X_train, y_train)"
   ]
  },
  {
   "cell_type": "code",
   "execution_count": 172,
   "metadata": {},
   "outputs": [
    {
     "data": {
      "text/plain": [
       "6.6121678642519628"
      ]
     },
     "execution_count": 172,
     "metadata": {},
     "output_type": "execute_result"
    }
   ],
   "source": [
    "np.mean(np.square(SVM.predict(X_test) - np.array(y_test, dtype = np.float32)))**.5"
   ]
  },
  {
   "cell_type": "code",
   "execution_count": 106,
   "metadata": {},
   "outputs": [
    {
     "data": {
      "text/plain": [
       "LinearSVR(C=1.0, dual=True, epsilon=0.0, fit_intercept=True,\n",
       "     intercept_scaling=1.0, loss='epsilon_insensitive', max_iter=1000,\n",
       "     random_state=None, tol=0.0001, verbose=0)"
      ]
     },
     "execution_count": 106,
     "metadata": {},
     "output_type": "execute_result"
    }
   ],
   "source": []
  },
  {
   "cell_type": "code",
   "execution_count": 107,
   "metadata": {},
   "outputs": [
    {
     "data": {
      "text/plain": [
       "0.11890349683970702"
      ]
     },
     "execution_count": 107,
     "metadata": {},
     "output_type": "execute_result"
    }
   ],
   "source": [
    "SVM.score(X_test, y_test)"
   ]
  },
  {
   "cell_type": "code",
   "execution_count": 108,
   "metadata": {},
   "outputs": [
    {
     "data": {
      "text/plain": [
       "array([ 0.        ,  0.        ,  0.        , ..., -0.02113526,\n",
       "       -0.02113526, -0.1213843 ])"
      ]
     },
     "execution_count": 108,
     "metadata": {},
     "output_type": "execute_result"
    }
   ],
   "source": [
    "SVM.coef_"
   ]
  },
  {
   "cell_type": "code",
   "execution_count": 109,
   "metadata": {},
   "outputs": [
    {
     "data": {
      "text/plain": [
       "2.2255536873169426"
      ]
     },
     "execution_count": 109,
     "metadata": {},
     "output_type": "execute_result"
    }
   ],
   "source": [
    "np.max(SVM.coef_)"
   ]
  },
  {
   "cell_type": "code",
   "execution_count": 147,
   "metadata": {
    "collapsed": true
   },
   "outputs": [],
   "source": [
    "def plot_coefficients(classifier, feature_names, top_features=20):\n",
    "    coef = classifier.coef_.ravel()\n",
    "    top_positive_coefficients = np.argsort(coef)[-top_features:]\n",
    "    top_negative_coefficients = np.argsort(coef)[:top_features]\n",
    "    top_coefficients = np.hstack([top_negative_coefficients, top_positive_coefficients])\n",
    "    # create plot\n",
    "    plt.figure(figsize=(15, 5))\n",
    "    colors = ['red' if c < 0 else 'blue' for c in coef[top_coefficients]]\n",
    "    plt.bar(np.arange(2 * top_features), coef[top_coefficients], color=colors)\n",
    "    #feature_names = feature_names)\n",
    "    #return feature_names(top_coefficients)\n",
    "    plt.xticks(np.arange(1, 1 + 2 * top_features), feature_names(top_coefficients), rotation=60, ha='right')\n",
    "    plt.show()"
   ]
  },
  {
   "cell_type": "code",
   "execution_count": 149,
   "metadata": {},
   "outputs": [
    {
     "data": {
      "image/png": "[encoded data removed]",
      "text/plain": [
       "<matplotlib.figure.Figure at 0x2418437ff28>"
      ]
     },
     "metadata": {},
     "output_type": "display_data"
    },
    {
     "ename": "TypeError",
     "evalue": "'NoneType' object is not iterable",
     "output_type": "error",
     "traceback": [
      "\u001b[1;31m---------------------------------------------------------------------------\u001b[0m",
      "\u001b[1;31mTypeError\u001b[0m                                 Traceback (most recent call last)",
      "\u001b[1;32m<ipython-input-149-f7a1c8b701b0>\u001b[0m in \u001b[0;36m<module>\u001b[1;34m()\u001b[0m\n\u001b[1;32m----> 1\u001b[1;33m \u001b[0mvocab\u001b[0m\u001b[1;33m.\u001b[0m\u001b[0mids_to_words\u001b[0m\u001b[1;33m(\u001b[0m\u001b[0mplot_coefficients\u001b[0m\u001b[1;33m(\u001b[0m\u001b[0mSVM\u001b[0m\u001b[1;33m,\u001b[0m \u001b[0mvocab\u001b[0m\u001b[1;33m.\u001b[0m\u001b[0mids_to_words\u001b[0m\u001b[1;33m)\u001b[0m\u001b[1;33m)\u001b[0m\u001b[1;33m\u001b[0m\u001b[0m\n\u001b[0m",
      "\u001b[1;32m<ipython-input-37-57e4159cf863>\u001b[0m in \u001b[0;36mids_to_words\u001b[1;34m(self, ids)\u001b[0m\n\u001b[0;32m     33\u001b[0m \u001b[1;33m\u001b[0m\u001b[0m\n\u001b[0;32m     34\u001b[0m     \u001b[1;32mdef\u001b[0m \u001b[0mids_to_words\u001b[0m\u001b[1;33m(\u001b[0m\u001b[0mself\u001b[0m\u001b[1;33m,\u001b[0m \u001b[0mids\u001b[0m\u001b[1;33m)\u001b[0m\u001b[1;33m:\u001b[0m\u001b[1;33m\u001b[0m\u001b[0m\n\u001b[1;32m---> 35\u001b[1;33m         \u001b[1;32mreturn\u001b[0m \u001b[1;33m[\u001b[0m\u001b[0mself\u001b[0m\u001b[1;33m.\u001b[0m\u001b[0mid_to_word\u001b[0m\u001b[1;33m[\u001b[0m\u001b[0mi\u001b[0m\u001b[1;33m]\u001b[0m \u001b[1;32mfor\u001b[0m \u001b[0mi\u001b[0m \u001b[1;32min\u001b[0m \u001b[0mids\u001b[0m\u001b[1;33m]\u001b[0m\u001b[1;33m\u001b[0m\u001b[0m\n\u001b[0m\u001b[0;32m     36\u001b[0m \u001b[1;33m\u001b[0m\u001b[0m\n\u001b[0;32m     37\u001b[0m     \u001b[1;32mdef\u001b[0m \u001b[0msentence_to_ids\u001b[0m\u001b[1;33m(\u001b[0m\u001b[0mself\u001b[0m\u001b[1;33m,\u001b[0m \u001b[0mwords\u001b[0m\u001b[1;33m)\u001b[0m\u001b[1;33m:\u001b[0m\u001b[1;33m\u001b[0m\u001b[0m\n",
      "\u001b[1;31mTypeError\u001b[0m: 'NoneType' object is not iterable"
     ]
    }
   ],
   "source": [
    "vocab.ids_to_words(plot_coefficients(SVM, vocab.ids_to_words))"
   ]
  },
  {
   "cell_type": "code",
   "execution_count": 146,
   "metadata": {},
   "outputs": [
    {
     "ename": "TypeError",
     "evalue": "'numpy.ndarray' object is not callable",
     "output_type": "error",
     "traceback": [
      "\u001b[1;31m---------------------------------------------------------------------------\u001b[0m",
      "\u001b[1;31mTypeError\u001b[0m                                 Traceback (most recent call last)",
      "\u001b[1;32m<ipython-input-146-2059d62784e4>\u001b[0m in \u001b[0;36m<module>\u001b[1;34m()\u001b[0m\n\u001b[1;32m----> 1\u001b[1;33m \u001b[0mplot_coefficients\u001b[0m\u001b[1;33m(\u001b[0m\u001b[0mSVM\u001b[0m\u001b[1;33m,\u001b[0m \u001b[0mvocab\u001b[0m\u001b[1;33m.\u001b[0m\u001b[0mids_to_words\u001b[0m\u001b[1;33m)\u001b[0m\u001b[1;33m\u001b[0m\u001b[0m\n\u001b[0m",
      "\u001b[1;32m<ipython-input-144-ec09411a15a9>\u001b[0m in \u001b[0;36mplot_coefficients\u001b[1;34m(classifier, feature_names, top_features)\u001b[0m\n\u001b[0;32m     10\u001b[0m     \u001b[0mplt\u001b[0m\u001b[1;33m.\u001b[0m\u001b[0mbar\u001b[0m\u001b[1;33m(\u001b[0m\u001b[0mnp\u001b[0m\u001b[1;33m.\u001b[0m\u001b[0marange\u001b[0m\u001b[1;33m(\u001b[0m\u001b[1;36m2\u001b[0m \u001b[1;33m*\u001b[0m \u001b[0mtop_features\u001b[0m\u001b[1;33m)\u001b[0m\u001b[1;33m,\u001b[0m \u001b[0mcoef\u001b[0m\u001b[1;33m[\u001b[0m\u001b[0mtop_coefficients\u001b[0m\u001b[1;33m]\u001b[0m\u001b[1;33m,\u001b[0m \u001b[0mcolor\u001b[0m\u001b[1;33m=\u001b[0m\u001b[0mcolors\u001b[0m\u001b[1;33m)\u001b[0m\u001b[1;33m\u001b[0m\u001b[0m\n\u001b[0;32m     11\u001b[0m     \u001b[0mfeature_names\u001b[0m \u001b[1;33m=\u001b[0m \u001b[0mnp\u001b[0m\u001b[1;33m.\u001b[0m\u001b[0marray\u001b[0m\u001b[1;33m(\u001b[0m\u001b[0mfeature_names\u001b[0m\u001b[1;33m)\u001b[0m\u001b[1;33m\u001b[0m\u001b[0m\n\u001b[1;32m---> 12\u001b[1;33m     \u001b[1;32mreturn\u001b[0m \u001b[0mfeature_names\u001b[0m\u001b[1;33m(\u001b[0m\u001b[0mtop_coefficients\u001b[0m\u001b[1;33m)\u001b[0m\u001b[1;33m\u001b[0m\u001b[0m\n\u001b[0m\u001b[0;32m     13\u001b[0m     \u001b[0mplt\u001b[0m\u001b[1;33m.\u001b[0m\u001b[0mxticks\u001b[0m\u001b[1;33m(\u001b[0m\u001b[0mnp\u001b[0m\u001b[1;33m.\u001b[0m\u001b[0marange\u001b[0m\u001b[1;33m(\u001b[0m\u001b[1;36m1\u001b[0m\u001b[1;33m,\u001b[0m \u001b[1;36m1\u001b[0m \u001b[1;33m+\u001b[0m \u001b[1;36m2\u001b[0m \u001b[1;33m*\u001b[0m \u001b[0mtop_features\u001b[0m\u001b[1;33m)\u001b[0m\u001b[1;33m,\u001b[0m \u001b[0mfeature_names\u001b[0m\u001b[1;33m(\u001b[0m\u001b[0mtop_coefficients\u001b[0m\u001b[1;33m)\u001b[0m\u001b[1;33m,\u001b[0m \u001b[0mrotation\u001b[0m\u001b[1;33m=\u001b[0m\u001b[1;36m60\u001b[0m\u001b[1;33m,\u001b[0m \u001b[0mha\u001b[0m\u001b[1;33m=\u001b[0m\u001b[1;34m'right'\u001b[0m\u001b[1;33m)\u001b[0m\u001b[1;33m\u001b[0m\u001b[0m\n\u001b[0;32m     14\u001b[0m     \u001b[0mplt\u001b[0m\u001b[1;33m.\u001b[0m\u001b[0mshow\u001b[0m\u001b[1;33m(\u001b[0m\u001b[1;33m)\u001b[0m\u001b[1;33m\u001b[0m\u001b[0m\n",
      "\u001b[1;31mTypeError\u001b[0m: 'numpy.ndarray' object is not callable"
     ]
    }
   ],
   "source": [
    "plot_coefficients(SVM, vocab.ids_to_words)"
   ]
  },
  {
   "cell_type": "code",
   "execution_count": 128,
   "metadata": {},
   "outputs": [
    {
     "data": {
      "text/plain": [
       "['he']"
      ]
     },
     "execution_count": 128,
     "metadata": {},
     "output_type": "execute_result"
    }
   ],
   "source": [
    "vocab.ids_to_words([15])"
   ]
  },
  {
   "cell_type": "code",
   "execution_count": 117,
   "metadata": {
    "collapsed": true
   },
   "outputs": [],
   "source": [
    "cv = CountVectorizer()"
   ]
  },
  {
   "cell_type": "code",
   "execution_count": 116,
   "metadata": {
    "collapsed": true
   },
   "outputs": [],
   "source": [
    "from sklearn.feature_extraction.text import CountVectorizer"
   ]
  },
  {
   "cell_type": "code",
   "execution_count": 119,
   "metadata": {
    "collapsed": true
   },
   "outputs": [],
   "source": [
    "cv.get_feature_names()"
   ]
  },
  {
   "cell_type": "code",
   "execution_count": null,
   "metadata": {
    "collapsed": true
   },
   "outputs": [],
   "source": [
    "cv.fit(combined[''])"
   ]
  },
  {
   "cell_type": "code",
   "execution_count": 163,
   "metadata": {},
   "outputs": [
    {
     "ename": "ValueError",
     "evalue": "The truth value of an array with more than one element is ambiguous. Use a.any() or a.all()",
     "output_type": "error",
     "traceback": [
      "\u001b[1;31m---------------------------------------------------------------------------\u001b[0m",
      "\u001b[1;31mValueError\u001b[0m                                Traceback (most recent call last)",
      "\u001b[1;32m<ipython-input-163-019df7bfd22d>\u001b[0m in \u001b[0;36m<module>\u001b[1;34m()\u001b[0m\n\u001b[1;32m----> 1\u001b[1;33m \u001b[0mnp\u001b[0m\u001b[1;33m.\u001b[0m\u001b[0mdiff\u001b[0m\u001b[1;33m(\u001b[0m\u001b[0mSVM\u001b[0m\u001b[1;33m.\u001b[0m\u001b[0mpredict\u001b[0m\u001b[1;33m(\u001b[0m\u001b[0mX_test\u001b[0m\u001b[1;33m)\u001b[0m\u001b[1;33m,\u001b[0m \u001b[0mnp\u001b[0m\u001b[1;33m.\u001b[0m\u001b[0marray\u001b[0m\u001b[1;33m(\u001b[0m\u001b[0my_test\u001b[0m\u001b[1;33m,\u001b[0m \u001b[0mdtype\u001b[0m \u001b[1;33m=\u001b[0m \u001b[0mnp\u001b[0m\u001b[1;33m.\u001b[0m\u001b[0mfloat32\u001b[0m\u001b[1;33m)\u001b[0m\u001b[1;33m)\u001b[0m\u001b[1;33m\u001b[0m\u001b[0m\n\u001b[0m",
      "\u001b[1;32m~\\Anaconda3\\lib\\site-packages\\numpy\\lib\\function_base.py\u001b[0m in \u001b[0;36mdiff\u001b[1;34m(a, n, axis)\u001b[0m\n\u001b[0;32m   1913\u001b[0m \u001b[1;33m\u001b[0m\u001b[0m\n\u001b[0;32m   1914\u001b[0m     \"\"\"\n\u001b[1;32m-> 1915\u001b[1;33m     \u001b[1;32mif\u001b[0m \u001b[0mn\u001b[0m \u001b[1;33m==\u001b[0m \u001b[1;36m0\u001b[0m\u001b[1;33m:\u001b[0m\u001b[1;33m\u001b[0m\u001b[0m\n\u001b[0m\u001b[0;32m   1916\u001b[0m         \u001b[1;32mreturn\u001b[0m \u001b[0ma\u001b[0m\u001b[1;33m\u001b[0m\u001b[0m\n\u001b[0;32m   1917\u001b[0m     \u001b[1;32mif\u001b[0m \u001b[0mn\u001b[0m \u001b[1;33m<\u001b[0m \u001b[1;36m0\u001b[0m\u001b[1;33m:\u001b[0m\u001b[1;33m\u001b[0m\u001b[0m\n",
      "\u001b[1;31mValueError\u001b[0m: The truth value of an array with more than one element is ambiguous. Use a.any() or a.all()"
     ]
    }
   ],
   "source": [
    "np.diff(SVM.predict(X_test), np.array(y_test, dtype = np.float32))"
   ]
  },
  {
   "cell_type": "code",
   "execution_count": 157,
   "metadata": {},
   "outputs": [
    {
     "data": {
      "text/plain": [
       "numpy.ndarray"
      ]
     },
     "execution_count": 157,
     "metadata": {},
     "output_type": "execute_result"
    }
   ],
   "source": [
    "type(SVM.predict(X_test))"
   ]
  },
  {
   "cell_type": "code",
   "execution_count": 170,
   "metadata": {},
   "outputs": [
    {
     "data": {
      "text/plain": [
       "6.6121936208041561"
      ]
     },
     "execution_count": 170,
     "metadata": {},
     "output_type": "execute_result"
    }
   ],
   "source": [
    "np.mean(np.square(SVM.predict(X_test) - np.array(y_test, dtype = np.float32)))**.5"
   ]
  },
  {
   "cell_type": "code",
   "execution_count": 173,
   "metadata": {},
   "outputs": [
    {
     "data": {
      "text/plain": [
       "569"
      ]
     },
     "execution_count": 173,
     "metadata": {},
     "output_type": "execute_result"
    }
   ],
   "source": [
    "len(X_test)"
   ]
  },
  {
   "cell_type": "code",
   "execution_count": null,
   "metadata": {
    "collapsed": true
   },
   "outputs": [],
   "source": []
  }
 ],
 "metadata": {
  "kernelspec": {
   "display_name": "Python 3",
   "language": "python",
   "name": "python3"
  },
  "language_info": {
   "codemirror_mode": {
    "name": "ipython",
    "version": 3
   },
   "file_extension": ".py",
   "mimetype": "text/x-python",
   "name": "python",
   "nbconvert_exporter": "python",
   "pygments_lexer": "ipython3",
   "version": "3.6.3"
  }
 },
 "nbformat": 4,
 "nbformat_minor": 2
}
